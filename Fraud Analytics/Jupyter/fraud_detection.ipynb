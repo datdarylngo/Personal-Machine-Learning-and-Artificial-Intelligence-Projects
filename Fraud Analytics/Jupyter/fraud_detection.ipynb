{
 "cells": [
  {
   "cell_type": "markdown",
   "metadata": {},
   "source": [
    "## **Fraud Detection**\n",
    "\n",
    "The notebook provides technical and theoretical insights and demonstrates how to implement fraud detection models. It is a succint version used for demo purposes."
   ]
  },
  {
   "cell_type": "markdown",
   "metadata": {},
   "source": [
    "**Imports**"
   ]
  },
  {
   "cell_type": "code",
   "execution_count": 1,
   "metadata": {},
   "outputs": [],
   "source": [
    "import warnings\n",
    "warnings.filterwarnings('ignore')\n",
    "warnings.simplefilter('ignore')"
   ]
  },
  {
   "cell_type": "code",
   "execution_count": 2,
   "metadata": {},
   "outputs": [],
   "source": [
    "import pandas as pd\n",
    "import matplotlib.pyplot as plt\n",
    "from matplotlib.patches import Rectangle\n",
    "import numpy as np\n",
    "from pprint import pprint as pp\n",
    "import csv\n",
    "from pathlib import Path\n",
    "from imblearn.over_sampling import SMOTE\n",
    "from imblearn.pipeline import Pipeline \n",
    "from sklearn.linear_model import LinearRegression, LogisticRegression\n",
    "from sklearn.model_selection import train_test_split, GridSearchCV\n",
    "from sklearn.tree import DecisionTreeClassifier\n",
    "from sklearn.metrics import r2_score, classification_report, confusion_matrix, accuracy_score, roc_auc_score, roc_curve, precision_recall_curve, average_precision_score\n",
    "from sklearn.metrics import homogeneity_score, silhouette_score\n",
    "from sklearn.ensemble import RandomForestClassifier, VotingClassifier\n",
    "from sklearn.preprocessing import MinMaxScaler\n",
    "from sklearn.cluster import MiniBatchKMeans, DBSCAN\n",
    "import seaborn as sns\n",
    "from itertools import product\n",
    "import nltk\n",
    "from nltk.corpus import stopwords\n",
    "from nltk.stem.wordnet import WordNetLemmatizer\n",
    "import string\n",
    "import gensim\n",
    "from gensim import corpora\n",
    "import pyLDAvis.gensim"
   ]
  },
  {
   "cell_type": "markdown",
   "metadata": {},
   "source": [
    "**Pandas Configuration Options**"
   ]
  },
  {
   "cell_type": "code",
   "execution_count": 3,
   "metadata": {},
   "outputs": [],
   "source": [
    "pd.set_option('max_columns', 200)\n",
    "pd.set_option('max_rows', 300)\n",
    "pd.set_option('display.expand_frame_repr', True)"
   ]
  },
  {
   "cell_type": "markdown",
   "metadata": {},
   "source": [
    "**Data File Objects**"
   ]
  },
  {
   "cell_type": "code",
   "execution_count": 4,
   "metadata": {},
   "outputs": [],
   "source": [
    "data = Path.cwd() / 'data'\n",
    "\n",
    "fd1 = data / '1_FD_data_prepping'\n",
    "cc1_file = fd1 / 'creditcard_sampledata.csv'\n",
    "cc3_file = fd1 / 'creditcard_sampledata_3.csv'\n",
    "\n",
    "fd2 = data / '2_FD_supervised'\n",
    "cc2_file = fd2 / 'creditcard_sampledata_2.csv'\n",
    "\n",
    "fd3 = data / '3_FD_unsupervised'\n",
    "banksim_file = fd3 / 'banksim.csv'\n",
    "banksim_adj_file = fd3 / 'banksim_adj.csv'\n",
    "db_full_file = fd3 / 'db_full.pickle'\n",
    "labels_file = fd3 / 'labels.pickle'\n",
    "labels_full_file = fd3 / 'labels_full.pickle'\n",
    "x_scaled_file = fd3 / 'x_scaled.pickle'\n",
    "x_scaled_full_file = fd3 / 'x_scaled_full.pickle'\n",
    "\n",
    "fd4 = data / '4_FD_NLP'\n",
    "enron_emails_clean_file = fd4 / 'enron_emails_clean.csv'\n",
    "cleantext_file = fd4 / 'cleantext.pickle'\n",
    "corpus_file = fd4 / 'corpus.pickle'\n",
    "dict_file = fd4 / 'dict.pickle'\n",
    "ldamodel_file = fd4 / 'ldamodel.pickle'"
   ]
  },
  {
   "cell_type": "markdown",
   "metadata": {},
   "source": [
    "# FD1 Prepping the Data and Imbalanced Datasets\n"
   ]
  },
  {
   "cell_type": "markdown",
   "metadata": {},
   "source": [
    "### Checking the fraud to non-fraud ratio\n",
    "\n",
    "In part 1, we will work on `creditcard_sampledata.csv`, a dataset containing credit card transactions data. \n",
    "\n",
    "Fraud occurrences are unfortunately an **extreme minority** in these transactions.\n",
    "\n",
    "Machine Learning algorithms usually work best when the different classes contained in the dataset are more or less equally present. If there are few cases of fraud, then there's little data to learn how to identify them. This is known as **class imbalance**, and it's one of the main challenges of fraud detection.\n"
   ]
  },
  {
   "cell_type": "code",
   "execution_count": 5,
   "metadata": {},
   "outputs": [],
   "source": [
    "df = pd.read_csv(cc3_file)"
   ]
  },
  {
   "cell_type": "markdown",
   "metadata": {},
   "source": [
    "#### Explore the features available in your dataframe"
   ]
  },
  {
   "cell_type": "code",
   "execution_count": 6,
   "metadata": {},
   "outputs": [
    {
     "name": "stdout",
     "output_type": "stream",
     "text": [
      "<class 'pandas.core.frame.DataFrame'>\n",
      "RangeIndex: 5050 entries, 0 to 5049\n",
      "Data columns (total 31 columns):\n",
      " #   Column      Non-Null Count  Dtype  \n",
      "---  ------      --------------  -----  \n",
      " 0   Unnamed: 0  5050 non-null   int64  \n",
      " 1   V1          5050 non-null   float64\n",
      " 2   V2          5050 non-null   float64\n",
      " 3   V3          5050 non-null   float64\n",
      " 4   V4          5050 non-null   float64\n",
      " 5   V5          5050 non-null   float64\n",
      " 6   V6          5050 non-null   float64\n",
      " 7   V7          5050 non-null   float64\n",
      " 8   V8          5050 non-null   float64\n",
      " 9   V9          5050 non-null   float64\n",
      " 10  V10         5050 non-null   float64\n",
      " 11  V11         5050 non-null   float64\n",
      " 12  V12         5050 non-null   float64\n",
      " 13  V13         5050 non-null   float64\n",
      " 14  V14         5050 non-null   float64\n",
      " 15  V15         5050 non-null   float64\n",
      " 16  V16         5050 non-null   float64\n",
      " 17  V17         5050 non-null   float64\n",
      " 18  V18         5050 non-null   float64\n",
      " 19  V19         5050 non-null   float64\n",
      " 20  V20         5050 non-null   float64\n",
      " 21  V21         5050 non-null   float64\n",
      " 22  V22         5050 non-null   float64\n",
      " 23  V23         5050 non-null   float64\n",
      " 24  V24         5050 non-null   float64\n",
      " 25  V25         5050 non-null   float64\n",
      " 26  V26         5050 non-null   float64\n",
      " 27  V27         5050 non-null   float64\n",
      " 28  V28         5050 non-null   float64\n",
      " 29  Amount      5050 non-null   float64\n",
      " 30  Class       5050 non-null   int64  \n",
      "dtypes: float64(29), int64(2)\n",
      "memory usage: 1.2 MB\n"
     ]
    }
   ],
   "source": [
    "df.info()"
   ]
  },
  {
   "cell_type": "markdown",
   "metadata": {},
   "source": [
    "Above is the data set we are working with. Column indexes 1-28 represent credit card features represented in representation form. "
   ]
  },
  {
   "cell_type": "code",
   "execution_count": 7,
   "metadata": {},
   "outputs": [
    {
     "data": {
      "text/html": [
       "<div>\n",
       "<style scoped>\n",
       "    .dataframe tbody tr th:only-of-type {\n",
       "        vertical-align: middle;\n",
       "    }\n",
       "\n",
       "    .dataframe tbody tr th {\n",
       "        vertical-align: top;\n",
       "    }\n",
       "\n",
       "    .dataframe thead th {\n",
       "        text-align: right;\n",
       "    }\n",
       "</style>\n",
       "<table border=\"1\" class=\"dataframe\">\n",
       "  <thead>\n",
       "    <tr style=\"text-align: right;\">\n",
       "      <th></th>\n",
       "      <th>Unnamed: 0</th>\n",
       "      <th>V1</th>\n",
       "      <th>V2</th>\n",
       "      <th>V3</th>\n",
       "      <th>V4</th>\n",
       "      <th>V5</th>\n",
       "      <th>V6</th>\n",
       "      <th>V7</th>\n",
       "      <th>V8</th>\n",
       "      <th>V9</th>\n",
       "      <th>V10</th>\n",
       "      <th>V11</th>\n",
       "      <th>V12</th>\n",
       "      <th>V13</th>\n",
       "      <th>V14</th>\n",
       "      <th>V15</th>\n",
       "      <th>V16</th>\n",
       "      <th>V17</th>\n",
       "      <th>V18</th>\n",
       "      <th>V19</th>\n",
       "      <th>V20</th>\n",
       "      <th>V21</th>\n",
       "      <th>V22</th>\n",
       "      <th>V23</th>\n",
       "      <th>V24</th>\n",
       "      <th>V25</th>\n",
       "      <th>V26</th>\n",
       "      <th>V27</th>\n",
       "      <th>V28</th>\n",
       "      <th>Amount</th>\n",
       "      <th>Class</th>\n",
       "    </tr>\n",
       "  </thead>\n",
       "  <tbody>\n",
       "    <tr>\n",
       "      <th>0</th>\n",
       "      <td>258647</td>\n",
       "      <td>1.725265</td>\n",
       "      <td>-1.337256</td>\n",
       "      <td>-1.012687</td>\n",
       "      <td>-0.361656</td>\n",
       "      <td>-1.431611</td>\n",
       "      <td>-1.098681</td>\n",
       "      <td>-0.842274</td>\n",
       "      <td>-0.026594</td>\n",
       "      <td>-0.032409</td>\n",
       "      <td>0.215113</td>\n",
       "      <td>1.618952</td>\n",
       "      <td>-0.654046</td>\n",
       "      <td>-1.442665</td>\n",
       "      <td>-1.546538</td>\n",
       "      <td>-0.230008</td>\n",
       "      <td>1.785539</td>\n",
       "      <td>1.419793</td>\n",
       "      <td>0.071666</td>\n",
       "      <td>0.233031</td>\n",
       "      <td>0.275911</td>\n",
       "      <td>0.414524</td>\n",
       "      <td>0.793434</td>\n",
       "      <td>0.028887</td>\n",
       "      <td>0.419421</td>\n",
       "      <td>-0.367529</td>\n",
       "      <td>-0.155634</td>\n",
       "      <td>-0.015768</td>\n",
       "      <td>0.010790</td>\n",
       "      <td>189.00</td>\n",
       "      <td>0</td>\n",
       "    </tr>\n",
       "    <tr>\n",
       "      <th>1</th>\n",
       "      <td>69263</td>\n",
       "      <td>0.683254</td>\n",
       "      <td>-1.681875</td>\n",
       "      <td>0.533349</td>\n",
       "      <td>-0.326064</td>\n",
       "      <td>-1.455603</td>\n",
       "      <td>0.101832</td>\n",
       "      <td>-0.520590</td>\n",
       "      <td>0.114036</td>\n",
       "      <td>-0.601760</td>\n",
       "      <td>0.444011</td>\n",
       "      <td>1.521570</td>\n",
       "      <td>0.499202</td>\n",
       "      <td>-0.127849</td>\n",
       "      <td>-0.237253</td>\n",
       "      <td>-0.752351</td>\n",
       "      <td>0.667190</td>\n",
       "      <td>0.724785</td>\n",
       "      <td>-1.736615</td>\n",
       "      <td>0.702088</td>\n",
       "      <td>0.638186</td>\n",
       "      <td>0.116898</td>\n",
       "      <td>-0.304605</td>\n",
       "      <td>-0.125547</td>\n",
       "      <td>0.244848</td>\n",
       "      <td>0.069163</td>\n",
       "      <td>-0.460712</td>\n",
       "      <td>-0.017068</td>\n",
       "      <td>0.063542</td>\n",
       "      <td>315.17</td>\n",
       "      <td>0</td>\n",
       "    </tr>\n",
       "    <tr>\n",
       "      <th>2</th>\n",
       "      <td>96552</td>\n",
       "      <td>1.067973</td>\n",
       "      <td>-0.656667</td>\n",
       "      <td>1.029738</td>\n",
       "      <td>0.253899</td>\n",
       "      <td>-1.172715</td>\n",
       "      <td>0.073232</td>\n",
       "      <td>-0.745771</td>\n",
       "      <td>0.249803</td>\n",
       "      <td>1.383057</td>\n",
       "      <td>-0.483771</td>\n",
       "      <td>-0.782780</td>\n",
       "      <td>0.005242</td>\n",
       "      <td>-1.273288</td>\n",
       "      <td>-0.269260</td>\n",
       "      <td>0.091287</td>\n",
       "      <td>-0.347973</td>\n",
       "      <td>0.495328</td>\n",
       "      <td>-0.925949</td>\n",
       "      <td>0.099138</td>\n",
       "      <td>-0.083859</td>\n",
       "      <td>-0.189315</td>\n",
       "      <td>-0.426743</td>\n",
       "      <td>0.079539</td>\n",
       "      <td>0.129692</td>\n",
       "      <td>0.002778</td>\n",
       "      <td>0.970498</td>\n",
       "      <td>-0.035056</td>\n",
       "      <td>0.017313</td>\n",
       "      <td>59.98</td>\n",
       "      <td>0</td>\n",
       "    </tr>\n",
       "    <tr>\n",
       "      <th>3</th>\n",
       "      <td>281898</td>\n",
       "      <td>0.119513</td>\n",
       "      <td>0.729275</td>\n",
       "      <td>-1.678879</td>\n",
       "      <td>-1.551408</td>\n",
       "      <td>3.128914</td>\n",
       "      <td>3.210632</td>\n",
       "      <td>0.356276</td>\n",
       "      <td>0.920374</td>\n",
       "      <td>-0.160589</td>\n",
       "      <td>-0.801748</td>\n",
       "      <td>0.137341</td>\n",
       "      <td>-0.156740</td>\n",
       "      <td>-0.429388</td>\n",
       "      <td>-0.752392</td>\n",
       "      <td>0.155272</td>\n",
       "      <td>0.215068</td>\n",
       "      <td>0.352222</td>\n",
       "      <td>-0.376168</td>\n",
       "      <td>-0.398920</td>\n",
       "      <td>0.043715</td>\n",
       "      <td>-0.335825</td>\n",
       "      <td>-0.906171</td>\n",
       "      <td>0.108350</td>\n",
       "      <td>0.593062</td>\n",
       "      <td>-0.424303</td>\n",
       "      <td>0.164201</td>\n",
       "      <td>0.245881</td>\n",
       "      <td>0.071029</td>\n",
       "      <td>0.89</td>\n",
       "      <td>0</td>\n",
       "    </tr>\n",
       "    <tr>\n",
       "      <th>4</th>\n",
       "      <td>86917</td>\n",
       "      <td>1.271253</td>\n",
       "      <td>0.275694</td>\n",
       "      <td>0.159568</td>\n",
       "      <td>1.003096</td>\n",
       "      <td>-0.128535</td>\n",
       "      <td>-0.608730</td>\n",
       "      <td>0.088777</td>\n",
       "      <td>-0.145336</td>\n",
       "      <td>0.156047</td>\n",
       "      <td>0.022707</td>\n",
       "      <td>-0.963306</td>\n",
       "      <td>-0.228074</td>\n",
       "      <td>-0.324933</td>\n",
       "      <td>0.390609</td>\n",
       "      <td>1.065923</td>\n",
       "      <td>0.285930</td>\n",
       "      <td>-0.627072</td>\n",
       "      <td>0.170175</td>\n",
       "      <td>-0.215912</td>\n",
       "      <td>-0.147394</td>\n",
       "      <td>0.031958</td>\n",
       "      <td>0.123503</td>\n",
       "      <td>-0.174528</td>\n",
       "      <td>-0.147535</td>\n",
       "      <td>0.735909</td>\n",
       "      <td>-0.262270</td>\n",
       "      <td>0.015577</td>\n",
       "      <td>0.015955</td>\n",
       "      <td>6.53</td>\n",
       "      <td>0</td>\n",
       "    </tr>\n",
       "  </tbody>\n",
       "</table>\n",
       "</div>"
      ],
      "text/plain": [
       "   Unnamed: 0        V1        V2        V3        V4        V5        V6  \\\n",
       "0      258647  1.725265 -1.337256 -1.012687 -0.361656 -1.431611 -1.098681   \n",
       "1       69263  0.683254 -1.681875  0.533349 -0.326064 -1.455603  0.101832   \n",
       "2       96552  1.067973 -0.656667  1.029738  0.253899 -1.172715  0.073232   \n",
       "3      281898  0.119513  0.729275 -1.678879 -1.551408  3.128914  3.210632   \n",
       "4       86917  1.271253  0.275694  0.159568  1.003096 -0.128535 -0.608730   \n",
       "\n",
       "         V7        V8        V9       V10       V11       V12       V13  \\\n",
       "0 -0.842274 -0.026594 -0.032409  0.215113  1.618952 -0.654046 -1.442665   \n",
       "1 -0.520590  0.114036 -0.601760  0.444011  1.521570  0.499202 -0.127849   \n",
       "2 -0.745771  0.249803  1.383057 -0.483771 -0.782780  0.005242 -1.273288   \n",
       "3  0.356276  0.920374 -0.160589 -0.801748  0.137341 -0.156740 -0.429388   \n",
       "4  0.088777 -0.145336  0.156047  0.022707 -0.963306 -0.228074 -0.324933   \n",
       "\n",
       "        V14       V15       V16       V17       V18       V19       V20  \\\n",
       "0 -1.546538 -0.230008  1.785539  1.419793  0.071666  0.233031  0.275911   \n",
       "1 -0.237253 -0.752351  0.667190  0.724785 -1.736615  0.702088  0.638186   \n",
       "2 -0.269260  0.091287 -0.347973  0.495328 -0.925949  0.099138 -0.083859   \n",
       "3 -0.752392  0.155272  0.215068  0.352222 -0.376168 -0.398920  0.043715   \n",
       "4  0.390609  1.065923  0.285930 -0.627072  0.170175 -0.215912 -0.147394   \n",
       "\n",
       "        V21       V22       V23       V24       V25       V26       V27  \\\n",
       "0  0.414524  0.793434  0.028887  0.419421 -0.367529 -0.155634 -0.015768   \n",
       "1  0.116898 -0.304605 -0.125547  0.244848  0.069163 -0.460712 -0.017068   \n",
       "2 -0.189315 -0.426743  0.079539  0.129692  0.002778  0.970498 -0.035056   \n",
       "3 -0.335825 -0.906171  0.108350  0.593062 -0.424303  0.164201  0.245881   \n",
       "4  0.031958  0.123503 -0.174528 -0.147535  0.735909 -0.262270  0.015577   \n",
       "\n",
       "        V28  Amount  Class  \n",
       "0  0.010790  189.00      0  \n",
       "1  0.063542  315.17      0  \n",
       "2  0.017313   59.98      0  \n",
       "3  0.071029    0.89      0  \n",
       "4  0.015955    6.53      0  "
      ]
     },
     "execution_count": 7,
     "metadata": {},
     "output_type": "execute_result"
    }
   ],
   "source": [
    "df.head()"
   ]
  },
  {
   "cell_type": "code",
   "execution_count": 8,
   "metadata": {},
   "outputs": [
    {
     "data": {
      "text/plain": [
       "0    5000\n",
       "1      50\n",
       "Name: Class, dtype: int64"
      ]
     },
     "execution_count": 8,
     "metadata": {},
     "output_type": "execute_result"
    }
   ],
   "source": [
    "# Count the occurrences of fraud and no fraud and print them\n",
    "occ = df['Class'].value_counts()\n",
    "occ"
   ]
  },
  {
   "cell_type": "code",
   "execution_count": 9,
   "metadata": {},
   "outputs": [
    {
     "name": "stdout",
     "output_type": "stream",
     "text": [
      "Ratio of fraudulent cases: 0.9900990099009901\n",
      "Ratio of non-fraudulent cases: 0.009900990099009901\n"
     ]
    }
   ],
   "source": [
    "# Print the ratio of fraud cases\n",
    "ratio_cases = occ/len(df.index)\n",
    "print('Ratio of fraudulent cases: {}'.format(ratio_cases[0]))\n",
    "print('Ratio of non-fraudulent cases: {}'.format(ratio_cases[1]))"
   ]
  },
  {
   "cell_type": "markdown",
   "metadata": {},
   "source": [
    "**The ratio of fraudulent transactions is very low. This is a case of class imbalance problem"
   ]
  },
  {
   "cell_type": "markdown",
   "metadata": {},
   "source": [
    "### Data visualization\n",
    "\n",
    "From the previous exercise we know that the ratio of fraud to non-fraud observations is very low.\n",
    "\n",
    "Next we **visualize the fraud to non-fraud ratio**. It is always a good starting point in fraud analysis, to look at your data first, before you make any changes to it.\n",
    "\n",
    "Moreover, visualizations often makes it very clear that we're dealing with heavily imbalanced data. Let's create a plot to visualize the ratio fraud to non-fraud data points on the dataset `df`."
   ]
  },
  {
   "cell_type": "markdown",
   "metadata": {},
   "source": [
    "#### def prep_data"
   ]
  },
  {
   "cell_type": "code",
   "execution_count": 10,
   "metadata": {},
   "outputs": [],
   "source": [
    "def prep_data(df: pd.DataFrame) -> (np.ndarray, np.ndarray):\n",
    "    \"\"\"\n",
    "    Convert the DataFrame into two variable\n",
    "    X: data columns (V1 - V28)\n",
    "    y: label column\n",
    "    \"\"\"\n",
    "    X = df.iloc[:, 2:30].values\n",
    "    y = df.Class.values\n",
    "    return X, y"
   ]
  },
  {
   "cell_type": "markdown",
   "metadata": {},
   "source": [
    "#### def plot_data"
   ]
  },
  {
   "cell_type": "code",
   "execution_count": 15,
   "metadata": {},
   "outputs": [],
   "source": [
    "# Define a function to create a scatter plot of our data and labels\n",
    "def plot_data(X: np.ndarray, y: np.ndarray):\n",
    "    plt.scatter(X[y == 0, 0], X[y == 0, 1], label=\"Class #0\", alpha=0.5, linewidth=0.15)\n",
    "    plt.scatter(X[y == 1, 0], X[y == 1, 1], label=\"Class #1\", alpha=0.5, linewidth=0.15, c='r')\n",
    "    plt.xlabel(\"V2 Feature\")\n",
    "    plt.ylabel(\"V3 Feature\")\n",
    "    plt.legend()\n",
    "    return plt.show()"
   ]
  },
  {
   "cell_type": "code",
   "execution_count": 16,
   "metadata": {},
   "outputs": [],
   "source": [
    "# Create X and y from the prep_data function ()\n",
    "X, y = prep_data(df)"
   ]
  },
  {
   "cell_type": "code",
   "execution_count": 18,
   "metadata": {},
   "outputs": [
    {
     "data": {
      "image/png": "[encoded data removed]",
      "text/plain": [
       "<Figure size 432x288 with 1 Axes>"
      ]
     },
     "metadata": {
      "needs_background": "light"
     },
     "output_type": "display_data"
    }
   ],
   "source": [
    "# Plot our data by running our plot data function on X and y (x = v2, y = v3, arbitrarily)\n",
    "plot_data(X, y)"
   ]
  },
  {
   "cell_type": "markdown",
   "metadata": {},
   "source": [
    "**By visualizing the data, you can immediately see how our fraud cases are scattered over our data, and how few cases we have. A picture often makes the imbalance problem clear. In the next exercises we'll visually explore how to improve our fraud to non-fraud balance.**"
   ]
  },
  {
   "cell_type": "markdown",
   "metadata": {},
   "source": [
    "#### SMOTE\n",
    "\n",
    "* ![smote](images/smote.jpeg)\n",
    "* Synthetic minority Oversampling Technique (SMOTE)\n",
    "    * [Resampling strategies for Imbalanced Data Sets](https://www.kaggle.com/rafjaa/resampling-strategies-for-imbalanced-datasets)\n",
    "    * Another way of adjusting the imbalance by oversampling minority observations\n",
    "    * SMOTE uses characteristics of nearest neighbors of fraud cases to create new synthetic fraud cases\n",
    "        * avoids duplicating observations"
   ]
  },
  {
   "cell_type": "markdown",
   "metadata": {},
   "source": [
    "#### Determining the best resampling method is situational\n",
    "\n",
    "* Random Undersampling (RUS):\n",
    "    * If there is a lot of data and many minority cases, then undersampling may be computationally more convenient\n",
    "        * In most cases, throwing away data is not desirable\n",
    "* Random Oversampling (ROS):\n",
    "    * Straightforward\n",
    "    * Training the model on many duplicates\n",
    "* SMOTE:\n",
    "    * more sophisticated\n",
    "    * realistic data set\n",
    "    * training on synthetic data\n",
    "    * only works well if the minority case features are similar\n",
    "* VAEs/ GANs:\n",
    "    * extremly more sophisticated\n",
    "    * computationaly more intensive\n",
    "    * more difficult to work with\n",
    "    * needs large amounts of data\n",
    "        * **if fraud is spread through the data and not distinct, using nearest neighbors to create more fraud cases, introduces noise into the data, as the nearest neighbors might not be fraud cases**"
   ]
  },
  {
   "cell_type": "markdown",
   "metadata": {},
   "source": [
    "#### When to use resampling methods\n",
    "\n",
    "* Use resampling methods on the training set, not on the test set\n",
    "* The goal is to produce a better model by providing balanced data\n",
    "    * The goal is not to predict the synthetic samples\n",
    "* Test data should be free of duplicates and synthetic data\n",
    "* Only test the model on real data\n",
    "    * First, spit the data into train and test sets\n"
   ]
  },
  {
   "cell_type": "markdown",
   "metadata": {},
   "source": [
    "### Applying Synthetic Minority Oversampling Technique (SMOTE)\n",
    "\n",
    "Next, we re-balance our data using the **Synthetic Minority Over-sampling Technique** (SMOTE). Unlike ROS, SMOTE does not create exact copies of observations, but **creates new, synthetic, samples** that are quite similar to the existing observations in the minority class. SMOTE is therefore slightly more sophisticated than just copying observations, so we apply SMOTE to our credit card data. The dataset `df` is available and the packages needed for SMOTE are imported. In the following exercise, we visualize the result and compare it to the original data, such that we can see the effect of applying SMOTE very clearly.\n"
   ]
  },
  {
   "cell_type": "code",
   "execution_count": 19,
   "metadata": {},
   "outputs": [],
   "source": [
    "# Run the prep_data function\n",
    "X, y = prep_data(df)"
   ]
  },
  {
   "cell_type": "code",
   "execution_count": 20,
   "metadata": {},
   "outputs": [
    {
     "name": "stdout",
     "output_type": "stream",
     "text": [
      "X shape: (5050, 28)\n",
      "y shape: (5050,)\n"
     ]
    }
   ],
   "source": [
    "print(f'X shape: {X.shape}\\ny shape: {y.shape}')"
   ]
  },
  {
   "cell_type": "code",
   "execution_count": 21,
   "metadata": {},
   "outputs": [],
   "source": [
    "# Define the resampling method\n",
    "method = SMOTE()"
   ]
  },
  {
   "cell_type": "code",
   "execution_count": 22,
   "metadata": {},
   "outputs": [],
   "source": [
    "# Create the resampled feature set\n",
    "X_resampled, y_resampled = method.fit_sample(X, y)"
   ]
  },
  {
   "cell_type": "code",
   "execution_count": 23,
   "metadata": {},
   "outputs": [
    {
     "data": {
      "image/png": "[encoded data removed]",
      "text/plain": [
       "<Figure size 432x288 with 1 Axes>"
      ]
     },
     "metadata": {
      "needs_background": "light"
     },
     "output_type": "display_data"
    }
   ],
   "source": [
    "# Plot the resampled data\n",
    "plot_data(X_resampled, y_resampled)"
   ]
  },
  {
   "cell_type": "markdown",
   "metadata": {},
   "source": [
    "**The minority class is now much more prominently visible in our data. To see the results of SMOTE even better, we compare it to the original data.**"
   ]
  },
  {
   "cell_type": "markdown",
   "metadata": {},
   "source": [
    "### Compare SMOTE to original data\n",
    "\n",
    "In the last exercise, we saw that using SMOTE suddenly gives us more observations of the minority class. Let's compare those results to our original data, to get a good feeling for what has actually happened. Have a look at the value counts again of our old and new data, and plot the two scatter plots of the data side by side. Use the function compare_plot(), which takes the following arguments: `X`, `y`, `X_resampled`, `y_resampled`, `method=''`. The function plots the original data in a scatter plot, along with the resampled side by side.\n"
   ]
  },
  {
   "cell_type": "code",
   "execution_count": 24,
   "metadata": {},
   "outputs": [
    {
     "data": {
      "text/plain": [
       "0    5000\n",
       "1      50\n",
       "dtype: int64"
      ]
     },
     "execution_count": 24,
     "metadata": {},
     "output_type": "execute_result"
    }
   ],
   "source": [
    "pd.value_counts(pd.Series(y))"
   ]
  },
  {
   "cell_type": "code",
   "execution_count": 25,
   "metadata": {},
   "outputs": [
    {
     "data": {
      "text/plain": [
       "1    5000\n",
       "0    5000\n",
       "dtype: int64"
      ]
     },
     "execution_count": 25,
     "metadata": {},
     "output_type": "execute_result"
    }
   ],
   "source": [
    "pd.value_counts(pd.Series(y_resampled))"
   ]
  },
  {
   "cell_type": "markdown",
   "metadata": {},
   "source": [
    "#### def compare_plot"
   ]
  },
  {
   "cell_type": "code",
   "execution_count": 26,
   "metadata": {},
   "outputs": [],
   "source": [
    "def compare_plot(X: np.ndarray, y: np.ndarray, X_resampled: np.ndarray, y_resampled: np.ndarray, method: str):\n",
    "    plt.subplot(1, 2, 1)\n",
    "    plt.scatter(X[y == 0, 0], X[y == 0, 1], label=\"Class #0\", alpha=0.5, linewidth=0.15)\n",
    "    plt.scatter(X[y == 1, 0], X[y == 1, 1], label=\"Class #1\", alpha=0.5, linewidth=0.15, c='r')\n",
    "    plt.title('Original Set')\n",
    "    plt.subplot(1, 2, 2)\n",
    "    plt.scatter(X_resampled[y_resampled == 0, 0], X_resampled[y_resampled == 0, 1], label=\"Class #0\", alpha=0.5, linewidth=0.15)\n",
    "    plt.scatter(X_resampled[y_resampled == 1, 0], X_resampled[y_resampled == 1, 1], label=\"Class #1\", alpha=0.5, linewidth=0.15, c='r')\n",
    "    plt.title(method)\n",
    "    plt.legend()\n",
    "    plt.show()"
   ]
  },
  {
   "cell_type": "code",
   "execution_count": 27,
   "metadata": {},
   "outputs": [
    {
     "data": {
      "image/png": "[encoded data removed]",
      "text/plain": [
       "<Figure size 432x288 with 2 Axes>"
      ]
     },
     "metadata": {
      "needs_background": "light"
     },
     "output_type": "display_data"
    }
   ],
   "source": [
    "compare_plot(X, y, X_resampled, y_resampled, method='SMOTE')"
   ]
  },
  {
   "cell_type": "markdown",
   "metadata": {},
   "source": [
    "**It should be clear SMOTE has balanced the data completely, and that the minority class is now equal in size to the majority class. Visualizing the data shows the effect on the data very clearly. Next will demonstrate multiple ways to implement SMOTE and how each method will have a slightly different effect.**"
   ]
  },
  {
   "cell_type": "markdown",
   "metadata": {},
   "source": [
    "#### SIDE NOTE: Advantages of ML Based Systems Rather than Rules Based Systems, Combinations are generally the best (Human Domain / Computer Pattern Recognition)\n",
    "\n",
    "* Adapt to the data, thus can change over time\n",
    "* Uses all the data combined, rather than a threshold per feature\n",
    "* Produces a probability, rather than a binary score\n",
    "* Typically have better performance and can be combined with rules"
   ]
  },
  {
   "cell_type": "markdown",
   "metadata": {},
   "source": [
    "###  Logistic regression NOT using SMOTE"
   ]
  },
  {
   "cell_type": "code",
   "execution_count": 28,
   "metadata": {},
   "outputs": [],
   "source": [
    "# Create the training and testing sets\n",
    "X_train, X_test, y_train, y_test = train_test_split(X, y, test_size=0.3, random_state=0)"
   ]
  },
  {
   "cell_type": "code",
   "execution_count": 29,
   "metadata": {},
   "outputs": [
    {
     "data": {
      "text/plain": [
       "LogisticRegression(solver='liblinear')"
      ]
     },
     "execution_count": 29,
     "metadata": {},
     "output_type": "execute_result"
    }
   ],
   "source": [
    "# Fit a logistic regression model to our data\n",
    "model = LogisticRegression(solver='liblinear')\n",
    "model.fit(X_train, y_train)"
   ]
  },
  {
   "cell_type": "code",
   "execution_count": 30,
   "metadata": {},
   "outputs": [],
   "source": [
    "# Obtain model predictions\n",
    "predicted = model.predict(X_test)"
   ]
  },
  {
   "cell_type": "code",
   "execution_count": 31,
   "metadata": {},
   "outputs": [
    {
     "name": "stdout",
     "output_type": "stream",
     "text": [
      "Classification report:\n",
      "               precision    recall  f1-score   support\n",
      "\n",
      "           0       1.00      1.00      1.00      1505\n",
      "           1       0.89      0.80      0.84        10\n",
      "\n",
      "    accuracy                           1.00      1515\n",
      "   macro avg       0.94      0.90      0.92      1515\n",
      "weighted avg       1.00      1.00      1.00      1515\n",
      "\n",
      "Confusion matrix:\n",
      " [[1504    1]\n",
      " [   2    8]]\n"
     ]
    }
   ],
   "source": [
    "# Print the classifcation report and confusion matrix\n",
    "print('Classification report:\\n', classification_report(y_test, predicted))\n",
    "conf_mat = confusion_matrix(y_true=y_test, y_pred=predicted)\n",
    "print('Confusion matrix:\\n', conf_mat)"
   ]
  },
  {
   "cell_type": "markdown",
   "metadata": {},
   "source": [
    "### Logistic regression with SMOTE\n",
    "\n",
    "Using the Logistic Regression model from the previous exercise, and combine that with a **SMOTE resampling method**. \n"
   ]
  },
  {
   "cell_type": "code",
   "execution_count": 32,
   "metadata": {},
   "outputs": [],
   "source": [
    "# Define which resampling method and which ML model to use in the pipeline\n",
    "resampling = SMOTE()\n",
    "model = LogisticRegression(solver='liblinear')"
   ]
  },
  {
   "cell_type": "code",
   "execution_count": 33,
   "metadata": {},
   "outputs": [],
   "source": [
    "pipeline = Pipeline([('SMOTE', resampling), ('Logistic Regression', model)])"
   ]
  },
  {
   "cell_type": "markdown",
   "metadata": {},
   "source": [
    "### Pipelining\n"
   ]
  },
  {
   "cell_type": "code",
   "execution_count": 34,
   "metadata": {},
   "outputs": [],
   "source": [
    "# Split  data X and y, into a training and a test set and fit the pipeline onto the training data\n",
    "X_train, X_test, y_train, y_test = train_test_split(X, y, test_size=0.3, random_state=0)"
   ]
  },
  {
   "cell_type": "code",
   "execution_count": 35,
   "metadata": {},
   "outputs": [],
   "source": [
    "pipeline.fit(X_train, y_train) \n",
    "predicted = pipeline.predict(X_test)"
   ]
  },
  {
   "cell_type": "code",
   "execution_count": 36,
   "metadata": {},
   "outputs": [
    {
     "name": "stdout",
     "output_type": "stream",
     "text": [
      "Classifcation report:\n",
      "               precision    recall  f1-score   support\n",
      "\n",
      "           0       1.00      1.00      1.00      1505\n",
      "           1       0.67      1.00      0.80        10\n",
      "\n",
      "    accuracy                           1.00      1515\n",
      "   macro avg       0.83      1.00      0.90      1515\n",
      "weighted avg       1.00      1.00      1.00      1515\n",
      "\n",
      "Confusion matrix:\n",
      " [[1500    5]\n",
      " [   0   10]]\n"
     ]
    }
   ],
   "source": [
    "# Obtain the results from the classification report and confusion matrix \n",
    "print('Classifcation report:\\n', classification_report(y_test, predicted))\n",
    "conf_mat = confusion_matrix(y_true=y_test, y_pred=predicted)\n",
    "print('Confusion matrix:\\n', conf_mat)"
   ]
  },
  {
   "cell_type": "markdown",
   "metadata": {},
   "source": [
    "**SMOTE slightly improves our results. We now manage to find all cases of fraud, but we have a slightly higher number of false positives, albeit only 5 cases. Remember, resampling doesn't necessarily lead to better results. When the fraud cases are very spread and scattered over the data, using SMOTE can introduce a bit of bias. Nearest neighbors aren't necessarily also fraud cases, so the synthetic samples might 'confuse' the model slightly.**"
   ]
  },
  {
   "cell_type": "markdown",
   "metadata": {},
   "source": [
    "# FD2 Fraud Detection Using Labelled Data"
   ]
  },
  {
   "cell_type": "markdown",
   "metadata": {},
   "source": [
    "In this exercise, you'll again use credit card transaction data. The features and labels are similar to the data in the previous example FD1"
   ]
  },
  {
   "cell_type": "code",
   "execution_count": 41,
   "metadata": {},
   "outputs": [
    {
     "data": {
      "text/html": [
       "<div>\n",
       "<style scoped>\n",
       "    .dataframe tbody tr th:only-of-type {\n",
       "        vertical-align: middle;\n",
       "    }\n",
       "\n",
       "    .dataframe tbody tr th {\n",
       "        vertical-align: top;\n",
       "    }\n",
       "\n",
       "    .dataframe thead th {\n",
       "        text-align: right;\n",
       "    }\n",
       "</style>\n",
       "<table border=\"1\" class=\"dataframe\">\n",
       "  <thead>\n",
       "    <tr style=\"text-align: right;\">\n",
       "      <th></th>\n",
       "      <th>Unnamed: 0</th>\n",
       "      <th>V1</th>\n",
       "      <th>V2</th>\n",
       "      <th>V3</th>\n",
       "      <th>V4</th>\n",
       "      <th>V5</th>\n",
       "      <th>V6</th>\n",
       "      <th>V7</th>\n",
       "      <th>V8</th>\n",
       "      <th>V9</th>\n",
       "      <th>V10</th>\n",
       "      <th>V11</th>\n",
       "      <th>V12</th>\n",
       "      <th>V13</th>\n",
       "      <th>V14</th>\n",
       "      <th>V15</th>\n",
       "      <th>V16</th>\n",
       "      <th>V17</th>\n",
       "      <th>V18</th>\n",
       "      <th>V19</th>\n",
       "      <th>V20</th>\n",
       "      <th>V21</th>\n",
       "      <th>V22</th>\n",
       "      <th>V23</th>\n",
       "      <th>V24</th>\n",
       "      <th>V25</th>\n",
       "      <th>V26</th>\n",
       "      <th>V27</th>\n",
       "      <th>V28</th>\n",
       "      <th>Amount</th>\n",
       "      <th>Class</th>\n",
       "    </tr>\n",
       "  </thead>\n",
       "  <tbody>\n",
       "    <tr>\n",
       "      <th>0</th>\n",
       "      <td>221547</td>\n",
       "      <td>-1.191668</td>\n",
       "      <td>0.428409</td>\n",
       "      <td>1.640028</td>\n",
       "      <td>-1.848859</td>\n",
       "      <td>-0.870903</td>\n",
       "      <td>-0.204849</td>\n",
       "      <td>-0.385675</td>\n",
       "      <td>0.352793</td>\n",
       "      <td>-1.098301</td>\n",
       "      <td>-0.334597</td>\n",
       "      <td>-0.679089</td>\n",
       "      <td>-0.039671</td>\n",
       "      <td>1.372661</td>\n",
       "      <td>-0.732001</td>\n",
       "      <td>-0.344528</td>\n",
       "      <td>1.024751</td>\n",
       "      <td>0.380209</td>\n",
       "      <td>-1.087349</td>\n",
       "      <td>0.364507</td>\n",
       "      <td>0.051924</td>\n",
       "      <td>0.507173</td>\n",
       "      <td>1.292565</td>\n",
       "      <td>-0.467752</td>\n",
       "      <td>1.244887</td>\n",
       "      <td>0.697707</td>\n",
       "      <td>0.059375</td>\n",
       "      <td>-0.319964</td>\n",
       "      <td>-0.017444</td>\n",
       "      <td>27.44</td>\n",
       "      <td>0</td>\n",
       "    </tr>\n",
       "    <tr>\n",
       "      <th>1</th>\n",
       "      <td>184524</td>\n",
       "      <td>1.966614</td>\n",
       "      <td>-0.450087</td>\n",
       "      <td>-1.228586</td>\n",
       "      <td>0.142873</td>\n",
       "      <td>-0.150627</td>\n",
       "      <td>-0.543590</td>\n",
       "      <td>-0.076217</td>\n",
       "      <td>-0.108390</td>\n",
       "      <td>0.973310</td>\n",
       "      <td>-0.029903</td>\n",
       "      <td>0.279973</td>\n",
       "      <td>0.885685</td>\n",
       "      <td>-0.583912</td>\n",
       "      <td>0.322019</td>\n",
       "      <td>-1.065335</td>\n",
       "      <td>-0.340285</td>\n",
       "      <td>-0.385399</td>\n",
       "      <td>0.216554</td>\n",
       "      <td>0.675646</td>\n",
       "      <td>-0.190851</td>\n",
       "      <td>0.124055</td>\n",
       "      <td>0.564916</td>\n",
       "      <td>-0.039331</td>\n",
       "      <td>-0.283904</td>\n",
       "      <td>0.186400</td>\n",
       "      <td>0.192932</td>\n",
       "      <td>-0.039155</td>\n",
       "      <td>-0.071314</td>\n",
       "      <td>35.95</td>\n",
       "      <td>0</td>\n",
       "    </tr>\n",
       "    <tr>\n",
       "      <th>2</th>\n",
       "      <td>91201</td>\n",
       "      <td>1.528452</td>\n",
       "      <td>-1.296191</td>\n",
       "      <td>-0.890677</td>\n",
       "      <td>-2.504028</td>\n",
       "      <td>0.803202</td>\n",
       "      <td>3.350793</td>\n",
       "      <td>-1.633016</td>\n",
       "      <td>0.815350</td>\n",
       "      <td>-1.884692</td>\n",
       "      <td>1.465259</td>\n",
       "      <td>-0.188235</td>\n",
       "      <td>-0.976779</td>\n",
       "      <td>0.560550</td>\n",
       "      <td>-0.250847</td>\n",
       "      <td>0.936115</td>\n",
       "      <td>0.136409</td>\n",
       "      <td>-0.078251</td>\n",
       "      <td>0.355086</td>\n",
       "      <td>0.127756</td>\n",
       "      <td>-0.163982</td>\n",
       "      <td>-0.412088</td>\n",
       "      <td>-1.017485</td>\n",
       "      <td>0.129566</td>\n",
       "      <td>0.948048</td>\n",
       "      <td>0.287826</td>\n",
       "      <td>-0.396592</td>\n",
       "      <td>0.042997</td>\n",
       "      <td>0.025853</td>\n",
       "      <td>28.40</td>\n",
       "      <td>0</td>\n",
       "    </tr>\n",
       "    <tr>\n",
       "      <th>3</th>\n",
       "      <td>26115</td>\n",
       "      <td>-0.774614</td>\n",
       "      <td>1.100916</td>\n",
       "      <td>0.679080</td>\n",
       "      <td>1.034016</td>\n",
       "      <td>0.168633</td>\n",
       "      <td>0.874582</td>\n",
       "      <td>0.209454</td>\n",
       "      <td>0.770550</td>\n",
       "      <td>-0.558106</td>\n",
       "      <td>-0.165442</td>\n",
       "      <td>0.017562</td>\n",
       "      <td>0.285377</td>\n",
       "      <td>-0.818739</td>\n",
       "      <td>0.637991</td>\n",
       "      <td>-0.370124</td>\n",
       "      <td>-0.605148</td>\n",
       "      <td>0.275686</td>\n",
       "      <td>0.246362</td>\n",
       "      <td>1.331927</td>\n",
       "      <td>0.080978</td>\n",
       "      <td>0.011158</td>\n",
       "      <td>0.146017</td>\n",
       "      <td>-0.130401</td>\n",
       "      <td>-0.848815</td>\n",
       "      <td>0.005698</td>\n",
       "      <td>-0.183295</td>\n",
       "      <td>0.282940</td>\n",
       "      <td>0.123856</td>\n",
       "      <td>43.20</td>\n",
       "      <td>0</td>\n",
       "    </tr>\n",
       "    <tr>\n",
       "      <th>4</th>\n",
       "      <td>201292</td>\n",
       "      <td>-1.075860</td>\n",
       "      <td>1.361160</td>\n",
       "      <td>1.496972</td>\n",
       "      <td>2.242604</td>\n",
       "      <td>1.314751</td>\n",
       "      <td>0.272787</td>\n",
       "      <td>1.005246</td>\n",
       "      <td>0.132932</td>\n",
       "      <td>-1.558317</td>\n",
       "      <td>0.484216</td>\n",
       "      <td>-1.967998</td>\n",
       "      <td>-1.818338</td>\n",
       "      <td>-2.036184</td>\n",
       "      <td>0.346962</td>\n",
       "      <td>-1.161316</td>\n",
       "      <td>1.017093</td>\n",
       "      <td>-0.926787</td>\n",
       "      <td>0.183965</td>\n",
       "      <td>-2.102868</td>\n",
       "      <td>-0.354008</td>\n",
       "      <td>0.254485</td>\n",
       "      <td>0.530692</td>\n",
       "      <td>-0.651119</td>\n",
       "      <td>0.626389</td>\n",
       "      <td>1.040212</td>\n",
       "      <td>0.249501</td>\n",
       "      <td>-0.146745</td>\n",
       "      <td>0.029714</td>\n",
       "      <td>10.59</td>\n",
       "      <td>0</td>\n",
       "    </tr>\n",
       "  </tbody>\n",
       "</table>\n",
       "</div>"
      ],
      "text/plain": [
       "   Unnamed: 0        V1        V2        V3        V4        V5        V6  \\\n",
       "0      221547 -1.191668  0.428409  1.640028 -1.848859 -0.870903 -0.204849   \n",
       "1      184524  1.966614 -0.450087 -1.228586  0.142873 -0.150627 -0.543590   \n",
       "2       91201  1.528452 -1.296191 -0.890677 -2.504028  0.803202  3.350793   \n",
       "3       26115 -0.774614  1.100916  0.679080  1.034016  0.168633  0.874582   \n",
       "4      201292 -1.075860  1.361160  1.496972  2.242604  1.314751  0.272787   \n",
       "\n",
       "         V7        V8        V9       V10       V11       V12       V13  \\\n",
       "0 -0.385675  0.352793 -1.098301 -0.334597 -0.679089 -0.039671  1.372661   \n",
       "1 -0.076217 -0.108390  0.973310 -0.029903  0.279973  0.885685 -0.583912   \n",
       "2 -1.633016  0.815350 -1.884692  1.465259 -0.188235 -0.976779  0.560550   \n",
       "3  0.209454  0.770550 -0.558106 -0.165442  0.017562  0.285377 -0.818739   \n",
       "4  1.005246  0.132932 -1.558317  0.484216 -1.967998 -1.818338 -2.036184   \n",
       "\n",
       "        V14       V15       V16       V17       V18       V19       V20  \\\n",
       "0 -0.732001 -0.344528  1.024751  0.380209 -1.087349  0.364507  0.051924   \n",
       "1  0.322019 -1.065335 -0.340285 -0.385399  0.216554  0.675646 -0.190851   \n",
       "2 -0.250847  0.936115  0.136409 -0.078251  0.355086  0.127756 -0.163982   \n",
       "3  0.637991 -0.370124 -0.605148  0.275686  0.246362  1.331927  0.080978   \n",
       "4  0.346962 -1.161316  1.017093 -0.926787  0.183965 -2.102868 -0.354008   \n",
       "\n",
       "        V21       V22       V23       V24       V25       V26       V27  \\\n",
       "0  0.507173  1.292565 -0.467752  1.244887  0.697707  0.059375 -0.319964   \n",
       "1  0.124055  0.564916 -0.039331 -0.283904  0.186400  0.192932 -0.039155   \n",
       "2 -0.412088 -1.017485  0.129566  0.948048  0.287826 -0.396592  0.042997   \n",
       "3  0.011158  0.146017 -0.130401 -0.848815  0.005698 -0.183295  0.282940   \n",
       "4  0.254485  0.530692 -0.651119  0.626389  1.040212  0.249501 -0.146745   \n",
       "\n",
       "        V28  Amount  Class  \n",
       "0 -0.017444   27.44      0  \n",
       "1 -0.071314   35.95      0  \n",
       "2  0.025853   28.40      0  \n",
       "3  0.123856   43.20      0  \n",
       "4  0.029714   10.59      0  "
      ]
     },
     "execution_count": 41,
     "metadata": {},
     "output_type": "execute_result"
    }
   ],
   "source": [
    "df2 = pd.read_csv(cc2_file)\n",
    "df2.head()"
   ]
  },
  {
   "cell_type": "code",
   "execution_count": 42,
   "metadata": {},
   "outputs": [
    {
     "name": "stdout",
     "output_type": "stream",
     "text": [
      "X shape: (7300, 28)\n",
      "y shape: (7300,)\n"
     ]
    }
   ],
   "source": [
    "X, y = prep_data(df2)\n",
    "print(f'X shape: {X.shape}\\ny shape: {y.shape}')"
   ]
  },
  {
   "cell_type": "code",
   "execution_count": 43,
   "metadata": {},
   "outputs": [
    {
     "data": {
      "text/plain": [
       "0    7000\n",
       "1     300\n",
       "Name: Class, dtype: int64"
      ]
     },
     "execution_count": 43,
     "metadata": {},
     "output_type": "execute_result"
    }
   ],
   "source": [
    "df2.Class.value_counts()"
   ]
  },
  {
   "cell_type": "code",
   "execution_count": 44,
   "metadata": {},
   "outputs": [
    {
     "name": "stdout",
     "output_type": "stream",
     "text": [
      "95.89%\n"
     ]
    }
   ],
   "source": [
    "# Count the total number of observations from the length of y\n",
    "total_obs = len(y)\n",
    "\n",
    "# Count the total number of non-fraudulent observations \n",
    "non_fraud = [i for i in y if i == 0]\n",
    "count_non_fraud = non_fraud.count(0)\n",
    "\n",
    "percentage = count_non_fraud/total_obs * 100\n",
    "print(f'{percentage:0.2f}%')"
   ]
  },
  {
   "cell_type": "markdown",
   "metadata": {},
   "source": [
    "### Random Forest Classifier - part 1\n",
    "\n",
    "Next, we create a **random forest classifier** for fraud detection. Hopefully we can perform better than the baseline accuracy you've just calculated, which was roughly **96%**. This model will serve as the **\"baseline\" model** that we are going to try to improve in the upcoming exercises. We start by **splitting the data into a test and training set**, and **defining the Random Forest model**"
   ]
  },
  {
   "cell_type": "markdown",
   "metadata": {},
   "source": [
    "#### X_train, X_test, y_train, y_test"
   ]
  },
  {
   "cell_type": "code",
   "execution_count": 45,
   "metadata": {},
   "outputs": [],
   "source": [
    "# Split data into training and test set\n",
    "X_train, X_test, y_train, y_test = train_test_split(X, y, test_size=0.3, random_state=0)"
   ]
  },
  {
   "cell_type": "code",
   "execution_count": 47,
   "metadata": {},
   "outputs": [],
   "source": [
    "# Define the model as the random forest, arbitrary 20 trees\n",
    "model = RandomForestClassifier(random_state=5, n_estimators=20)"
   ]
  },
  {
   "cell_type": "markdown",
   "metadata": {},
   "source": [
    "Next, we see how our Random Forest model performs **without hyperameter tuning**."
   ]
  },
  {
   "cell_type": "code",
   "execution_count": 48,
   "metadata": {},
   "outputs": [
    {
     "data": {
      "text/plain": [
       "RandomForestClassifier(n_estimators=20, random_state=5)"
      ]
     },
     "execution_count": 48,
     "metadata": {},
     "output_type": "execute_result"
    }
   ],
   "source": [
    "# Fit the model to our training set\n",
    "model.fit(X_train, y_train)"
   ]
  },
  {
   "cell_type": "code",
   "execution_count": 49,
   "metadata": {},
   "outputs": [],
   "source": [
    "# Obtain predictions from the test data \n",
    "predicted = model.predict(X_test)"
   ]
  },
  {
   "cell_type": "markdown",
   "metadata": {},
   "source": [
    "### Performance metrics for the RF model\n",
    "\n",
    "We know **accuracy can be misleading** in the case of fraud detection. With highly imbalanced fraud data, the AUROC curve is a more reliable performance metric, used to compare different classifiers. Moreover, the *classification report* tells you about the precision and recall of your model, whilst the *confusion matrix* actually shows how many fraud cases you can predict correctly. So let's get these performance metrics."
   ]
  },
  {
   "cell_type": "code",
   "execution_count": 50,
   "metadata": {},
   "outputs": [],
   "source": [
    "# Obtain the predictions from our random forest model \n",
    "predicted = model.predict(X_test)"
   ]
  },
  {
   "cell_type": "code",
   "execution_count": 51,
   "metadata": {},
   "outputs": [],
   "source": [
    "# Predict probabilities\n",
    "probs = model.predict_proba(X_test)"
   ]
  },
  {
   "cell_type": "code",
   "execution_count": 52,
   "metadata": {},
   "outputs": [
    {
     "name": "stdout",
     "output_type": "stream",
     "text": [
      "ROC Score:\n",
      "0.9419896444670147\n",
      "\n",
      "Classification Report:\n",
      "              precision    recall  f1-score   support\n",
      "\n",
      "           0       0.99      1.00      1.00      2099\n",
      "           1       0.97      0.80      0.88        91\n",
      "\n",
      "    accuracy                           0.99      2190\n",
      "   macro avg       0.98      0.90      0.94      2190\n",
      "weighted avg       0.99      0.99      0.99      2190\n",
      "\n",
      "\n",
      "Confusion Matrix:\n",
      "[[2097    2]\n",
      " [  18   73]]\n"
     ]
    }
   ],
   "source": [
    "# Print the ROC curve, classification report and confusion matrix\n",
    "print('ROC Score:')\n",
    "print(roc_auc_score(y_test, probs[:,1]))\n",
    "print('\\nClassification Report:')\n",
    "print(classification_report(y_test, predicted))\n",
    "print('\\nConfusion Matrix:')\n",
    "print(confusion_matrix(y_test, predicted))"
   ]
  },
  {
   "cell_type": "markdown",
   "metadata": {},
   "source": [
    "**We obtained more meaningful performance metrics that tell us how well the model performs, given the highly imbalanced data that we are working with. The model predicts 75 cases of fraud, out of which 73 are actual fraud. We have only 2 false positives. This is acceptable, and as a result we have a very high precision score. However, we did miss 18 cases of actual fraud. Recall is therefore not as good as precision.**"
   ]
  },
  {
   "cell_type": "markdown",
   "metadata": {},
   "source": [
    "### Additional: Plotting the Precision vs. Recall Curve\n",
    "\n",
    "We Plot **Precision-Recall curve** to investigate the trade-off between the two in your model. In this curve **Precision and Recall are inversely related**; as Precision increases, Recall falls and vice-versa. A balance between these two needs to be achieved in your model, otherwise you might end up with many false positives, or not enough actual fraud cases caught. To achieve this and to compare performance, the precision-recall curves come in handy."
   ]
  },
  {
   "cell_type": "code",
   "execution_count": 58,
   "metadata": {},
   "outputs": [
    {
     "data": {
      "text/plain": [
       "0.7890250388880526"
      ]
     },
     "execution_count": 58,
     "metadata": {},
     "output_type": "execute_result"
    }
   ],
   "source": [
    "# Calculate average precision and the PR curve\n",
    "average_precision = average_precision_score(y_test, predicted)\n",
    "average_precision"
   ]
  },
  {
   "cell_type": "code",
   "execution_count": 59,
   "metadata": {},
   "outputs": [
    {
     "name": "stdout",
     "output_type": "stream",
     "text": [
      "Precision: [0.04155251 0.97333333 1.        ]\n",
      "Recall: [1.        0.8021978 0.       ]\n"
     ]
    }
   ],
   "source": [
    "# Obtain precision and recall \n",
    "precision, recall, _ = precision_recall_curve(y_test, predicted)\n",
    "print('Precision: {}'.format(precision))\n",
    "print('Recall: {}'.format(recall))"
   ]
  },
  {
   "cell_type": "markdown",
   "metadata": {},
   "source": [
    "#### def plot_pr_curve"
   ]
  },
  {
   "cell_type": "code",
   "execution_count": 60,
   "metadata": {},
   "outputs": [],
   "source": [
    "def plot_pr_curve(recall, precision, average_precision):\n",
    "    \"\"\"\n",
    "    https://scikit-learn.org/stable/auto_examples/model_selection/plot_precision_recall.html\n",
    "    \"\"\"\n",
    "    from inspect import signature\n",
    "    plt.figure()\n",
    "    step_kwargs = ({'step': 'post'}\n",
    "                   if 'step' in signature(plt.fill_between).parameters\n",
    "                   else {})\n",
    "\n",
    "    plt.step(recall, precision, color='b', alpha=0.2, where='post')\n",
    "    plt.fill_between(recall, precision, alpha=0.2, color='b', **step_kwargs)\n",
    "\n",
    "    plt.xlabel('Recall')\n",
    "    plt.ylabel('Precision')\n",
    "    plt.ylim([0.0, 1.0])\n",
    "    plt.xlim([0.0, 1.0])\n",
    "    plt.title(f'2-class Precision-Recall curve: AP={average_precision:0.2f}')\n",
    "    return plt.show()"
   ]
  },
  {
   "cell_type": "code",
   "execution_count": 61,
   "metadata": {},
   "outputs": [
    {
     "data": {
      "image/png": "[encoded data removed]",
      "text/plain": [
       "<Figure size 432x288 with 1 Axes>"
      ]
     },
     "metadata": {
      "needs_background": "light"
     },
     "output_type": "display_data"
    }
   ],
   "source": [
    "# Plot the recall precision tradeoff\n",
    "plot_pr_curve(recall, precision, average_precision)"
   ]
  },
  {
   "cell_type": "markdown",
   "metadata": {},
   "source": [
    "**The ROC curve plots the true positives vs. false positives , for a classifier, as its discrimination threshold is varied. Since, a random method describes a horizontal curve through the unit interval, it has an AUC of 0.5. Minimally, classifiers should perform better than this, and the extent to which they score higher than one another (meaning the area under the ROC curve is larger), they have better expected performance.**"
   ]
  },
  {
   "cell_type": "markdown",
   "metadata": {},
   "source": [
    "### Parameter optimization with GridSearchCV for RF\n",
    "\n",
    "Next use `GridSearchCV` to find optimal parameters for our RF.\n"
   ]
  },
  {
   "cell_type": "markdown",
   "metadata": {},
   "source": [
    "#### def get_model_results"
   ]
  },
  {
   "cell_type": "code",
   "execution_count": 62,
   "metadata": {},
   "outputs": [],
   "source": [
    "def get_model_results(X_train: np.ndarray, y_train: np.ndarray,\n",
    "                      X_test: np.ndarray, y_test: np.ndarray, model):\n",
    "    \"\"\"\n",
    "    model: sklearn model (e.g. RandomForestClassifier)\n",
    "    \"\"\"\n",
    "    # Fit your training model to your training set\n",
    "    model.fit(X_train, y_train)\n",
    "\n",
    "    # Obtain the predicted values and probabilities from the model \n",
    "    predicted = model.predict(X_test)\n",
    "    \n",
    "    try:\n",
    "        probs = model.predict_proba(X_test)\n",
    "        print('ROC Score:')\n",
    "        print(roc_auc_score(y_test, probs[:,1]))\n",
    "    except AttributeError:\n",
    "        pass\n",
    "\n",
    "    # Print the ROC curve, classification report and confusion matrix\n",
    "    print('\\nClassification Report:')\n",
    "    print(classification_report(y_test, predicted))\n",
    "    print('\\nConfusion Matrix:')\n",
    "    print(confusion_matrix(y_test, predicted))"
   ]
  },
  {
   "cell_type": "code",
   "execution_count": 63,
   "metadata": {},
   "outputs": [
    {
     "data": {
      "text/plain": [
       "{'criterion': 'gini',\n",
       " 'max_depth': 8,\n",
       " 'max_features': 'log2',\n",
       " 'n_estimators': 30}"
      ]
     },
     "execution_count": 63,
     "metadata": {},
     "output_type": "execute_result"
    }
   ],
   "source": [
    "# Define the parameter sets to test\n",
    "param_grid = {'n_estimators': [1, 30],\n",
    "              'max_features': ['auto', 'log2'], \n",
    "              'max_depth': [4, 8, 10, 12],\n",
    "              'criterion': ['gini', 'entropy']}\n",
    "\n",
    "# Define the model to use\n",
    "model = RandomForestClassifier(random_state=5)\n",
    "\n",
    "# Combine the parameter sets with the defined model\n",
    "CV_model = GridSearchCV(estimator=model, param_grid=param_grid, cv=5, scoring='recall', n_jobs=-1)\n",
    "\n",
    "# Fit the model to our training data and obtain best parameters\n",
    "CV_model.fit(X_train, y_train)\n",
    "CV_model.best_params_"
   ]
  },
  {
   "cell_type": "code",
   "execution_count": 64,
   "metadata": {},
   "outputs": [
    {
     "name": "stdout",
     "output_type": "stream",
     "text": [
      "ROC Score:\n",
      "0.9749697658225529\n",
      "\n",
      "Classification Report:\n",
      "              precision    recall  f1-score   support\n",
      "\n",
      "           0       0.99      1.00      1.00      2099\n",
      "           1       0.95      0.84      0.89        91\n",
      "\n",
      "    accuracy                           0.99      2190\n",
      "   macro avg       0.97      0.92      0.94      2190\n",
      "weighted avg       0.99      0.99      0.99      2190\n",
      "\n",
      "\n",
      "Confusion Matrix:\n",
      "[[2095    4]\n",
      " [  15   76]]\n"
     ]
    }
   ],
   "source": [
    "# Input the optimal parameters in the model\n",
    "model = RandomForestClassifier(class_weight={0:1,1:12},\n",
    "                               criterion='gini',\n",
    "                               max_depth=8,\n",
    "                               max_features='log2', \n",
    "                               min_samples_leaf=10,\n",
    "                               n_estimators=30,\n",
    "                               n_jobs=-1,\n",
    "                               random_state=5)\n",
    "\n",
    "# Get results from your model\n",
    "get_model_results(X_train, y_train, X_test, y_test, model)"
   ]
  },
  {
   "cell_type": "markdown",
   "metadata": {},
   "source": [
    "**The model has been improved even further. The number of false negativs has now been slightly reduced even further 18 to 15, which means we are catching more cases of fraud, 73 to 76. However, you see that the number of false positives actually went up, 2 to 4. That is that Precision-Recall trade-off in action. To decide which final model is best, you need to take into account how bad it is not to catch fraudsters, versus how many false positives the fraud analytics team can deal with. Ultimately, this final decision should be made by you and the fraud team together.**"
   ]
  },
  {
   "cell_type": "markdown",
   "metadata": {},
   "source": [
    "### Logistic Regression - A comparison to our RF\n",
    "\n",
    "Implementing an Ensemble\n",
    "\n",
    "The Voting Classifier can potentially improve your original mode by combining the strengths and weaknesses of many other models. \n"
   ]
  },
  {
   "cell_type": "code",
   "execution_count": 65,
   "metadata": {},
   "outputs": [
    {
     "name": "stdout",
     "output_type": "stream",
     "text": [
      "ROC Score:\n",
      "0.9722054981702433\n",
      "\n",
      "Classification Report:\n",
      "              precision    recall  f1-score   support\n",
      "\n",
      "           0       0.99      0.98      0.99      2099\n",
      "           1       0.63      0.88      0.73        91\n",
      "\n",
      "    accuracy                           0.97      2190\n",
      "   macro avg       0.81      0.93      0.86      2190\n",
      "weighted avg       0.98      0.97      0.98      2190\n",
      "\n",
      "\n",
      "Confusion Matrix:\n",
      "[[2052   47]\n",
      " [  11   80]]\n"
     ]
    }
   ],
   "source": [
    "# Define the Logistic Regression model with weights\n",
    "model = LogisticRegression(class_weight={0:1, 1:15}, random_state=5, solver='liblinear')\n",
    "\n",
    "# Get the model results\n",
    "get_model_results(X_train, y_train, X_test, y_test, model)"
   ]
  },
  {
   "cell_type": "markdown",
   "metadata": {},
   "source": [
    "**As you can see the Logistic Regression has quite different performance from the Random Forest. More false positives, but also a better Recall. It will therefore will a useful addition to the Random Forest in an ensemble model.**"
   ]
  },
  {
   "cell_type": "markdown",
   "metadata": {},
   "source": [
    "### Voting Classifier\n",
    "\n",
    "Next we **combine three machine learning models into one**, to improve our Random Forest fraud detection model from before. We combine our usual Random Forest model, with the Logistic Regression from the previous exercise, with a simple Decision Tree. "
   ]
  },
  {
   "cell_type": "code",
   "execution_count": 66,
   "metadata": {},
   "outputs": [
    {
     "name": "stdout",
     "output_type": "stream",
     "text": [
      "\n",
      "Classification Report:\n",
      "              precision    recall  f1-score   support\n",
      "\n",
      "           0       0.99      1.00      0.99      2099\n",
      "           1       0.90      0.86      0.88        91\n",
      "\n",
      "    accuracy                           0.99      2190\n",
      "   macro avg       0.95      0.93      0.94      2190\n",
      "weighted avg       0.99      0.99      0.99      2190\n",
      "\n",
      "\n",
      "Confusion Matrix:\n",
      "[[2090    9]\n",
      " [  13   78]]\n"
     ]
    }
   ],
   "source": [
    "# Define the three classifiers to use in the ensemble\n",
    "clf1 = LogisticRegression(class_weight={0:1, 1:15},\n",
    "                          random_state=5,\n",
    "                          solver='liblinear')\n",
    "\n",
    "clf2 = RandomForestClassifier(class_weight={0:1, 1:12}, \n",
    "                              criterion='gini', \n",
    "                              max_depth=8, \n",
    "                              max_features='log2',\n",
    "                              min_samples_leaf=10, \n",
    "                              n_estimators=30, \n",
    "                              n_jobs=-1,\n",
    "                              random_state=5)\n",
    "\n",
    "clf3 = DecisionTreeClassifier(random_state=5,\n",
    "                              class_weight=\"balanced\")\n",
    "\n",
    "# Combine the classifiers in the ensemble model\n",
    "ensemble_model = VotingClassifier(estimators=[('lr', clf1), ('rf', clf2), ('dt', clf3)], voting='hard')\n",
    "\n",
    "# Get the results \n",
    "get_model_results(X_train, y_train, X_test, y_test, ensemble_model)"
   ]
  },
  {
   "cell_type": "markdown",
   "metadata": {},
   "source": [
    "**By combining the classifiers, you can take the best of multiple models. When compared to the RF model, we have increased the cases of fraud  from 76 to 78, and only have 5 extra false positives in return. If we care about catching as many fraud cases as we can, whilst keeping the false positives low, this is a pretty good trade-off. The Logistic Regression as a standalone was quite bad in terms of false positives, and the Random Forest was worse in terms of false negatives. By combining these together we managed to improve performance.**"
   ]
  },
  {
   "cell_type": "markdown",
   "metadata": {},
   "source": [
    "### Adjusting weights within the Voting Classifier\n",
    "\n",
    "The Voting Classifier allows improvement on fraud detection performance, by combining good aspects from multiple models. Next we **adjust the weights** we give to these models. By increasing or decreasing weights illustrate **how much emphasis to give to a particular model** relative to the rest. This is useful when a certain model has overall better performance than the rest, but still want to combine aspects of the others to further improve your results."
   ]
  },
  {
   "cell_type": "code",
   "execution_count": 67,
   "metadata": {},
   "outputs": [
    {
     "name": "stdout",
     "output_type": "stream",
     "text": [
      "ROC Score:\n",
      "0.9739226947421326\n",
      "\n",
      "Classification Report:\n",
      "              precision    recall  f1-score   support\n",
      "\n",
      "           0       0.99      1.00      1.00      2099\n",
      "           1       0.94      0.85      0.89        91\n",
      "\n",
      "    accuracy                           0.99      2190\n",
      "   macro avg       0.97      0.92      0.94      2190\n",
      "weighted avg       0.99      0.99      0.99      2190\n",
      "\n",
      "\n",
      "Confusion Matrix:\n",
      "[[2094    5]\n",
      " [  14   77]]\n"
     ]
    }
   ],
   "source": [
    "# Define the ensemble model\n",
    "ensemble_model = VotingClassifier(estimators=[('lr', clf1), ('rf', clf2), ('gnb', clf3)], voting='soft', weights=[1, 4, 1], flatten_transform=True)\n",
    "\n",
    "# Get results \n",
    "get_model_results(X_train, y_train, X_test, y_test, ensemble_model)"
   ]
  },
  {
   "cell_type": "markdown",
   "metadata": {},
   "source": [
    "**The weight option allows individual models to get the optimal wighting mix for the fraud detection model. Weights must be experimented with to determine optimal allocation**"
   ]
  },
  {
   "cell_type": "markdown",
   "metadata": {},
   "source": [
    "# FD3 Fraud Detection Using Unlabeled Data\n",
    "\n",
    "Unsupervised learning techniques to detect fraud. Segment customers, use K-means clustering and other clustering algorithms to find suspicious occurrences."
   ]
  },
  {
   "cell_type": "markdown",
   "metadata": {},
   "source": [
    "### Exploring the data\n",
    "\n",
    "Next we look at bank **payment transaction data**. The financial transactions are categorized by type of expense, as well as the amount spent. Moreover, some client characteristics are available such as age group and gender.\n",
    "\n",
    "When using unsupervised learning techniques for fraud detection, **distinguish normal from abnormal** (thus potentially fraudulent) behavior. A fraud analyst would best understand what is \"normal\"."
   ]
  },
  {
   "cell_type": "code",
   "execution_count": 68,
   "metadata": {},
   "outputs": [],
   "source": [
    "banksim_df = pd.read_csv(banksim_file)\n",
    "banksim_df.drop(['Unnamed: 0'], axis=1, inplace=True)\n",
    "banksim_adj_df = pd.read_csv(banksim_adj_file)\n",
    "banksim_adj_df.drop(['Unnamed: 0'], axis=1, inplace=True)"
   ]
  },
  {
   "cell_type": "code",
   "execution_count": 69,
   "metadata": {},
   "outputs": [
    {
     "data": {
      "text/plain": [
       "(7200, 5)"
      ]
     },
     "execution_count": 69,
     "metadata": {},
     "output_type": "execute_result"
    }
   ],
   "source": [
    "banksim_df.shape"
   ]
  },
  {
   "cell_type": "code",
   "execution_count": 70,
   "metadata": {},
   "outputs": [
    {
     "data": {
      "text/html": [
       "<div>\n",
       "<style scoped>\n",
       "    .dataframe tbody tr th:only-of-type {\n",
       "        vertical-align: middle;\n",
       "    }\n",
       "\n",
       "    .dataframe tbody tr th {\n",
       "        vertical-align: top;\n",
       "    }\n",
       "\n",
       "    .dataframe thead th {\n",
       "        text-align: right;\n",
       "    }\n",
       "</style>\n",
       "<table border=\"1\" class=\"dataframe\">\n",
       "  <thead>\n",
       "    <tr style=\"text-align: right;\">\n",
       "      <th></th>\n",
       "      <th>age</th>\n",
       "      <th>gender</th>\n",
       "      <th>category</th>\n",
       "      <th>amount</th>\n",
       "      <th>fraud</th>\n",
       "    </tr>\n",
       "  </thead>\n",
       "  <tbody>\n",
       "    <tr>\n",
       "      <th>0</th>\n",
       "      <td>3</td>\n",
       "      <td>F</td>\n",
       "      <td>es_transportation</td>\n",
       "      <td>49.71</td>\n",
       "      <td>0</td>\n",
       "    </tr>\n",
       "    <tr>\n",
       "      <th>1</th>\n",
       "      <td>4</td>\n",
       "      <td>F</td>\n",
       "      <td>es_health</td>\n",
       "      <td>39.29</td>\n",
       "      <td>0</td>\n",
       "    </tr>\n",
       "    <tr>\n",
       "      <th>2</th>\n",
       "      <td>3</td>\n",
       "      <td>F</td>\n",
       "      <td>es_transportation</td>\n",
       "      <td>18.76</td>\n",
       "      <td>0</td>\n",
       "    </tr>\n",
       "    <tr>\n",
       "      <th>3</th>\n",
       "      <td>4</td>\n",
       "      <td>M</td>\n",
       "      <td>es_transportation</td>\n",
       "      <td>13.95</td>\n",
       "      <td>0</td>\n",
       "    </tr>\n",
       "    <tr>\n",
       "      <th>4</th>\n",
       "      <td>2</td>\n",
       "      <td>M</td>\n",
       "      <td>es_transportation</td>\n",
       "      <td>49.87</td>\n",
       "      <td>0</td>\n",
       "    </tr>\n",
       "  </tbody>\n",
       "</table>\n",
       "</div>"
      ],
      "text/plain": [
       "  age gender           category  amount  fraud\n",
       "0   3      F  es_transportation   49.71      0\n",
       "1   4      F          es_health   39.29      0\n",
       "2   3      F  es_transportation   18.76      0\n",
       "3   4      M  es_transportation   13.95      0\n",
       "4   2      M  es_transportation   49.87      0"
      ]
     },
     "execution_count": 70,
     "metadata": {},
     "output_type": "execute_result"
    }
   ],
   "source": [
    "banksim_df.head()"
   ]
  },
  {
   "cell_type": "code",
   "execution_count": 71,
   "metadata": {},
   "outputs": [
    {
     "data": {
      "text/plain": [
       "(7189, 18)"
      ]
     },
     "execution_count": 71,
     "metadata": {},
     "output_type": "execute_result"
    }
   ],
   "source": [
    "banksim_adj_df.shape"
   ]
  },
  {
   "cell_type": "code",
   "execution_count": 72,
   "metadata": {},
   "outputs": [
    {
     "data": {
      "text/html": [
       "<div>\n",
       "<style scoped>\n",
       "    .dataframe tbody tr th:only-of-type {\n",
       "        vertical-align: middle;\n",
       "    }\n",
       "\n",
       "    .dataframe tbody tr th {\n",
       "        vertical-align: top;\n",
       "    }\n",
       "\n",
       "    .dataframe thead th {\n",
       "        text-align: right;\n",
       "    }\n",
       "</style>\n",
       "<table border=\"1\" class=\"dataframe\">\n",
       "  <thead>\n",
       "    <tr style=\"text-align: right;\">\n",
       "      <th></th>\n",
       "      <th>age</th>\n",
       "      <th>amount</th>\n",
       "      <th>fraud</th>\n",
       "      <th>M</th>\n",
       "      <th>es_barsandrestaurants</th>\n",
       "      <th>es_contents</th>\n",
       "      <th>es_fashion</th>\n",
       "      <th>es_food</th>\n",
       "      <th>es_health</th>\n",
       "      <th>es_home</th>\n",
       "      <th>es_hotelservices</th>\n",
       "      <th>es_hyper</th>\n",
       "      <th>es_leisure</th>\n",
       "      <th>es_otherservices</th>\n",
       "      <th>es_sportsandtoys</th>\n",
       "      <th>es_tech</th>\n",
       "      <th>es_transportation</th>\n",
       "      <th>es_travel</th>\n",
       "    </tr>\n",
       "  </thead>\n",
       "  <tbody>\n",
       "    <tr>\n",
       "      <th>0</th>\n",
       "      <td>3</td>\n",
       "      <td>49.71</td>\n",
       "      <td>0</td>\n",
       "      <td>0</td>\n",
       "      <td>0</td>\n",
       "      <td>0</td>\n",
       "      <td>0</td>\n",
       "      <td>0</td>\n",
       "      <td>0</td>\n",
       "      <td>0</td>\n",
       "      <td>0</td>\n",
       "      <td>0</td>\n",
       "      <td>0</td>\n",
       "      <td>0</td>\n",
       "      <td>0</td>\n",
       "      <td>0</td>\n",
       "      <td>1</td>\n",
       "      <td>0</td>\n",
       "    </tr>\n",
       "    <tr>\n",
       "      <th>1</th>\n",
       "      <td>4</td>\n",
       "      <td>39.29</td>\n",
       "      <td>0</td>\n",
       "      <td>0</td>\n",
       "      <td>0</td>\n",
       "      <td>0</td>\n",
       "      <td>0</td>\n",
       "      <td>0</td>\n",
       "      <td>1</td>\n",
       "      <td>0</td>\n",
       "      <td>0</td>\n",
       "      <td>0</td>\n",
       "      <td>0</td>\n",
       "      <td>0</td>\n",
       "      <td>0</td>\n",
       "      <td>0</td>\n",
       "      <td>0</td>\n",
       "      <td>0</td>\n",
       "    </tr>\n",
       "    <tr>\n",
       "      <th>2</th>\n",
       "      <td>3</td>\n",
       "      <td>18.76</td>\n",
       "      <td>0</td>\n",
       "      <td>0</td>\n",
       "      <td>0</td>\n",
       "      <td>0</td>\n",
       "      <td>0</td>\n",
       "      <td>0</td>\n",
       "      <td>0</td>\n",
       "      <td>0</td>\n",
       "      <td>0</td>\n",
       "      <td>0</td>\n",
       "      <td>0</td>\n",
       "      <td>0</td>\n",
       "      <td>0</td>\n",
       "      <td>0</td>\n",
       "      <td>1</td>\n",
       "      <td>0</td>\n",
       "    </tr>\n",
       "    <tr>\n",
       "      <th>3</th>\n",
       "      <td>4</td>\n",
       "      <td>13.95</td>\n",
       "      <td>0</td>\n",
       "      <td>1</td>\n",
       "      <td>0</td>\n",
       "      <td>0</td>\n",
       "      <td>0</td>\n",
       "      <td>0</td>\n",
       "      <td>0</td>\n",
       "      <td>0</td>\n",
       "      <td>0</td>\n",
       "      <td>0</td>\n",
       "      <td>0</td>\n",
       "      <td>0</td>\n",
       "      <td>0</td>\n",
       "      <td>0</td>\n",
       "      <td>1</td>\n",
       "      <td>0</td>\n",
       "    </tr>\n",
       "    <tr>\n",
       "      <th>4</th>\n",
       "      <td>2</td>\n",
       "      <td>49.87</td>\n",
       "      <td>0</td>\n",
       "      <td>1</td>\n",
       "      <td>0</td>\n",
       "      <td>0</td>\n",
       "      <td>0</td>\n",
       "      <td>0</td>\n",
       "      <td>0</td>\n",
       "      <td>0</td>\n",
       "      <td>0</td>\n",
       "      <td>0</td>\n",
       "      <td>0</td>\n",
       "      <td>0</td>\n",
       "      <td>0</td>\n",
       "      <td>0</td>\n",
       "      <td>1</td>\n",
       "      <td>0</td>\n",
       "    </tr>\n",
       "  </tbody>\n",
       "</table>\n",
       "</div>"
      ],
      "text/plain": [
       "   age  amount  fraud  M  es_barsandrestaurants  es_contents  es_fashion  \\\n",
       "0    3   49.71      0  0                      0            0           0   \n",
       "1    4   39.29      0  0                      0            0           0   \n",
       "2    3   18.76      0  0                      0            0           0   \n",
       "3    4   13.95      0  1                      0            0           0   \n",
       "4    2   49.87      0  1                      0            0           0   \n",
       "\n",
       "   es_food  es_health  es_home  es_hotelservices  es_hyper  es_leisure  \\\n",
       "0        0          0        0                 0         0           0   \n",
       "1        0          1        0                 0         0           0   \n",
       "2        0          0        0                 0         0           0   \n",
       "3        0          0        0                 0         0           0   \n",
       "4        0          0        0                 0         0           0   \n",
       "\n",
       "   es_otherservices  es_sportsandtoys  es_tech  es_transportation  es_travel  \n",
       "0                 0                 0        0                  1          0  \n",
       "1                 0                 0        0                  0          0  \n",
       "2                 0                 0        0                  1          0  \n",
       "3                 0                 0        0                  1          0  \n",
       "4                 0                 0        0                  1          0  "
      ]
     },
     "execution_count": 72,
     "metadata": {},
     "output_type": "execute_result"
    }
   ],
   "source": [
    "banksim_adj_df.head()"
   ]
  },
  {
   "cell_type": "code",
   "execution_count": 73,
   "metadata": {},
   "outputs": [
    {
     "data": {
      "text/html": [
       "<div>\n",
       "<style scoped>\n",
       "    .dataframe tbody tr th:only-of-type {\n",
       "        vertical-align: middle;\n",
       "    }\n",
       "\n",
       "    .dataframe tbody tr th {\n",
       "        vertical-align: top;\n",
       "    }\n",
       "\n",
       "    .dataframe thead th {\n",
       "        text-align: right;\n",
       "    }\n",
       "</style>\n",
       "<table border=\"1\" class=\"dataframe\">\n",
       "  <thead>\n",
       "    <tr style=\"text-align: right;\">\n",
       "      <th></th>\n",
       "      <th>amount</th>\n",
       "      <th>fraud</th>\n",
       "    </tr>\n",
       "    <tr>\n",
       "      <th>category</th>\n",
       "      <th></th>\n",
       "      <th></th>\n",
       "    </tr>\n",
       "  </thead>\n",
       "  <tbody>\n",
       "    <tr>\n",
       "      <th>es_barsandrestaurants</th>\n",
       "      <td>43.841793</td>\n",
       "      <td>0.022472</td>\n",
       "    </tr>\n",
       "    <tr>\n",
       "      <th>es_contents</th>\n",
       "      <td>55.170000</td>\n",
       "      <td>0.000000</td>\n",
       "    </tr>\n",
       "    <tr>\n",
       "      <th>es_fashion</th>\n",
       "      <td>59.780769</td>\n",
       "      <td>0.020619</td>\n",
       "    </tr>\n",
       "    <tr>\n",
       "      <th>es_food</th>\n",
       "      <td>35.216050</td>\n",
       "      <td>0.000000</td>\n",
       "    </tr>\n",
       "    <tr>\n",
       "      <th>es_health</th>\n",
       "      <td>126.604704</td>\n",
       "      <td>0.242798</td>\n",
       "    </tr>\n",
       "    <tr>\n",
       "      <th>es_home</th>\n",
       "      <td>120.688317</td>\n",
       "      <td>0.208333</td>\n",
       "    </tr>\n",
       "    <tr>\n",
       "      <th>es_hotelservices</th>\n",
       "      <td>172.756245</td>\n",
       "      <td>0.548387</td>\n",
       "    </tr>\n",
       "    <tr>\n",
       "      <th>es_hyper</th>\n",
       "      <td>46.788180</td>\n",
       "      <td>0.125000</td>\n",
       "    </tr>\n",
       "    <tr>\n",
       "      <th>es_leisure</th>\n",
       "      <td>229.757600</td>\n",
       "      <td>1.000000</td>\n",
       "    </tr>\n",
       "    <tr>\n",
       "      <th>es_otherservices</th>\n",
       "      <td>149.648960</td>\n",
       "      <td>0.600000</td>\n",
       "    </tr>\n",
       "    <tr>\n",
       "      <th>es_sportsandtoys</th>\n",
       "      <td>157.251737</td>\n",
       "      <td>0.657895</td>\n",
       "    </tr>\n",
       "    <tr>\n",
       "      <th>es_tech</th>\n",
       "      <td>132.852862</td>\n",
       "      <td>0.179487</td>\n",
       "    </tr>\n",
       "    <tr>\n",
       "      <th>es_transportation</th>\n",
       "      <td>27.422014</td>\n",
       "      <td>0.000000</td>\n",
       "    </tr>\n",
       "    <tr>\n",
       "      <th>es_travel</th>\n",
       "      <td>231.818656</td>\n",
       "      <td>0.944444</td>\n",
       "    </tr>\n",
       "    <tr>\n",
       "      <th>es_wellnessandbeauty</th>\n",
       "      <td>66.167078</td>\n",
       "      <td>0.060606</td>\n",
       "    </tr>\n",
       "  </tbody>\n",
       "</table>\n",
       "</div>"
      ],
      "text/plain": [
       "                           amount     fraud\n",
       "category                                   \n",
       "es_barsandrestaurants   43.841793  0.022472\n",
       "es_contents             55.170000  0.000000\n",
       "es_fashion              59.780769  0.020619\n",
       "es_food                 35.216050  0.000000\n",
       "es_health              126.604704  0.242798\n",
       "es_home                120.688317  0.208333\n",
       "es_hotelservices       172.756245  0.548387\n",
       "es_hyper                46.788180  0.125000\n",
       "es_leisure             229.757600  1.000000\n",
       "es_otherservices       149.648960  0.600000\n",
       "es_sportsandtoys       157.251737  0.657895\n",
       "es_tech                132.852862  0.179487\n",
       "es_transportation       27.422014  0.000000\n",
       "es_travel              231.818656  0.944444\n",
       "es_wellnessandbeauty    66.167078  0.060606"
      ]
     },
     "execution_count": 73,
     "metadata": {},
     "output_type": "execute_result"
    }
   ],
   "source": [
    "banksim_df.groupby(['category']).mean()"
   ]
  },
  {
   "cell_type": "markdown",
   "metadata": {},
   "source": [
    "### Customer segmentation\n",
    "\n",
    "Chekcing for any **obvious patterns** for the clients in this data, we need to determine if there a need to segment your data into groups, aka homogenous populations.\n",
    "\n",
    "Unfortunately there is not a lot client information available; for example we can not distinguish between the wealth levels of different clients. However, there is data on **age ** available.\n"
   ]
  },
  {
   "cell_type": "code",
   "execution_count": 74,
   "metadata": {},
   "outputs": [
    {
     "data": {
      "text/html": [
       "<div>\n",
       "<style scoped>\n",
       "    .dataframe tbody tr th:only-of-type {\n",
       "        vertical-align: middle;\n",
       "    }\n",
       "\n",
       "    .dataframe tbody tr th {\n",
       "        vertical-align: top;\n",
       "    }\n",
       "\n",
       "    .dataframe thead th {\n",
       "        text-align: right;\n",
       "    }\n",
       "</style>\n",
       "<table border=\"1\" class=\"dataframe\">\n",
       "  <thead>\n",
       "    <tr style=\"text-align: right;\">\n",
       "      <th></th>\n",
       "      <th>amount</th>\n",
       "      <th>fraud</th>\n",
       "    </tr>\n",
       "    <tr>\n",
       "      <th>age</th>\n",
       "      <th></th>\n",
       "      <th></th>\n",
       "    </tr>\n",
       "  </thead>\n",
       "  <tbody>\n",
       "    <tr>\n",
       "      <th>0</th>\n",
       "      <td>49.468935</td>\n",
       "      <td>0.050000</td>\n",
       "    </tr>\n",
       "    <tr>\n",
       "      <th>1</th>\n",
       "      <td>35.622829</td>\n",
       "      <td>0.026648</td>\n",
       "    </tr>\n",
       "    <tr>\n",
       "      <th>2</th>\n",
       "      <td>37.228665</td>\n",
       "      <td>0.028718</td>\n",
       "    </tr>\n",
       "    <tr>\n",
       "      <th>3</th>\n",
       "      <td>37.279338</td>\n",
       "      <td>0.023283</td>\n",
       "    </tr>\n",
       "    <tr>\n",
       "      <th>4</th>\n",
       "      <td>36.197985</td>\n",
       "      <td>0.035966</td>\n",
       "    </tr>\n",
       "    <tr>\n",
       "      <th>5</th>\n",
       "      <td>37.547521</td>\n",
       "      <td>0.023990</td>\n",
       "    </tr>\n",
       "    <tr>\n",
       "      <th>6</th>\n",
       "      <td>36.700852</td>\n",
       "      <td>0.022293</td>\n",
       "    </tr>\n",
       "    <tr>\n",
       "      <th>U</th>\n",
       "      <td>39.117000</td>\n",
       "      <td>0.000000</td>\n",
       "    </tr>\n",
       "  </tbody>\n",
       "</table>\n",
       "</div>"
      ],
      "text/plain": [
       "        amount     fraud\n",
       "age                     \n",
       "0    49.468935  0.050000\n",
       "1    35.622829  0.026648\n",
       "2    37.228665  0.028718\n",
       "3    37.279338  0.023283\n",
       "4    36.197985  0.035966\n",
       "5    37.547521  0.023990\n",
       "6    36.700852  0.022293\n",
       "U    39.117000  0.000000"
      ]
     },
     "execution_count": 74,
     "metadata": {},
     "output_type": "execute_result"
    }
   ],
   "source": [
    "banksim_df.groupby(['age']).mean()"
   ]
  },
  {
   "cell_type": "code",
   "execution_count": 75,
   "metadata": {},
   "outputs": [
    {
     "data": {
      "text/plain": [
       "2    2333\n",
       "3    1718\n",
       "4    1279\n",
       "5     792\n",
       "1     713\n",
       "6     314\n",
       "0      40\n",
       "U      11\n",
       "Name: age, dtype: int64"
      ]
     },
     "execution_count": 75,
     "metadata": {},
     "output_type": "execute_result"
    }
   ],
   "source": [
    "banksim_df.age.value_counts()"
   ]
  },
  {
   "cell_type": "markdown",
   "metadata": {},
   "source": [
    "**The average amount spent as well as fraud occurrence is rather similar across groups. Age group '0' stands out but since there are only 40 cases, it does not make sense to split these out in a separate group and run a separate model on them.**"
   ]
  },
  {
   "cell_type": "markdown",
   "metadata": {},
   "source": [
    "### Using statistics to define normal behavior\n",
    "\n",
    "There is no obvious way to segment our data into for example age groups. However, we can investigate the **average amounts spent** in normal transactions versus fraud transactions. Giving an idea of how fraudulent transactions **differ structurally** from normal transactions."
   ]
  },
  {
   "cell_type": "code",
   "execution_count": 76,
   "metadata": {},
   "outputs": [],
   "source": [
    "# Create two dataframes with fraud and non-fraud data \n",
    "df_fraud = banksim_df[banksim_df.fraud == 1] \n",
    "df_non_fraud = banksim_df[banksim_df.fraud == 0]"
   ]
  },
  {
   "cell_type": "code",
   "execution_count": 77,
   "metadata": {},
   "outputs": [
    {
     "data": {
      "image/png": "[encoded data removed]",
      "text/plain": [
       "<Figure size 432x288 with 1 Axes>"
      ]
     },
     "metadata": {
      "needs_background": "light"
     },
     "output_type": "display_data"
    }
   ],
   "source": [
    "# Plot histograms of the amounts in fraud and non-fraud data \n",
    "plt.hist(df_fraud.amount, alpha=0.5, label='fraud')\n",
    "plt.hist(df_non_fraud.amount, alpha=0.5, label='nonfraud')\n",
    "plt.xlabel('amount')\n",
    "plt.legend()\n",
    "plt.show()"
   ]
  },
  {
   "cell_type": "markdown",
   "metadata": {},
   "source": [
    "**As the number fraud observations is much smaller, it is difficult to see the full distribution. Nonetheless, you can see that the fraudulent transactions tend to be on the larger side relative to normal observations. This is good news, as it helps us later in detecting fraud from non-fraud. In the next chapter you're going to implement a clustering model to distinguish between normal and abnormal transactions, when the fraud labels are no longer available.**"
   ]
  },
  {
   "cell_type": "markdown",
   "metadata": {},
   "source": [
    "## Clustering methods to detect fraud\n",
    "\n",
    "A very commonly used clustering algorithm is K-means clustering. For fraud detection, K-means clustering is straightforward to implement and relatively powerful in predicting suspicious cases. It is a good algorithm to start with when working on fraud detection problems. However, fraud data is oftentimes very large, especially when working with transaction data. MiniBatch K-means is an efficient way to implement K-means on a large datasets."
   ]
  },
  {
   "cell_type": "code",
   "execution_count": 78,
   "metadata": {},
   "outputs": [],
   "source": [
    "labels = banksim_adj_df.fraud"
   ]
  },
  {
   "cell_type": "code",
   "execution_count": 79,
   "metadata": {},
   "outputs": [],
   "source": [
    "cols = ['age', 'amount', 'M', 'es_barsandrestaurants', 'es_contents',\n",
    "        'es_fashion', 'es_food', 'es_health', 'es_home', 'es_hotelservices',\n",
    "        'es_hyper', 'es_leisure', 'es_otherservices', 'es_sportsandtoys',\n",
    "        'es_tech', 'es_transportation', 'es_travel']"
   ]
  },
  {
   "cell_type": "code",
   "execution_count": 80,
   "metadata": {},
   "outputs": [],
   "source": [
    "# Take the float values of df for X\n",
    "X = banksim_adj_df[cols].values.astype(np.float)"
   ]
  },
  {
   "cell_type": "code",
   "execution_count": 81,
   "metadata": {},
   "outputs": [
    {
     "data": {
      "text/plain": [
       "(7189, 17)"
      ]
     },
     "execution_count": 81,
     "metadata": {},
     "output_type": "execute_result"
    }
   ],
   "source": [
    "X.shape"
   ]
  },
  {
   "cell_type": "code",
   "execution_count": 82,
   "metadata": {},
   "outputs": [],
   "source": [
    "# Define the scaler and apply to the data\n",
    "scaler = MinMaxScaler()\n",
    "X_scaled = scaler.fit_transform(X)"
   ]
  },
  {
   "cell_type": "code",
   "execution_count": 68,
   "metadata": {},
   "outputs": [
    {
     "data": {
      "text/plain": [
       "MiniBatchKMeans(random_state=0)"
      ]
     },
     "execution_count": 68,
     "metadata": {},
     "output_type": "execute_result"
    }
   ],
   "source": [
    "# Define the model \n",
    "kmeans = MiniBatchKMeans(n_clusters=8, random_state=0)\n",
    "\n",
    "# Fit the model to the scaled data\n",
    "kmeans.fit(X_scaled)"
   ]
  },
  {
   "cell_type": "markdown",
   "metadata": {},
   "source": [
    "**Having fit the MiniBatch K-means model to the data, we still need to figure our what the right number of clusters to use is. Let's do that in the next exercise.**"
   ]
  },
  {
   "cell_type": "markdown",
   "metadata": {},
   "source": [
    "### Elbow Method to Determine K\n",
    "\n",
    "- Elbow Method\n",
    "- Silhouette Analysis\n",
    "- Davies-Bouldin Index"
   ]
  },
  {
   "cell_type": "code",
   "execution_count": 83,
   "metadata": {},
   "outputs": [],
   "source": [
    "# Define the range of clusters to try\n",
    "clustno = range(1, 10)\n",
    "\n",
    "# Run MiniBatch Kmeans over the number of clusters\n",
    "kmeans = [MiniBatchKMeans(n_clusters=i) for i in clustno]\n",
    "\n",
    "# Obtain the score for each model\n",
    "score = [kmeans[i].fit(X_scaled).score(X_scaled) for i in range(len(kmeans))]"
   ]
  },
  {
   "cell_type": "code",
   "execution_count": 84,
   "metadata": {},
   "outputs": [
    {
     "data": {
      "image/png": "[encoded data removed]",
      "text/plain": [
       "<Figure size 432x288 with 1 Axes>"
      ]
     },
     "metadata": {
      "needs_background": "light"
     },
     "output_type": "display_data"
    }
   ],
   "source": [
    "# Plot the models and their respective score \n",
    "plt.plot(clustno, score)\n",
    "plt.xlabel('Number of Clusters')\n",
    "plt.ylabel('Score')\n",
    "plt.title('Elbow Curve')\n",
    "plt.show()"
   ]
  },
  {
   "cell_type": "markdown",
   "metadata": {},
   "source": [
    "**The optimal number of clusters should probably be at around 3 clusters, as that is where the elbow is in the curve. We'll use this in the next exercise as our baseline model, and see how well this does in detecting fraud**"
   ]
  },
  {
   "cell_type": "markdown",
   "metadata": {},
   "source": [
    "#### Validating the K-Minibatch Model Results\n",
    "\n",
    "* without fraud labels, the usual performance metrics can't be run\n",
    "    * check with the fraud analyst\n",
    "    * investigate and describe cases that are flagged in more detail\n",
    "        * is it fraudulent or just a rare case of legit data\n",
    "        * avoid rare, legit cases by deleting certain features or removing the cases from the data\n",
    "    * if there are past cases of fraud, see if the model can predict them using historic data"
   ]
  },
  {
   "cell_type": "markdown",
   "metadata": {},
   "source": [
    "### Detecting outliers\n",
    "\n",
    "Using the K-means algorithm to predict fraud, and we compare those predictions to the actual labels that are saved, to sense check our results (since we don't have an actual fraud analyst)\n"
   ]
  },
  {
   "cell_type": "code",
   "execution_count": 85,
   "metadata": {},
   "outputs": [],
   "source": [
    "# Split the data into training and test set\n",
    "X_train, X_test, y_train, y_test = train_test_split(X_scaled, labels, test_size=0.3, random_state=0)\n",
    "\n",
    "# Define K-means model \n",
    "kmeans = MiniBatchKMeans(n_clusters=3, random_state=42).fit(X_train)\n",
    "\n",
    "# Obtain predictions and calculate distance from cluster centroid\n",
    "X_test_clusters = kmeans.predict(X_test)\n",
    "X_test_clusters_centers = kmeans.cluster_centers_\n",
    "dist = [np.linalg.norm(x-y) for x, y in zip(X_test, X_test_clusters_centers[X_test_clusters])]\n",
    "\n",
    "# Create fraud predictions based on outliers on clusters \n",
    "km_y_pred = np.array(dist)\n",
    "km_y_pred[dist >= np.percentile(dist, 95)] = 1\n",
    "km_y_pred[dist < np.percentile(dist, 95)] = 0"
   ]
  },
  {
   "cell_type": "code",
   "execution_count": 86,
   "metadata": {},
   "outputs": [],
   "source": [
    "def plot_confusion_matrix(cm, classes=['Not Fraud', 'Fraud'],\n",
    "                          normalize=False,\n",
    "                          title='Fraud Confusion matrix',\n",
    "                          cmap=plt.cm.Blues):\n",
    "    \"\"\"\n",
    "    This function prints and plots the confusion matrix.\n",
    "    Normalization can be applied by setting `normalize=True`.\n",
    "    From:\n",
    "        http://scikit-learn.org/stable/auto_examples/model_selection/plot_confusion_matrix.html#sphx-glr-auto-\n",
    "        examples-model-selection-plot-confusion-matrix-py\n",
    "    \"\"\"\n",
    "    if normalize:\n",
    "        cm = cm.astype('float') / cm.sum(axis=1)[:, np.newaxis]\n",
    "        print(\"Normalized confusion matrix\")\n",
    "    else:\n",
    "        print('Confusion matrix, without normalization')\n",
    "\n",
    "    # print(cm)\n",
    "\n",
    "    plt.imshow(cm, interpolation='nearest', cmap=cmap)\n",
    "    plt.title(title)\n",
    "    plt.colorbar()\n",
    "    tick_marks = np.arange(len(classes))\n",
    "    plt.xticks(tick_marks, classes, rotation=45)\n",
    "    plt.yticks(tick_marks, classes)\n",
    "\n",
    "    fmt = '.2f' if normalize else 'd'\n",
    "    thresh = cm.max() / 2.\n",
    "    for i, j in product(range(cm.shape[0]), range(cm.shape[1])):\n",
    "        plt.text(j, i, format(cm[i, j], fmt),\n",
    "                 horizontalalignment=\"center\",\n",
    "                 color=\"white\" if cm[i, j] > thresh else \"black\")\n",
    "\n",
    "    plt.tight_layout()\n",
    "    plt.ylabel('True label')\n",
    "    plt.xlabel('Predicted label')\n",
    "    plt.show()"
   ]
  },
  {
   "cell_type": "code",
   "execution_count": 87,
   "metadata": {},
   "outputs": [
    {
     "data": {
      "text/plain": [
       "0.8109115999408585"
      ]
     },
     "execution_count": 87,
     "metadata": {},
     "output_type": "execute_result"
    }
   ],
   "source": [
    "# Obtain the ROC score\n",
    "roc_auc_score(y_test, km_y_pred)"
   ]
  },
  {
   "cell_type": "code",
   "execution_count": 88,
   "metadata": {},
   "outputs": [
    {
     "name": "stdout",
     "output_type": "stream",
     "text": [
      "Confusion matrix, without normalization\n"
     ]
    },
    {
     "data": {
      "image/png": "[encoded data removed]",
      "text/plain": [
       "<Figure size 432x288 with 2 Axes>"
      ]
     },
     "metadata": {
      "needs_background": "light"
     },
     "output_type": "display_data"
    }
   ],
   "source": [
    "# Create a confusion matrix\n",
    "km_cm = confusion_matrix(y_test, km_y_pred)\n",
    "\n",
    "# Plot the confusion matrix in a figure to visualize results \n",
    "plot_confusion_matrix(km_cm)"
   ]
  },
  {
   "cell_type": "markdown",
   "metadata": {},
   "source": [
    "## Alternate clustering methods for fraud detection\n",
    "\n",
    "* In addition to K-means, there are many different clustering methods, which can be used for fraud detection\n",
    "* ![clustering methods](images/clustering_methods.jpeg)\n",
    "* K-means works well when the data is clustered in normal, round shapes\n",
    "* There are methods to flag fraud other the cluster outliers\n",
    "* ![clustering outlier](images/cluster_outlier.jpeg)\n",
    "    * **Small clusters can be an indication of fraud**\n",
    "    * This approach can be used when fraudulent behavior has commonalities, which cause clustering\n",
    "    * The fraudulent data would cluster in tiny groups, rather than be the outliers of larger clusters\n",
    "* ![typical data](images/typical_data.jpeg)\n",
    "    * In this case there are 3 obvious clusters\n",
    "    * The smallest dots are outliers and outside of what can be described as normal behavior\n",
    "    * There are also small to medium clusters closely connected to the red cluster\n",
    "    * Visualizing the data with something like [PCA](https://en.wikipedia.org/wiki/Principal_component_analysis) can be quite helpful"
   ]
  },
  {
   "cell_type": "markdown",
   "metadata": {},
   "source": [
    "#### DBSCAN: Density-Based Spatial Clustering of Applications with Noise\n",
    "\n",
    "* [DBscan](https://en.wikipedia.org/wiki/DBSCAN)\n",
    "* DBSCAN vs. K-means\n",
    "    * The number of clusters does not need to be predefined\n",
    "        * The algorithm finds core samples of high density and expands clusters from them\n",
    "        * **Works well on data containing clusters of similar density**\n",
    "    * This type of algorithm can be used to identify fraud as very small clusters\n",
    "    * Assignments: Maximum allowed distance between points in a cluster must be assigned\n",
    "    * Assignments: Minimal number of data points in clusters must be assigned\n",
    "    * Better performance on weirdly shaped data\n",
    "    * Computationally heavier then MiniBatch K-means"
   ]
  },
  {
   "cell_type": "markdown",
   "metadata": {},
   "source": [
    "### DB Scan"
   ]
  },
  {
   "cell_type": "code",
   "execution_count": 89,
   "metadata": {},
   "outputs": [],
   "source": [
    "# Initialize and fit the DBscan model\n",
    "db = DBSCAN(eps=0.9, min_samples=10, n_jobs=-1).fit(X_scaled)\n",
    "\n",
    "# Obtain the predicted labels and calculate number of clusters\n",
    "pred_labels = db.labels_\n",
    "n_clusters = len(set(pred_labels)) - (1 if -1 in labels else 0)"
   ]
  },
  {
   "cell_type": "code",
   "execution_count": 90,
   "metadata": {},
   "outputs": [
    {
     "name": "stdout",
     "output_type": "stream",
     "text": [
      "Estimated number of clusters: 23\n",
      "Homogeneity: 0.612\n",
      "Silhouette Coefficient: 0.713\n"
     ]
    }
   ],
   "source": [
    "# Print performance metrics for DBscan\n",
    "print(f'Estimated number of clusters: {n_clusters}')\n",
    "print(f'Homogeneity: {homogeneity_score(labels, pred_labels):0.3f}')\n",
    "print(f'Silhouette Coefficient: {silhouette_score(X_scaled, pred_labels):0.3f}')"
   ]
  },
  {
   "cell_type": "markdown",
   "metadata": {},
   "source": [
    "**The number of clusters is much higher than with K-means. For fraud detection this is for now OK, as we are only interested in the smallest clusters, since those are considered as abnormal. Now have a look at those clusters and decide which one to flag as fraud.**"
   ]
  },
  {
   "cell_type": "markdown",
   "metadata": {},
   "source": [
    "### Assessing smallest clusters - DB Scan"
   ]
  },
  {
   "cell_type": "code",
   "execution_count": 91,
   "metadata": {},
   "outputs": [
    {
     "name": "stdout",
     "output_type": "stream",
     "text": [
      "[3252  145 2714   55  174  119  122   98   54   15   76   15   43   25\n",
      "   51   47   42   15   25   20   19   10]\n"
     ]
    }
   ],
   "source": [
    "# Count observations in each cluster number\n",
    "counts = np.bincount(pred_labels[pred_labels >= 0])\n",
    "\n",
    "# Print the result\n",
    "print(counts)"
   ]
  },
  {
   "cell_type": "code",
   "execution_count": 92,
   "metadata": {},
   "outputs": [],
   "source": [
    "# Sort the sample counts of the clusters and take the top 3 smallest clusters\n",
    "smallest_clusters = np.argsort(counts)[:3]"
   ]
  },
  {
   "cell_type": "code",
   "execution_count": 93,
   "metadata": {},
   "outputs": [
    {
     "name": "stdout",
     "output_type": "stream",
     "text": [
      "The smallest clusters are clusters: [21 17  9]\n"
     ]
    }
   ],
   "source": [
    "# Print the results \n",
    "print(f'The smallest clusters are clusters: {smallest_clusters}')"
   ]
  },
  {
   "cell_type": "code",
   "execution_count": 94,
   "metadata": {},
   "outputs": [
    {
     "name": "stdout",
     "output_type": "stream",
     "text": [
      "Their counts are: [10 15 15]\n"
     ]
    }
   ],
   "source": [
    "# Print the counts of the smallest clusters only\n",
    "print(f'Their counts are: {counts[smallest_clusters]}')"
   ]
  },
  {
   "cell_type": "markdown",
   "metadata": {},
   "source": [
    "**So now we know which smallest clusters you could flag as fraud. If you were to take more of the smallest clusters, you cast your net wider and catch more fraud, but most likely also more false positives. It is up to the fraud analyst to find the right amount of cases to flag and to investigate. In the next exercise you'll check the results with the actual labels.**"
   ]
  },
  {
   "cell_type": "markdown",
   "metadata": {},
   "source": [
    "### Results verification\n"
   ]
  },
  {
   "cell_type": "code",
   "execution_count": 95,
   "metadata": {},
   "outputs": [],
   "source": [
    "# Create a dataframe of the predicted cluster numbers and fraud labels \n",
    "df = pd.DataFrame({'clusternr':pred_labels,'fraud':labels})\n",
    "\n",
    "# Create a condition flagging fraud for the smallest clusters \n",
    "df['predicted_fraud'] = np.where((df['clusternr'].isin([21, 17, 9])), 1 , 0)"
   ]
  },
  {
   "cell_type": "code",
   "execution_count": 96,
   "metadata": {},
   "outputs": [
    {
     "name": "stdout",
     "output_type": "stream",
     "text": [
      "Flagged Fraud     0   1\n",
      "Actual Fraud           \n",
      "0              6973  16\n",
      "1               176  24\n"
     ]
    }
   ],
   "source": [
    "# Run a crosstab on the results \n",
    "print(pd.crosstab(df['fraud'], df['predicted_fraud'], rownames=['Actual Fraud'], colnames=['Flagged Fraud']))"
   ]
  },
  {
   "cell_type": "markdown",
   "metadata": {},
   "source": [
    "**Compared to the K-means model, we have significantly less false positives, 70 to 16, however we have significantly more false negatives 20 to 176 and catch overall less fraud, 38 to 24. The good thing is: our of all flagged cases, roughly 16/24 are actually fraud with is higher than 38/70. Since you only take the three smallest clusters, by definition you flag less cases of fraud, so you catch less but also have less false positives. However, you are missing quite a lot of fraud cases. Increasing the amount of smallest clusters you flag could improve that, but at the cost of more false positives.**"
   ]
  },
  {
   "cell_type": "markdown",
   "metadata": {},
   "source": [
    "# FD4 Fraud Detection using NLP\n",
    "\n",
    "Text data, text mining and topic modeling to detect fraudulent behavior."
   ]
  },
  {
   "cell_type": "markdown",
   "metadata": {},
   "source": [
    "### Word search with dataframes\n",
    "\n",
    "Lastly, we will use text data, containing emails from Enron employees. The **Enron scandal** is a famous fraud case. Enron employees covered up the bad financial position of the company, thereby keeping the stock price artificially high. Enron employees sold their own stock options, and when the truth came out, Enron investors were left with nothing. The goal is to find all emails that mention specific words, such as \"sell enron stock\"."
   ]
  },
  {
   "cell_type": "markdown",
   "metadata": {},
   "source": [
    "### Simple Term Search - Rules"
   ]
  },
  {
   "cell_type": "code",
   "execution_count": 103,
   "metadata": {},
   "outputs": [],
   "source": [
    "df = pd.read_csv(enron_emails_clean_file)"
   ]
  },
  {
   "cell_type": "code",
   "execution_count": 104,
   "metadata": {},
   "outputs": [],
   "source": [
    "mask = df['clean_content'].str.contains('sell enron stock', na=False)"
   ]
  },
  {
   "cell_type": "code",
   "execution_count": 105,
   "metadata": {},
   "outputs": [
    {
     "data": {
      "text/html": [
       "<div>\n",
       "<style scoped>\n",
       "    .dataframe tbody tr th:only-of-type {\n",
       "        vertical-align: middle;\n",
       "    }\n",
       "\n",
       "    .dataframe tbody tr th {\n",
       "        vertical-align: top;\n",
       "    }\n",
       "\n",
       "    .dataframe thead th {\n",
       "        text-align: right;\n",
       "    }\n",
       "</style>\n",
       "<table border=\"1\" class=\"dataframe\">\n",
       "  <thead>\n",
       "    <tr style=\"text-align: right;\">\n",
       "      <th></th>\n",
       "      <th>Message-ID</th>\n",
       "      <th>From</th>\n",
       "      <th>To</th>\n",
       "      <th>Date</th>\n",
       "      <th>content</th>\n",
       "      <th>clean_content</th>\n",
       "    </tr>\n",
       "  </thead>\n",
       "  <tbody>\n",
       "    <tr>\n",
       "      <th>154</th>\n",
       "      <td>&lt;6336501.1075841154311.JavaMail.evans@thyme&gt;</td>\n",
       "      <td>('sarah.palmer@enron.com')</td>\n",
       "      <td>('sarah.palmer@enron.com')</td>\n",
       "      <td>2002-02-01 14:53:35</td>\n",
       "      <td>\\nJoint Venture: A 1997 Enron Meeting Belies O...</td>\n",
       "      <td>joint venture enron meeting belies officers cl...</td>\n",
       "    </tr>\n",
       "  </tbody>\n",
       "</table>\n",
       "</div>"
      ],
      "text/plain": [
       "                                       Message-ID                        From  \\\n",
       "154  <6336501.1075841154311.JavaMail.evans@thyme>  ('sarah.palmer@enron.com')   \n",
       "\n",
       "                             To                 Date  \\\n",
       "154  ('sarah.palmer@enron.com')  2002-02-01 14:53:35   \n",
       "\n",
       "                                               content  \\\n",
       "154  \\nJoint Venture: A 1997 Enron Meeting Belies O...   \n",
       "\n",
       "                                         clean_content  \n",
       "154  joint venture enron meeting belies officers cl...  "
      ]
     },
     "execution_count": 105,
     "metadata": {},
     "output_type": "execute_result"
    }
   ],
   "source": [
    "# Select the data from df using the mask\n",
    "df[mask]"
   ]
  },
  {
   "cell_type": "markdown",
   "metadata": {},
   "source": [
    "**You see that searching for particular string values in a dataframe can be relatively easy, and allows you to include textual data into your model or analysis. You can use this word search as an additional flag, or as a feature in your fraud detection model. Let's look at how to filter the data using multiple search terms.**"
   ]
  },
  {
   "cell_type": "markdown",
   "metadata": {},
   "source": [
    "### Using List of Search Terms\n",
    "\n",
    "Oftentimes we don't want to search on just one term. You probably can create a full **\"fraud dictionary\"** of terms that could potentially **flag fraudulent clients** and/or transactions. Fraud analysts often will have an idea what should be in such a dictionary. In this exercise you're going to **flag a multitude of terms**. We can use this in machine learning models as a feature, or as an additional filter on top of your machine learning model results."
   ]
  },
  {
   "cell_type": "code",
   "execution_count": 106,
   "metadata": {},
   "outputs": [
    {
     "data": {
      "text/html": [
       "<div>\n",
       "<style scoped>\n",
       "    .dataframe tbody tr th:only-of-type {\n",
       "        vertical-align: middle;\n",
       "    }\n",
       "\n",
       "    .dataframe tbody tr th {\n",
       "        vertical-align: top;\n",
       "    }\n",
       "\n",
       "    .dataframe thead th {\n",
       "        text-align: right;\n",
       "    }\n",
       "</style>\n",
       "<table border=\"1\" class=\"dataframe\">\n",
       "  <thead>\n",
       "    <tr style=\"text-align: right;\">\n",
       "      <th></th>\n",
       "      <th>Message-ID</th>\n",
       "      <th>From</th>\n",
       "      <th>To</th>\n",
       "      <th>Date</th>\n",
       "      <th>content</th>\n",
       "      <th>clean_content</th>\n",
       "    </tr>\n",
       "  </thead>\n",
       "  <tbody>\n",
       "    <tr>\n",
       "      <th>0</th>\n",
       "      <td>&lt;8345058.1075840404046.JavaMail.evans@thyme&gt;</td>\n",
       "      <td>('advdfeedback@investools.com')</td>\n",
       "      <td>('advdfeedback@investools.com')</td>\n",
       "      <td>2002-01-29 23:20:55</td>\n",
       "      <td>INVESTools Advisory\\nA Free Digest of Trusted ...</td>\n",
       "      <td>investools advisory free digest trusted invest...</td>\n",
       "    </tr>\n",
       "    <tr>\n",
       "      <th>1</th>\n",
       "      <td>&lt;1512159.1075863666797.JavaMail.evans@thyme&gt;</td>\n",
       "      <td>('richard.sanders@enron.com')</td>\n",
       "      <td>('richard.sanders@enron.com')</td>\n",
       "      <td>2000-09-20 19:07:00</td>\n",
       "      <td>----- Forwarded by Richard B Sanders/HOU/ECT o...</td>\n",
       "      <td>forwarded richard b sanders hou ect pm justin ...</td>\n",
       "    </tr>\n",
       "    <tr>\n",
       "      <th>2</th>\n",
       "      <td>&lt;26118676.1075862176383.JavaMail.evans@thyme&gt;</td>\n",
       "      <td>('m..love@enron.com')</td>\n",
       "      <td>('m..love@enron.com')</td>\n",
       "      <td>2001-10-30 16:15:17</td>\n",
       "      <td>hey you are not wearing your target purple shi...</td>\n",
       "      <td>hey wearing target purple shirt today mine wan...</td>\n",
       "    </tr>\n",
       "    <tr>\n",
       "      <th>3</th>\n",
       "      <td>&lt;10369289.1075860831062.JavaMail.evans@thyme&gt;</td>\n",
       "      <td>('leslie.milosevich@kp.org')</td>\n",
       "      <td>('leslie.milosevich@kp.org')</td>\n",
       "      <td>2002-01-30 17:54:18</td>\n",
       "      <td>Leslie Milosevich\\n1042 Santa Clara Avenue\\nAl...</td>\n",
       "      <td>leslie milosevich santa clara avenue alameda c...</td>\n",
       "    </tr>\n",
       "    <tr>\n",
       "      <th>4</th>\n",
       "      <td>&lt;26728895.1075860815046.JavaMail.evans@thyme&gt;</td>\n",
       "      <td>('rtwait@graphicaljazz.com')</td>\n",
       "      <td>('rtwait@graphicaljazz.com')</td>\n",
       "      <td>2002-01-30 19:36:01</td>\n",
       "      <td>Rini Twait\\n1010 E 5th Ave\\nLongmont, CO 80501...</td>\n",
       "      <td>rini twait e th ave longmont co rtwait graphic...</td>\n",
       "    </tr>\n",
       "  </tbody>\n",
       "</table>\n",
       "</div>"
      ],
      "text/plain": [
       "                                      Message-ID  \\\n",
       "0   <8345058.1075840404046.JavaMail.evans@thyme>   \n",
       "1   <1512159.1075863666797.JavaMail.evans@thyme>   \n",
       "2  <26118676.1075862176383.JavaMail.evans@thyme>   \n",
       "3  <10369289.1075860831062.JavaMail.evans@thyme>   \n",
       "4  <26728895.1075860815046.JavaMail.evans@thyme>   \n",
       "\n",
       "                              From                               To  \\\n",
       "0  ('advdfeedback@investools.com')  ('advdfeedback@investools.com')   \n",
       "1    ('richard.sanders@enron.com')    ('richard.sanders@enron.com')   \n",
       "2            ('m..love@enron.com')            ('m..love@enron.com')   \n",
       "3     ('leslie.milosevich@kp.org')     ('leslie.milosevich@kp.org')   \n",
       "4     ('rtwait@graphicaljazz.com')     ('rtwait@graphicaljazz.com')   \n",
       "\n",
       "                  Date                                            content  \\\n",
       "0  2002-01-29 23:20:55  INVESTools Advisory\\nA Free Digest of Trusted ...   \n",
       "1  2000-09-20 19:07:00  ----- Forwarded by Richard B Sanders/HOU/ECT o...   \n",
       "2  2001-10-30 16:15:17  hey you are not wearing your target purple shi...   \n",
       "3  2002-01-30 17:54:18  Leslie Milosevich\\n1042 Santa Clara Avenue\\nAl...   \n",
       "4  2002-01-30 19:36:01  Rini Twait\\n1010 E 5th Ave\\nLongmont, CO 80501...   \n",
       "\n",
       "                                       clean_content  \n",
       "0  investools advisory free digest trusted invest...  \n",
       "1  forwarded richard b sanders hou ect pm justin ...  \n",
       "2  hey wearing target purple shirt today mine wan...  \n",
       "3  leslie milosevich santa clara avenue alameda c...  \n",
       "4  rini twait e th ave longmont co rtwait graphic...  "
      ]
     },
     "execution_count": 106,
     "metadata": {},
     "output_type": "execute_result"
    }
   ],
   "source": [
    "# Create a list of terms to search for\n",
    "searchfor = ['enron stock', 'sell stock', 'stock bonus', 'sell enron stock']\n",
    "\n",
    "# Filter cleaned emails on searchfor list and select from df \n",
    "filtered_emails = df[df.clean_content.str.contains('|'.join(searchfor), na=False)]\n",
    "filtered_emails.head()"
   ]
  },
  {
   "cell_type": "markdown",
   "metadata": {},
   "source": [
    "**By joining the search terms we can search on a multitude of terms in the dataset with minimal effort.**"
   ]
  },
  {
   "cell_type": "markdown",
   "metadata": {},
   "source": [
    "### Creating a flag on search terms"
   ]
  },
  {
   "cell_type": "code",
   "execution_count": 107,
   "metadata": {},
   "outputs": [
    {
     "name": "stdout",
     "output_type": "stream",
     "text": [
      "0    1776\n",
      "1     314\n",
      "Name: flag, dtype: int64\n"
     ]
    }
   ],
   "source": [
    "# Create flag variable where the emails match the searchfor terms\n",
    "df['flag'] = np.where((df['clean_content'].str.contains('|'.join(searchfor)) == True), 1, 0)\n",
    "\n",
    "# Count the values of the flag variable\n",
    "count = df['flag'].value_counts()\n",
    "print(count)"
   ]
  },
  {
   "cell_type": "markdown",
   "metadata": {},
   "source": [
    "## Text Mining to Detect Fraud"
   ]
  },
  {
   "cell_type": "markdown",
   "metadata": {},
   "source": [
    "### Text Preprocessing\n"
   ]
  },
  {
   "cell_type": "code",
   "execution_count": 108,
   "metadata": {},
   "outputs": [],
   "source": [
    "# import nltk\n",
    "# nltk.download()"
   ]
  },
  {
   "cell_type": "code",
   "execution_count": 109,
   "metadata": {},
   "outputs": [],
   "source": [
    "# Define stopwords to exclude\n",
    "stop = set(stopwords.words('english'))\n",
    "stop.update((\"to\", \"cc\", \"subject\", \"http\", \"from\", \"sent\", \"ect\", \"u\", \"fwd\", \"www\", \"com\", 'html'))\n",
    "\n",
    "# Define punctuations to exclude and lemmatizer\n",
    "exclude = set(string.punctuation)"
   ]
  },
  {
   "cell_type": "markdown",
   "metadata": {},
   "source": [
    "### Cleaning text data\n",
    "\n",
    "Now that you've defined the **stopwords and punctuations**, let's use these to clean our enron emails in the dataframe `df` further. The lists containing stopwords and punctuations are available under `stop` and `exclude` There are a few more steps to take before you have cleaned data, such as **\"lemmatization\"** of words, and **stemming the verbs**. The verbs in the email data are already stemmed, and the lemmatization is already done."
   ]
  },
  {
   "cell_type": "code",
   "execution_count": 110,
   "metadata": {},
   "outputs": [],
   "source": [
    "# Import the lemmatizer from nltk\n",
    "lemma = WordNetLemmatizer()\n",
    "\n",
    "def clean(text, stop):\n",
    "    text = str(text).rstrip()\n",
    "    stop_free = \" \".join([i for i in text.lower().split() if((i not in stop) and (not i.isdigit()))])\n",
    "    punc_free = ''.join(i for i in stop_free if i not in exclude)\n",
    "    normalized = \" \".join(lemma.lemmatize(i) for i in punc_free.split())      \n",
    "    return normalized"
   ]
  },
  {
   "cell_type": "code",
   "execution_count": 111,
   "metadata": {},
   "outputs": [],
   "source": [
    "# Clean the emails in df and print results\n",
    "text_clean=[]\n",
    "for text in df['clean_content']:\n",
    "    text_clean.append(clean(text, stop).split())    "
   ]
  },
  {
   "cell_type": "code",
   "execution_count": 112,
   "metadata": {},
   "outputs": [
    {
     "data": {
      "text/plain": [
       "['investools',\n",
       " 'advisory',\n",
       " 'free',\n",
       " 'digest',\n",
       " 'trusted',\n",
       " 'investment',\n",
       " 'advice',\n",
       " 'unsubscribe',\n",
       " 'free',\n",
       " 'newsletter']"
      ]
     },
     "execution_count": 112,
     "metadata": {},
     "output_type": "execute_result"
    }
   ],
   "source": [
    "text_clean[0][:10]"
   ]
  },
  {
   "cell_type": "markdown",
   "metadata": {},
   "source": [
    "**After text preprocessing, including splitting the text into words, removing stopwords and punctuations, and lemmatizing your words, we then run a topic model on this data."
   ]
  },
  {
   "cell_type": "markdown",
   "metadata": {},
   "source": [
    "## Topic modeling on fraud\n",
    "\n",
    "1. Discovering topics in text data\n",
    "1. \"What is the text about\"\n",
    "1. Conceptually similar to clustering data\n",
    "1. Compare topics of fraud cases to non-fraud cases and use as a feature or flag\n",
    "1. Or.. is there a particular topic in the data that seems to point to fraud?"
   ]
  },
  {
   "cell_type": "markdown",
   "metadata": {},
   "source": [
    "### Create dictionary and corpus\n",
    "\n",
    "In order to run an LDA topic model, you first need to **define your dictionary and corpus** first, as those need to go into the model. You're going to continue working on the cleaned text data that you've done in the previous exercises. That means that `text_clean` is available for you already to continue working with, and you'll use that to create your dictionary and corpus.\n",
    "\n",
    "This exercise will take a little longer to execute than usual.\n",
    "\n",
    "**Instructions**\n",
    "\n",
    "* Import the gensim package and corpora from gensim separately.\n",
    "* Define your dictionary by running the correct function on your clean data `text_clean`.\n",
    "* Define the corpus by running `doc2bow` on each piece of text in `text_clean`.\n",
    "* Print your results so you can see `dictionary` and `corpus` look like."
   ]
  },
  {
   "cell_type": "code",
   "execution_count": 113,
   "metadata": {},
   "outputs": [],
   "source": [
    "# Define the dictionary\n",
    "dictionary = corpora.Dictionary(text_clean)\n",
    "\n",
    "# Define the corpus \n",
    "corpus = [dictionary.doc2bow(text) for text in text_clean]"
   ]
  },
  {
   "cell_type": "code",
   "execution_count": 114,
   "metadata": {},
   "outputs": [
    {
     "name": "stdout",
     "output_type": "stream",
     "text": [
      "Dictionary(33980 unique tokens: ['account', 'accurate', 'acquiring', 'acre', 'address']...)\n"
     ]
    }
   ],
   "source": [
    "print(dictionary)"
   ]
  },
  {
   "cell_type": "code",
   "execution_count": 115,
   "metadata": {},
   "outputs": [
    {
     "data": {
      "text/plain": [
       "[(0, 2),\n",
       " (1, 1),\n",
       " (2, 1),\n",
       " (3, 1),\n",
       " (4, 1),\n",
       " (5, 6),\n",
       " (6, 1),\n",
       " (7, 2),\n",
       " (8, 4),\n",
       " (9, 1)]"
      ]
     },
     "execution_count": 115,
     "metadata": {},
     "output_type": "execute_result"
    }
   ],
   "source": [
    "corpus[0][:10]"
   ]
  },
  {
   "cell_type": "markdown",
   "metadata": {},
   "source": [
    "**These are the two ingredients you need to run your topic model on the enron emails. You are now ready for the final step and create your first fraud detection topic model.**"
   ]
  },
  {
   "cell_type": "markdown",
   "metadata": {},
   "source": [
    "### LDA model\n",
    "\n",
    "Now it's time to **build the LDA model**. Using the `dictionary` and `corpus`, you are ready to discover which topics are present in the Enron emails. With a quick print of words assigned to the topics, you can do a first exploration about whether there are any obvious topics that jump out. Be mindful that the topic model is **heavy to calculate** so it will take a while to run. Let's give it a try!\n",
    "\n",
    "**Instructions**\n",
    "\n",
    "* Build the LDA model from gensim models, by inserting the `corpus` and `dictionary`.\n",
    "* Save the 5 topics by running `print_topics` on the model results, and select the top 5 words."
   ]
  },
  {
   "cell_type": "code",
   "execution_count": 116,
   "metadata": {},
   "outputs": [
    {
     "name": "stdout",
     "output_type": "stream",
     "text": [
      "(0, '0.050*\"image\" + 0.014*\"se\" + 0.014*\"ne\" + 0.013*\"sp\" + 0.013*\"wscc\"')\n",
      "(1, '0.008*\"enron\" + 0.008*\"e\" + 0.007*\"mail\" + 0.007*\"email\" + 0.006*\"schedule\"')\n",
      "(2, '0.038*\"enron\" + 0.009*\"company\" + 0.007*\"hou\" + 0.005*\"development\" + 0.005*\"energy\"')\n",
      "(3, '0.043*\"td\" + 0.031*\"net\" + 0.029*\"money\" + 0.028*\"tr\" + 0.025*\"width\"')\n",
      "(4, '0.017*\"enron\" + 0.012*\"message\" + 0.012*\"pm\" + 0.011*\"original\" + 0.006*\"thanks\"')\n"
     ]
    }
   ],
   "source": [
    "# Define the LDA model\n",
    "ldamodel = gensim.models.ldamodel.LdaModel(corpus, num_topics=5, id2word=dictionary, passes=5)\n",
    "\n",
    "# Save the topics and top 5 words\n",
    "topics = ldamodel.print_topics(num_words=5)\n",
    "\n",
    "# Print the results\n",
    "for topic in topics:\n",
    "    print(topic)"
   ]
  },
  {
   "cell_type": "markdown",
   "metadata": {},
   "source": [
    "**We created a topic model on the Enron email data. However, the print of words doesn't really give enough information to find a topic that might show signs of fraud. Therefore we need to closely inspect the model results in order to be able to detect anything that can be related to fraud in the data.**"
   ]
  },
  {
   "cell_type": "markdown",
   "metadata": {},
   "source": [
    "## Flagging fraud based on topic"
   ]
  },
  {
   "cell_type": "markdown",
   "metadata": {},
   "source": [
    "#### Explanability - To understand topics, you need to visualize and peer into the black box (interpretability)\n"
   ]
  },
  {
   "cell_type": "code",
   "execution_count": 117,
   "metadata": {},
   "outputs": [],
   "source": [
    "lda_display = pyLDAvis.gensim.prepare(ldamodel, corpus, dictionary, sort_topics=False)"
   ]
  },
  {
   "cell_type": "code",
   "execution_count": 118,
   "metadata": {},
   "outputs": [
    {
     "data": {
      "text/html": [
       "\n",
       "<link rel=\"stylesheet\" type=\"text/css\" href=\"https://cdn.rawgit.com/bmabey/pyLDAvis/files/ldavis.v1.0.0.css\">\n",
       "\n",
       "\n",
       "<div id=\"ldavis_el489671404557271036968295210722\"></div>\n",
       "<script type=\"text/javascript\">\n",
       "\n",
       "var ldavis_el489671404557271036968295210722_data = {\"mdsDat\": {\"x\": [0.15112195744928636, -0.08499040872909487, -0.10710493027192367, 0.21819078003211012, -0.17721739848037818], \"y\": [-0.2512306835150279, 0.011635168807112208, 0.0020792428403646306, 0.20553460396028772, 0.03198166790726354], \"topics\": [1, 2, 3, 4, 5], \"cluster\": [1, 1, 1, 1, 1], \"Freq\": [5.400313854217529, 10.209098815917969, 71.12924194335938, 3.5286757946014404, 9.732671737670898]}, \"tinfo\": {\"Term\": [\"image\", \"enron\", \"money\", \"net\", \"td\", \"pm\", \"tr\", \"message\", \"width\", \"e\", \"original\", \"class\", \"se\", \"please\", \"see\", \"ne\", \"right\", \"sp\", \"corp\", \"click\", \"bakernet\", \"time\", \"day\", \"p\", \"thanks\", \"wscc\", \"mail\", \"table\", \"height\", \"gas\", \"wscc\", \"ctr\", \"syncrasy\", \"deviation\", \"hp\", \"npcc\", \"ecar\", \"std\", \"frcc\", \"aaaaaaaaaaaaaaaaaaaaaaaaaaaaaaaaaaaaaaaaaaaaaaaaaaaaaaaaaaaaaaaaaaaaaaaaaaaa\", \"serc\", \"maac\", \"enlarge\", \"mapp\", \"temp\", \"rk\", \"sw\", \"sp\", \"gt\", \"arctic\", \"min\", \"weingarten\", \"redshirt\", \"matrix\", \"apb\", \"nc\", \"div\", \"nw\", \"spp\", \"ima\", \"bakernet\", \"ne\", \"reg\", \"max\", \"image\", \"se\", \"range\", \"volatility\", \"delta\", \"click\", \"choice\", \"see\", \"mailto\", \"ct\", \"day\", \"p\", \"forecast\", \"standard\", \"main\", \"used\", \"hourahead\", \"adult\", \"tyrell\", \"epe\", \"enform\", \"pep\", \"detected\", \"parsing\", \"westdesk\", \"locate\", \"interchange\", \"txt\", \"assign\", \"preferred\", \"cherry\", \"kern\", \"wheel\", \"dun\", \"srrs\", \"borland\", \"curtailment\", \"reassigned\", \"emaillink\", \"svc\", \"itcapps\", \"initialize\", \"sample\", \"lucci\", \"lubbock\", \"tepc\", \"henderson\", \"businessweek\", \"log\", \"harrison\", \"nerc\", \"subscriber\", \"reservation\", \"aggies\", \"schedule\", \"tonight\", \"feedback\", \"army\", \"attack\", \"error\", \"iso\", \"beth\", \"season\", \"seller\", \"match\", \"ref\", \"game\", \"email\", \"mail\", \"request\", \"material\", \"scheduling\", \"hour\", \"customer\", \"final\", \"e\", \"click\", \"offer\", \"play\", \"available\", \"start\", \"message\", \"u\", \"time\", \"date\", \"name\", \"please\", \"enron\", \"may\", \"make\", \"go\", \"thank\", \"also\", \"one\", \"declared\", \"retirement\", \"donate\", \"expense\", \"profit\", \"enrononline\", \"bankruptcy\", \"wiped\", \"dealing\", \"devastated\", \"crisis\", \"financially\", \"repair\", \"aggressively\", \"underhanded\", \"afford\", \"urging\", \"relief\", \"netted\", \"pocketbook\", \"income\", \"mr\", \"astronomical\", \"hurt\", \"reported\", \"bankrupt\", \"urge\", \"sincerely\", \"lay\", \"dynergy\", \"development\", \"million\", \"said\", \"company\", \"stock\", \"board\", \"ken\", \"largest\", \"analyst\", \"buying\", \"selling\", \"partnership\", \"sold\", \"earnings\", \"accounting\", \"thousand\", \"hou\", \"employee\", \"skilling\", \"enron\", \"fund\", \"na\", \"share\", \"investor\", \"state\", \"many\", \"utility\", \"billion\", \"plan\", \"financial\", \"pay\", \"year\", \"energy\", \"business\", \"consumer\", \"california\", \"new\", \"credit\", \"made\", \"say\", \"would\", \"power\", \"trading\", \"please\", \"corp\", \"market\", \"time\", \"last\", \"e\", \"may\", \"one\", \"pm\", \"td\", \"width\", \"img\", \"src\", \"align\", \"script\", \"href\", \"nbsp\", \"scoop\", \"bodydefault\", \"cellpadding\", \"cellspacing\", \"height\", \"font\", \"valign\", \"amazon\", \"bgcolor\", \"colspan\", \"tr\", \"stocklookup\", \"rect\", \"coords\", \"linkbarseperator\", \"br\", \"classmate\", \"gif\", \"ffffff\", \"underscore\", \"tab\", \"realtime\", \"wrap\", \"table\", \"gift\", \"class\", \"border\", \"net\", \"money\", \"clear\", \"image\", \"center\", \"right\", \"end\", \"start\", \"f\", \"devon\", \"wj\", \"rfp\", \"outage\", \"sfs\", \"exotica\", \"euci\", \"barbo\", \"hanagriff\", \"reliantenergy\", \"tagline\", \"backout\", \"breese\", \"neumin\", \"sat\", \"eei\", \"epenergy\", \"kowalke\", \"brochure\", \"powersrc\", \"coral\", \"buchanan\", \"lindberg\", \"kristen\", \"fran\", \"darrell\", \"wyndham\", \"schoolcraft\", \"fri\", \"demoes\", \"pt\", \"bt\", \"kimberly\", \"server\", \"thru\", \"lynn\", \"savita\", \"kim\", \"original\", \"watson\", \"scheduled\", \"conference\", \"message\", \"fw\", \"blair\", \"xl\", \"january\", \"pm\", \"recipient\", \"doc\", \"amy\", \"team\", \"intended\", \"thanks\", \"mark\", \"monday\", \"gas\", \"john\", \"enron\", \"know\", \"system\", \"corp\", \"e\", \"let\", \"market\", \"time\", \"service\", \"please\", \"file\", \"would\", \"like\", \"energy\"], \"Freq\": [1484.0, 13079.0, 781.0, 800.0, 668.0, 1319.0, 442.0, 972.0, 391.0, 1722.0, 679.0, 353.0, 390.0, 1926.0, 624.0, 351.0, 523.0, 330.0, 1396.0, 521.0, 322.0, 1343.0, 857.0, 654.0, 890.0, 302.0, 667.0, 257.0, 248.0, 898.0, 301.5328369140625, 184.09048461914062, 184.09048461914062, 103.27336883544922, 210.3871307373047, 102.33177185058594, 102.33177185058594, 102.33177185058594, 92.11194610595703, 116.8918685913086, 92.53484344482422, 92.78756713867188, 103.04170989990234, 102.77814483642578, 95.54419708251953, 204.96409606933594, 209.4050750732422, 321.0718688964844, 39.003387451171875, 41.61552810668945, 103.49987030029297, 20.572978973388672, 20.57566261291504, 197.54067993164062, 32.64356994628906, 189.3209991455078, 76.68128204345703, 208.757568359375, 94.30201721191406, 21.43770980834961, 297.86407470703125, 322.7197265625, 113.669677734375, 93.9146957397461, 1186.24853515625, 332.9245910644531, 199.1044158935547, 175.62457275390625, 106.39205169677734, 224.75759887695312, 107.44441986083984, 204.29861450195312, 158.8533935546875, 124.40007019042969, 135.83670043945312, 128.34890747070312, 107.19232177734375, 110.89048767089844, 107.07038116455078, 105.8288803100586, 112.26300048828125, 85.0136947631836, 80.94601440429688, 68.17777252197266, 68.14881134033203, 80.20246124267578, 55.36777877807617, 52.92423629760742, 52.9208869934082, 43.199981689453125, 42.167301177978516, 55.5010986328125, 43.528717041015625, 103.3782730102539, 66.89958190917969, 69.57804107666016, 29.646757125854492, 28.977108001708984, 30.678855895996094, 30.401735305786133, 28.626893997192383, 28.95382308959961, 28.943540573120117, 27.93537712097168, 28.94447135925293, 30.393163681030273, 57.51032257080078, 27.57025909423828, 28.241682052612305, 27.136518478393555, 43.35836410522461, 96.63021850585938, 147.98043823242188, 83.2621078491211, 43.804893493652344, 55.19630432128906, 47.51804733276367, 39.92195510864258, 288.3092956542969, 78.11199188232422, 115.60742950439453, 72.85592651367188, 91.93754577636719, 120.1302719116211, 79.15070343017578, 92.92974853515625, 73.05732727050781, 113.62972259521484, 64.25332641601562, 86.59312438964844, 94.6832504272461, 299.515869140625, 337.7117004394531, 240.36334228515625, 100.81460571289062, 86.35044860839844, 119.34866333007812, 195.46385192871094, 153.63174438476562, 354.8938293457031, 186.8187713623047, 131.67674255371094, 94.21827697753906, 147.5896759033203, 120.18614196777344, 189.57656860351562, 177.05397033691406, 209.23367309570312, 151.86544799804688, 131.27301025390625, 211.1772918701172, 355.2843017578125, 156.23403930664062, 126.28142547607422, 122.0265884399414, 113.55260467529297, 124.06835174560547, 119.02413940429688, 291.37982177734375, 347.8646240234375, 288.55340576171875, 185.77671813964844, 301.3751220703125, 186.52210998535156, 453.8680114746094, 145.0174102783203, 169.88861083984375, 144.0880889892578, 217.8502655029297, 146.85647583007812, 145.91795349121094, 148.69549560546875, 141.29495239257812, 146.82859802246094, 150.4979248046875, 161.543212890625, 146.79220581054688, 142.18533325195312, 199.2586669921875, 703.4782104492188, 142.16998291015625, 162.40130615234375, 268.3352355957031, 155.7268829345703, 166.6865997314453, 200.73109436035156, 530.5757446289062, 110.16593170166016, 1633.555908203125, 1075.352783203125, 1255.3350830078125, 2845.285888671875, 1388.8546142578125, 405.5545654296875, 294.8219299316406, 260.5494079589844, 279.04351806640625, 224.7281036376953, 235.82791137695312, 247.7845458984375, 219.9206085205078, 218.7286376953125, 230.3286895751953, 182.10995483398438, 2164.904541015625, 1422.1295166015625, 267.8270263671875, 11973.7646484375, 724.4329223632812, 657.97509765625, 510.262939453125, 373.7770690917969, 706.4158325195312, 495.9951477050781, 432.8509521484375, 326.9824523925781, 683.74169921875, 590.6453857421875, 523.4028930664062, 1065.875244140625, 1459.9130859375, 818.8554077148438, 515.6310424804688, 699.8093872070312, 1333.882080078125, 624.9725952148438, 704.4728393554688, 509.1850280761719, 1136.2567138671875, 848.241455078125, 675.329345703125, 1425.489501953125, 1099.188720703125, 897.6682739257812, 916.7566528320312, 647.9114379882812, 987.5379638671875, 701.1229858398438, 665.1019287109375, 731.8943481445312, 666.7440795898438, 389.98406982421875, 194.67185974121094, 206.9057159423828, 199.8996124267578, 199.79388427734375, 175.7451934814453, 146.25941467285156, 123.18916320800781, 102.89383697509766, 85.64338684082031, 85.74095153808594, 245.52732849121094, 86.40563201904297, 53.97495651245117, 74.00350952148438, 48.0931396484375, 44.17055892944336, 432.70086669921875, 41.94879913330078, 41.94877624511719, 41.94877624511719, 34.33066940307617, 220.5359649658203, 35.18671417236328, 188.83619689941406, 27.30485725402832, 22.903467178344727, 24.154401779174805, 19.33917999267578, 69.88058471679688, 236.56585693359375, 48.36337661743164, 282.2624206542969, 144.05738830566406, 480.1217956542969, 453.5870056152344, 144.4156036376953, 256.7096252441406, 106.34196472167969, 95.25592803955078, 86.12288665771484, 74.1013412475586, 76.1829605102539, 101.59945678710938, 187.1686248779297, 62.83515167236328, 199.8699188232422, 62.08355712890625, 54.31803894042969, 54.84410858154297, 46.943572998046875, 46.58670425415039, 48.882450103759766, 38.85177993774414, 40.38240432739258, 39.3998908996582, 38.83671569824219, 115.78345489501953, 46.73348617553711, 31.404958724975586, 31.817821502685547, 40.46455764770508, 31.746429443359375, 34.81867599487305, 32.80057907104492, 40.09696578979492, 39.343177795410156, 32.325008392333984, 70.17733001708984, 23.821372985839844, 62.42258834838867, 121.10908508300781, 23.337764739990234, 80.8116455078125, 34.99772644042969, 90.69830322265625, 63.02611541748047, 130.6299591064453, 92.80683898925781, 47.10788345336914, 158.23611450195312, 490.05181884765625, 93.62329864501953, 149.6011505126953, 198.2943572998047, 528.5701293945312, 115.53172302246094, 58.154022216796875, 66.37228393554688, 166.2161865234375, 504.4436950683594, 112.43504333496094, 133.0303497314453, 67.02545166015625, 214.27442932128906, 111.89878845214844, 275.0382080078125, 192.97088623046875, 140.6700439453125, 222.61802673339844, 167.39926147460938, 743.3421020507812, 220.2929229736328, 153.36074829101562, 238.9776153564453, 233.41517639160156, 168.85385131835938, 191.5092010498047, 194.06771850585938, 158.0862274169922, 187.58099365234375, 126.59545135498047, 146.6095733642578, 138.5426483154297, 140.0477752685547], \"Total\": [1484.0, 13079.0, 781.0, 800.0, 668.0, 1319.0, 442.0, 972.0, 391.0, 1722.0, 679.0, 353.0, 390.0, 1926.0, 624.0, 351.0, 523.0, 330.0, 1396.0, 521.0, 322.0, 1343.0, 857.0, 654.0, 890.0, 302.0, 667.0, 257.0, 248.0, 898.0, 302.5699768066406, 185.06541442871094, 185.06541442871094, 104.12045288085938, 212.23497009277344, 103.24315643310547, 103.24315643310547, 103.24315643310547, 93.01539611816406, 118.17626190185547, 93.57579803466797, 93.85384368896484, 104.41574096679688, 104.22541809082031, 96.90072631835938, 208.2415313720703, 215.0089569091797, 330.1824645996094, 40.18737030029297, 43.15991973876953, 107.65128326416016, 21.420839309692383, 21.424959182739258, 206.46510314941406, 34.20389175415039, 198.73362731933594, 80.76939392089844, 220.03997802734375, 99.40533447265625, 22.67587661743164, 322.184326171875, 351.22247314453125, 125.1899642944336, 102.7211685180664, 1484.3779296875, 390.2289733886719, 239.81439208984375, 209.57351684570312, 119.9778060913086, 521.3212280273438, 129.30624389648438, 624.9031982421875, 351.96368408203125, 224.19158935546875, 857.7473754882812, 654.0120239257812, 148.5303497314453, 227.76174926757812, 155.53802490234375, 301.2429504394531, 113.07044982910156, 85.95069122314453, 81.88195037841797, 68.97672271728516, 68.95314025878906, 81.1914291381836, 56.16594314575195, 53.72416305541992, 53.722206115722656, 44.00249481201172, 42.95597839355469, 56.539554595947266, 44.35651779174805, 105.6123046875, 68.38944244384766, 71.18994903564453, 30.45406723022461, 29.77233123779297, 31.52345848083496, 31.243242263793945, 29.42059326171875, 29.77031135559082, 29.761810302734375, 28.725261688232422, 29.76371955871582, 31.259889602661133, 59.158023834228516, 28.364229202270508, 29.05595588684082, 27.924243927001953, 44.637413024902344, 100.86811828613281, 156.77430725097656, 88.19180297851562, 45.618797302246094, 57.976356506347656, 49.622013092041016, 41.57746887207031, 334.69049072265625, 84.86808776855469, 129.70883178710938, 80.0029067993164, 103.22367858886719, 142.47157287597656, 89.92152404785156, 109.2801513671875, 82.61972045898438, 143.1665802001953, 71.6773681640625, 104.08614349365234, 117.03690338134766, 536.9287109375, 667.1638793945312, 561.5217895507812, 144.59971618652344, 115.63185119628906, 203.39796447753906, 473.59783935546875, 339.88592529296875, 1722.85205078125, 521.3212280273438, 291.9039001464844, 141.45542907714844, 395.48388671875, 276.8830261230469, 972.592041015625, 827.2762451171875, 1343.7974853515625, 559.85595703125, 389.2424621582031, 1926.69970703125, 13079.0263671875, 965.4567260742188, 538.7433471679688, 450.81072998046875, 344.55865478515625, 850.2284545898438, 873.1441040039062, 291.984619140625, 348.60546875, 289.1744079589844, 186.33688354492188, 302.32305908203125, 187.13351440429688, 455.4830322265625, 145.5537109375, 170.51734924316406, 144.6216583251953, 218.6577606201172, 147.4015350341797, 146.4621124267578, 149.2511749267578, 141.8258514404297, 147.3813934326172, 151.06979370117188, 162.15907287597656, 147.3536834716797, 142.72972106933594, 200.0229034423828, 706.1964111328125, 142.71957397460938, 163.0308380126953, 269.39324951171875, 156.37193298339844, 167.40902709960938, 201.62342834472656, 532.9378051757812, 110.66260528564453, 1645.689208984375, 1081.3729248046875, 1266.8438720703125, 2904.65185546875, 1407.9893798828125, 408.18463134765625, 296.2869873046875, 261.7718200683594, 280.8838806152344, 225.74708557128906, 237.07626342773438, 249.22576904296875, 221.02772521972656, 220.15713500976562, 232.0196533203125, 183.01942443847656, 2256.76318359375, 1479.589111328125, 270.5222473144531, 13079.0263671875, 748.2430419921875, 677.732666015625, 524.4714965820312, 381.31719970703125, 740.5147705078125, 513.2288208007812, 446.1449279785156, 333.175048828125, 718.5615234375, 618.7335205078125, 546.3988037109375, 1162.8719482421875, 1643.8118896484375, 890.4810180664062, 543.6801147460938, 759.9757080078125, 1545.291259765625, 677.7500610351562, 782.8265380859375, 542.2461547851562, 1394.9210205078125, 1004.8140869140625, 763.0429077148438, 1926.69970703125, 1396.08544921875, 1167.0228271484375, 1343.7974853515625, 782.893310546875, 1722.85205078125, 965.4567260742188, 873.1441040039062, 1319.9180908203125, 668.1388549804688, 391.14422607421875, 195.68531799316406, 208.00926208496094, 200.96849060058594, 200.90357971191406, 176.83192443847656, 147.23968505859375, 124.12251281738281, 103.8129653930664, 86.62507629394531, 86.72978973388672, 248.65476989746094, 87.71206665039062, 54.99103927612305, 75.44824981689453, 49.07236862182617, 45.11210250854492, 442.1230773925781, 42.867916107177734, 42.86790084838867, 42.86790084838867, 35.249786376953125, 226.44033813476562, 36.28640365600586, 194.75982666015625, 28.23076629638672, 23.82258415222168, 25.153120040893555, 20.266902923583984, 73.24202728271484, 257.6366882324219, 52.80875778198242, 353.53387451171875, 184.40878295898438, 800.6580200195312, 781.0504760742188, 238.8953399658203, 1484.3779296875, 274.970703125, 523.9691772460938, 392.490234375, 276.8830261230469, 378.323974609375, 102.74610137939453, 189.3395538330078, 63.777462005615234, 202.9727020263672, 63.04735565185547, 55.30482864379883, 55.92637634277344, 47.879249572753906, 47.52593994140625, 49.88215637207031, 39.71738052368164, 41.28626251220703, 40.29783630371094, 39.74073791503906, 118.60940551757812, 47.98094940185547, 32.27986145019531, 32.71515655517578, 41.609764099121094, 32.669517517089844, 35.84148406982422, 33.7795295715332, 41.33684539794922, 40.56633377075195, 33.37384033203125, 72.67984771728516, 24.72921371459961, 64.80345153808594, 125.82974243164062, 24.256851196289062, 84.03584289550781, 36.426822662353516, 96.21707153320312, 66.51129913330078, 146.51686096191406, 103.22635650634766, 50.013973236083984, 190.3365478515625, 679.083740234375, 112.15438842773438, 199.04014587402344, 280.86053466796875, 972.592041015625, 150.69570922851562, 66.27885437011719, 79.90550231933594, 275.958740234375, 1319.9180908203125, 168.03268432617188, 219.46316528320312, 81.50019836425781, 488.822021484375, 180.03211975097656, 890.7559814453125, 509.3930969238281, 336.1213073730469, 898.7062377929688, 503.3171691894531, 13079.0263671875, 942.7291259765625, 448.83203125, 1396.08544921875, 1722.85205078125, 647.4607543945312, 1167.0228271484375, 1343.7974853515625, 775.0657958984375, 1926.69970703125, 300.1174621582031, 1394.9210205078125, 746.9229125976562, 1643.8118896484375], \"Category\": [\"Default\", \"Default\", \"Default\", \"Default\", \"Default\", \"Default\", \"Default\", \"Default\", \"Default\", \"Default\", \"Default\", \"Default\", \"Default\", \"Default\", \"Default\", \"Default\", \"Default\", \"Default\", \"Default\", \"Default\", \"Default\", \"Default\", \"Default\", \"Default\", \"Default\", \"Default\", \"Default\", \"Default\", \"Default\", \"Default\", \"Topic1\", \"Topic1\", \"Topic1\", \"Topic1\", \"Topic1\", \"Topic1\", \"Topic1\", \"Topic1\", \"Topic1\", \"Topic1\", \"Topic1\", \"Topic1\", \"Topic1\", \"Topic1\", \"Topic1\", \"Topic1\", \"Topic1\", \"Topic1\", \"Topic1\", \"Topic1\", \"Topic1\", \"Topic1\", \"Topic1\", \"Topic1\", \"Topic1\", \"Topic1\", \"Topic1\", \"Topic1\", \"Topic1\", \"Topic1\", \"Topic1\", \"Topic1\", \"Topic1\", \"Topic1\", \"Topic1\", \"Topic1\", \"Topic1\", \"Topic1\", \"Topic1\", \"Topic1\", \"Topic1\", \"Topic1\", \"Topic1\", \"Topic1\", \"Topic1\", \"Topic1\", \"Topic1\", \"Topic1\", \"Topic1\", \"Topic1\", \"Topic2\", \"Topic2\", \"Topic2\", \"Topic2\", \"Topic2\", \"Topic2\", \"Topic2\", \"Topic2\", \"Topic2\", \"Topic2\", \"Topic2\", \"Topic2\", \"Topic2\", \"Topic2\", \"Topic2\", \"Topic2\", \"Topic2\", \"Topic2\", \"Topic2\", \"Topic2\", \"Topic2\", \"Topic2\", \"Topic2\", \"Topic2\", \"Topic2\", \"Topic2\", \"Topic2\", \"Topic2\", \"Topic2\", \"Topic2\", \"Topic2\", \"Topic2\", \"Topic2\", \"Topic2\", \"Topic2\", \"Topic2\", \"Topic2\", \"Topic2\", \"Topic2\", \"Topic2\", \"Topic2\", \"Topic2\", \"Topic2\", \"Topic2\", \"Topic2\", \"Topic2\", \"Topic2\", \"Topic2\", \"Topic2\", \"Topic2\", \"Topic2\", \"Topic2\", \"Topic2\", \"Topic2\", \"Topic2\", \"Topic2\", \"Topic2\", \"Topic2\", \"Topic2\", \"Topic2\", \"Topic2\", \"Topic2\", \"Topic2\", \"Topic2\", \"Topic2\", \"Topic2\", \"Topic2\", \"Topic2\", \"Topic2\", \"Topic2\", \"Topic2\", \"Topic2\", \"Topic2\", \"Topic2\", \"Topic2\", \"Topic2\", \"Topic2\", \"Topic2\", \"Topic3\", \"Topic3\", \"Topic3\", \"Topic3\", \"Topic3\", \"Topic3\", \"Topic3\", \"Topic3\", \"Topic3\", \"Topic3\", \"Topic3\", \"Topic3\", \"Topic3\", \"Topic3\", \"Topic3\", \"Topic3\", \"Topic3\", \"Topic3\", \"Topic3\", \"Topic3\", \"Topic3\", \"Topic3\", \"Topic3\", \"Topic3\", \"Topic3\", \"Topic3\", \"Topic3\", \"Topic3\", \"Topic3\", \"Topic3\", \"Topic3\", \"Topic3\", \"Topic3\", \"Topic3\", \"Topic3\", \"Topic3\", \"Topic3\", \"Topic3\", \"Topic3\", \"Topic3\", \"Topic3\", \"Topic3\", \"Topic3\", \"Topic3\", \"Topic3\", \"Topic3\", \"Topic3\", \"Topic3\", \"Topic3\", \"Topic3\", \"Topic3\", \"Topic3\", \"Topic3\", \"Topic3\", \"Topic3\", \"Topic3\", \"Topic3\", \"Topic3\", \"Topic3\", \"Topic3\", \"Topic3\", \"Topic3\", \"Topic3\", \"Topic3\", \"Topic3\", \"Topic3\", \"Topic3\", \"Topic3\", \"Topic3\", \"Topic3\", \"Topic3\", \"Topic3\", \"Topic3\", \"Topic3\", \"Topic3\", \"Topic3\", \"Topic3\", \"Topic3\", \"Topic3\", \"Topic3\", \"Topic3\", \"Topic3\", \"Topic4\", \"Topic4\", \"Topic4\", \"Topic4\", \"Topic4\", \"Topic4\", \"Topic4\", \"Topic4\", \"Topic4\", \"Topic4\", \"Topic4\", \"Topic4\", \"Topic4\", \"Topic4\", \"Topic4\", \"Topic4\", \"Topic4\", \"Topic4\", \"Topic4\", \"Topic4\", \"Topic4\", \"Topic4\", \"Topic4\", \"Topic4\", \"Topic4\", \"Topic4\", \"Topic4\", \"Topic4\", \"Topic4\", \"Topic4\", \"Topic4\", \"Topic4\", \"Topic4\", \"Topic4\", \"Topic4\", \"Topic4\", \"Topic4\", \"Topic4\", \"Topic4\", \"Topic4\", \"Topic4\", \"Topic4\", \"Topic4\", \"Topic4\", \"Topic5\", \"Topic5\", \"Topic5\", \"Topic5\", \"Topic5\", \"Topic5\", \"Topic5\", \"Topic5\", \"Topic5\", \"Topic5\", \"Topic5\", \"Topic5\", \"Topic5\", \"Topic5\", \"Topic5\", \"Topic5\", \"Topic5\", \"Topic5\", \"Topic5\", \"Topic5\", \"Topic5\", \"Topic5\", \"Topic5\", \"Topic5\", \"Topic5\", \"Topic5\", \"Topic5\", \"Topic5\", \"Topic5\", \"Topic5\", \"Topic5\", \"Topic5\", \"Topic5\", \"Topic5\", \"Topic5\", \"Topic5\", \"Topic5\", \"Topic5\", \"Topic5\", \"Topic5\", \"Topic5\", \"Topic5\", \"Topic5\", \"Topic5\", \"Topic5\", \"Topic5\", \"Topic5\", \"Topic5\", \"Topic5\", \"Topic5\", \"Topic5\", \"Topic5\", \"Topic5\", \"Topic5\", \"Topic5\", \"Topic5\", \"Topic5\", \"Topic5\", \"Topic5\", \"Topic5\", \"Topic5\", \"Topic5\", \"Topic5\", \"Topic5\", \"Topic5\", \"Topic5\", \"Topic5\", \"Topic5\", \"Topic5\", \"Topic5\", \"Topic5\", \"Topic5\"], \"logprob\": [30.0, 29.0, 28.0, 27.0, 26.0, 25.0, 24.0, 23.0, 22.0, 21.0, 20.0, 19.0, 18.0, 17.0, 16.0, 15.0, 14.0, 13.0, 12.0, 11.0, 10.0, 9.0, 8.0, 7.0, 6.0, 5.0, 4.0, 3.0, 2.0, 1.0, -4.369500160217285, -4.8628997802734375, -4.8628997802734375, -5.440999984741211, -4.729400157928467, -5.450099945068359, -5.450099945068359, -5.450099945068359, -5.555300235748291, -5.3171000480651855, -5.55079984664917, -5.547999858856201, -5.44320011138916, -5.445799827575684, -5.518799781799316, -4.755499839782715, -4.734099864959717, -4.306700229644775, -6.414700031280518, -6.349899768829346, -5.438799858093262, -7.0543999671936035, -7.054200172424316, -4.792399883270264, -6.592700004577637, -4.83489990234375, -5.738699913024902, -4.737199783325195, -5.531799793243408, -7.013199806213379, -4.381700038909912, -4.301599979400635, -5.34499979019165, -5.535999774932861, -2.999799966812134, -4.270400047302246, -4.7845001220703125, -4.909999847412109, -5.411200046539307, -4.663300037384033, -5.401400089263916, -4.758800029754639, -5.01039981842041, -5.254799842834473, -5.166900157928467, -5.223599910736084, -5.40369987487793, -5.369800090789795, -5.404900074005127, -5.416500091552734, -5.99429988861084, -6.27239990234375, -6.321400165557861, -6.493000030517578, -6.493500232696533, -6.330599784851074, -6.701200008392334, -6.746300220489502, -6.746399879455566, -6.9492998123168945, -6.973499774932861, -6.698800086975098, -6.941699981689453, -6.0767998695373535, -6.51200008392334, -6.472700119018555, -7.325799942016602, -7.348700046539307, -7.291600227355957, -7.3007001876831055, -7.360799789428711, -7.3495001792907715, -7.349800109863281, -7.385300159454346, -7.349800109863281, -7.300899982452393, -6.6631999015808105, -7.398399829864502, -7.3744001388549805, -7.414299964904785, -6.945700168609619, -6.1442999839782715, -5.718100070953369, -6.2932000160217285, -6.935400009155273, -6.7042999267578125, -6.854100227355957, -7.028200149536133, -5.05109977722168, -6.35699987411499, -5.965000152587891, -6.426700115203857, -6.1940999031066895, -5.926599979400635, -6.343800067901611, -6.183300018310547, -6.423900127410889, -5.9822001457214355, -6.552299976348877, -6.253900051116943, -6.164599895477295, -5.013000011444092, -4.89300012588501, -5.232999801635742, -6.101900100708008, -6.256800174713135, -5.93310022354126, -5.439799785614014, -5.680600166320801, -4.843299865722656, -5.485000133514404, -5.834799766540527, -6.169600009918213, -5.720699787139893, -5.92609977722168, -5.470399856567383, -5.538700103759766, -5.371699810028076, -5.692200183868408, -5.837900161743164, -5.362500190734863, -4.842199802398682, -5.66379976272583, -5.876699924468994, -5.910900115966797, -5.982900142669678, -5.8942999839782715, -5.935800075531006, -6.981800079345703, -6.804599761962891, -6.991499900817871, -7.43179988861084, -6.947999954223633, -7.427800178527832, -6.538599967956543, -7.679500102996826, -7.521200180053711, -7.685999870300293, -7.272600173950195, -7.666900157928467, -7.673299789428711, -7.6545000076293945, -7.70550012588501, -7.667099952697754, -7.642399787902832, -7.571599960327148, -7.667399883270264, -7.6992998123168945, -7.361800193786621, -6.100299835205078, -7.699399948120117, -7.566299915313721, -7.0640997886657715, -7.60830020904541, -7.540299892425537, -7.354400157928467, -6.382400035858154, -7.954400062561035, -5.257900238037109, -5.676000118255615, -5.521200180053711, -4.703000068664551, -5.420100212097168, -6.651100158691406, -6.96999979019165, -7.093599796295166, -7.025000095367432, -7.241499900817871, -7.193299770355225, -7.143799781799316, -7.2631001472473145, -7.268599987030029, -7.216899871826172, -7.4517998695373535, -4.97629976272583, -5.396500110626221, -7.065999984741211, -3.265899896621704, -6.071000099182129, -6.167200088500977, -6.421500205993652, -6.732699871063232, -6.096199989318848, -6.44980001449585, -6.585999965667725, -6.866499900817871, -6.128799915313721, -6.275199890136719, -6.395999908447266, -5.684800148010254, -5.370299816131592, -5.948500156402588, -6.410999774932861, -6.105599880218506, -5.4604997634887695, -6.218699932098389, -6.098899841308594, -6.423600196838379, -5.6209001541137695, -5.9131999015808105, -6.141200065612793, -5.394100189208984, -5.654099941253662, -5.856599807739258, -5.8354997634887695, -6.182600021362305, -5.761199951171875, -6.103700160980225, -6.156400203704834, -6.060699939727783, -3.150399923324585, -3.6867001056671143, -4.381499767303467, -4.320499897003174, -4.355000019073486, -4.355500221252441, -4.483799934387207, -4.667399883270264, -4.839099884033203, -5.019100189208984, -5.202600002288818, -5.201499938964844, -4.149400234222412, -5.19379997253418, -5.664299964904785, -5.348700046539307, -5.779699802398682, -5.864799976348877, -3.5827999114990234, -5.916399955749512, -5.916399955749512, -5.916399955749512, -6.116799831390381, -4.256700038909912, -6.092100143432617, -4.411900043487549, -6.345699787139893, -6.521500110626221, -6.468299865722656, -6.690700054168701, -5.406000137329102, -4.186600208282471, -5.774099826812744, -4.010000228881836, -4.682600021362305, -3.478800058364868, -3.535599946975708, -4.680099964141846, -4.104899883270264, -4.986100196838379, -5.096199989318848, -5.197000026702881, -5.347400188446045, -5.319699764251709, -6.046299934387207, -5.435400009155273, -6.526899814605713, -5.369699954986572, -6.538899898529053, -6.672500133514404, -6.662899971008301, -6.818399906158447, -6.826099872589111, -6.7779998779296875, -7.007599830627441, -6.968999862670898, -6.993599891662598, -7.007999897003174, -5.9156999588012695, -6.82289981842041, -7.220399856567383, -7.207300186157227, -6.966899871826172, -7.20959997177124, -7.117199897766113, -7.1768999099731445, -6.976099967956543, -6.995100021362305, -7.191500186920166, -6.416299819946289, -7.496799945831299, -6.533400058746338, -5.870699882507324, -7.517300128936768, -6.275300025939941, -7.112100124359131, -6.159800052642822, -6.523799896240234, -5.795000076293945, -6.136899948120117, -6.814899921417236, -5.603300094604492, -4.472899913787842, -6.1280999183654785, -5.65939998626709, -5.377600193023682, -4.397200107574463, -5.917799949645996, -6.604300022125244, -6.472099781036377, -5.554100036621094, -4.443900108337402, -5.945000171661377, -5.776800155639648, -6.462299823760986, -5.300099849700928, -5.94980001449585, -5.05049991607666, -5.404799938201904, -5.7210001945495605, -5.261899948120117, -5.546999931335449, -4.05620002746582, -5.27239990234375, -5.6346001625061035, -5.190999984741211, -5.214600086212158, -5.538300037384033, -5.412399768829346, -5.399199962615967, -5.6041998863220215, -5.433199882507324, -5.826399803161621, -5.679599761962891, -5.736199855804443, -5.725399971008301], \"loglift\": [30.0, 29.0, 28.0, 27.0, 26.0, 25.0, 24.0, 23.0, 22.0, 21.0, 20.0, 19.0, 18.0, 17.0, 16.0, 15.0, 14.0, 13.0, 12.0, 11.0, 10.0, 9.0, 8.0, 7.0, 6.0, 5.0, 4.0, 3.0, 2.0, 1.0, 2.915299892425537, 2.9133999347686768, 2.9133999347686768, 2.9105000495910645, 2.9100000858306885, 2.9098000526428223, 2.9098000526428223, 2.9098000526428223, 2.9089999198913574, 2.9077999591827393, 2.9075000286102295, 2.9072999954223633, 2.9054999351501465, 2.9047000408172607, 2.904599905014038, 2.9028000831604004, 2.8922998905181885, 2.890700101852417, 2.8887999057769775, 2.8822999000549316, 2.8794000148773193, 2.8782999515533447, 2.8782999515533447, 2.874500036239624, 2.871999979019165, 2.8701999187469482, 2.86680006980896, 2.8661000728607178, 2.865999937057495, 2.862600088119507, 2.8401999473571777, 2.8341000080108643, 2.822200059890747, 2.8290998935699463, 2.694499969482422, 2.7599000930786133, 2.7327001094818115, 2.742000102996826, 2.7985000610351562, 2.077399969100952, 2.7335000038146973, 1.8006999492645264, 2.123199939727783, 2.329699993133545, 1.0758999586105347, 1.2903000116348267, 2.5924999713897705, 2.1989998817443848, 2.545300006866455, 1.8725999593734741, 2.2746999263763428, 2.270900011062622, 2.270400047302246, 2.27020001411438, 2.27020001411438, 2.2695999145507812, 2.2676000595092773, 2.266900062561035, 2.266900062561035, 2.2634999752044678, 2.263400077819824, 2.263400077819824, 2.2630999088287354, 2.260499954223633, 2.2599000930786133, 2.259000062942505, 2.255000114440918, 2.2548000812530518, 2.254699945449829, 2.2546000480651855, 2.254499912261963, 2.2541000843048096, 2.253999948501587, 2.253999948501587, 2.253999948501587, 2.2537999153137207, 2.2535998821258545, 2.253499984741211, 2.253499984741211, 2.2532999515533447, 2.2527999877929688, 2.239000082015991, 2.2242000102996826, 2.224400043487549, 2.241300106048584, 2.232800006866455, 2.238600015640259, 2.241300106048584, 2.132699966430664, 2.198899984359741, 2.166800022125244, 2.1882998943328857, 2.166100025177002, 2.111299991607666, 2.1542999744415283, 2.119800090789795, 2.158900022506714, 2.050800085067749, 2.172499895095825, 2.097899913787842, 2.0699000358581543, 1.698199987411499, 1.6009999513626099, 1.43340003490448, 1.9212000370025635, 1.98989999294281, 1.7488000392913818, 1.3969000577926636, 1.4878000020980835, 0.7020000219345093, 1.2556999921798706, 1.48580002784729, 1.875499963760376, 1.2962000370025635, 1.4472999572753906, 0.6467000246047974, 0.7401999831199646, 0.4221000075340271, 0.9771999716758728, 1.1950000524520874, 0.07100000232458115, -1.3240000009536743, 0.46059998869895935, 0.8312000036239624, 0.9750999808311462, 1.1719000339508057, 0.3571999967098236, 0.2890999913215637, 0.3386000096797943, 0.3384999930858612, 0.3384999930858612, 0.3377000093460083, 0.3375000059604645, 0.33739998936653137, 0.33709999918937683, 0.3370000123977661, 0.3370000123977661, 0.3370000123977661, 0.3370000123977661, 0.3370000123977661, 0.336899995803833, 0.336899995803833, 0.336899995803833, 0.336899995803833, 0.336899995803833, 0.336899995803833, 0.336899995803833, 0.336899995803833, 0.3368000090122223, 0.3368000090122223, 0.3368000090122223, 0.3368000090122223, 0.3366999924182892, 0.33649998903274536, 0.33629998564720154, 0.3361999988555908, 0.3361999988555908, 0.3361999988555908, 0.33329999446868896, 0.335099995136261, 0.33149999380111694, 0.3199999928474426, 0.3269999921321869, 0.334199994802475, 0.33570000529289246, 0.335999995470047, 0.33410000801086426, 0.3361000120639801, 0.3353999853134155, 0.33489999175071716, 0.33559998869895935, 0.334199994802475, 0.33340001106262207, 0.33570000529289246, 0.29910001158714294, 0.3010999858379364, 0.33070001006126404, 0.2524000108242035, 0.3082999885082245, 0.3111000061035156, 0.3131999969482422, 0.3206999897956848, 0.29350000619888306, 0.30649998784065247, 0.31040000915527344, 0.32190001010894775, 0.29100000858306885, 0.29420000314712524, 0.2976999878883362, 0.25360000133514404, 0.22200000286102295, 0.25679999589920044, 0.28769999742507935, 0.2581999897956848, 0.19359999895095825, 0.2596000134944916, 0.23520000278949738, 0.2777999937534332, 0.1356000006198883, 0.1712999939918518, 0.21860000491142273, 0.039400000125169754, 0.10159999877214432, 0.07829999923706055, -0.04170000180602074, 0.15139999985694885, -0.21580000221729279, 0.020800000056624413, 0.06849999725818634, -0.24899999797344208, 3.3422000408172607, 3.3413000106811523, 3.339099884033203, 3.338900089263916, 3.338900089263916, 3.33870005607605, 3.338099956512451, 3.337599992752075, 3.336699962615967, 3.335400104522705, 3.3327999114990234, 3.3327999114990234, 3.3315999507904053, 3.329200029373169, 3.3255999088287354, 3.324899911880493, 3.3241000175476074, 3.323199987411499, 3.322700023651123, 3.3225998878479004, 3.3225998878479004, 3.3225998878479004, 3.3178000450134277, 3.3178000450134277, 3.313499927520752, 3.3134000301361084, 3.3108999729156494, 3.3048999309539795, 3.3036999702453613, 3.2973999977111816, 3.297300100326538, 3.2588999271392822, 3.2562999725341797, 3.1191000938415527, 3.0973000526428223, 2.832900047302246, 2.800800085067749, 2.84089994430542, 1.589400053024292, 2.394200086593628, 1.6394000053405762, 1.8274999856948853, 2.026099920272827, 1.7416000366210938, 2.31850004196167, 2.3180999755859375, 2.3148000240325928, 2.314300060272217, 2.314300060272217, 2.3117001056671143, 2.3101000785827637, 2.3099000453948975, 2.3097000122070312, 2.3094000816345215, 2.3076000213623047, 2.307499885559082, 2.3071000576019287, 2.3066999912261963, 2.3055999279022217, 2.303299903869629, 2.3022000789642334, 2.3018999099731445, 2.301800012588501, 2.3010001182556152, 2.3006999492645264, 2.300299882888794, 2.2992000579833984, 2.299099922180176, 2.297800064086914, 2.294600009918213, 2.29229998588562, 2.29229998588562, 2.2913999557495117, 2.291100025177002, 2.290600061416626, 2.2897000312805176, 2.2706000804901123, 2.275899887084961, 2.214900016784668, 2.223299980163574, 2.2697999477386475, 2.1449999809265137, 2.0034000873565674, 2.1491000652313232, 2.044100046157837, 1.981600046157837, 1.7199000120162964, 2.063999891281128, 2.198899984359741, 2.1440999507904053, 1.822700023651123, 1.367799997329712, 1.927899956703186, 1.8291000127792358, 2.1340999603271484, 1.5048999786376953, 1.854099988937378, 1.1545000076293945, 1.3589999675750732, 1.4586000442504883, 0.9341999888420105, 1.2288000583648682, -0.5378999710083008, 0.8758999705314636, 1.2558000087738037, 0.5645999908447266, 0.33079999685287476, 0.9857000112533569, 0.5224000215530396, 0.3946000039577484, 0.7398999929428101, 0.0003000000142492354, 1.4665000438690186, 0.07689999788999557, 0.6449000239372253, -0.1331000030040741]}, \"token.table\": {\"Topic\": [1, 3, 2, 3, 2, 3, 3, 1, 2, 3, 3, 4, 1, 2, 3, 4, 5, 3, 4, 3, 5, 2, 3, 1, 3, 1, 3, 2, 3, 2, 3, 3, 2, 3, 1, 2, 3, 4, 5, 3, 5, 1, 2, 3, 3, 3, 4, 3, 5, 2, 3, 5, 3, 4, 2, 3, 4, 3, 5, 2, 3, 4, 3, 4, 5, 2, 3, 3, 4, 3, 5, 3, 5, 5, 3, 5, 1, 2, 3, 4, 5, 2, 3, 2, 3, 2, 3, 5, 3, 4, 3, 4, 2, 3, 4, 5, 2, 5, 1, 2, 3, 1, 2, 3, 4, 3, 4, 2, 3, 4, 5, 1, 2, 3, 4, 5, 3, 4, 1, 2, 3, 4, 5, 2, 3, 5, 3, 4, 5, 4, 3, 5, 1, 2, 3, 5, 2, 3, 4, 5, 3, 1, 2, 3, 5, 1, 3, 2, 2, 3, 4, 5, 3, 5, 1, 2, 3, 4, 5, 1, 2, 3, 4, 5, 3, 3, 1, 2, 3, 4, 3, 5, 2, 3, 2, 3, 5, 1, 3, 5, 1, 3, 1, 2, 3, 5, 3, 2, 3, 1, 2, 3, 4, 5, 2, 3, 1, 3, 3, 5, 1, 2, 3, 4, 5, 2, 3, 1, 2, 3, 5, 1, 2, 3, 4, 5, 1, 2, 3, 5, 2, 1, 2, 3, 1, 2, 3, 4, 5, 3, 2, 3, 5, 1, 2, 3, 5, 3, 5, 3, 5, 3, 1, 2, 3, 4, 5, 2, 3, 4, 1, 2, 3, 4, 5, 2, 3, 4, 5, 2, 3, 5, 3, 3, 4, 1, 2, 3, 3, 5, 1, 3, 3, 5, 2, 3, 5, 1, 2, 3, 4, 5, 1, 2, 3, 2, 3, 4, 5, 3, 4, 2, 3, 4, 5, 1, 2, 3, 4, 5, 1, 3, 3, 5, 2, 3, 3, 4, 2, 3, 5, 1, 2, 3, 5, 1, 2, 3, 4, 5, 2, 1, 2, 3, 3, 4, 3, 1, 3, 1, 2, 3, 4, 3, 4, 3, 2, 3, 1, 2, 3, 5, 2, 2, 3, 2, 3, 2, 3, 1, 2, 3, 4, 5, 1, 2, 3, 5, 2, 3, 5, 2, 3, 2, 3, 5, 2, 3, 5, 1, 2, 3, 4, 5, 3, 5, 3, 5, 2, 3, 1, 2, 3, 4, 5, 2, 3, 2, 3, 4, 5, 1, 2, 3, 4, 5, 3, 5, 4, 2, 3, 2, 3, 4, 2, 2, 3, 5, 1, 3, 2, 3, 4, 5, 1, 2, 3, 4, 5, 1, 2, 3, 4, 5, 1, 2, 3, 1, 2, 3, 4, 5, 2, 3, 4, 5, 1, 3, 1, 2, 3, 5, 1, 2, 3, 4, 5, 2, 3, 1, 2, 3, 5, 1, 2, 3, 1, 2, 3, 1, 2, 3, 4, 5, 1, 2, 3, 4, 5, 2, 3, 4, 1, 3, 1, 2, 3, 4, 5, 2, 3, 4, 2, 3, 2, 3, 5, 1, 2, 3, 4, 3, 4, 1, 2, 3, 4, 1, 2, 3, 2, 3, 2, 3, 4, 5, 3, 3, 5, 1, 2, 3, 4, 5, 1, 3, 1, 2, 3, 1, 2, 3, 4, 5, 1, 2, 3, 5, 1, 2, 3, 4, 5, 3, 5, 1, 2, 3, 4, 5, 2, 2, 3, 1, 2, 3, 4, 5, 2, 3, 1, 2, 3, 5, 1, 2, 3, 5, 1, 2, 3, 4, 5, 1, 2, 3, 4, 5, 3, 2, 3, 4, 5, 3, 5, 2, 3, 3, 3, 4, 5, 1, 2, 3, 5, 4, 2, 3, 2, 3, 5, 4, 1, 2, 3, 1, 2, 3, 5, 3, 5, 3, 3, 3, 2, 3, 5, 2, 3, 3, 3, 5, 1, 2, 3, 4, 5, 1, 2, 3, 1, 2, 3, 4, 5, 2, 3, 5, 3, 5, 3, 5, 1, 2, 3, 5, 2, 3, 5, 2, 3, 5, 2, 3, 5, 3, 5, 4, 3, 4, 1, 2, 3, 4, 2, 3, 4, 1, 2, 3, 4, 5, 2, 3, 4, 2, 3, 1, 3, 3, 5, 1, 2, 3, 4, 5, 3, 5, 1, 2, 3, 4, 3, 2, 3, 5, 2, 3, 1, 2, 3, 1, 2, 3, 3, 4, 2, 3, 1, 2, 3, 4, 5, 1, 2, 3, 4, 5, 1, 2, 3, 4, 5, 1, 3, 1, 2, 3, 4, 5, 4, 2, 3, 2, 1, 2, 3, 1, 3, 1, 2, 3, 4, 5, 3, 4, 2, 3, 4, 5, 3, 4, 2, 3, 5, 1, 3, 2, 2, 3, 5, 2, 3, 4, 5, 3, 2, 3, 5, 1, 2, 3, 4, 5, 2, 3, 5, 2, 3, 4, 2, 3, 4, 5, 2, 3, 2, 3, 1, 2, 3, 4, 5, 3, 4, 3, 3, 1, 2, 3, 5, 2, 3, 4, 5, 3, 4, 1, 2, 3, 5, 1, 2, 3, 5, 1, 2, 2, 3, 4, 3, 3, 5, 1, 2, 3, 4, 5, 3, 4, 1, 3, 3, 5, 3, 5, 1, 2, 3, 4, 5], \"Freq\": [0.9900465607643127, 0.008461936376988888, 0.004309979733079672, 0.991295337677002, 0.988939106464386, 0.011634577997028828, 0.9974122047424316, 0.0240514874458313, 0.962059497833252, 0.9983171224594116, 0.004975904244929552, 0.9951809048652649, 0.0011761544737964869, 0.14584314823150635, 0.7350965738296509, 0.008233081549406052, 0.10938236862421036, 0.013254118151962757, 0.9808047413825989, 0.17177872359752655, 0.8220838904380798, 0.003560190089046955, 0.993293046951294, 0.9648025035858154, 0.029236439615488052, 0.9731251001358032, 0.02316964417695999, 0.912466824054718, 0.07499727606773376, 0.9919624328613281, 0.022544601932168007, 0.9949581027030945, 0.8912683725357056, 0.09687699377536774, 0.030342577025294304, 0.37422510981559753, 0.4450244605541229, 0.11631321161985397, 0.0353996716439724, 0.024221131578087807, 0.9688452482223511, 0.9249363541603088, 0.003103813389316201, 0.07138770818710327, 0.997621476650238, 0.9967440366744995, 0.0021954714320600033, 0.020885875448584557, 0.981636106967926, 0.8510237336158752, 0.009150792844593525, 0.1464126855134964, 0.02037806622684002, 0.9781472086906433, 0.009004275314509869, 0.9814660549163818, 0.009004275314509869, 0.12070214748382568, 0.8750905394554138, 0.004899743478745222, 0.9946479201316833, 0.9921689629554749, 0.16810479760169983, 0.7808738946914673, 0.04338188096880913, 0.9602076411247253, 0.032006923109292984, 0.02208087220788002, 0.9759745001792908, 0.024815227836370468, 0.967793881893158, 0.024032820016145706, 0.9613128304481506, 0.9608304500579834, 0.029603727161884308, 0.9769230484962463, 0.0011229885276407003, 0.03032069094479084, 0.919727623462677, 0.0011229885276407003, 0.048288509249687195, 0.9616517424583435, 0.039655741304159164, 0.00442973617464304, 0.9966906309127808, 0.0776340588927269, 0.921082079410553, 0.0013158315559849143, 0.011544001288712025, 0.9927841424942017, 0.011530064046382904, 0.9915854930877686, 0.02545725740492344, 0.44004687666893005, 0.3854956030845642, 0.1454700380563736, 0.9796833992004395, 0.014622139744460583, 0.827492892742157, 0.023200735449790955, 0.1469379961490631, 0.008485749363899231, 0.05374308302998543, 0.13860057294368744, 0.7976604700088501, 0.02755853161215782, 0.9645485877990723, 0.004185933619737625, 0.3474324643611908, 0.602774441242218, 0.04185933619737625, 0.43159571290016174, 0.35870397090911865, 0.15921086072921753, 0.04987328127026558, 0.0019182030810043216, 0.02216700091958046, 0.9753479957580566, 0.0006885507027618587, 0.009639709256589413, 0.9794633388519287, 0.0006885507027618587, 0.009639709256589413, 0.007120972033590078, 0.28483888506889343, 0.7049762010574341, 0.9490875005722046, 0.022071802988648415, 0.02942906878888607, 0.9797540903091431, 0.027900630608201027, 0.9765220880508423, 0.0007162885158322752, 0.04082844778895378, 0.7872011065483093, 0.1711929589509964, 0.059018805623054504, 0.9221688508987427, 0.0029509402811527252, 0.014754701405763626, 0.9969918131828308, 0.5530983805656433, 0.004460470750927925, 0.08028846979141235, 0.3612981140613556, 0.9942430257797241, 0.00540349492803216, 0.9857041239738464, 0.4117417335510254, 0.4962015748023987, 0.016891969367861748, 0.07390236109495163, 0.02751794457435608, 0.9631280303001404, 0.10359807312488556, 0.2714984118938446, 0.5787202715873718, 0.007144694682210684, 0.037509649991989136, 0.1585548371076584, 0.0769457295536995, 0.6074049472808838, 0.045467931777238846, 0.11192106455564499, 0.9969660043716431, 0.9966278672218323, 0.8834967613220215, 0.008334875106811523, 0.06667900085449219, 0.033339500427246094, 0.04122546687722206, 0.9481857419013977, 0.9792410731315613, 0.9957014918327332, 0.0006076481658965349, 0.992897093296051, 0.0066841295920312405, 0.9892388582229614, 0.009732729755342007, 0.9927384257316589, 0.9533314108848572, 0.037142783403396606, 0.01366971991956234, 0.022782865911722183, 0.35085615515708923, 0.6060242652893066, 0.9993968605995178, 0.9740587472915649, 0.9940123558044434, 0.05049766227602959, 0.20605367422103882, 0.5734676718711853, 0.034825973212718964, 0.13524086773395538, 0.004542210139334202, 0.994744062423706, 0.9879589676856995, 0.009685872122645378, 0.020841605961322784, 0.9795554280281067, 0.1266462355852127, 0.5587334036827087, 0.21604357659816742, 0.055873338133096695, 0.044698670506477356, 0.9744030833244324, 0.033600106835365295, 0.002703453181311488, 0.03514489158987999, 0.9610776305198669, 0.000675863295327872, 0.0025478340685367584, 0.0611480176448822, 0.6242193579673767, 0.21911373734474182, 0.09426986426115036, 0.02068363130092621, 0.006083420943468809, 0.8881794810295105, 0.08516789227724075, 0.9861769676208496, 0.9864413142204285, 0.009577100165188313, 0.009577100165188313, 0.00030583314946852624, 0.027142692357301712, 0.9155115485191345, 0.0002293748693773523, 0.056808508932590485, 0.9992865324020386, 0.98583984375, 0.014497644267976284, 0.9603511095046997, 0.007018944248557091, 0.8422732949256897, 0.13335993885993958, 0.014037888497114182, 0.017880650237202644, 0.9834358096122742, 0.018081603571772575, 0.9764066338539124, 0.9981920719146729, 0.14009156823158264, 0.029075609520077705, 0.5709392428398132, 0.20088602602481842, 0.06079445406794548, 0.894310712814331, 0.10793405026197433, 0.956403374671936, 0.00333202863112092, 0.27655836939811707, 0.2865544557571411, 0.009996086359024048, 0.4231676459312439, 0.45309320092201233, 0.4148450791835785, 0.06766976416110992, 0.06472759693861008, 0.02424306981265545, 0.9551769495010376, 0.021010661497712135, 0.9972758889198303, 0.011400939896702766, 0.9804808497428894, 0.7203915119171143, 0.013465261086821556, 0.2558399736881256, 0.02996358834207058, 0.9588348269462585, 0.9890835881233215, 0.0107509084045887, 0.031788986176252365, 0.9616168737411499, 0.01069171354174614, 0.9676000475883484, 0.020046962425112724, 0.013271777890622616, 0.04645122215151787, 0.1658972203731537, 0.013271777890622616, 0.7697631120681763, 0.008544313721358776, 0.8117097616195679, 0.17943058907985687, 0.0356067419052124, 0.7110220789909363, 0.005563553422689438, 0.24813447892665863, 0.02567264623939991, 0.9704260230064392, 0.01893625222146511, 0.03787250444293022, 0.9089401364326477, 0.03787250444293022, 0.03327338770031929, 0.2706235349178314, 0.5168465971946716, 0.028836935758590698, 0.14862112700939178, 0.9704541563987732, 0.024883439764380455, 0.02104114182293415, 0.9889336228370667, 0.9411305785179138, 0.05669461190700531, 0.012064920738339424, 0.9893234968185425, 0.9633174538612366, 0.022402731701731682, 0.022402731701731682, 0.0004431125125847757, 0.0008862250251695514, 0.9593386054039001, 0.03899390250444412, 0.009832940064370632, 0.5850599408149719, 0.2999046742916107, 0.09832940250635147, 0.004916470032185316, 0.9905328750610352, 0.9894693493843079, 0.004711758811026812, 0.004711758811026812, 0.0056550875306129456, 0.9952954053878784, 0.993677020072937, 0.9260942935943604, 0.044099729508161545, 0.7989879250526428, 0.012799974530935287, 0.014821023680269718, 0.17313650250434875, 0.005110245198011398, 0.9964978694915771, 0.994886040687561, 0.9596962928771973, 0.03198987618088722, 0.005554564297199249, 0.2610645294189453, 0.11664585024118423, 0.6221112012863159, 0.9777451753616333, 0.018357420340180397, 0.9808107018470764, 0.8785438537597656, 0.11120808124542236, 0.974340558052063, 0.033597949892282486, 0.0471084900200367, 0.0036237300373613834, 0.3406306207180023, 0.007247460074722767, 0.6015391945838928, 0.001986818853765726, 0.009934093803167343, 0.6556501984596252, 0.3317987322807312, 0.0033751060254871845, 0.9956562519073486, 0.0033751060254871845, 0.9832848906517029, 0.014046926982700825, 0.13134630024433136, 0.03152310848236084, 0.8301085829734802, 0.010393165983259678, 0.051965828984975815, 0.9457781314849854, 0.0010607501026242971, 0.11562176048755646, 0.6343285441398621, 0.014850500971078873, 0.2333650141954422, 0.030566871166229248, 0.9781398773193359, 0.02465098351240158, 0.961388349533081, 0.0038201208226382732, 0.9970515370368958, 0.05620178207755089, 0.06386566162109375, 0.8276990056037903, 0.011495819315314293, 0.04215133562684059, 0.0037527831736952066, 0.9963639378547668, 0.07104677706956863, 0.6625884175300598, 0.004633485339581966, 0.26101967692375183, 0.061586007475852966, 0.06961896270513535, 0.6587024927139282, 0.024098873138427734, 0.18609684705734253, 0.024191493168473244, 0.9676597118377686, 0.9645448327064514, 0.9772173166275024, 0.022725984454154968, 0.9440322518348694, 0.006378596182912588, 0.051028769463300705, 0.9636578559875488, 0.9871588349342346, 0.09687448292970657, 0.9009326696395874, 0.9909024238586426, 0.010654864832758904, 0.03960008919239044, 0.8993052244186401, 0.003832266665995121, 0.054929155856370926, 0.001498882076703012, 0.5066221356391907, 0.24132001399993896, 0.059955283999443054, 0.19185690581798553, 0.45175114274024963, 0.1619485318660736, 0.20172536373138428, 0.022729618474841118, 0.16478972136974335, 0.6879346966743469, 0.11572732776403427, 0.19287888705730438, 0.001856171409599483, 0.23387759923934937, 0.6515161395072937, 0.02227405644953251, 0.09095239639282227, 0.00584534602239728, 0.9664305448532104, 0.007793794386088848, 0.019484486430883408, 0.9882426261901855, 0.009594588540494442, 0.003926240839064121, 0.01963120512664318, 0.5967885851860046, 0.3788822591304779, 0.0008568812627345324, 0.043700944632291794, 0.7694793939590454, 0.022278912365436554, 0.1645212024450302, 0.8928899168968201, 0.09765983372926712, 0.0069156428799033165, 0.698479950428009, 0.11756592988967896, 0.17980670928955078, 0.9589998126029968, 0.004843433387577534, 0.03874746710062027, 0.9150986075401306, 0.009735091589391232, 0.06814564019441605, 0.0020715584978461266, 0.16158156096935272, 0.7260812520980835, 0.006214675027877092, 0.10357791930437088, 0.004112721420824528, 0.19535426795482635, 0.21900241076946259, 0.03804267197847366, 0.5439074039459229, 0.0009247503476217389, 0.994106650352478, 0.0036990013904869556, 0.9567930698394775, 0.0278677586466074, 0.03570139780640602, 0.07140279561281204, 0.46709325909614563, 0.008925349451601505, 0.41949141025543213, 0.001280326978303492, 0.41738659143447876, 0.5812684297561646, 0.002832073252648115, 0.9954737424850464, 0.02360812947154045, 0.9708842635154724, 0.005902032367885113, 0.002569092670455575, 0.33655115962028503, 0.5626313090324402, 0.0950564295053482, 0.006791647057980299, 0.9915804862976074, 0.9510217308998108, 0.015095583163201809, 0.010063721798360348, 0.020127443596720695, 0.9196450114250183, 0.008541594259440899, 0.07117995619773865, 0.9645146727561951, 0.021920789033174515, 0.05995069071650505, 0.2660311758518219, 0.5995069146156311, 0.07368938624858856, 0.9975997805595398, 0.02516309544444084, 0.9813607335090637, 0.020060943439602852, 0.04271039366722107, 0.8632676601409912, 0.01682530716061592, 0.056947194039821625, 0.9879589676856995, 0.009685872122645378, 0.9498273730278015, 0.004544628784060478, 0.04544628784060478, 0.003425785107538104, 0.452203631401062, 0.44535204768180847, 0.013703140430152416, 0.08564462512731552, 0.0423755943775177, 0.1362890750169754, 0.7616153955459595, 0.05955488979816437, 0.0014725724468007684, 0.05301260948181152, 0.2105778604745865, 0.011780579574406147, 0.7215604782104492, 0.014780312776565552, 0.9853541851043701, 0.1957150548696518, 0.02905145287513733, 0.7094670534133911, 0.044341690838336945, 0.022935358807444572, 0.9865207076072693, 0.004012426361441612, 0.9950816631317139, 0.0018301650416105986, 0.0018301650416105986, 0.9571763277053833, 0.021961981430649757, 0.016471484676003456, 0.9853256940841675, 0.012316570617258549, 0.002783338539302349, 0.006958346348255873, 0.9519017934799194, 0.038966741412878036, 0.07776301354169846, 0.664520263671875, 0.07069364935159683, 0.1838034838438034, 0.02283697947859764, 0.10951369255781174, 0.7396066784858704, 0.030622312799096107, 0.09757617861032486, 0.0007576227653771639, 0.061367444694042206, 0.5545798540115356, 0.0007576227653771639, 0.38184186816215515, 0.9948874115943909, 0.018908970057964325, 0.8439372181892395, 0.009952089749276638, 0.12639154493808746, 0.030609574168920517, 0.9795063734054565, 0.9752651453018188, 0.018937187269330025, 0.9956237077713013, 0.023799369111657143, 0.011899684555828571, 0.9638743996620178, 0.8298084139823914, 0.008339783176779747, 0.12509673833847046, 0.03335913270711899, 0.9374890923500061, 0.9741248488426208, 0.03359051048755646, 0.25590258836746216, 0.07141467928886414, 0.6665369868278503, 0.9797540903091431, 0.9801652431488037, 0.8358461260795593, 0.16332624852657318, 0.9106160998344421, 0.007987860590219498, 0.015975721180438995, 0.07189074903726578, 0.020047249272465706, 0.982315182685852, 0.9990190267562866, 0.9968448281288147, 0.9948282241821289, 0.42740994691848755, 0.5271389484405518, 0.044521868228912354, 0.9673126339912415, 0.04030469432473183, 0.9982631802558899, 0.01567951962351799, 0.9878097772598267, 0.0114510552957654, 0.04389571025967598, 0.7195079922676086, 0.18130837380886078, 0.04198720306158066, 0.9844337701797485, 0.004802116192877293, 0.009604232385754585, 0.0007893632282502949, 0.007104269228875637, 0.9906508922576904, 0.0007893632282502949, 0.0007893632282502949, 0.9804248809814453, 0.01690387725830078, 0.01690387725830078, 0.016862068325281143, 0.9779999852180481, 0.03998882323503494, 0.9397373795509338, 0.005532542709261179, 0.0073767234571278095, 0.9386880993843079, 0.04794870316982269, 0.8604965209960938, 0.04481752589344978, 0.09262289106845856, 0.09545812755823135, 0.15072336792945862, 0.7536168098449707, 0.7437397241592407, 0.025944408029317856, 0.21620340645313263, 0.030862553045153618, 0.9567391872406006, 0.9909564256668091, 0.004977512173354626, 0.9955024123191833, 0.8533451557159424, 0.005125196184962988, 0.12556730210781097, 0.012812989763915539, 0.8835663199424744, 0.06051823869347572, 0.04841459169983864, 0.32645055651664734, 0.04320669174194336, 0.5184803009033203, 0.019202973693609238, 0.0912141278386116, 0.7962751984596252, 0.17462176084518433, 0.027939481660723686, 0.004218052141368389, 0.9954602718353271, 0.9938467144966125, 0.010686524212360382, 0.04510511830449104, 0.9472074508666992, 0.0012902130838483572, 0.09805618971586227, 0.6489771604537964, 0.047737881541252136, 0.20385366678237915, 0.015861093997955322, 0.9833877682685852, 0.001906681340187788, 0.01716013252735138, 0.9724074602127075, 0.007626725360751152, 0.9969079494476318, 0.007393107283860445, 0.9906764030456543, 0.0036965536419302225, 0.0045243194326758385, 0.9953502416610718, 0.972189724445343, 0.012114513665437698, 0.015143142081797123, 0.9456232786178589, 0.020119644701480865, 0.020119644701480865, 0.004807478282600641, 0.9951480031013489, 0.9833946228027344, 0.031722407788038254, 0.48735135793685913, 0.01756221055984497, 0.3512442409992218, 0.01756221055984497, 0.12293548136949539, 0.039727967232465744, 0.43339601159095764, 0.1878049373626709, 0.267260879278183, 0.06862103193998337, 0.002700823824852705, 0.031059475615620613, 0.9533908367156982, 0.01080329529941082, 0.002700823824852705, 0.9879589676856995, 0.009685872122645378, 0.0007102326489984989, 0.0028409305959939957, 0.9865131378173828, 0.005681861191987991, 0.0042613958939909935, 0.9797537326812744, 0.9486625790596008, 0.03449682146310806, 0.9747517704963684, 0.9720525145530701, 0.004650969058275223, 0.01860387623310089, 0.9942430257797241, 0.00540349492803216, 0.002228005090728402, 0.017824040725827217, 0.6149293780326843, 0.022280050441622734, 0.3408847749233246, 0.039756499230861664, 0.9541559815406799, 0.023288609459996223, 0.05434008687734604, 0.9199000597000122, 0.9819378852844238, 0.0014966948656365275, 0.9982954859733582, 0.22912225127220154, 0.3314089775085449, 0.43778714537620544, 0.9907046556472778, 0.010319840162992477, 0.9669017195701599, 0.3308580219745636, 0.487580269575119, 0.1799403429031372, 0.08307550102472305, 0.5927549600601196, 0.014594344422221184, 0.3087265193462372, 0.9944299459457397, 0.10237729549407959, 0.00682515325024724, 0.8940950632095337, 0.0007441597408615053, 0.15552939474582672, 0.6823945045471191, 0.017115674912929535, 0.14436699450016022, 0.9190734028816223, 0.011782991699874401, 0.07069794833660126, 0.0022618137300014496, 0.020356321707367897, 0.9793652892112732, 0.010484338738024235, 0.8846160173416138, 0.04062681272625923, 0.06421656906604767, 0.9904570579528809, 0.01768673211336136, 0.9892290234565735, 0.012212703935801983, 0.06769201904535294, 0.2139551341533661, 0.652744472026825, 0.024175722151994705, 0.04109872505068779, 0.994176983833313, 0.9654704332351685, 0.997556746006012, 0.9929185509681702, 0.3518754541873932, 0.016597898676991463, 0.5178544521331787, 0.11286570876836777, 0.0022414240520447493, 0.9705366492271423, 0.0044828481040894985, 0.02241424098610878, 0.018184781074523926, 0.981978178024292, 0.8398007750511169, 0.0047715953551232815, 0.11451828479766846, 0.03817276284098625, 0.0089162802323699, 0.04458140209317207, 0.1069953665137291, 0.8381303548812866, 0.9803537726402283, 0.9865566492080688, 0.9850900769233704, 0.002556601772084832, 0.9970746636390686, 0.9961958527565002, 0.010563033632934093, 0.9876435995101929, 0.04444696009159088, 0.020789707079529762, 0.8143830299377441, 0.015054616145789623, 0.10538230836391449, 0.04096008837223053, 0.955735445022583, 0.9981161952018738, 0.003305020509287715, 0.040438003838062286, 0.9705120325088501, 0.16269217431545258, 0.8259756565093994, 0.0017198798013851047, 0.0576159730553627, 0.9166959524154663, 0.004299699328839779, 0.019778618589043617], \"Term\": [\"aaaaaaaaaaaaaaaaaaaaaaaaaaaaaaaaaaaaaaaaaaaaaaaaaaaaaaaaaaaaaaaaaaaaaaaaaaaa\", \"aaaaaaaaaaaaaaaaaaaaaaaaaaaaaaaaaaaaaaaaaaaaaaaaaaaaaaaaaaaaaaaaaaaaaaaaaaaa\", \"accounting\", \"accounting\", \"adult\", \"adult\", \"afford\", \"aggies\", \"aggies\", \"aggressively\", \"align\", \"align\", \"also\", \"also\", \"also\", \"also\", \"also\", \"amazon\", \"amazon\", \"amy\", \"amy\", \"analyst\", \"analyst\", \"apb\", \"apb\", \"arctic\", \"arctic\", \"army\", \"army\", \"assign\", \"assign\", \"astronomical\", \"attack\", \"attack\", \"available\", \"available\", \"available\", \"available\", \"available\", \"backout\", \"backout\", \"bakernet\", \"bakernet\", \"bakernet\", \"bankrupt\", \"bankruptcy\", \"bankruptcy\", \"barbo\", \"barbo\", \"beth\", \"beth\", \"beth\", \"bgcolor\", \"bgcolor\", \"billion\", \"billion\", \"billion\", \"blair\", \"blair\", \"board\", \"board\", \"bodydefault\", \"border\", \"border\", \"border\", \"borland\", \"borland\", \"br\", \"br\", \"breese\", \"breese\", \"brochure\", \"brochure\", \"bt\", \"buchanan\", \"buchanan\", \"business\", \"business\", \"business\", \"business\", \"business\", \"businessweek\", \"businessweek\", \"buying\", \"buying\", \"california\", \"california\", \"california\", \"cellpadding\", \"cellpadding\", \"cellspacing\", \"cellspacing\", \"center\", \"center\", \"center\", \"center\", \"cherry\", \"cherry\", \"choice\", \"choice\", \"choice\", \"class\", \"class\", \"class\", \"class\", \"classmate\", \"classmate\", \"clear\", \"clear\", \"clear\", \"clear\", \"click\", \"click\", \"click\", \"click\", \"click\", \"colspan\", \"colspan\", \"company\", \"company\", \"company\", \"company\", \"company\", \"conference\", \"conference\", \"conference\", \"consumer\", \"consumer\", \"consumer\", \"coords\", \"coral\", \"coral\", \"corp\", \"corp\", \"corp\", \"corp\", \"credit\", \"credit\", \"credit\", \"credit\", \"crisis\", \"ct\", \"ct\", \"ct\", \"ct\", \"ctr\", \"ctr\", \"curtailment\", \"customer\", \"customer\", \"customer\", \"customer\", \"darrell\", \"darrell\", \"date\", \"date\", \"date\", \"date\", \"date\", \"day\", \"day\", \"day\", \"day\", \"day\", \"dealing\", \"declared\", \"delta\", \"delta\", \"delta\", \"delta\", \"demoes\", \"demoes\", \"detected\", \"devastated\", \"development\", \"development\", \"development\", \"deviation\", \"devon\", \"devon\", \"div\", \"div\", \"doc\", \"doc\", \"doc\", \"doc\", \"donate\", \"dun\", \"dynergy\", \"e\", \"e\", \"e\", \"e\", \"e\", \"earnings\", \"earnings\", \"ecar\", \"ecar\", \"eei\", \"eei\", \"email\", \"email\", \"email\", \"email\", \"email\", \"emaillink\", \"emaillink\", \"employee\", \"employee\", \"employee\", \"employee\", \"end\", \"end\", \"end\", \"end\", \"end\", \"energy\", \"energy\", \"energy\", \"energy\", \"enform\", \"enlarge\", \"enlarge\", \"enlarge\", \"enron\", \"enron\", \"enron\", \"enron\", \"enron\", \"enrononline\", \"epe\", \"epe\", \"epenergy\", \"error\", \"error\", \"error\", \"error\", \"euci\", \"euci\", \"exotica\", \"exotica\", \"expense\", \"f\", \"f\", \"f\", \"f\", \"f\", \"feedback\", \"feedback\", \"ffffff\", \"file\", \"file\", \"file\", \"file\", \"file\", \"final\", \"final\", \"final\", \"final\", \"financial\", \"financial\", \"financial\", \"financially\", \"font\", \"font\", \"forecast\", \"forecast\", \"forecast\", \"fran\", \"fran\", \"frcc\", \"frcc\", \"fri\", \"fri\", \"fund\", \"fund\", \"fund\", \"fw\", \"fw\", \"fw\", \"fw\", \"fw\", \"game\", \"game\", \"game\", \"gas\", \"gas\", \"gas\", \"gas\", \"gif\", \"gif\", \"gift\", \"gift\", \"gift\", \"gift\", \"go\", \"go\", \"go\", \"go\", \"go\", \"gt\", \"gt\", \"hanagriff\", \"hanagriff\", \"harrison\", \"harrison\", \"height\", \"height\", \"henderson\", \"henderson\", \"henderson\", \"hou\", \"hou\", \"hou\", \"hou\", \"hour\", \"hour\", \"hour\", \"hour\", \"hour\", \"hourahead\", \"hp\", \"hp\", \"hp\", \"href\", \"href\", \"hurt\", \"ima\", \"ima\", \"image\", \"image\", \"image\", \"image\", \"img\", \"img\", \"income\", \"initialize\", \"initialize\", \"intended\", \"intended\", \"intended\", \"intended\", \"interchange\", \"investor\", \"investor\", \"iso\", \"iso\", \"itcapps\", \"itcapps\", \"january\", \"january\", \"january\", \"january\", \"january\", \"john\", \"john\", \"john\", \"john\", \"ken\", \"ken\", \"ken\", \"kern\", \"kern\", \"kim\", \"kim\", \"kim\", \"kimberly\", \"kimberly\", \"kimberly\", \"know\", \"know\", \"know\", \"know\", \"know\", \"kowalke\", \"kowalke\", \"kristen\", \"kristen\", \"largest\", \"largest\", \"last\", \"last\", \"last\", \"last\", \"last\", \"lay\", \"lay\", \"let\", \"let\", \"let\", \"let\", \"like\", \"like\", \"like\", \"like\", \"like\", \"lindberg\", \"lindberg\", \"linkbarseperator\", \"locate\", \"locate\", \"log\", \"log\", \"log\", \"lubbock\", \"lucci\", \"lynn\", \"lynn\", \"maac\", \"maac\", \"made\", \"made\", \"made\", \"made\", \"mail\", \"mail\", \"mail\", \"mail\", \"mail\", \"mailto\", \"mailto\", \"mailto\", \"mailto\", \"mailto\", \"main\", \"main\", \"main\", \"make\", \"make\", \"make\", \"make\", \"make\", \"many\", \"many\", \"many\", \"many\", \"mapp\", \"mapp\", \"mark\", \"mark\", \"mark\", \"mark\", \"market\", \"market\", \"market\", \"market\", \"market\", \"match\", \"match\", \"material\", \"material\", \"material\", \"material\", \"matrix\", \"matrix\", \"matrix\", \"max\", \"max\", \"max\", \"may\", \"may\", \"may\", \"may\", \"may\", \"message\", \"message\", \"message\", \"message\", \"message\", \"million\", \"million\", \"million\", \"min\", \"min\", \"monday\", \"monday\", \"monday\", \"monday\", \"monday\", \"money\", \"money\", \"money\", \"mr\", \"mr\", \"na\", \"na\", \"na\", \"name\", \"name\", \"name\", \"name\", \"nbsp\", \"nbsp\", \"nc\", \"nc\", \"nc\", \"nc\", \"ne\", \"ne\", \"ne\", \"nerc\", \"nerc\", \"net\", \"net\", \"net\", \"net\", \"netted\", \"neumin\", \"neumin\", \"new\", \"new\", \"new\", \"new\", \"new\", \"npcc\", \"npcc\", \"nw\", \"nw\", \"nw\", \"offer\", \"offer\", \"offer\", \"offer\", \"offer\", \"one\", \"one\", \"one\", \"one\", \"original\", \"original\", \"original\", \"original\", \"original\", \"outage\", \"outage\", \"p\", \"p\", \"p\", \"p\", \"p\", \"parsing\", \"partnership\", \"partnership\", \"pay\", \"pay\", \"pay\", \"pay\", \"pay\", \"pep\", \"pep\", \"plan\", \"plan\", \"plan\", \"plan\", \"play\", \"play\", \"play\", \"play\", \"please\", \"please\", \"please\", \"please\", \"please\", \"pm\", \"pm\", \"pm\", \"pm\", \"pm\", \"pocketbook\", \"power\", \"power\", \"power\", \"power\", \"powersrc\", \"powersrc\", \"preferred\", \"preferred\", \"profit\", \"pt\", \"pt\", \"pt\", \"range\", \"range\", \"range\", \"range\", \"realtime\", \"reassigned\", \"reassigned\", \"recipient\", \"recipient\", \"recipient\", \"rect\", \"redshirt\", \"ref\", \"ref\", \"reg\", \"reg\", \"reg\", \"reg\", \"reliantenergy\", \"reliantenergy\", \"relief\", \"repair\", \"reported\", \"request\", \"request\", \"request\", \"reservation\", \"reservation\", \"retirement\", \"rfp\", \"rfp\", \"right\", \"right\", \"right\", \"right\", \"right\", \"rk\", \"rk\", \"rk\", \"said\", \"said\", \"said\", \"said\", \"said\", \"sample\", \"sample\", \"sample\", \"sat\", \"sat\", \"savita\", \"savita\", \"say\", \"say\", \"say\", \"say\", \"schedule\", \"schedule\", \"schedule\", \"scheduled\", \"scheduled\", \"scheduled\", \"scheduling\", \"scheduling\", \"scheduling\", \"schoolcraft\", \"schoolcraft\", \"scoop\", \"script\", \"script\", \"se\", \"se\", \"se\", \"se\", \"season\", \"season\", \"season\", \"see\", \"see\", \"see\", \"see\", \"see\", \"seller\", \"seller\", \"seller\", \"selling\", \"selling\", \"serc\", \"serc\", \"server\", \"server\", \"service\", \"service\", \"service\", \"service\", \"service\", \"sfs\", \"sfs\", \"share\", \"share\", \"share\", \"share\", \"sincerely\", \"skilling\", \"skilling\", \"skilling\", \"sold\", \"sold\", \"sp\", \"sp\", \"sp\", \"spp\", \"spp\", \"spp\", \"src\", \"src\", \"srrs\", \"srrs\", \"standard\", \"standard\", \"standard\", \"standard\", \"standard\", \"start\", \"start\", \"start\", \"start\", \"start\", \"state\", \"state\", \"state\", \"state\", \"state\", \"std\", \"std\", \"stock\", \"stock\", \"stock\", \"stock\", \"stock\", \"stocklookup\", \"subscriber\", \"subscriber\", \"svc\", \"sw\", \"sw\", \"sw\", \"syncrasy\", \"syncrasy\", \"system\", \"system\", \"system\", \"system\", \"system\", \"tab\", \"tab\", \"table\", \"table\", \"table\", \"tagline\", \"td\", \"td\", \"team\", \"team\", \"team\", \"temp\", \"temp\", \"tepc\", \"thank\", \"thank\", \"thank\", \"thanks\", \"thanks\", \"thanks\", \"thanks\", \"thousand\", \"thru\", \"thru\", \"thru\", \"time\", \"time\", \"time\", \"time\", \"time\", \"tonight\", \"tonight\", \"tonight\", \"tr\", \"tr\", \"tr\", \"trading\", \"trading\", \"trading\", \"trading\", \"txt\", \"txt\", \"tyrell\", \"tyrell\", \"u\", \"u\", \"u\", \"u\", \"u\", \"underhanded\", \"underscore\", \"urge\", \"urging\", \"used\", \"used\", \"used\", \"used\", \"utility\", \"utility\", \"utility\", \"utility\", \"valign\", \"valign\", \"volatility\", \"volatility\", \"volatility\", \"volatility\", \"watson\", \"watson\", \"watson\", \"watson\", \"weingarten\", \"westdesk\", \"wheel\", \"width\", \"width\", \"wiped\", \"wj\", \"wj\", \"would\", \"would\", \"would\", \"would\", \"would\", \"wrap\", \"wrap\", \"wscc\", \"wscc\", \"wyndham\", \"wyndham\", \"xl\", \"xl\", \"year\", \"year\", \"year\", \"year\", \"year\"]}, \"R\": 30, \"lambda.step\": 0.01, \"plot.opts\": {\"xlab\": \"PC1\", \"ylab\": \"PC2\"}, \"topic.order\": [1, 2, 3, 4, 5]};\n",
       "\n",
       "function LDAvis_load_lib(url, callback){\n",
       "  var s = document.createElement('script');\n",
       "  s.src = url;\n",
       "  s.async = true;\n",
       "  s.onreadystatechange = s.onload = callback;\n",
       "  s.onerror = function(){console.warn(\"failed to load library \" + url);};\n",
       "  document.getElementsByTagName(\"head\")[0].appendChild(s);\n",
       "}\n",
       "\n",
       "if(typeof(LDAvis) !== \"undefined\"){\n",
       "   // already loaded: just create the visualization\n",
       "   !function(LDAvis){\n",
       "       new LDAvis(\"#\" + \"ldavis_el489671404557271036968295210722\", ldavis_el489671404557271036968295210722_data);\n",
       "   }(LDAvis);\n",
       "}else if(typeof define === \"function\" && define.amd){\n",
       "   // require.js is available: use it to load d3/LDAvis\n",
       "   require.config({paths: {d3: \"https://cdnjs.cloudflare.com/ajax/libs/d3/3.5.5/d3.min\"}});\n",
       "   require([\"d3\"], function(d3){\n",
       "      window.d3 = d3;\n",
       "      LDAvis_load_lib(\"https://cdn.rawgit.com/bmabey/pyLDAvis/files/ldavis.v1.0.0.js\", function(){\n",
       "        new LDAvis(\"#\" + \"ldavis_el489671404557271036968295210722\", ldavis_el489671404557271036968295210722_data);\n",
       "      });\n",
       "    });\n",
       "}else{\n",
       "    // require.js not available: dynamically load d3 & LDAvis\n",
       "    LDAvis_load_lib(\"https://cdnjs.cloudflare.com/ajax/libs/d3/3.5.5/d3.min.js\", function(){\n",
       "         LDAvis_load_lib(\"https://cdn.rawgit.com/bmabey/pyLDAvis/files/ldavis.v1.0.0.js\", function(){\n",
       "                 new LDAvis(\"#\" + \"ldavis_el489671404557271036968295210722\", ldavis_el489671404557271036968295210722_data);\n",
       "            })\n",
       "         });\n",
       "}\n",
       "</script>"
      ],
      "text/plain": [
       "<IPython.core.display.HTML object>"
      ]
     },
     "execution_count": 118,
     "metadata": {},
     "output_type": "execute_result"
    }
   ],
   "source": [
    "pyLDAvis.display(lda_display)"
   ]
  },
  {
   "cell_type": "markdown",
   "metadata": {},
   "source": [
    "### Interpreting the topic model\n",
    "\n",
    "* Words like 'stock', 'know', 'would'may imply insider trading of Enron Stock amongst it's employees. \n",
    "* Slide the lambda value to .2. Words like 'bankruptcy\", \"retirement\", \"fund\" appear in Topic 3\n",
    "* Resources: http://bl.ocks.org/AlessandraSozzi/raw/ce1ace56e4aed6f2d614ae2243aab5a5/"
   ]
  },
  {
   "cell_type": "markdown",
   "metadata": {},
   "source": [
    "### Finding fraudsters based on topic\n",
    "\n",
    "Next we **link the results** from the topic model **back to the original data**. We want to **flag everything related to topic 3**. As you will see, this is actually not that straightforward.\n",
    "\n",
    "More detail on how to work with the model results (which is beyond the scope of this notebook) please look here [article](https://www.machinelearningplus.com/nlp/topic-modeling-gensim-python/).\n"
   ]
  },
  {
   "cell_type": "markdown",
   "metadata": {},
   "source": [
    "#### def get_topic_details"
   ]
  },
  {
   "cell_type": "code",
   "execution_count": 99,
   "metadata": {},
   "outputs": [],
   "source": [
    "def get_topic_details(ldamodel, corpus):\n",
    "    topic_details_df = pd.DataFrame()\n",
    "    for i, row in enumerate(ldamodel[corpus]):\n",
    "        row = sorted(row, key=lambda x: (x[1]), reverse=True)\n",
    "        for j, (topic_num, prop_topic) in enumerate(row):\n",
    "            if j == 0:  # => dominant topic\n",
    "                wp = ldamodel.show_topic(topic_num)\n",
    "                topic_details_df = topic_details_df.append(pd.Series([topic_num, prop_topic]), ignore_index=True)\n",
    "    topic_details_df.columns = ['Dominant_Topic', '% Score']\n",
    "    return topic_details_df"
   ]
  },
  {
   "cell_type": "code",
   "execution_count": 100,
   "metadata": {},
   "outputs": [],
   "source": [
    "# Run get_topic_details function and check the results\n",
    "topic_details_df = get_topic_details(ldamodel, corpus)"
   ]
  },
  {
   "cell_type": "code",
   "execution_count": 101,
   "metadata": {},
   "outputs": [
    {
     "data": {
      "text/html": [
       "<div>\n",
       "<style scoped>\n",
       "    .dataframe tbody tr th:only-of-type {\n",
       "        vertical-align: middle;\n",
       "    }\n",
       "\n",
       "    .dataframe tbody tr th {\n",
       "        vertical-align: top;\n",
       "    }\n",
       "\n",
       "    .dataframe thead th {\n",
       "        text-align: right;\n",
       "    }\n",
       "</style>\n",
       "<table border=\"1\" class=\"dataframe\">\n",
       "  <thead>\n",
       "    <tr style=\"text-align: right;\">\n",
       "      <th></th>\n",
       "      <th>Dominant_Topic</th>\n",
       "      <th>% Score</th>\n",
       "    </tr>\n",
       "  </thead>\n",
       "  <tbody>\n",
       "    <tr>\n",
       "      <th>0</th>\n",
       "      <td>3.0</td>\n",
       "      <td>0.939578</td>\n",
       "    </tr>\n",
       "    <tr>\n",
       "      <th>1</th>\n",
       "      <td>4.0</td>\n",
       "      <td>0.703105</td>\n",
       "    </tr>\n",
       "    <tr>\n",
       "      <th>2</th>\n",
       "      <td>4.0</td>\n",
       "      <td>0.343857</td>\n",
       "    </tr>\n",
       "    <tr>\n",
       "      <th>3</th>\n",
       "      <td>3.0</td>\n",
       "      <td>0.993440</td>\n",
       "    </tr>\n",
       "    <tr>\n",
       "      <th>4</th>\n",
       "      <td>3.0</td>\n",
       "      <td>0.993387</td>\n",
       "    </tr>\n",
       "  </tbody>\n",
       "</table>\n",
       "</div>"
      ],
      "text/plain": [
       "   Dominant_Topic   % Score\n",
       "0             3.0  0.939578\n",
       "1             4.0  0.703105\n",
       "2             4.0  0.343857\n",
       "3             3.0  0.993440\n",
       "4             3.0  0.993387"
      ]
     },
     "execution_count": 101,
     "metadata": {},
     "output_type": "execute_result"
    }
   ],
   "source": [
    "topic_details_df.head()"
   ]
  },
  {
   "cell_type": "code",
   "execution_count": 102,
   "metadata": {},
   "outputs": [
    {
     "data": {
      "text/html": [
       "<div>\n",
       "<style scoped>\n",
       "    .dataframe tbody tr th:only-of-type {\n",
       "        vertical-align: middle;\n",
       "    }\n",
       "\n",
       "    .dataframe tbody tr th {\n",
       "        vertical-align: top;\n",
       "    }\n",
       "\n",
       "    .dataframe thead th {\n",
       "        text-align: right;\n",
       "    }\n",
       "</style>\n",
       "<table border=\"1\" class=\"dataframe\">\n",
       "  <thead>\n",
       "    <tr style=\"text-align: right;\">\n",
       "      <th></th>\n",
       "      <th>Dominant_Topic</th>\n",
       "      <th>% Score</th>\n",
       "    </tr>\n",
       "  </thead>\n",
       "  <tbody>\n",
       "    <tr>\n",
       "      <th>2085</th>\n",
       "      <td>0.0</td>\n",
       "      <td>0.909964</td>\n",
       "    </tr>\n",
       "    <tr>\n",
       "      <th>2086</th>\n",
       "      <td>1.0</td>\n",
       "      <td>0.599331</td>\n",
       "    </tr>\n",
       "    <tr>\n",
       "      <th>2087</th>\n",
       "      <td>0.0</td>\n",
       "      <td>0.999323</td>\n",
       "    </tr>\n",
       "    <tr>\n",
       "      <th>2088</th>\n",
       "      <td>4.0</td>\n",
       "      <td>0.998147</td>\n",
       "    </tr>\n",
       "    <tr>\n",
       "      <th>2089</th>\n",
       "      <td>4.0</td>\n",
       "      <td>0.988427</td>\n",
       "    </tr>\n",
       "  </tbody>\n",
       "</table>\n",
       "</div>"
      ],
      "text/plain": [
       "      Dominant_Topic   % Score\n",
       "2085             0.0  0.909964\n",
       "2086             1.0  0.599331\n",
       "2087             0.0  0.999323\n",
       "2088             4.0  0.998147\n",
       "2089             4.0  0.988427"
      ]
     },
     "execution_count": 102,
     "metadata": {},
     "output_type": "execute_result"
    }
   ],
   "source": [
    "topic_details_df.tail()"
   ]
  },
  {
   "cell_type": "code",
   "execution_count": 103,
   "metadata": {},
   "outputs": [],
   "source": [
    "# Add original text to topic details in a dataframe\n",
    "contents = pd.DataFrame({'Original text': text_clean})\n",
    "topic_details = pd.concat([get_topic_details(ldamodel, corpus), contents], axis=1)"
   ]
  },
  {
   "cell_type": "code",
   "execution_count": 104,
   "metadata": {},
   "outputs": [
    {
     "data": {
      "text/html": [
       "<div>\n",
       "<style scoped>\n",
       "    .dataframe tbody tr th:only-of-type {\n",
       "        vertical-align: middle;\n",
       "    }\n",
       "\n",
       "    .dataframe tbody tr th {\n",
       "        vertical-align: top;\n",
       "    }\n",
       "\n",
       "    .dataframe thead th {\n",
       "        text-align: right;\n",
       "    }\n",
       "</style>\n",
       "<table border=\"1\" class=\"dataframe\">\n",
       "  <thead>\n",
       "    <tr style=\"text-align: right;\">\n",
       "      <th></th>\n",
       "      <th>Dominant_Topic</th>\n",
       "      <th>% Score</th>\n",
       "      <th>Original text</th>\n",
       "    </tr>\n",
       "  </thead>\n",
       "  <tbody>\n",
       "    <tr>\n",
       "      <th>849</th>\n",
       "      <td>0.0</td>\n",
       "      <td>0.999874</td>\n",
       "      <td>[original, message, received, thu, aug, cdt, e...</td>\n",
       "    </tr>\n",
       "    <tr>\n",
       "      <th>2081</th>\n",
       "      <td>2.0</td>\n",
       "      <td>0.999631</td>\n",
       "      <td>[unsubscribe, mailing, please, go, money, net,...</td>\n",
       "    </tr>\n",
       "    <tr>\n",
       "      <th>2087</th>\n",
       "      <td>0.0</td>\n",
       "      <td>0.999323</td>\n",
       "      <td>[image, image, image, image, image, image, ima...</td>\n",
       "    </tr>\n",
       "    <tr>\n",
       "      <th>2088</th>\n",
       "      <td>4.0</td>\n",
       "      <td>0.998147</td>\n",
       "      <td>[transmission, expansion, system, transition, ...</td>\n",
       "    </tr>\n",
       "    <tr>\n",
       "      <th>2014</th>\n",
       "      <td>0.0</td>\n",
       "      <td>0.997874</td>\n",
       "      <td>[forwarded, chris, h, foster, hou, pm, enron, ...</td>\n",
       "    </tr>\n",
       "  </tbody>\n",
       "</table>\n",
       "</div>"
      ],
      "text/plain": [
       "      Dominant_Topic   % Score  \\\n",
       "849              0.0  0.999874   \n",
       "2081             2.0  0.999631   \n",
       "2087             0.0  0.999323   \n",
       "2088             4.0  0.998147   \n",
       "2014             0.0  0.997874   \n",
       "\n",
       "                                          Original text  \n",
       "849   [original, message, received, thu, aug, cdt, e...  \n",
       "2081  [unsubscribe, mailing, please, go, money, net,...  \n",
       "2087  [image, image, image, image, image, image, ima...  \n",
       "2088  [transmission, expansion, system, transition, ...  \n",
       "2014  [forwarded, chris, h, foster, hou, pm, enron, ...  "
      ]
     },
     "execution_count": 104,
     "metadata": {},
     "output_type": "execute_result"
    }
   ],
   "source": [
    "topic_details.sort_values(by=['% Score'], ascending=False).head(10).head()"
   ]
  },
  {
   "cell_type": "code",
   "execution_count": 105,
   "metadata": {},
   "outputs": [
    {
     "data": {
      "text/html": [
       "<div>\n",
       "<style scoped>\n",
       "    .dataframe tbody tr th:only-of-type {\n",
       "        vertical-align: middle;\n",
       "    }\n",
       "\n",
       "    .dataframe tbody tr th {\n",
       "        vertical-align: top;\n",
       "    }\n",
       "\n",
       "    .dataframe thead th {\n",
       "        text-align: right;\n",
       "    }\n",
       "</style>\n",
       "<table border=\"1\" class=\"dataframe\">\n",
       "  <thead>\n",
       "    <tr style=\"text-align: right;\">\n",
       "      <th></th>\n",
       "      <th>Dominant_Topic</th>\n",
       "      <th>% Score</th>\n",
       "      <th>Original text</th>\n",
       "    </tr>\n",
       "  </thead>\n",
       "  <tbody>\n",
       "    <tr>\n",
       "      <th>769</th>\n",
       "      <td>1.0</td>\n",
       "      <td>0.997854</td>\n",
       "      <td>[congratulation, mark, haedicke, michael, guer...</td>\n",
       "    </tr>\n",
       "    <tr>\n",
       "      <th>1044</th>\n",
       "      <td>1.0</td>\n",
       "      <td>0.997853</td>\n",
       "      <td>[forwarded, steven, j, kean, na, enron, pm, ka...</td>\n",
       "    </tr>\n",
       "    <tr>\n",
       "      <th>1084</th>\n",
       "      <td>1.0</td>\n",
       "      <td>0.997853</td>\n",
       "      <td>[forwarded, steven, j, kean, na, enron, pm, ka...</td>\n",
       "    </tr>\n",
       "    <tr>\n",
       "      <th>2076</th>\n",
       "      <td>1.0</td>\n",
       "      <td>0.997741</td>\n",
       "      <td>[know, houston, suck, xo, j, original, message...</td>\n",
       "    </tr>\n",
       "    <tr>\n",
       "      <th>2039</th>\n",
       "      <td>1.0</td>\n",
       "      <td>0.997667</td>\n",
       "      <td>[w, e, e, k, e, n, e, v, l, b, l, f, r, decemb...</td>\n",
       "    </tr>\n",
       "  </tbody>\n",
       "</table>\n",
       "</div>"
      ],
      "text/plain": [
       "      Dominant_Topic   % Score  \\\n",
       "769              1.0  0.997854   \n",
       "1044             1.0  0.997853   \n",
       "1084             1.0  0.997853   \n",
       "2076             1.0  0.997741   \n",
       "2039             1.0  0.997667   \n",
       "\n",
       "                                          Original text  \n",
       "769   [congratulation, mark, haedicke, michael, guer...  \n",
       "1044  [forwarded, steven, j, kean, na, enron, pm, ka...  \n",
       "1084  [forwarded, steven, j, kean, na, enron, pm, ka...  \n",
       "2076  [know, houston, suck, xo, j, original, message...  \n",
       "2039  [w, e, e, k, e, n, e, v, l, b, l, f, r, decemb...  "
      ]
     },
     "execution_count": 105,
     "metadata": {},
     "output_type": "execute_result"
    }
   ],
   "source": [
    "topic_details.sort_values(by=['% Score'], ascending=False).head(10).tail()"
   ]
  },
  {
   "cell_type": "code",
   "execution_count": 106,
   "metadata": {},
   "outputs": [],
   "source": [
    "# Create flag for text highest associated with topic 3\n",
    "topic_details['flag'] = np.where((topic_details['Dominant_Topic'] == 4.0), 1, 0)"
   ]
  },
  {
   "cell_type": "code",
   "execution_count": 107,
   "metadata": {},
   "outputs": [],
   "source": [
    "topic_details_1 = topic_details[topic_details.flag == 1]"
   ]
  },
  {
   "cell_type": "code",
   "execution_count": 108,
   "metadata": {},
   "outputs": [
    {
     "data": {
      "text/html": [
       "<div>\n",
       "<style scoped>\n",
       "    .dataframe tbody tr th:only-of-type {\n",
       "        vertical-align: middle;\n",
       "    }\n",
       "\n",
       "    .dataframe tbody tr th {\n",
       "        vertical-align: top;\n",
       "    }\n",
       "\n",
       "    .dataframe thead th {\n",
       "        text-align: right;\n",
       "    }\n",
       "</style>\n",
       "<table border=\"1\" class=\"dataframe\">\n",
       "  <thead>\n",
       "    <tr style=\"text-align: right;\">\n",
       "      <th></th>\n",
       "      <th>Dominant_Topic</th>\n",
       "      <th>% Score</th>\n",
       "      <th>Original text</th>\n",
       "      <th>flag</th>\n",
       "    </tr>\n",
       "  </thead>\n",
       "  <tbody>\n",
       "    <tr>\n",
       "      <th>2088</th>\n",
       "      <td>4.0</td>\n",
       "      <td>0.998147</td>\n",
       "      <td>[transmission, expansion, system, transition, ...</td>\n",
       "      <td>1</td>\n",
       "    </tr>\n",
       "    <tr>\n",
       "      <th>624</th>\n",
       "      <td>4.0</td>\n",
       "      <td>0.995344</td>\n",
       "      <td>[vance, deal, created, entered, sitara, noted,...</td>\n",
       "      <td>1</td>\n",
       "    </tr>\n",
       "    <tr>\n",
       "      <th>2060</th>\n",
       "      <td>4.0</td>\n",
       "      <td>0.995330</td>\n",
       "      <td>[preparation, continuing, simulation, thursday...</td>\n",
       "      <td>1</td>\n",
       "    </tr>\n",
       "    <tr>\n",
       "      <th>2080</th>\n",
       "      <td>4.0</td>\n",
       "      <td>0.994272</td>\n",
       "      <td>[confident, work, thanks, gp, original, messag...</td>\n",
       "      <td>1</td>\n",
       "    </tr>\n",
       "    <tr>\n",
       "      <th>2074</th>\n",
       "      <td>4.0</td>\n",
       "      <td>0.993150</td>\n",
       "      <td>[dear, friend, hot, deal, value, one, opt, sub...</td>\n",
       "      <td>1</td>\n",
       "    </tr>\n",
       "    <tr>\n",
       "      <th>990</th>\n",
       "      <td>4.0</td>\n",
       "      <td>0.992786</td>\n",
       "      <td>[fyi, forwarded, stinson, gibner, hou, pm, nic...</td>\n",
       "      <td>1</td>\n",
       "    </tr>\n",
       "    <tr>\n",
       "      <th>2035</th>\n",
       "      <td>4.0</td>\n",
       "      <td>0.992513</td>\n",
       "      <td>[hello, greg, belated, congrats, new, post, en...</td>\n",
       "      <td>1</td>\n",
       "    </tr>\n",
       "    <tr>\n",
       "      <th>616</th>\n",
       "      <td>4.0</td>\n",
       "      <td>0.992278</td>\n",
       "      <td>[fyi, original, message, majorwitz, buddy, tue...</td>\n",
       "      <td>1</td>\n",
       "    </tr>\n",
       "    <tr>\n",
       "      <th>2032</th>\n",
       "      <td>4.0</td>\n",
       "      <td>0.992193</td>\n",
       "      <td>[forwarded, mark, breese, hou, enron, capital,...</td>\n",
       "      <td>1</td>\n",
       "    </tr>\n",
       "    <tr>\n",
       "      <th>2033</th>\n",
       "      <td>4.0</td>\n",
       "      <td>0.992086</td>\n",
       "      <td>[dear, valued, customer, got, great, news, new...</td>\n",
       "      <td>1</td>\n",
       "    </tr>\n",
       "  </tbody>\n",
       "</table>\n",
       "</div>"
      ],
      "text/plain": [
       "      Dominant_Topic   % Score  \\\n",
       "2088             4.0  0.998147   \n",
       "624              4.0  0.995344   \n",
       "2060             4.0  0.995330   \n",
       "2080             4.0  0.994272   \n",
       "2074             4.0  0.993150   \n",
       "990              4.0  0.992786   \n",
       "2035             4.0  0.992513   \n",
       "616              4.0  0.992278   \n",
       "2032             4.0  0.992193   \n",
       "2033             4.0  0.992086   \n",
       "\n",
       "                                          Original text  flag  \n",
       "2088  [transmission, expansion, system, transition, ...     1  \n",
       "624   [vance, deal, created, entered, sitara, noted,...     1  \n",
       "2060  [preparation, continuing, simulation, thursday...     1  \n",
       "2080  [confident, work, thanks, gp, original, messag...     1  \n",
       "2074  [dear, friend, hot, deal, value, one, opt, sub...     1  \n",
       "990   [fyi, forwarded, stinson, gibner, hou, pm, nic...     1  \n",
       "2035  [hello, greg, belated, congrats, new, post, en...     1  \n",
       "616   [fyi, original, message, majorwitz, buddy, tue...     1  \n",
       "2032  [forwarded, mark, breese, hou, enron, capital,...     1  \n",
       "2033  [dear, valued, customer, got, great, news, new...     1  "
      ]
     },
     "execution_count": 108,
     "metadata": {},
     "output_type": "execute_result"
    }
   ],
   "source": [
    "topic_details_1.sort_values(by=['% Score'], ascending=False).head(10)"
   ]
  },
  {
   "cell_type": "markdown",
   "metadata": {},
   "source": [
    "**You have now flagged all data that is highest associated with topic 2 that seems to cover internal conversation about enron stock options. **"
   ]
  },
  {
   "cell_type": "markdown",
   "metadata": {},
   "source": [
    "## Recap"
   ]
  },
  {
   "cell_type": "markdown",
   "metadata": {},
   "source": [
    "### FD1: Working with imbalanced data\n",
    "\n",
    "* Worked with highly imbalanced fraud data\n",
    "* Resample your data\n",
    "* Different resampling methods"
   ]
  },
  {
   "cell_type": "markdown",
   "metadata": {},
   "source": [
    "### FD2: Fraud detection with labeled data\n",
    "\n",
    "* Refreshed supervised learning techniques to detect fraud\n",
    "* Learned how to get reliable performance metrics and worked with the precision recall trade-off\n",
    "* Explored how to optimize your model parameters to handle fraud data\n",
    "* Applied ensemble methods to fraud detection"
   ]
  },
  {
   "cell_type": "markdown",
   "metadata": {},
   "source": [
    "### FD3: Fraud detection without labels\n",
    "\n",
    "* Learned about the importance of segmentation\n",
    "* Refreshed your knowledge on clustering methods\n",
    "* Learned how to detect fraud using outliers and small clusters with K-means clustering\n",
    "* Applied a DB-scan clustering model for fraud detection"
   ]
  },
  {
   "cell_type": "markdown",
   "metadata": {},
   "source": [
    "### FD4: Text mining for fraud detection\n",
    "\n",
    "* Know how to augment fraud detection analysis with text mining techniques\n",
    "* Applied word searches to flag use of certain words, and learned how to apply topic modeling for fraud detection\n",
    "* Learned how to effectively clean messy text data"
   ]
  },
  {
   "cell_type": "markdown",
   "metadata": {},
   "source": [
    "### Further Exploration for fraud detection\n",
    "\n",
    "* Network analysis to detect fraud\n",
    "* Different supervised and unsupervised learning techniques (e.g. Neural Networks)\n",
    "* Working with very large data"
   ]
  }
 ],
 "metadata": {
  "kernelspec": {
   "display_name": "Python 3",
   "language": "python",
   "name": "python3"
  },
  "language_info": {
   "codemirror_mode": {
    "name": "ipython",
    "version": 3
   },
   "file_extension": ".py",
   "mimetype": "text/x-python",
   "name": "python",
   "nbconvert_exporter": "python",
   "pygments_lexer": "ipython3",
   "version": "3.7.4"
  },
  "toc-autonumbering": true
 },
 "nbformat": 4,
 "nbformat_minor": 4
}
