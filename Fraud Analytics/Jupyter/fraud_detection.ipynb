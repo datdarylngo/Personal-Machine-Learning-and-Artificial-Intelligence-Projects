{
 "cells": [
  {
   "cell_type": "markdown",
   "metadata": {},
   "source": [
    "## **Fraud Detection**\n",
    "\n",
    "The notebook provides technical and theoretical insights and demonstrates how to implement fraud detection models. It is a succint version used for demo purposes."
   ]
  },
  {
   "cell_type": "markdown",
   "metadata": {},
   "source": [
    "**Imports**"
   ]
  },
  {
   "cell_type": "code",
   "execution_count": 1,
   "metadata": {},
   "outputs": [],
   "source": [
    "import warnings\n",
    "warnings.filterwarnings('ignore')\n",
    "warnings.simplefilter('ignore')"
   ]
  },
  {
   "cell_type": "code",
   "execution_count": 2,
   "metadata": {},
   "outputs": [],
   "source": [
    "import pandas as pd\n",
    "import matplotlib.pyplot as plt\n",
    "from matplotlib.patches import Rectangle\n",
    "import numpy as np\n",
    "from pprint import pprint as pp\n",
    "import csv\n",
    "from pathlib import Path\n",
    "from imblearn.over_sampling import SMOTE\n",
    "from imblearn.pipeline import Pipeline \n",
    "from sklearn.linear_model import LinearRegression, LogisticRegression\n",
    "from sklearn.model_selection import train_test_split, GridSearchCV\n",
    "from sklearn.tree import DecisionTreeClassifier\n",
    "from sklearn.metrics import r2_score, classification_report, confusion_matrix, accuracy_score, roc_auc_score, roc_curve, precision_recall_curve, average_precision_score\n",
    "from sklearn.metrics import homogeneity_score, silhouette_score\n",
    "from sklearn.ensemble import RandomForestClassifier, VotingClassifier\n",
    "from sklearn.preprocessing import MinMaxScaler\n",
    "from sklearn.cluster import MiniBatchKMeans, DBSCAN\n",
    "import seaborn as sns\n",
    "from itertools import product\n",
    "import nltk\n",
    "from nltk.corpus import stopwords\n",
    "from nltk.stem.wordnet import WordNetLemmatizer\n",
    "import string\n",
    "import gensim\n",
    "from gensim import corpora\n",
    "import pyLDAvis.gensim"
   ]
  },
  {
   "cell_type": "markdown",
   "metadata": {},
   "source": [
    "**Pandas Configuration Options**"
   ]
  },
  {
   "cell_type": "code",
   "execution_count": 3,
   "metadata": {},
   "outputs": [],
   "source": [
    "pd.set_option('max_columns', 200)\n",
    "pd.set_option('max_rows', 300)\n",
    "pd.set_option('display.expand_frame_repr', True)"
   ]
  },
  {
   "cell_type": "markdown",
   "metadata": {},
   "source": [
    "**Data File Objects**"
   ]
  },
  {
   "cell_type": "code",
   "execution_count": 4,
   "metadata": {},
   "outputs": [],
   "source": [
    "data = Path.cwd() / 'data'\n",
    "\n",
    "fd1 = data / '1_FD_data_prepping'\n",
    "cc1_file = fd1 / 'creditcard_sampledata.csv'\n",
    "cc3_file = fd1 / 'creditcard_sampledata_3.csv'\n",
    "\n",
    "fd2 = data / '2_FD_supervised'\n",
    "cc2_file = fd2 / 'creditcard_sampledata_2.csv'\n",
    "\n",
    "fd3 = data / '3_FD_unsupervised'\n",
    "banksim_file = fd3 / 'banksim.csv'\n",
    "banksim_adj_file = fd3 / 'banksim_adj.csv'\n",
    "db_full_file = fd3 / 'db_full.pickle'\n",
    "labels_file = fd3 / 'labels.pickle'\n",
    "labels_full_file = fd3 / 'labels_full.pickle'\n",
    "x_scaled_file = fd3 / 'x_scaled.pickle'\n",
    "x_scaled_full_file = fd3 / 'x_scaled_full.pickle'\n",
    "\n",
    "fd4 = data / '4_FD_NLP'\n",
    "enron_emails_clean_file = fd4 / 'enron_emails_clean.csv'\n",
    "cleantext_file = fd4 / 'cleantext.pickle'\n",
    "corpus_file = fd4 / 'corpus.pickle'\n",
    "dict_file = fd4 / 'dict.pickle'\n",
    "ldamodel_file = fd4 / 'ldamodel.pickle'"
   ]
  },
  {
   "cell_type": "markdown",
   "metadata": {},
   "source": [
    "# FD1 Prepping the Data and Imbalanced Datasets\n"
   ]
  },
  {
   "cell_type": "markdown",
   "metadata": {},
   "source": [
    "### Checking the fraud to non-fraud ratio\n",
    "\n",
    "In part 1, we will work on `creditcard_sampledata.csv`, a dataset containing credit card transactions data. \n",
    "\n",
    "Fraud occurrences are unfortunately an **extreme minority** in these transactions.\n",
    "\n",
    "Machine Learning algorithms usually work best when the different classes contained in the dataset are more or less equally present. If there are few cases of fraud, then there's little data to learn how to identify them. This is known as **class imbalance**, and it's one of the main challenges of fraud detection.\n"
   ]
  },
  {
   "cell_type": "code",
   "execution_count": 6,
   "metadata": {},
   "outputs": [],
   "source": [
    "df = pd.read_csv(cc3_file)"
   ]
  },
  {
   "cell_type": "markdown",
   "metadata": {},
   "source": [
    "#### Explore the features available in your dataframe"
   ]
  },
  {
   "cell_type": "code",
   "execution_count": 7,
   "metadata": {},
   "outputs": [
    {
     "name": "stdout",
     "output_type": "stream",
     "text": [
      "<class 'pandas.core.frame.DataFrame'>\n",
      "RangeIndex: 5050 entries, 0 to 5049\n",
      "Data columns (total 31 columns):\n",
      " #   Column      Non-Null Count  Dtype  \n",
      "---  ------      --------------  -----  \n",
      " 0   Unnamed: 0  5050 non-null   int64  \n",
      " 1   V1          5050 non-null   float64\n",
      " 2   V2          5050 non-null   float64\n",
      " 3   V3          5050 non-null   float64\n",
      " 4   V4          5050 non-null   float64\n",
      " 5   V5          5050 non-null   float64\n",
      " 6   V6          5050 non-null   float64\n",
      " 7   V7          5050 non-null   float64\n",
      " 8   V8          5050 non-null   float64\n",
      " 9   V9          5050 non-null   float64\n",
      " 10  V10         5050 non-null   float64\n",
      " 11  V11         5050 non-null   float64\n",
      " 12  V12         5050 non-null   float64\n",
      " 13  V13         5050 non-null   float64\n",
      " 14  V14         5050 non-null   float64\n",
      " 15  V15         5050 non-null   float64\n",
      " 16  V16         5050 non-null   float64\n",
      " 17  V17         5050 non-null   float64\n",
      " 18  V18         5050 non-null   float64\n",
      " 19  V19         5050 non-null   float64\n",
      " 20  V20         5050 non-null   float64\n",
      " 21  V21         5050 non-null   float64\n",
      " 22  V22         5050 non-null   float64\n",
      " 23  V23         5050 non-null   float64\n",
      " 24  V24         5050 non-null   float64\n",
      " 25  V25         5050 non-null   float64\n",
      " 26  V26         5050 non-null   float64\n",
      " 27  V27         5050 non-null   float64\n",
      " 28  V28         5050 non-null   float64\n",
      " 29  Amount      5050 non-null   float64\n",
      " 30  Class       5050 non-null   int64  \n",
      "dtypes: float64(29), int64(2)\n",
      "memory usage: 1.2 MB\n"
     ]
    }
   ],
   "source": [
    "df.info()"
   ]
  },
  {
   "cell_type": "markdown",
   "metadata": {},
   "source": [
    "Above is the data set we are working with. Column indexes 1-28 represent credit card features represented in in representation form. "
   ]
  },
  {
   "cell_type": "code",
   "execution_count": 8,
   "metadata": {},
   "outputs": [
    {
     "data": {
      "text/html": [
       "<div>\n",
       "<style scoped>\n",
       "    .dataframe tbody tr th:only-of-type {\n",
       "        vertical-align: middle;\n",
       "    }\n",
       "\n",
       "    .dataframe tbody tr th {\n",
       "        vertical-align: top;\n",
       "    }\n",
       "\n",
       "    .dataframe thead th {\n",
       "        text-align: right;\n",
       "    }\n",
       "</style>\n",
       "<table border=\"1\" class=\"dataframe\">\n",
       "  <thead>\n",
       "    <tr style=\"text-align: right;\">\n",
       "      <th></th>\n",
       "      <th>Unnamed: 0</th>\n",
       "      <th>V1</th>\n",
       "      <th>V2</th>\n",
       "      <th>V3</th>\n",
       "      <th>V4</th>\n",
       "      <th>V5</th>\n",
       "      <th>V6</th>\n",
       "      <th>V7</th>\n",
       "      <th>V8</th>\n",
       "      <th>V9</th>\n",
       "      <th>V10</th>\n",
       "      <th>V11</th>\n",
       "      <th>V12</th>\n",
       "      <th>V13</th>\n",
       "      <th>V14</th>\n",
       "      <th>V15</th>\n",
       "      <th>V16</th>\n",
       "      <th>V17</th>\n",
       "      <th>V18</th>\n",
       "      <th>V19</th>\n",
       "      <th>V20</th>\n",
       "      <th>V21</th>\n",
       "      <th>V22</th>\n",
       "      <th>V23</th>\n",
       "      <th>V24</th>\n",
       "      <th>V25</th>\n",
       "      <th>V26</th>\n",
       "      <th>V27</th>\n",
       "      <th>V28</th>\n",
       "      <th>Amount</th>\n",
       "      <th>Class</th>\n",
       "    </tr>\n",
       "  </thead>\n",
       "  <tbody>\n",
       "    <tr>\n",
       "      <th>0</th>\n",
       "      <td>258647</td>\n",
       "      <td>1.725265</td>\n",
       "      <td>-1.337256</td>\n",
       "      <td>-1.012687</td>\n",
       "      <td>-0.361656</td>\n",
       "      <td>-1.431611</td>\n",
       "      <td>-1.098681</td>\n",
       "      <td>-0.842274</td>\n",
       "      <td>-0.026594</td>\n",
       "      <td>-0.032409</td>\n",
       "      <td>0.215113</td>\n",
       "      <td>1.618952</td>\n",
       "      <td>-0.654046</td>\n",
       "      <td>-1.442665</td>\n",
       "      <td>-1.546538</td>\n",
       "      <td>-0.230008</td>\n",
       "      <td>1.785539</td>\n",
       "      <td>1.419793</td>\n",
       "      <td>0.071666</td>\n",
       "      <td>0.233031</td>\n",
       "      <td>0.275911</td>\n",
       "      <td>0.414524</td>\n",
       "      <td>0.793434</td>\n",
       "      <td>0.028887</td>\n",
       "      <td>0.419421</td>\n",
       "      <td>-0.367529</td>\n",
       "      <td>-0.155634</td>\n",
       "      <td>-0.015768</td>\n",
       "      <td>0.010790</td>\n",
       "      <td>189.00</td>\n",
       "      <td>0</td>\n",
       "    </tr>\n",
       "    <tr>\n",
       "      <th>1</th>\n",
       "      <td>69263</td>\n",
       "      <td>0.683254</td>\n",
       "      <td>-1.681875</td>\n",
       "      <td>0.533349</td>\n",
       "      <td>-0.326064</td>\n",
       "      <td>-1.455603</td>\n",
       "      <td>0.101832</td>\n",
       "      <td>-0.520590</td>\n",
       "      <td>0.114036</td>\n",
       "      <td>-0.601760</td>\n",
       "      <td>0.444011</td>\n",
       "      <td>1.521570</td>\n",
       "      <td>0.499202</td>\n",
       "      <td>-0.127849</td>\n",
       "      <td>-0.237253</td>\n",
       "      <td>-0.752351</td>\n",
       "      <td>0.667190</td>\n",
       "      <td>0.724785</td>\n",
       "      <td>-1.736615</td>\n",
       "      <td>0.702088</td>\n",
       "      <td>0.638186</td>\n",
       "      <td>0.116898</td>\n",
       "      <td>-0.304605</td>\n",
       "      <td>-0.125547</td>\n",
       "      <td>0.244848</td>\n",
       "      <td>0.069163</td>\n",
       "      <td>-0.460712</td>\n",
       "      <td>-0.017068</td>\n",
       "      <td>0.063542</td>\n",
       "      <td>315.17</td>\n",
       "      <td>0</td>\n",
       "    </tr>\n",
       "    <tr>\n",
       "      <th>2</th>\n",
       "      <td>96552</td>\n",
       "      <td>1.067973</td>\n",
       "      <td>-0.656667</td>\n",
       "      <td>1.029738</td>\n",
       "      <td>0.253899</td>\n",
       "      <td>-1.172715</td>\n",
       "      <td>0.073232</td>\n",
       "      <td>-0.745771</td>\n",
       "      <td>0.249803</td>\n",
       "      <td>1.383057</td>\n",
       "      <td>-0.483771</td>\n",
       "      <td>-0.782780</td>\n",
       "      <td>0.005242</td>\n",
       "      <td>-1.273288</td>\n",
       "      <td>-0.269260</td>\n",
       "      <td>0.091287</td>\n",
       "      <td>-0.347973</td>\n",
       "      <td>0.495328</td>\n",
       "      <td>-0.925949</td>\n",
       "      <td>0.099138</td>\n",
       "      <td>-0.083859</td>\n",
       "      <td>-0.189315</td>\n",
       "      <td>-0.426743</td>\n",
       "      <td>0.079539</td>\n",
       "      <td>0.129692</td>\n",
       "      <td>0.002778</td>\n",
       "      <td>0.970498</td>\n",
       "      <td>-0.035056</td>\n",
       "      <td>0.017313</td>\n",
       "      <td>59.98</td>\n",
       "      <td>0</td>\n",
       "    </tr>\n",
       "    <tr>\n",
       "      <th>3</th>\n",
       "      <td>281898</td>\n",
       "      <td>0.119513</td>\n",
       "      <td>0.729275</td>\n",
       "      <td>-1.678879</td>\n",
       "      <td>-1.551408</td>\n",
       "      <td>3.128914</td>\n",
       "      <td>3.210632</td>\n",
       "      <td>0.356276</td>\n",
       "      <td>0.920374</td>\n",
       "      <td>-0.160589</td>\n",
       "      <td>-0.801748</td>\n",
       "      <td>0.137341</td>\n",
       "      <td>-0.156740</td>\n",
       "      <td>-0.429388</td>\n",
       "      <td>-0.752392</td>\n",
       "      <td>0.155272</td>\n",
       "      <td>0.215068</td>\n",
       "      <td>0.352222</td>\n",
       "      <td>-0.376168</td>\n",
       "      <td>-0.398920</td>\n",
       "      <td>0.043715</td>\n",
       "      <td>-0.335825</td>\n",
       "      <td>-0.906171</td>\n",
       "      <td>0.108350</td>\n",
       "      <td>0.593062</td>\n",
       "      <td>-0.424303</td>\n",
       "      <td>0.164201</td>\n",
       "      <td>0.245881</td>\n",
       "      <td>0.071029</td>\n",
       "      <td>0.89</td>\n",
       "      <td>0</td>\n",
       "    </tr>\n",
       "    <tr>\n",
       "      <th>4</th>\n",
       "      <td>86917</td>\n",
       "      <td>1.271253</td>\n",
       "      <td>0.275694</td>\n",
       "      <td>0.159568</td>\n",
       "      <td>1.003096</td>\n",
       "      <td>-0.128535</td>\n",
       "      <td>-0.608730</td>\n",
       "      <td>0.088777</td>\n",
       "      <td>-0.145336</td>\n",
       "      <td>0.156047</td>\n",
       "      <td>0.022707</td>\n",
       "      <td>-0.963306</td>\n",
       "      <td>-0.228074</td>\n",
       "      <td>-0.324933</td>\n",
       "      <td>0.390609</td>\n",
       "      <td>1.065923</td>\n",
       "      <td>0.285930</td>\n",
       "      <td>-0.627072</td>\n",
       "      <td>0.170175</td>\n",
       "      <td>-0.215912</td>\n",
       "      <td>-0.147394</td>\n",
       "      <td>0.031958</td>\n",
       "      <td>0.123503</td>\n",
       "      <td>-0.174528</td>\n",
       "      <td>-0.147535</td>\n",
       "      <td>0.735909</td>\n",
       "      <td>-0.262270</td>\n",
       "      <td>0.015577</td>\n",
       "      <td>0.015955</td>\n",
       "      <td>6.53</td>\n",
       "      <td>0</td>\n",
       "    </tr>\n",
       "  </tbody>\n",
       "</table>\n",
       "</div>"
      ],
      "text/plain": [
       "   Unnamed: 0        V1        V2        V3        V4        V5        V6  \\\n",
       "0      258647  1.725265 -1.337256 -1.012687 -0.361656 -1.431611 -1.098681   \n",
       "1       69263  0.683254 -1.681875  0.533349 -0.326064 -1.455603  0.101832   \n",
       "2       96552  1.067973 -0.656667  1.029738  0.253899 -1.172715  0.073232   \n",
       "3      281898  0.119513  0.729275 -1.678879 -1.551408  3.128914  3.210632   \n",
       "4       86917  1.271253  0.275694  0.159568  1.003096 -0.128535 -0.608730   \n",
       "\n",
       "         V7        V8        V9       V10       V11       V12       V13  \\\n",
       "0 -0.842274 -0.026594 -0.032409  0.215113  1.618952 -0.654046 -1.442665   \n",
       "1 -0.520590  0.114036 -0.601760  0.444011  1.521570  0.499202 -0.127849   \n",
       "2 -0.745771  0.249803  1.383057 -0.483771 -0.782780  0.005242 -1.273288   \n",
       "3  0.356276  0.920374 -0.160589 -0.801748  0.137341 -0.156740 -0.429388   \n",
       "4  0.088777 -0.145336  0.156047  0.022707 -0.963306 -0.228074 -0.324933   \n",
       "\n",
       "        V14       V15       V16       V17       V18       V19       V20  \\\n",
       "0 -1.546538 -0.230008  1.785539  1.419793  0.071666  0.233031  0.275911   \n",
       "1 -0.237253 -0.752351  0.667190  0.724785 -1.736615  0.702088  0.638186   \n",
       "2 -0.269260  0.091287 -0.347973  0.495328 -0.925949  0.099138 -0.083859   \n",
       "3 -0.752392  0.155272  0.215068  0.352222 -0.376168 -0.398920  0.043715   \n",
       "4  0.390609  1.065923  0.285930 -0.627072  0.170175 -0.215912 -0.147394   \n",
       "\n",
       "        V21       V22       V23       V24       V25       V26       V27  \\\n",
       "0  0.414524  0.793434  0.028887  0.419421 -0.367529 -0.155634 -0.015768   \n",
       "1  0.116898 -0.304605 -0.125547  0.244848  0.069163 -0.460712 -0.017068   \n",
       "2 -0.189315 -0.426743  0.079539  0.129692  0.002778  0.970498 -0.035056   \n",
       "3 -0.335825 -0.906171  0.108350  0.593062 -0.424303  0.164201  0.245881   \n",
       "4  0.031958  0.123503 -0.174528 -0.147535  0.735909 -0.262270  0.015577   \n",
       "\n",
       "        V28  Amount  Class  \n",
       "0  0.010790  189.00      0  \n",
       "1  0.063542  315.17      0  \n",
       "2  0.017313   59.98      0  \n",
       "3  0.071029    0.89      0  \n",
       "4  0.015955    6.53      0  "
      ]
     },
     "execution_count": 8,
     "metadata": {},
     "output_type": "execute_result"
    }
   ],
   "source": [
    "df.head()"
   ]
  },
  {
   "cell_type": "code",
   "execution_count": 9,
   "metadata": {},
   "outputs": [
    {
     "data": {
      "text/plain": [
       "0    5000\n",
       "1      50\n",
       "Name: Class, dtype: int64"
      ]
     },
     "execution_count": 9,
     "metadata": {},
     "output_type": "execute_result"
    }
   ],
   "source": [
    "# Count the occurrences of fraud and no fraud and print them\n",
    "occ = df['Class'].value_counts()\n",
    "occ"
   ]
  },
  {
   "cell_type": "code",
   "execution_count": 10,
   "metadata": {},
   "outputs": [
    {
     "name": "stdout",
     "output_type": "stream",
     "text": [
      "Ratio of fraudulent cases: 0.9900990099009901\n",
      "Ratio of non-fraudulent cases: 0.009900990099009901\n"
     ]
    }
   ],
   "source": [
    "# Print the ratio of fraud cases\n",
    "ratio_cases = occ/len(df.index)\n",
    "print('Ratio of fraudulent cases: {}'.format(ratio_cases[0]))\n",
    "print('Ratio of non-fraudulent cases: {}'.format(ratio_cases[1]))"
   ]
  },
  {
   "cell_type": "markdown",
   "metadata": {},
   "source": [
    "**The ratio of fraudulent transactions is very low. This is a case of class imbalance problem"
   ]
  },
  {
   "cell_type": "markdown",
   "metadata": {},
   "source": [
    "### Data visualization\n",
    "\n",
    "From the previous exercise we know that the ratio of fraud to non-fraud observations is very low.\n",
    "\n",
    "Next we **visualize the fraud to non-fraud ratio**. It is always a good starting point in fraud analysis, to look at your data first, before you make any changes to it.\n",
    "\n",
    "Moreover, visualizations often makes it very clear that we're dealing with heavily imbalanced data. Let's create a plot to visualize the ratio fraud to non-fraud data points on the dataset `df`."
   ]
  },
  {
   "cell_type": "markdown",
   "metadata": {},
   "source": [
    "#### def prep_data"
   ]
  },
  {
   "cell_type": "code",
   "execution_count": 11,
   "metadata": {},
   "outputs": [],
   "source": [
    "def prep_data(df: pd.DataFrame) -> (np.ndarray, np.ndarray):\n",
    "    \"\"\"\n",
    "    Convert the DataFrame into two variable\n",
    "    X: data columns (V1 - V28)\n",
    "    y: label column\n",
    "    \"\"\"\n",
    "    X = df.iloc[:, 2:30].values\n",
    "    y = df.Class.values\n",
    "    return X, y"
   ]
  },
  {
   "cell_type": "markdown",
   "metadata": {},
   "source": [
    "#### def plot_data"
   ]
  },
  {
   "cell_type": "code",
   "execution_count": 12,
   "metadata": {},
   "outputs": [],
   "source": [
    "# Define a function to create a scatter plot of our data and labels\n",
    "def plot_data(X: np.ndarray, y: np.ndarray):\n",
    "    plt.scatter(X[y == 0, 0], X[y == 0, 1], label=\"Class #0\", alpha=0.5, linewidth=0.15)\n",
    "    plt.scatter(X[y == 1, 0], X[y == 1, 1], label=\"Class #1\", alpha=0.5, linewidth=0.15, c='r')\n",
    "    plt.legend()\n",
    "    return plt.show()"
   ]
  },
  {
   "cell_type": "code",
   "execution_count": 13,
   "metadata": {},
   "outputs": [],
   "source": [
    "# Create X and y from the prep_data function \n",
    "X, y = prep_data(df)"
   ]
  },
  {
   "cell_type": "code",
   "execution_count": 14,
   "metadata": {},
   "outputs": [
    {
     "data": {
      "image/png": "[encoded data removed]",
      "text/plain": [
       "<Figure size 432x288 with 1 Axes>"
      ]
     },
     "metadata": {
      "needs_background": "light"
     },
     "output_type": "display_data"
    }
   ],
   "source": [
    "# Plot our data by running our plot data function on X and y\n",
    "plot_data(X, y)"
   ]
  },
  {
   "cell_type": "markdown",
   "metadata": {},
   "source": [
    "**By visualizing the data, you can immediately see how our fraud cases are scattered over our data, and how few cases we have. A picture often makes the imbalance problem clear. In the next exercises we'll visually explore how to improve our fraud to non-fraud balance.**"
   ]
  },
  {
   "cell_type": "markdown",
   "metadata": {},
   "source": [
    "#### SMOTE\n",
    "\n",
    "* ![smote](images/smote.jpeg)\n",
    "* Synthetic minority Oversampling Technique (SMOTE)\n",
    "    * [Resampling strategies for Imbalanced Data Sets](https://www.kaggle.com/rafjaa/resampling-strategies-for-imbalanced-datasets)\n",
    "    * Another way of adjusting the imbalance by oversampling minority observations\n",
    "    * SMOTE uses characteristics of nearest neighbors of fraud cases to create new synthetic fraud cases\n",
    "        * avoids duplicating observations"
   ]
  },
  {
   "cell_type": "markdown",
   "metadata": {},
   "source": [
    "#### Determining the best resampling method is situational\n",
    "\n",
    "* Random Undersampling (RUS):\n",
    "    * If there is a lot of data and many minority cases, then undersampling may be computationally more convenient\n",
    "        * In most cases, throwing away data is not desirable\n",
    "* Random Oversampling (ROS):\n",
    "    * Straightforward\n",
    "    * Training the model on many duplicates\n",
    "* SMOTE:\n",
    "    * more sophisticated\n",
    "    * realistic data set\n",
    "    * training on synthetic data\n",
    "    * only works well if the minority case features are similar\n",
    "        * **if fraud is spread through the data and not distinct, using nearest neighbors to create more fraud cases, introduces noise into the data, as the nearest neighbors might not be fraud cases**"
   ]
  },
  {
   "cell_type": "markdown",
   "metadata": {},
   "source": [
    "#### When to use resmapling methods\n",
    "\n",
    "* Use resampling methods on the training set, not on the test set\n",
    "* The goal is to produce a better model by providing balanced data\n",
    "    * The goal is not to predict the synthetic samples\n",
    "* Test data should be free of duplicates and synthetic data\n",
    "* Only test the model on real data\n",
    "    * First, spit the data into train and test sets\n"
   ]
  },
  {
   "cell_type": "markdown",
   "metadata": {},
   "source": [
    "### Applying Synthetic Minority Oversampling Technique (SMOTE)\n",
    "\n",
    "Next, we re-balance our data using the **Synthetic Minority Over-sampling Technique** (SMOTE). Unlike ROS, SMOTE does not create exact copies of observations, but **creates new, synthetic, samples** that are quite similar to the existing observations in the minority class. SMOTE is therefore slightly more sophisticated than just copying observations, so we apply SMOTE to our credit card data. The dataset `df` is available and the packages needed for SMOTE are imported. In the following exercise, we visualize the result and compare it to the original data, such that we can see the effect of applying SMOTE very clearly.\n"
   ]
  },
  {
   "cell_type": "code",
   "execution_count": 15,
   "metadata": {},
   "outputs": [],
   "source": [
    "# Run the prep_data function\n",
    "X, y = prep_data(df)"
   ]
  },
  {
   "cell_type": "code",
   "execution_count": 16,
   "metadata": {},
   "outputs": [
    {
     "name": "stdout",
     "output_type": "stream",
     "text": [
      "X shape: (5050, 28)\n",
      "y shape: (5050,)\n"
     ]
    }
   ],
   "source": [
    "print(f'X shape: {X.shape}\\ny shape: {y.shape}')"
   ]
  },
  {
   "cell_type": "code",
   "execution_count": 17,
   "metadata": {},
   "outputs": [],
   "source": [
    "# Define the resampling method\n",
    "method = SMOTE()"
   ]
  },
  {
   "cell_type": "code",
   "execution_count": 18,
   "metadata": {},
   "outputs": [],
   "source": [
    "# Create the resampled feature set\n",
    "X_resampled, y_resampled = method.fit_sample(X, y)"
   ]
  },
  {
   "cell_type": "code",
   "execution_count": 19,
   "metadata": {},
   "outputs": [
    {
     "data": {
      "image/png": "[encoded data removed]",
      "text/plain": [
       "<Figure size 432x288 with 1 Axes>"
      ]
     },
     "metadata": {
      "needs_background": "light"
     },
     "output_type": "display_data"
    }
   ],
   "source": [
    "# Plot the resampled data\n",
    "plot_data(X_resampled, y_resampled)"
   ]
  },
  {
   "cell_type": "markdown",
   "metadata": {},
   "source": [
    "**The minority class is now much more prominently visible in our data. To see the results of SMOTE even better, compare it to the original data in the next exercise.**"
   ]
  },
  {
   "cell_type": "markdown",
   "metadata": {},
   "source": [
    "### Compare SMOTE to original data\n",
    "\n",
    "In the last exercise, we saw that using SMOTE suddenly gives us more observations of the minority class. Let's compare those results to our original data, to get a good feeling for what has actually happened. Have a look at the value counts again of our old and new data, and plot the two scatter plots of the data side by side. Use the function compare_plot(), which takes the following arguments: `X`, `y`, `X_resampled`, `y_resampled`, `method=''`. The function plots the original data in a scatter plot, along with the resampled side by side.\n"
   ]
  },
  {
   "cell_type": "code",
   "execution_count": 20,
   "metadata": {},
   "outputs": [
    {
     "data": {
      "text/plain": [
       "0    5000\n",
       "1      50\n",
       "dtype: int64"
      ]
     },
     "execution_count": 20,
     "metadata": {},
     "output_type": "execute_result"
    }
   ],
   "source": [
    "pd.value_counts(pd.Series(y))"
   ]
  },
  {
   "cell_type": "code",
   "execution_count": 21,
   "metadata": {},
   "outputs": [
    {
     "data": {
      "text/plain": [
       "1    5000\n",
       "0    5000\n",
       "dtype: int64"
      ]
     },
     "execution_count": 21,
     "metadata": {},
     "output_type": "execute_result"
    }
   ],
   "source": [
    "pd.value_counts(pd.Series(y_resampled))"
   ]
  },
  {
   "cell_type": "markdown",
   "metadata": {},
   "source": [
    "#### def compare_plot"
   ]
  },
  {
   "cell_type": "code",
   "execution_count": 22,
   "metadata": {},
   "outputs": [],
   "source": [
    "def compare_plot(X: np.ndarray, y: np.ndarray, X_resampled: np.ndarray, y_resampled: np.ndarray, method: str):\n",
    "    plt.subplot(1, 2, 1)\n",
    "    plt.scatter(X[y == 0, 0], X[y == 0, 1], label=\"Class #0\", alpha=0.5, linewidth=0.15)\n",
    "    plt.scatter(X[y == 1, 0], X[y == 1, 1], label=\"Class #1\", alpha=0.5, linewidth=0.15, c='r')\n",
    "    plt.title('Original Set')\n",
    "    plt.subplot(1, 2, 2)\n",
    "    plt.scatter(X_resampled[y_resampled == 0, 0], X_resampled[y_resampled == 0, 1], label=\"Class #0\", alpha=0.5, linewidth=0.15)\n",
    "    plt.scatter(X_resampled[y_resampled == 1, 0], X_resampled[y_resampled == 1, 1], label=\"Class #1\", alpha=0.5, linewidth=0.15, c='r')\n",
    "    plt.title(method)\n",
    "    plt.legend()\n",
    "    plt.show()"
   ]
  },
  {
   "cell_type": "code",
   "execution_count": 23,
   "metadata": {},
   "outputs": [
    {
     "data": {
      "image/png": "[encoded data removed]",
      "text/plain": [
       "<Figure size 432x288 with 2 Axes>"
      ]
     },
     "metadata": {
      "needs_background": "light"
     },
     "output_type": "display_data"
    }
   ],
   "source": [
    "compare_plot(X, y, X_resampled, y_resampled, method='SMOTE')"
   ]
  },
  {
   "cell_type": "markdown",
   "metadata": {},
   "source": [
    "**It should be clear SMOTE has balanced the data completely, and that the minority class is now equal in size to the majority class. Visualizing the data shows the effect on the data very clearly. Next will demonstrate multiple ways to implement SMOTE and how each method will have a slightly different effect.**"
   ]
  },
  {
   "cell_type": "markdown",
   "metadata": {},
   "source": [
    "#### SIDE NOTE: Advantages of ML Based Systems Rather than Rules Based Systems, Combinations are generally the best\n",
    "\n",
    "* Adapt to the data, thus can change over time\n",
    "* Uses all the data combined, rather than a threshold per feature\n",
    "* Produces a probability, rather than a binary score\n",
    "* Typically have better performance and can be combined with rules"
   ]
  },
  {
   "cell_type": "markdown",
   "metadata": {},
   "source": [
    "###  Logistic regression NOT using SMOTE"
   ]
  },
  {
   "cell_type": "code",
   "execution_count": 24,
   "metadata": {},
   "outputs": [],
   "source": [
    "# Create the training and testing sets\n",
    "X_train, X_test, y_train, y_test = train_test_split(X, y, test_size=0.3, random_state=0)"
   ]
  },
  {
   "cell_type": "code",
   "execution_count": 25,
   "metadata": {},
   "outputs": [
    {
     "data": {
      "text/plain": [
       "LogisticRegression(solver='liblinear')"
      ]
     },
     "execution_count": 25,
     "metadata": {},
     "output_type": "execute_result"
    }
   ],
   "source": [
    "# Fit a logistic regression model to our data\n",
    "model = LogisticRegression(solver='liblinear')\n",
    "model.fit(X_train, y_train)"
   ]
  },
  {
   "cell_type": "code",
   "execution_count": 26,
   "metadata": {},
   "outputs": [],
   "source": [
    "# Obtain model predictions\n",
    "predicted = model.predict(X_test)"
   ]
  },
  {
   "cell_type": "code",
   "execution_count": 27,
   "metadata": {},
   "outputs": [
    {
     "name": "stdout",
     "output_type": "stream",
     "text": [
      "Classification report:\n",
      "               precision    recall  f1-score   support\n",
      "\n",
      "           0       1.00      1.00      1.00      1505\n",
      "           1       0.89      0.80      0.84        10\n",
      "\n",
      "    accuracy                           1.00      1515\n",
      "   macro avg       0.94      0.90      0.92      1515\n",
      "weighted avg       1.00      1.00      1.00      1515\n",
      "\n",
      "Confusion matrix:\n",
      " [[1504    1]\n",
      " [   2    8]]\n"
     ]
    }
   ],
   "source": [
    "# Print the classifcation report and confusion matrix\n",
    "print('Classification report:\\n', classification_report(y_test, predicted))\n",
    "conf_mat = confusion_matrix(y_true=y_test, y_pred=predicted)\n",
    "print('Confusion matrix:\\n', conf_mat)"
   ]
  },
  {
   "cell_type": "markdown",
   "metadata": {},
   "source": [
    "### Logistic regression with SMOTE\n",
    "\n",
    "Using the Logistic Regression model from the previous exercise, and combine that with a **SMOTE resampling method**. \n"
   ]
  },
  {
   "cell_type": "code",
   "execution_count": 28,
   "metadata": {},
   "outputs": [],
   "source": [
    "# Define which resampling method and which ML model to use in the pipeline\n",
    "resampling = SMOTE()\n",
    "model = LogisticRegression(solver='liblinear')"
   ]
  },
  {
   "cell_type": "code",
   "execution_count": 29,
   "metadata": {},
   "outputs": [],
   "source": [
    "pipeline = Pipeline([('SMOTE', resampling), ('Logistic Regression', model)])"
   ]
  },
  {
   "cell_type": "markdown",
   "metadata": {},
   "source": [
    "### Pipelining\n"
   ]
  },
  {
   "cell_type": "code",
   "execution_count": 30,
   "metadata": {},
   "outputs": [],
   "source": [
    "# Split  data X and y, into a training and a test set and fit the pipeline onto the training data\n",
    "X_train, X_test, y_train, y_test = train_test_split(X, y, test_size=0.3, random_state=0)"
   ]
  },
  {
   "cell_type": "code",
   "execution_count": 31,
   "metadata": {},
   "outputs": [],
   "source": [
    "pipeline.fit(X_train, y_train) \n",
    "predicted = pipeline.predict(X_test)"
   ]
  },
  {
   "cell_type": "code",
   "execution_count": 32,
   "metadata": {},
   "outputs": [
    {
     "name": "stdout",
     "output_type": "stream",
     "text": [
      "Classifcation report:\n",
      "               precision    recall  f1-score   support\n",
      "\n",
      "           0       1.00      1.00      1.00      1505\n",
      "           1       0.62      1.00      0.77        10\n",
      "\n",
      "    accuracy                           1.00      1515\n",
      "   macro avg       0.81      1.00      0.88      1515\n",
      "weighted avg       1.00      1.00      1.00      1515\n",
      "\n",
      "Confusion matrix:\n",
      " [[1499    6]\n",
      " [   0   10]]\n"
     ]
    }
   ],
   "source": [
    "# Obtain the results from the classification report and confusion matrix \n",
    "print('Classifcation report:\\n', classification_report(y_test, predicted))\n",
    "conf_mat = confusion_matrix(y_true=y_test, y_pred=predicted)\n",
    "print('Confusion matrix:\\n', conf_mat)"
   ]
  },
  {
   "cell_type": "markdown",
   "metadata": {},
   "source": [
    "**SMOTE slightly improves our results. We now manage to find all cases of fraud, but we have a slightly higher number of false positives, albeit only 6 cases. Remember, resampling doesn't necessarily lead to better results. When the fraud cases are very spread and scattered over the data, using SMOTE can introduce a bit of bias. Nearest neighbors aren't necessarily also fraud cases, so the synthetic samples might 'confuse' the model slightly. Next, we adjust our machine learning models to better detect the minority fraud cases.**"
   ]
  },
  {
   "cell_type": "markdown",
   "metadata": {},
   "source": [
    "# FD2 Fraud Detection Using Labelled Data"
   ]
  },
  {
   "cell_type": "markdown",
   "metadata": {},
   "source": [
    "In this exercise, you'll again use credit card transaction data. The features and labels are similar to the data in the previous example FD1"
   ]
  },
  {
   "cell_type": "code",
   "execution_count": 33,
   "metadata": {},
   "outputs": [
    {
     "data": {
      "text/html": [
       "<div>\n",
       "<style scoped>\n",
       "    .dataframe tbody tr th:only-of-type {\n",
       "        vertical-align: middle;\n",
       "    }\n",
       "\n",
       "    .dataframe tbody tr th {\n",
       "        vertical-align: top;\n",
       "    }\n",
       "\n",
       "    .dataframe thead th {\n",
       "        text-align: right;\n",
       "    }\n",
       "</style>\n",
       "<table border=\"1\" class=\"dataframe\">\n",
       "  <thead>\n",
       "    <tr style=\"text-align: right;\">\n",
       "      <th></th>\n",
       "      <th>Unnamed: 0</th>\n",
       "      <th>V1</th>\n",
       "      <th>V2</th>\n",
       "      <th>V3</th>\n",
       "      <th>V4</th>\n",
       "      <th>V5</th>\n",
       "      <th>V6</th>\n",
       "      <th>V7</th>\n",
       "      <th>V8</th>\n",
       "      <th>V9</th>\n",
       "      <th>V10</th>\n",
       "      <th>V11</th>\n",
       "      <th>V12</th>\n",
       "      <th>V13</th>\n",
       "      <th>V14</th>\n",
       "      <th>V15</th>\n",
       "      <th>V16</th>\n",
       "      <th>V17</th>\n",
       "      <th>V18</th>\n",
       "      <th>V19</th>\n",
       "      <th>V20</th>\n",
       "      <th>V21</th>\n",
       "      <th>V22</th>\n",
       "      <th>V23</th>\n",
       "      <th>V24</th>\n",
       "      <th>V25</th>\n",
       "      <th>V26</th>\n",
       "      <th>V27</th>\n",
       "      <th>V28</th>\n",
       "      <th>Amount</th>\n",
       "      <th>Class</th>\n",
       "    </tr>\n",
       "  </thead>\n",
       "  <tbody>\n",
       "    <tr>\n",
       "      <th>0</th>\n",
       "      <td>221547</td>\n",
       "      <td>-1.191668</td>\n",
       "      <td>0.428409</td>\n",
       "      <td>1.640028</td>\n",
       "      <td>-1.848859</td>\n",
       "      <td>-0.870903</td>\n",
       "      <td>-0.204849</td>\n",
       "      <td>-0.385675</td>\n",
       "      <td>0.352793</td>\n",
       "      <td>-1.098301</td>\n",
       "      <td>-0.334597</td>\n",
       "      <td>-0.679089</td>\n",
       "      <td>-0.039671</td>\n",
       "      <td>1.372661</td>\n",
       "      <td>-0.732001</td>\n",
       "      <td>-0.344528</td>\n",
       "      <td>1.024751</td>\n",
       "      <td>0.380209</td>\n",
       "      <td>-1.087349</td>\n",
       "      <td>0.364507</td>\n",
       "      <td>0.051924</td>\n",
       "      <td>0.507173</td>\n",
       "      <td>1.292565</td>\n",
       "      <td>-0.467752</td>\n",
       "      <td>1.244887</td>\n",
       "      <td>0.697707</td>\n",
       "      <td>0.059375</td>\n",
       "      <td>-0.319964</td>\n",
       "      <td>-0.017444</td>\n",
       "      <td>27.44</td>\n",
       "      <td>0</td>\n",
       "    </tr>\n",
       "    <tr>\n",
       "      <th>1</th>\n",
       "      <td>184524</td>\n",
       "      <td>1.966614</td>\n",
       "      <td>-0.450087</td>\n",
       "      <td>-1.228586</td>\n",
       "      <td>0.142873</td>\n",
       "      <td>-0.150627</td>\n",
       "      <td>-0.543590</td>\n",
       "      <td>-0.076217</td>\n",
       "      <td>-0.108390</td>\n",
       "      <td>0.973310</td>\n",
       "      <td>-0.029903</td>\n",
       "      <td>0.279973</td>\n",
       "      <td>0.885685</td>\n",
       "      <td>-0.583912</td>\n",
       "      <td>0.322019</td>\n",
       "      <td>-1.065335</td>\n",
       "      <td>-0.340285</td>\n",
       "      <td>-0.385399</td>\n",
       "      <td>0.216554</td>\n",
       "      <td>0.675646</td>\n",
       "      <td>-0.190851</td>\n",
       "      <td>0.124055</td>\n",
       "      <td>0.564916</td>\n",
       "      <td>-0.039331</td>\n",
       "      <td>-0.283904</td>\n",
       "      <td>0.186400</td>\n",
       "      <td>0.192932</td>\n",
       "      <td>-0.039155</td>\n",
       "      <td>-0.071314</td>\n",
       "      <td>35.95</td>\n",
       "      <td>0</td>\n",
       "    </tr>\n",
       "    <tr>\n",
       "      <th>2</th>\n",
       "      <td>91201</td>\n",
       "      <td>1.528452</td>\n",
       "      <td>-1.296191</td>\n",
       "      <td>-0.890677</td>\n",
       "      <td>-2.504028</td>\n",
       "      <td>0.803202</td>\n",
       "      <td>3.350793</td>\n",
       "      <td>-1.633016</td>\n",
       "      <td>0.815350</td>\n",
       "      <td>-1.884692</td>\n",
       "      <td>1.465259</td>\n",
       "      <td>-0.188235</td>\n",
       "      <td>-0.976779</td>\n",
       "      <td>0.560550</td>\n",
       "      <td>-0.250847</td>\n",
       "      <td>0.936115</td>\n",
       "      <td>0.136409</td>\n",
       "      <td>-0.078251</td>\n",
       "      <td>0.355086</td>\n",
       "      <td>0.127756</td>\n",
       "      <td>-0.163982</td>\n",
       "      <td>-0.412088</td>\n",
       "      <td>-1.017485</td>\n",
       "      <td>0.129566</td>\n",
       "      <td>0.948048</td>\n",
       "      <td>0.287826</td>\n",
       "      <td>-0.396592</td>\n",
       "      <td>0.042997</td>\n",
       "      <td>0.025853</td>\n",
       "      <td>28.40</td>\n",
       "      <td>0</td>\n",
       "    </tr>\n",
       "    <tr>\n",
       "      <th>3</th>\n",
       "      <td>26115</td>\n",
       "      <td>-0.774614</td>\n",
       "      <td>1.100916</td>\n",
       "      <td>0.679080</td>\n",
       "      <td>1.034016</td>\n",
       "      <td>0.168633</td>\n",
       "      <td>0.874582</td>\n",
       "      <td>0.209454</td>\n",
       "      <td>0.770550</td>\n",
       "      <td>-0.558106</td>\n",
       "      <td>-0.165442</td>\n",
       "      <td>0.017562</td>\n",
       "      <td>0.285377</td>\n",
       "      <td>-0.818739</td>\n",
       "      <td>0.637991</td>\n",
       "      <td>-0.370124</td>\n",
       "      <td>-0.605148</td>\n",
       "      <td>0.275686</td>\n",
       "      <td>0.246362</td>\n",
       "      <td>1.331927</td>\n",
       "      <td>0.080978</td>\n",
       "      <td>0.011158</td>\n",
       "      <td>0.146017</td>\n",
       "      <td>-0.130401</td>\n",
       "      <td>-0.848815</td>\n",
       "      <td>0.005698</td>\n",
       "      <td>-0.183295</td>\n",
       "      <td>0.282940</td>\n",
       "      <td>0.123856</td>\n",
       "      <td>43.20</td>\n",
       "      <td>0</td>\n",
       "    </tr>\n",
       "    <tr>\n",
       "      <th>4</th>\n",
       "      <td>201292</td>\n",
       "      <td>-1.075860</td>\n",
       "      <td>1.361160</td>\n",
       "      <td>1.496972</td>\n",
       "      <td>2.242604</td>\n",
       "      <td>1.314751</td>\n",
       "      <td>0.272787</td>\n",
       "      <td>1.005246</td>\n",
       "      <td>0.132932</td>\n",
       "      <td>-1.558317</td>\n",
       "      <td>0.484216</td>\n",
       "      <td>-1.967998</td>\n",
       "      <td>-1.818338</td>\n",
       "      <td>-2.036184</td>\n",
       "      <td>0.346962</td>\n",
       "      <td>-1.161316</td>\n",
       "      <td>1.017093</td>\n",
       "      <td>-0.926787</td>\n",
       "      <td>0.183965</td>\n",
       "      <td>-2.102868</td>\n",
       "      <td>-0.354008</td>\n",
       "      <td>0.254485</td>\n",
       "      <td>0.530692</td>\n",
       "      <td>-0.651119</td>\n",
       "      <td>0.626389</td>\n",
       "      <td>1.040212</td>\n",
       "      <td>0.249501</td>\n",
       "      <td>-0.146745</td>\n",
       "      <td>0.029714</td>\n",
       "      <td>10.59</td>\n",
       "      <td>0</td>\n",
       "    </tr>\n",
       "  </tbody>\n",
       "</table>\n",
       "</div>"
      ],
      "text/plain": [
       "   Unnamed: 0        V1        V2        V3        V4        V5        V6  \\\n",
       "0      221547 -1.191668  0.428409  1.640028 -1.848859 -0.870903 -0.204849   \n",
       "1      184524  1.966614 -0.450087 -1.228586  0.142873 -0.150627 -0.543590   \n",
       "2       91201  1.528452 -1.296191 -0.890677 -2.504028  0.803202  3.350793   \n",
       "3       26115 -0.774614  1.100916  0.679080  1.034016  0.168633  0.874582   \n",
       "4      201292 -1.075860  1.361160  1.496972  2.242604  1.314751  0.272787   \n",
       "\n",
       "         V7        V8        V9       V10       V11       V12       V13  \\\n",
       "0 -0.385675  0.352793 -1.098301 -0.334597 -0.679089 -0.039671  1.372661   \n",
       "1 -0.076217 -0.108390  0.973310 -0.029903  0.279973  0.885685 -0.583912   \n",
       "2 -1.633016  0.815350 -1.884692  1.465259 -0.188235 -0.976779  0.560550   \n",
       "3  0.209454  0.770550 -0.558106 -0.165442  0.017562  0.285377 -0.818739   \n",
       "4  1.005246  0.132932 -1.558317  0.484216 -1.967998 -1.818338 -2.036184   \n",
       "\n",
       "        V14       V15       V16       V17       V18       V19       V20  \\\n",
       "0 -0.732001 -0.344528  1.024751  0.380209 -1.087349  0.364507  0.051924   \n",
       "1  0.322019 -1.065335 -0.340285 -0.385399  0.216554  0.675646 -0.190851   \n",
       "2 -0.250847  0.936115  0.136409 -0.078251  0.355086  0.127756 -0.163982   \n",
       "3  0.637991 -0.370124 -0.605148  0.275686  0.246362  1.331927  0.080978   \n",
       "4  0.346962 -1.161316  1.017093 -0.926787  0.183965 -2.102868 -0.354008   \n",
       "\n",
       "        V21       V22       V23       V24       V25       V26       V27  \\\n",
       "0  0.507173  1.292565 -0.467752  1.244887  0.697707  0.059375 -0.319964   \n",
       "1  0.124055  0.564916 -0.039331 -0.283904  0.186400  0.192932 -0.039155   \n",
       "2 -0.412088 -1.017485  0.129566  0.948048  0.287826 -0.396592  0.042997   \n",
       "3  0.011158  0.146017 -0.130401 -0.848815  0.005698 -0.183295  0.282940   \n",
       "4  0.254485  0.530692 -0.651119  0.626389  1.040212  0.249501 -0.146745   \n",
       "\n",
       "        V28  Amount  Class  \n",
       "0 -0.017444   27.44      0  \n",
       "1 -0.071314   35.95      0  \n",
       "2  0.025853   28.40      0  \n",
       "3  0.123856   43.20      0  \n",
       "4  0.029714   10.59      0  "
      ]
     },
     "execution_count": 33,
     "metadata": {},
     "output_type": "execute_result"
    }
   ],
   "source": [
    "df2 = pd.read_csv(cc2_file)\n",
    "df2.head()"
   ]
  },
  {
   "cell_type": "code",
   "execution_count": 34,
   "metadata": {},
   "outputs": [
    {
     "name": "stdout",
     "output_type": "stream",
     "text": [
      "X shape: (7300, 28)\n",
      "y shape: (7300,)\n"
     ]
    }
   ],
   "source": [
    "X, y = prep_data(df2)\n",
    "print(f'X shape: {X.shape}\\ny shape: {y.shape}')"
   ]
  },
  {
   "cell_type": "code",
   "execution_count": 35,
   "metadata": {},
   "outputs": [
    {
     "data": {
      "text/plain": [
       "0    7000\n",
       "1     300\n",
       "Name: Class, dtype: int64"
      ]
     },
     "execution_count": 35,
     "metadata": {},
     "output_type": "execute_result"
    }
   ],
   "source": [
    "df2.Class.value_counts()"
   ]
  },
  {
   "cell_type": "code",
   "execution_count": 36,
   "metadata": {},
   "outputs": [
    {
     "name": "stdout",
     "output_type": "stream",
     "text": [
      "95.89%\n"
     ]
    }
   ],
   "source": [
    "# Count the total number of observations from the length of y\n",
    "total_obs = len(y)\n",
    "\n",
    "# Count the total number of non-fraudulent observations \n",
    "non_fraud = [i for i in y if i == 0]\n",
    "count_non_fraud = non_fraud.count(0)\n",
    "\n",
    "percentage = count_non_fraud/total_obs * 100\n",
    "print(f'{percentage:0.2f}%')"
   ]
  },
  {
   "cell_type": "markdown",
   "metadata": {},
   "source": [
    "### Random Forest Classifier - part 1\n",
    "\n",
    "Next, we create a **random forest classifier** for fraud detection. Hopefully we can perform better than the baseline accuracy you've just calculated, which was roughly **96%**. This model will serve as the **\"baseline\" model** that we are going to try to improve in the upcoming exercises. We start by **splitting the data into a test and training set**, and **defining the Random Forest model**"
   ]
  },
  {
   "cell_type": "markdown",
   "metadata": {},
   "source": [
    "#### X_train, X_test, y_train, y_test"
   ]
  },
  {
   "cell_type": "code",
   "execution_count": 37,
   "metadata": {},
   "outputs": [],
   "source": [
    "# Split data into training and test set\n",
    "X_train, X_test, y_train, y_test = train_test_split(X, y, test_size=0.3, random_state=0)"
   ]
  },
  {
   "cell_type": "code",
   "execution_count": 38,
   "metadata": {},
   "outputs": [],
   "source": [
    "# Define the model as the random forest\n",
    "model = RandomForestClassifier(random_state=5, n_estimators=20)"
   ]
  },
  {
   "cell_type": "markdown",
   "metadata": {},
   "source": [
    "Next, we see how our Random Forest model performs **without hyperameter tuning**."
   ]
  },
  {
   "cell_type": "code",
   "execution_count": 41,
   "metadata": {},
   "outputs": [
    {
     "data": {
      "text/plain": [
       "RandomForestClassifier(n_estimators=20, random_state=5)"
      ]
     },
     "execution_count": 41,
     "metadata": {},
     "output_type": "execute_result"
    }
   ],
   "source": [
    "# Fit the model to our training set\n",
    "model.fit(X_train, y_train)"
   ]
  },
  {
   "cell_type": "code",
   "execution_count": 42,
   "metadata": {},
   "outputs": [],
   "source": [
    "# Obtain predictions from the test data \n",
    "predicted = model.predict(X_test)"
   ]
  },
  {
   "cell_type": "markdown",
   "metadata": {},
   "source": [
    "### Performance metrics for the RF model\n",
    "\n",
    "We know **accuracy can be misleading** in the case of fraud detection. With highly imbalanced fraud data, the AUROC curve is a more reliable performance metric, used to compare different classifiers. Moreover, the *classification report* tells you about the precision and recall of your model, whilst the *confusion matrix* actually shows how many fraud cases you can predict correctly. So let's get these performance metrics."
   ]
  },
  {
   "cell_type": "code",
   "execution_count": 43,
   "metadata": {},
   "outputs": [],
   "source": [
    "# Obtain the predictions from our random forest model \n",
    "predicted = model.predict(X_test)"
   ]
  },
  {
   "cell_type": "code",
   "execution_count": 44,
   "metadata": {},
   "outputs": [],
   "source": [
    "# Predict probabilities\n",
    "probs = model.predict_proba(X_test)"
   ]
  },
  {
   "cell_type": "code",
   "execution_count": 45,
   "metadata": {},
   "outputs": [
    {
     "name": "stdout",
     "output_type": "stream",
     "text": [
      "ROC Score:\n",
      "0.9419896444670147\n",
      "\n",
      "Classification Report:\n",
      "              precision    recall  f1-score   support\n",
      "\n",
      "           0       0.99      1.00      1.00      2099\n",
      "           1       0.97      0.80      0.88        91\n",
      "\n",
      "    accuracy                           0.99      2190\n",
      "   macro avg       0.98      0.90      0.94      2190\n",
      "weighted avg       0.99      0.99      0.99      2190\n",
      "\n",
      "\n",
      "Confusion Matrix:\n",
      "[[2097    2]\n",
      " [  18   73]]\n"
     ]
    }
   ],
   "source": [
    "# Print the ROC curve, classification report and confusion matrix\n",
    "print('ROC Score:')\n",
    "print(roc_auc_score(y_test, probs[:,1]))\n",
    "print('\\nClassification Report:')\n",
    "print(classification_report(y_test, predicted))\n",
    "print('\\nConfusion Matrix:')\n",
    "print(confusion_matrix(y_test, predicted))"
   ]
  },
  {
   "cell_type": "markdown",
   "metadata": {},
   "source": [
    "**We obtained more meaningful performance metrics that tell us how well the model performs, given the highly imbalanced data that we are working with. The model predicts 75 cases of fraud, out of which 73 are actual fraud. We have only 2 false positives. This is acceptable, and as a result we have a very high precision score. However, we did miss 18 cases of actual fraud. Recall is therefore not as good as precision.**"
   ]
  },
  {
   "cell_type": "markdown",
   "metadata": {},
   "source": [
    "### Plotting the Precision vs. Recall Curve\n",
    "\n",
    "We Plot **Precision-Recall curve** to investigate the trade-off between the two in your model. In this curve **Precision and Recall are inversely related**; as Precision increases, Recall falls and vice-versa. A balance between these two needs to be achieved in your model, otherwise you might end up with many false positives, or not enough actual fraud cases caught. To achieve this and to compare performance, the precision-recall curves come in handy."
   ]
  },
  {
   "cell_type": "code",
   "execution_count": 46,
   "metadata": {},
   "outputs": [
    {
     "data": {
      "text/plain": [
       "0.7890250388880526"
      ]
     },
     "execution_count": 46,
     "metadata": {},
     "output_type": "execute_result"
    }
   ],
   "source": [
    "# Calculate average precision and the PR curve\n",
    "average_precision = average_precision_score(y_test, predicted)\n",
    "average_precision"
   ]
  },
  {
   "cell_type": "code",
   "execution_count": 47,
   "metadata": {},
   "outputs": [
    {
     "name": "stdout",
     "output_type": "stream",
     "text": [
      "Precision: [0.04155251 0.97333333 1.        ]\n",
      "Recall: [1.        0.8021978 0.       ]\n"
     ]
    }
   ],
   "source": [
    "# Obtain precision and recall \n",
    "precision, recall, _ = precision_recall_curve(y_test, predicted)\n",
    "print(f'Precision: {precision}\\nRecall: {recall}')"
   ]
  },
  {
   "cell_type": "markdown",
   "metadata": {},
   "source": [
    "#### def plot_pr_curve"
   ]
  },
  {
   "cell_type": "code",
   "execution_count": 48,
   "metadata": {},
   "outputs": [],
   "source": [
    "def plot_pr_curve(recall, precision, average_precision):\n",
    "    \"\"\"\n",
    "    https://scikit-learn.org/stable/auto_examples/model_selection/plot_precision_recall.html\n",
    "    \"\"\"\n",
    "    from inspect import signature\n",
    "    plt.figure()\n",
    "    step_kwargs = ({'step': 'post'}\n",
    "                   if 'step' in signature(plt.fill_between).parameters\n",
    "                   else {})\n",
    "\n",
    "    plt.step(recall, precision, color='b', alpha=0.2, where='post')\n",
    "    plt.fill_between(recall, precision, alpha=0.2, color='b', **step_kwargs)\n",
    "\n",
    "    plt.xlabel('Recall')\n",
    "    plt.ylabel('Precision')\n",
    "    plt.ylim([0.0, 1.0])\n",
    "    plt.xlim([0.0, 1.0])\n",
    "    plt.title(f'2-class Precision-Recall curve: AP={average_precision:0.2f}')\n",
    "    return plt.show()"
   ]
  },
  {
   "cell_type": "code",
   "execution_count": 49,
   "metadata": {},
   "outputs": [
    {
     "data": {
      "image/png": "[encoded data removed]",
      "text/plain": [
       "<Figure size 432x288 with 1 Axes>"
      ]
     },
     "metadata": {
      "needs_background": "light"
     },
     "output_type": "display_data"
    }
   ],
   "source": [
    "# Plot the recall precision tradeoff\n",
    "plot_pr_curve(recall, precision, average_precision)"
   ]
  },
  {
   "cell_type": "markdown",
   "metadata": {},
   "source": [
    "**The ROC curve plots the true positives vs. false positives , for a classifier, as its discrimination threshold is varied. Since, a random method describes a horizontal curve through the unit interval, it has an AUC of 0.5. Minimally, classifiers should perform better than this, and the extent to which they score higher than one another (meaning the area under the ROC curve is larger), they have better expected performance.**"
   ]
  },
  {
   "cell_type": "markdown",
   "metadata": {},
   "source": [
    "### Parameter optimization with GridSearchCV for RF\n",
    "\n",
    "Next use `GridSearchCV` to find optimal parameters for our RF.\n"
   ]
  },
  {
   "cell_type": "markdown",
   "metadata": {},
   "source": [
    "#### def get_model_results"
   ]
  },
  {
   "cell_type": "code",
   "execution_count": 50,
   "metadata": {},
   "outputs": [],
   "source": [
    "def get_model_results(X_train: np.ndarray, y_train: np.ndarray,\n",
    "                      X_test: np.ndarray, y_test: np.ndarray, model):\n",
    "    \"\"\"\n",
    "    model: sklearn model (e.g. RandomForestClassifier)\n",
    "    \"\"\"\n",
    "    # Fit your training model to your training set\n",
    "    model.fit(X_train, y_train)\n",
    "\n",
    "    # Obtain the predicted values and probabilities from the model \n",
    "    predicted = model.predict(X_test)\n",
    "    \n",
    "    try:\n",
    "        probs = model.predict_proba(X_test)\n",
    "        print('ROC Score:')\n",
    "        print(roc_auc_score(y_test, probs[:,1]))\n",
    "    except AttributeError:\n",
    "        pass\n",
    "\n",
    "    # Print the ROC curve, classification report and confusion matrix\n",
    "    print('\\nClassification Report:')\n",
    "    print(classification_report(y_test, predicted))\n",
    "    print('\\nConfusion Matrix:')\n",
    "    print(confusion_matrix(y_test, predicted))"
   ]
  },
  {
   "cell_type": "code",
   "execution_count": 51,
   "metadata": {},
   "outputs": [
    {
     "data": {
      "text/plain": [
       "{'criterion': 'gini',\n",
       " 'max_depth': 8,\n",
       " 'max_features': 'log2',\n",
       " 'n_estimators': 30}"
      ]
     },
     "execution_count": 51,
     "metadata": {},
     "output_type": "execute_result"
    }
   ],
   "source": [
    "# Define the parameter sets to test\n",
    "param_grid = {'n_estimators': [1, 30],\n",
    "              'max_features': ['auto', 'log2'], \n",
    "              'max_depth': [4, 8, 10, 12],\n",
    "              'criterion': ['gini', 'entropy']}\n",
    "\n",
    "# Define the model to use\n",
    "model = RandomForestClassifier(random_state=5)\n",
    "\n",
    "# Combine the parameter sets with the defined model\n",
    "CV_model = GridSearchCV(estimator=model, param_grid=param_grid, cv=5, scoring='recall', n_jobs=-1)\n",
    "\n",
    "# Fit the model to our training data and obtain best parameters\n",
    "CV_model.fit(X_train, y_train)\n",
    "CV_model.best_params_"
   ]
  },
  {
   "cell_type": "code",
   "execution_count": 52,
   "metadata": {},
   "outputs": [
    {
     "name": "stdout",
     "output_type": "stream",
     "text": [
      "ROC Score:\n",
      "0.9749697658225529\n",
      "\n",
      "Classification Report:\n",
      "              precision    recall  f1-score   support\n",
      "\n",
      "           0       0.99      1.00      1.00      2099\n",
      "           1       0.95      0.84      0.89        91\n",
      "\n",
      "    accuracy                           0.99      2190\n",
      "   macro avg       0.97      0.92      0.94      2190\n",
      "weighted avg       0.99      0.99      0.99      2190\n",
      "\n",
      "\n",
      "Confusion Matrix:\n",
      "[[2095    4]\n",
      " [  15   76]]\n"
     ]
    }
   ],
   "source": [
    "# Input the optimal parameters in the model\n",
    "model = RandomForestClassifier(class_weight={0:1,1:12},\n",
    "                               criterion='gini',\n",
    "                               max_depth=8,\n",
    "                               max_features='log2', \n",
    "                               min_samples_leaf=10,\n",
    "                               n_estimators=30,\n",
    "                               n_jobs=-1,\n",
    "                               random_state=5)\n",
    "\n",
    "# Get results from your model\n",
    "get_model_results(X_train, y_train, X_test, y_test, model)"
   ]
  },
  {
   "cell_type": "markdown",
   "metadata": {},
   "source": [
    "**The model has been improved even further. The number of false negativs has now been slightly reduced even further 18 to 15, which means we are catching more cases of fraud, 73 to 76. However, you see that the number of false positives actually went up, 2 to 4. That is that Precision-Recall trade-off in action. To decide which final model is best, you need to take into account how bad it is not to catch fraudsters, versus how many false positives the fraud analytics team can deal with. Ultimately, this final decision should be made by you and the fraud team together.**"
   ]
  },
  {
   "cell_type": "markdown",
   "metadata": {},
   "source": [
    "### Logistic Regression - A comparison to our RF\n",
    "\n",
    "Implementing an Ensemble\n",
    "\n",
    "The Voting Classifier can potentially improve your original mode by combining the strengths and weaknesses of many other models. \n"
   ]
  },
  {
   "cell_type": "code",
   "execution_count": 53,
   "metadata": {},
   "outputs": [
    {
     "name": "stdout",
     "output_type": "stream",
     "text": [
      "ROC Score:\n",
      "0.9722054981702433\n",
      "\n",
      "Classification Report:\n",
      "              precision    recall  f1-score   support\n",
      "\n",
      "           0       0.99      0.98      0.99      2099\n",
      "           1       0.63      0.88      0.73        91\n",
      "\n",
      "    accuracy                           0.97      2190\n",
      "   macro avg       0.81      0.93      0.86      2190\n",
      "weighted avg       0.98      0.97      0.98      2190\n",
      "\n",
      "\n",
      "Confusion Matrix:\n",
      "[[2052   47]\n",
      " [  11   80]]\n"
     ]
    }
   ],
   "source": [
    "# Define the Logistic Regression model with weights\n",
    "model = LogisticRegression(class_weight={0:1, 1:15}, random_state=5, solver='liblinear')\n",
    "\n",
    "# Get the model results\n",
    "get_model_results(X_train, y_train, X_test, y_test, model)"
   ]
  },
  {
   "cell_type": "markdown",
   "metadata": {},
   "source": [
    "**As you can see the Logistic Regression has quite different performance from the Random Forest. More false positives, but also a better Recall. It will therefore will a useful addition to the Random Forest in an ensemble model.**"
   ]
  },
  {
   "cell_type": "markdown",
   "metadata": {},
   "source": [
    "### Voting Classifier\n",
    "\n",
    "Next we **combine three machine learning models into one**, to improve our Random Forest fraud detection model from before. We combine our usual Random Forest model, with the Logistic Regression from the previous exercise, with a simple Decision Tree. "
   ]
  },
  {
   "cell_type": "code",
   "execution_count": 54,
   "metadata": {},
   "outputs": [
    {
     "name": "stdout",
     "output_type": "stream",
     "text": [
      "\n",
      "Classification Report:\n",
      "              precision    recall  f1-score   support\n",
      "\n",
      "           0       0.99      1.00      0.99      2099\n",
      "           1       0.90      0.86      0.88        91\n",
      "\n",
      "    accuracy                           0.99      2190\n",
      "   macro avg       0.95      0.93      0.94      2190\n",
      "weighted avg       0.99      0.99      0.99      2190\n",
      "\n",
      "\n",
      "Confusion Matrix:\n",
      "[[2090    9]\n",
      " [  13   78]]\n"
     ]
    }
   ],
   "source": [
    "# Define the three classifiers to use in the ensemble\n",
    "clf1 = LogisticRegression(class_weight={0:1, 1:15},\n",
    "                          random_state=5,\n",
    "                          solver='liblinear')\n",
    "\n",
    "clf2 = RandomForestClassifier(class_weight={0:1, 1:12}, \n",
    "                              criterion='gini', \n",
    "                              max_depth=8, \n",
    "                              max_features='log2',\n",
    "                              min_samples_leaf=10, \n",
    "                              n_estimators=30, \n",
    "                              n_jobs=-1,\n",
    "                              random_state=5)\n",
    "\n",
    "clf3 = DecisionTreeClassifier(random_state=5,\n",
    "                              class_weight=\"balanced\")\n",
    "\n",
    "# Combine the classifiers in the ensemble model\n",
    "ensemble_model = VotingClassifier(estimators=[('lr', clf1), ('rf', clf2), ('dt', clf3)], voting='hard')\n",
    "\n",
    "# Get the results \n",
    "get_model_results(X_train, y_train, X_test, y_test, ensemble_model)"
   ]
  },
  {
   "cell_type": "markdown",
   "metadata": {},
   "source": [
    "**By combining the classifiers, you can take the best of multiple models. You've increased the cases of fraud you are catching from 76 to 78, and you only have 5 extra false positives in return. If you do care about catching as many fraud cases as you can, whilst keeping the false positives low, this is a pretty good trade-off. The Logistic Regression as a standalone was quite bad in terms of false positives, and the Random Forest was worse in terms of false negatives. By combining these together you indeed managed to improve performance.**"
   ]
  },
  {
   "cell_type": "markdown",
   "metadata": {},
   "source": [
    "### Adjusting weights within the Voting Classifier\n",
    "\n",
    "The Voting Classifier allows improvement on fraud detection performance, by combining good aspects from multiple models. Next we **adjust the weights** we give to these models. By increasing or decreasing weights illustrate **how much emphasis to give to a particular model** relative to the rest. This is useful when a certain model has overall better performance than the rest, but still want to combine aspects of the others to further improve your results."
   ]
  },
  {
   "cell_type": "code",
   "execution_count": 55,
   "metadata": {},
   "outputs": [
    {
     "name": "stdout",
     "output_type": "stream",
     "text": [
      "ROC Score:\n",
      "0.9739226947421326\n",
      "\n",
      "Classification Report:\n",
      "              precision    recall  f1-score   support\n",
      "\n",
      "           0       0.99      1.00      1.00      2099\n",
      "           1       0.94      0.85      0.89        91\n",
      "\n",
      "    accuracy                           0.99      2190\n",
      "   macro avg       0.97      0.92      0.94      2190\n",
      "weighted avg       0.99      0.99      0.99      2190\n",
      "\n",
      "\n",
      "Confusion Matrix:\n",
      "[[2094    5]\n",
      " [  14   77]]\n"
     ]
    }
   ],
   "source": [
    "# Define the ensemble model\n",
    "ensemble_model = VotingClassifier(estimators=[('lr', clf1), ('rf', clf2), ('gnb', clf3)], voting='soft', weights=[1, 4, 1], flatten_transform=True)\n",
    "\n",
    "# Get results \n",
    "get_model_results(X_train, y_train, X_test, y_test, ensemble_model)"
   ]
  },
  {
   "cell_type": "markdown",
   "metadata": {},
   "source": [
    "**The weight option allows individual models to get the optimal wighting mix for the fraud detection model. Weights must be experimented with to determine optimal allocation**"
   ]
  },
  {
   "cell_type": "markdown",
   "metadata": {},
   "source": [
    "# FD3 Fraud Detection Using Unlabeled Data\n",
    "\n",
    "Unsupervised learning techniques to detect fraud. Segment customers, use K-means clustering and other clustering algorithms to find suspicious occurrences."
   ]
  },
  {
   "cell_type": "markdown",
   "metadata": {},
   "source": [
    "### Exploring the data\n",
    "\n",
    "Next we look at bank **payment transaction data**. The financial transactions are categorized by type of expense, as well as the amount spent. Moreover, some client characteristics are available such as age group and gender.\n",
    "\n",
    "When using unsupervised learning techniques for fraud detection, **distinguish normal from abnormal** (thus potentially fraudulent) behavior. A fraud analyst would best understand what is \"normal\"."
   ]
  },
  {
   "cell_type": "code",
   "execution_count": 56,
   "metadata": {},
   "outputs": [],
   "source": [
    "banksim_df = pd.read_csv(banksim_file)\n",
    "banksim_df.drop(['Unnamed: 0'], axis=1, inplace=True)\n",
    "banksim_adj_df = pd.read_csv(banksim_adj_file)\n",
    "banksim_adj_df.drop(['Unnamed: 0'], axis=1, inplace=True)"
   ]
  },
  {
   "cell_type": "code",
   "execution_count": 57,
   "metadata": {},
   "outputs": [
    {
     "data": {
      "text/plain": [
       "(7200, 5)"
      ]
     },
     "execution_count": 57,
     "metadata": {},
     "output_type": "execute_result"
    }
   ],
   "source": [
    "banksim_df.shape"
   ]
  },
  {
   "cell_type": "code",
   "execution_count": 58,
   "metadata": {},
   "outputs": [
    {
     "data": {
      "text/html": [
       "<div>\n",
       "<style scoped>\n",
       "    .dataframe tbody tr th:only-of-type {\n",
       "        vertical-align: middle;\n",
       "    }\n",
       "\n",
       "    .dataframe tbody tr th {\n",
       "        vertical-align: top;\n",
       "    }\n",
       "\n",
       "    .dataframe thead th {\n",
       "        text-align: right;\n",
       "    }\n",
       "</style>\n",
       "<table border=\"1\" class=\"dataframe\">\n",
       "  <thead>\n",
       "    <tr style=\"text-align: right;\">\n",
       "      <th></th>\n",
       "      <th>age</th>\n",
       "      <th>gender</th>\n",
       "      <th>category</th>\n",
       "      <th>amount</th>\n",
       "      <th>fraud</th>\n",
       "    </tr>\n",
       "  </thead>\n",
       "  <tbody>\n",
       "    <tr>\n",
       "      <th>0</th>\n",
       "      <td>3</td>\n",
       "      <td>F</td>\n",
       "      <td>es_transportation</td>\n",
       "      <td>49.71</td>\n",
       "      <td>0</td>\n",
       "    </tr>\n",
       "    <tr>\n",
       "      <th>1</th>\n",
       "      <td>4</td>\n",
       "      <td>F</td>\n",
       "      <td>es_health</td>\n",
       "      <td>39.29</td>\n",
       "      <td>0</td>\n",
       "    </tr>\n",
       "    <tr>\n",
       "      <th>2</th>\n",
       "      <td>3</td>\n",
       "      <td>F</td>\n",
       "      <td>es_transportation</td>\n",
       "      <td>18.76</td>\n",
       "      <td>0</td>\n",
       "    </tr>\n",
       "    <tr>\n",
       "      <th>3</th>\n",
       "      <td>4</td>\n",
       "      <td>M</td>\n",
       "      <td>es_transportation</td>\n",
       "      <td>13.95</td>\n",
       "      <td>0</td>\n",
       "    </tr>\n",
       "    <tr>\n",
       "      <th>4</th>\n",
       "      <td>2</td>\n",
       "      <td>M</td>\n",
       "      <td>es_transportation</td>\n",
       "      <td>49.87</td>\n",
       "      <td>0</td>\n",
       "    </tr>\n",
       "  </tbody>\n",
       "</table>\n",
       "</div>"
      ],
      "text/plain": [
       "  age gender           category  amount  fraud\n",
       "0   3      F  es_transportation   49.71      0\n",
       "1   4      F          es_health   39.29      0\n",
       "2   3      F  es_transportation   18.76      0\n",
       "3   4      M  es_transportation   13.95      0\n",
       "4   2      M  es_transportation   49.87      0"
      ]
     },
     "execution_count": 58,
     "metadata": {},
     "output_type": "execute_result"
    }
   ],
   "source": [
    "banksim_df.head()"
   ]
  },
  {
   "cell_type": "code",
   "execution_count": 59,
   "metadata": {},
   "outputs": [
    {
     "data": {
      "text/plain": [
       "(7189, 18)"
      ]
     },
     "execution_count": 59,
     "metadata": {},
     "output_type": "execute_result"
    }
   ],
   "source": [
    "banksim_adj_df.shape"
   ]
  },
  {
   "cell_type": "code",
   "execution_count": 60,
   "metadata": {},
   "outputs": [
    {
     "data": {
      "text/html": [
       "<div>\n",
       "<style scoped>\n",
       "    .dataframe tbody tr th:only-of-type {\n",
       "        vertical-align: middle;\n",
       "    }\n",
       "\n",
       "    .dataframe tbody tr th {\n",
       "        vertical-align: top;\n",
       "    }\n",
       "\n",
       "    .dataframe thead th {\n",
       "        text-align: right;\n",
       "    }\n",
       "</style>\n",
       "<table border=\"1\" class=\"dataframe\">\n",
       "  <thead>\n",
       "    <tr style=\"text-align: right;\">\n",
       "      <th></th>\n",
       "      <th>age</th>\n",
       "      <th>amount</th>\n",
       "      <th>fraud</th>\n",
       "      <th>M</th>\n",
       "      <th>es_barsandrestaurants</th>\n",
       "      <th>es_contents</th>\n",
       "      <th>es_fashion</th>\n",
       "      <th>es_food</th>\n",
       "      <th>es_health</th>\n",
       "      <th>es_home</th>\n",
       "      <th>es_hotelservices</th>\n",
       "      <th>es_hyper</th>\n",
       "      <th>es_leisure</th>\n",
       "      <th>es_otherservices</th>\n",
       "      <th>es_sportsandtoys</th>\n",
       "      <th>es_tech</th>\n",
       "      <th>es_transportation</th>\n",
       "      <th>es_travel</th>\n",
       "    </tr>\n",
       "  </thead>\n",
       "  <tbody>\n",
       "    <tr>\n",
       "      <th>0</th>\n",
       "      <td>3</td>\n",
       "      <td>49.71</td>\n",
       "      <td>0</td>\n",
       "      <td>0</td>\n",
       "      <td>0</td>\n",
       "      <td>0</td>\n",
       "      <td>0</td>\n",
       "      <td>0</td>\n",
       "      <td>0</td>\n",
       "      <td>0</td>\n",
       "      <td>0</td>\n",
       "      <td>0</td>\n",
       "      <td>0</td>\n",
       "      <td>0</td>\n",
       "      <td>0</td>\n",
       "      <td>0</td>\n",
       "      <td>1</td>\n",
       "      <td>0</td>\n",
       "    </tr>\n",
       "    <tr>\n",
       "      <th>1</th>\n",
       "      <td>4</td>\n",
       "      <td>39.29</td>\n",
       "      <td>0</td>\n",
       "      <td>0</td>\n",
       "      <td>0</td>\n",
       "      <td>0</td>\n",
       "      <td>0</td>\n",
       "      <td>0</td>\n",
       "      <td>1</td>\n",
       "      <td>0</td>\n",
       "      <td>0</td>\n",
       "      <td>0</td>\n",
       "      <td>0</td>\n",
       "      <td>0</td>\n",
       "      <td>0</td>\n",
       "      <td>0</td>\n",
       "      <td>0</td>\n",
       "      <td>0</td>\n",
       "    </tr>\n",
       "    <tr>\n",
       "      <th>2</th>\n",
       "      <td>3</td>\n",
       "      <td>18.76</td>\n",
       "      <td>0</td>\n",
       "      <td>0</td>\n",
       "      <td>0</td>\n",
       "      <td>0</td>\n",
       "      <td>0</td>\n",
       "      <td>0</td>\n",
       "      <td>0</td>\n",
       "      <td>0</td>\n",
       "      <td>0</td>\n",
       "      <td>0</td>\n",
       "      <td>0</td>\n",
       "      <td>0</td>\n",
       "      <td>0</td>\n",
       "      <td>0</td>\n",
       "      <td>1</td>\n",
       "      <td>0</td>\n",
       "    </tr>\n",
       "    <tr>\n",
       "      <th>3</th>\n",
       "      <td>4</td>\n",
       "      <td>13.95</td>\n",
       "      <td>0</td>\n",
       "      <td>1</td>\n",
       "      <td>0</td>\n",
       "      <td>0</td>\n",
       "      <td>0</td>\n",
       "      <td>0</td>\n",
       "      <td>0</td>\n",
       "      <td>0</td>\n",
       "      <td>0</td>\n",
       "      <td>0</td>\n",
       "      <td>0</td>\n",
       "      <td>0</td>\n",
       "      <td>0</td>\n",
       "      <td>0</td>\n",
       "      <td>1</td>\n",
       "      <td>0</td>\n",
       "    </tr>\n",
       "    <tr>\n",
       "      <th>4</th>\n",
       "      <td>2</td>\n",
       "      <td>49.87</td>\n",
       "      <td>0</td>\n",
       "      <td>1</td>\n",
       "      <td>0</td>\n",
       "      <td>0</td>\n",
       "      <td>0</td>\n",
       "      <td>0</td>\n",
       "      <td>0</td>\n",
       "      <td>0</td>\n",
       "      <td>0</td>\n",
       "      <td>0</td>\n",
       "      <td>0</td>\n",
       "      <td>0</td>\n",
       "      <td>0</td>\n",
       "      <td>0</td>\n",
       "      <td>1</td>\n",
       "      <td>0</td>\n",
       "    </tr>\n",
       "  </tbody>\n",
       "</table>\n",
       "</div>"
      ],
      "text/plain": [
       "   age  amount  fraud  M  es_barsandrestaurants  es_contents  es_fashion  \\\n",
       "0    3   49.71      0  0                      0            0           0   \n",
       "1    4   39.29      0  0                      0            0           0   \n",
       "2    3   18.76      0  0                      0            0           0   \n",
       "3    4   13.95      0  1                      0            0           0   \n",
       "4    2   49.87      0  1                      0            0           0   \n",
       "\n",
       "   es_food  es_health  es_home  es_hotelservices  es_hyper  es_leisure  \\\n",
       "0        0          0        0                 0         0           0   \n",
       "1        0          1        0                 0         0           0   \n",
       "2        0          0        0                 0         0           0   \n",
       "3        0          0        0                 0         0           0   \n",
       "4        0          0        0                 0         0           0   \n",
       "\n",
       "   es_otherservices  es_sportsandtoys  es_tech  es_transportation  es_travel  \n",
       "0                 0                 0        0                  1          0  \n",
       "1                 0                 0        0                  0          0  \n",
       "2                 0                 0        0                  1          0  \n",
       "3                 0                 0        0                  1          0  \n",
       "4                 0                 0        0                  1          0  "
      ]
     },
     "execution_count": 60,
     "metadata": {},
     "output_type": "execute_result"
    }
   ],
   "source": [
    "banksim_adj_df.head()"
   ]
  },
  {
   "cell_type": "code",
   "execution_count": 61,
   "metadata": {},
   "outputs": [
    {
     "data": {
      "text/html": [
       "<div>\n",
       "<style scoped>\n",
       "    .dataframe tbody tr th:only-of-type {\n",
       "        vertical-align: middle;\n",
       "    }\n",
       "\n",
       "    .dataframe tbody tr th {\n",
       "        vertical-align: top;\n",
       "    }\n",
       "\n",
       "    .dataframe thead th {\n",
       "        text-align: right;\n",
       "    }\n",
       "</style>\n",
       "<table border=\"1\" class=\"dataframe\">\n",
       "  <thead>\n",
       "    <tr style=\"text-align: right;\">\n",
       "      <th></th>\n",
       "      <th>amount</th>\n",
       "      <th>fraud</th>\n",
       "    </tr>\n",
       "    <tr>\n",
       "      <th>category</th>\n",
       "      <th></th>\n",
       "      <th></th>\n",
       "    </tr>\n",
       "  </thead>\n",
       "  <tbody>\n",
       "    <tr>\n",
       "      <th>es_barsandrestaurants</th>\n",
       "      <td>43.841793</td>\n",
       "      <td>0.022472</td>\n",
       "    </tr>\n",
       "    <tr>\n",
       "      <th>es_contents</th>\n",
       "      <td>55.170000</td>\n",
       "      <td>0.000000</td>\n",
       "    </tr>\n",
       "    <tr>\n",
       "      <th>es_fashion</th>\n",
       "      <td>59.780769</td>\n",
       "      <td>0.020619</td>\n",
       "    </tr>\n",
       "    <tr>\n",
       "      <th>es_food</th>\n",
       "      <td>35.216050</td>\n",
       "      <td>0.000000</td>\n",
       "    </tr>\n",
       "    <tr>\n",
       "      <th>es_health</th>\n",
       "      <td>126.604704</td>\n",
       "      <td>0.242798</td>\n",
       "    </tr>\n",
       "    <tr>\n",
       "      <th>es_home</th>\n",
       "      <td>120.688317</td>\n",
       "      <td>0.208333</td>\n",
       "    </tr>\n",
       "    <tr>\n",
       "      <th>es_hotelservices</th>\n",
       "      <td>172.756245</td>\n",
       "      <td>0.548387</td>\n",
       "    </tr>\n",
       "    <tr>\n",
       "      <th>es_hyper</th>\n",
       "      <td>46.788180</td>\n",
       "      <td>0.125000</td>\n",
       "    </tr>\n",
       "    <tr>\n",
       "      <th>es_leisure</th>\n",
       "      <td>229.757600</td>\n",
       "      <td>1.000000</td>\n",
       "    </tr>\n",
       "    <tr>\n",
       "      <th>es_otherservices</th>\n",
       "      <td>149.648960</td>\n",
       "      <td>0.600000</td>\n",
       "    </tr>\n",
       "    <tr>\n",
       "      <th>es_sportsandtoys</th>\n",
       "      <td>157.251737</td>\n",
       "      <td>0.657895</td>\n",
       "    </tr>\n",
       "    <tr>\n",
       "      <th>es_tech</th>\n",
       "      <td>132.852862</td>\n",
       "      <td>0.179487</td>\n",
       "    </tr>\n",
       "    <tr>\n",
       "      <th>es_transportation</th>\n",
       "      <td>27.422014</td>\n",
       "      <td>0.000000</td>\n",
       "    </tr>\n",
       "    <tr>\n",
       "      <th>es_travel</th>\n",
       "      <td>231.818656</td>\n",
       "      <td>0.944444</td>\n",
       "    </tr>\n",
       "    <tr>\n",
       "      <th>es_wellnessandbeauty</th>\n",
       "      <td>66.167078</td>\n",
       "      <td>0.060606</td>\n",
       "    </tr>\n",
       "  </tbody>\n",
       "</table>\n",
       "</div>"
      ],
      "text/plain": [
       "                           amount     fraud\n",
       "category                                   \n",
       "es_barsandrestaurants   43.841793  0.022472\n",
       "es_contents             55.170000  0.000000\n",
       "es_fashion              59.780769  0.020619\n",
       "es_food                 35.216050  0.000000\n",
       "es_health              126.604704  0.242798\n",
       "es_home                120.688317  0.208333\n",
       "es_hotelservices       172.756245  0.548387\n",
       "es_hyper                46.788180  0.125000\n",
       "es_leisure             229.757600  1.000000\n",
       "es_otherservices       149.648960  0.600000\n",
       "es_sportsandtoys       157.251737  0.657895\n",
       "es_tech                132.852862  0.179487\n",
       "es_transportation       27.422014  0.000000\n",
       "es_travel              231.818656  0.944444\n",
       "es_wellnessandbeauty    66.167078  0.060606"
      ]
     },
     "execution_count": 61,
     "metadata": {},
     "output_type": "execute_result"
    }
   ],
   "source": [
    "banksim_df.groupby(['category']).mean()"
   ]
  },
  {
   "cell_type": "markdown",
   "metadata": {},
   "source": [
    "### Customer segmentation\n",
    "\n",
    "Chekcing for any **obvious patterns** for the clients in this data, we need to determine if there a need to segment your data into groups, aka homogenous populations.\n",
    "\n",
    "Unfortunately there is not a lot client information available; for example we can not distinguish between the wealth levels of different clients. However, there is data on **age ** available.\n"
   ]
  },
  {
   "cell_type": "code",
   "execution_count": 62,
   "metadata": {},
   "outputs": [
    {
     "data": {
      "text/html": [
       "<div>\n",
       "<style scoped>\n",
       "    .dataframe tbody tr th:only-of-type {\n",
       "        vertical-align: middle;\n",
       "    }\n",
       "\n",
       "    .dataframe tbody tr th {\n",
       "        vertical-align: top;\n",
       "    }\n",
       "\n",
       "    .dataframe thead th {\n",
       "        text-align: right;\n",
       "    }\n",
       "</style>\n",
       "<table border=\"1\" class=\"dataframe\">\n",
       "  <thead>\n",
       "    <tr style=\"text-align: right;\">\n",
       "      <th></th>\n",
       "      <th>amount</th>\n",
       "      <th>fraud</th>\n",
       "    </tr>\n",
       "    <tr>\n",
       "      <th>age</th>\n",
       "      <th></th>\n",
       "      <th></th>\n",
       "    </tr>\n",
       "  </thead>\n",
       "  <tbody>\n",
       "    <tr>\n",
       "      <th>0</th>\n",
       "      <td>49.468935</td>\n",
       "      <td>0.050000</td>\n",
       "    </tr>\n",
       "    <tr>\n",
       "      <th>1</th>\n",
       "      <td>35.622829</td>\n",
       "      <td>0.026648</td>\n",
       "    </tr>\n",
       "    <tr>\n",
       "      <th>2</th>\n",
       "      <td>37.228665</td>\n",
       "      <td>0.028718</td>\n",
       "    </tr>\n",
       "    <tr>\n",
       "      <th>3</th>\n",
       "      <td>37.279338</td>\n",
       "      <td>0.023283</td>\n",
       "    </tr>\n",
       "    <tr>\n",
       "      <th>4</th>\n",
       "      <td>36.197985</td>\n",
       "      <td>0.035966</td>\n",
       "    </tr>\n",
       "    <tr>\n",
       "      <th>5</th>\n",
       "      <td>37.547521</td>\n",
       "      <td>0.023990</td>\n",
       "    </tr>\n",
       "    <tr>\n",
       "      <th>6</th>\n",
       "      <td>36.700852</td>\n",
       "      <td>0.022293</td>\n",
       "    </tr>\n",
       "    <tr>\n",
       "      <th>U</th>\n",
       "      <td>39.117000</td>\n",
       "      <td>0.000000</td>\n",
       "    </tr>\n",
       "  </tbody>\n",
       "</table>\n",
       "</div>"
      ],
      "text/plain": [
       "        amount     fraud\n",
       "age                     \n",
       "0    49.468935  0.050000\n",
       "1    35.622829  0.026648\n",
       "2    37.228665  0.028718\n",
       "3    37.279338  0.023283\n",
       "4    36.197985  0.035966\n",
       "5    37.547521  0.023990\n",
       "6    36.700852  0.022293\n",
       "U    39.117000  0.000000"
      ]
     },
     "execution_count": 62,
     "metadata": {},
     "output_type": "execute_result"
    }
   ],
   "source": [
    "banksim_df.groupby(['age']).mean()"
   ]
  },
  {
   "cell_type": "code",
   "execution_count": 63,
   "metadata": {},
   "outputs": [
    {
     "data": {
      "text/plain": [
       "2    2333\n",
       "3    1718\n",
       "4    1279\n",
       "5     792\n",
       "1     713\n",
       "6     314\n",
       "0      40\n",
       "U      11\n",
       "Name: age, dtype: int64"
      ]
     },
     "execution_count": 63,
     "metadata": {},
     "output_type": "execute_result"
    }
   ],
   "source": [
    "banksim_df.age.value_counts()"
   ]
  },
  {
   "cell_type": "markdown",
   "metadata": {},
   "source": [
    "**The average amount spent as well as fraud occurrence is rather similar across groups. Age group '0' stands out but since there are only 40 cases, it does not make sense to split these out in a separate group and run a separate model on them.**"
   ]
  },
  {
   "cell_type": "markdown",
   "metadata": {},
   "source": [
    "### Using statistics to define normal behavior\n",
    "\n",
    "There is no obvious way to segment our data into for example age groups. However, we can investigate the **average amounts spent** in normal transactions versus fraud transactions. Giving an idea of how fraudulent transactions **differ structurally** from normal transactions."
   ]
  },
  {
   "cell_type": "code",
   "execution_count": 64,
   "metadata": {},
   "outputs": [],
   "source": [
    "# Create two dataframes with fraud and non-fraud data \n",
    "df_fraud = banksim_df[banksim_df.fraud == 1] \n",
    "df_non_fraud = banksim_df[banksim_df.fraud == 0]"
   ]
  },
  {
   "cell_type": "code",
   "execution_count": 65,
   "metadata": {},
   "outputs": [
    {
     "data": {
      "image/png": "[encoded data removed]",
      "text/plain": [
       "<Figure size 432x288 with 1 Axes>"
      ]
     },
     "metadata": {
      "needs_background": "light"
     },
     "output_type": "display_data"
    }
   ],
   "source": [
    "# Plot histograms of the amounts in fraud and non-fraud data \n",
    "plt.hist(df_fraud.amount, alpha=0.5, label='fraud')\n",
    "plt.hist(df_non_fraud.amount, alpha=0.5, label='nonfraud')\n",
    "plt.xlabel('amount')\n",
    "plt.legend()\n",
    "plt.show()"
   ]
  },
  {
   "cell_type": "markdown",
   "metadata": {},
   "source": [
    "**As the number fraud observations is much smaller, it is difficult to see the full distribution. Nonetheless, you can see that the fraudulent transactions tend to be on the larger side relative to normal observations. This is good news, as it helps us later in detecting fraud from non-fraud. In the next chapter you're going to implement a clustering model to distinguish between normal and abnormal transactions, when the fraud labels are no longer available.**"
   ]
  },
  {
   "cell_type": "markdown",
   "metadata": {},
   "source": [
    "## Clustering methods to detect fraud"
   ]
  },
  {
   "cell_type": "code",
   "execution_count": 66,
   "metadata": {},
   "outputs": [],
   "source": [
    "labels = banksim_adj_df.fraud"
   ]
  },
  {
   "cell_type": "code",
   "execution_count": 67,
   "metadata": {},
   "outputs": [],
   "source": [
    "cols = ['age', 'amount', 'M', 'es_barsandrestaurants', 'es_contents',\n",
    "        'es_fashion', 'es_food', 'es_health', 'es_home', 'es_hotelservices',\n",
    "        'es_hyper', 'es_leisure', 'es_otherservices', 'es_sportsandtoys',\n",
    "        'es_tech', 'es_transportation', 'es_travel']"
   ]
  },
  {
   "cell_type": "code",
   "execution_count": 68,
   "metadata": {},
   "outputs": [],
   "source": [
    "# Take the float values of df for X\n",
    "X = banksim_adj_df[cols].values.astype(np.float)"
   ]
  },
  {
   "cell_type": "code",
   "execution_count": 69,
   "metadata": {},
   "outputs": [
    {
     "data": {
      "text/plain": [
       "(7189, 17)"
      ]
     },
     "execution_count": 69,
     "metadata": {},
     "output_type": "execute_result"
    }
   ],
   "source": [
    "X.shape"
   ]
  },
  {
   "cell_type": "code",
   "execution_count": 70,
   "metadata": {},
   "outputs": [],
   "source": [
    "# Define the scaler and apply to the data\n",
    "scaler = MinMaxScaler()\n",
    "X_scaled = scaler.fit_transform(X)"
   ]
  },
  {
   "cell_type": "code",
   "execution_count": 71,
   "metadata": {},
   "outputs": [
    {
     "data": {
      "text/plain": [
       "MiniBatchKMeans(random_state=0)"
      ]
     },
     "execution_count": 71,
     "metadata": {},
     "output_type": "execute_result"
    }
   ],
   "source": [
    "# Define the model \n",
    "kmeans = MiniBatchKMeans(n_clusters=8, random_state=0)\n",
    "\n",
    "# Fit the model to the scaled data\n",
    "kmeans.fit(X_scaled)"
   ]
  },
  {
   "cell_type": "markdown",
   "metadata": {},
   "source": [
    "**Having fit the MiniBatch K-means model to the data, we still need to figure our what the right number of clusters to use is. Let's do that in the next exercise.**"
   ]
  },
  {
   "cell_type": "markdown",
   "metadata": {},
   "source": [
    "### Elbow Method to Determine K"
   ]
  },
  {
   "cell_type": "code",
   "execution_count": 72,
   "metadata": {},
   "outputs": [],
   "source": [
    "# Define the range of clusters to try\n",
    "clustno = range(1, 10)\n",
    "\n",
    "# Run MiniBatch Kmeans over the number of clusters\n",
    "kmeans = [MiniBatchKMeans(n_clusters=i) for i in clustno]\n",
    "\n",
    "# Obtain the score for each model\n",
    "score = [kmeans[i].fit(X_scaled).score(X_scaled) for i in range(len(kmeans))]"
   ]
  },
  {
   "cell_type": "code",
   "execution_count": 73,
   "metadata": {},
   "outputs": [
    {
     "data": {
      "image/png": "[encoded data removed]",
      "text/plain": [
       "<Figure size 432x288 with 1 Axes>"
      ]
     },
     "metadata": {
      "needs_background": "light"
     },
     "output_type": "display_data"
    }
   ],
   "source": [
    "# Plot the models and their respective score \n",
    "plt.plot(clustno, score)\n",
    "plt.xlabel('Number of Clusters')\n",
    "plt.ylabel('Score')\n",
    "plt.title('Elbow Curve')\n",
    "plt.show()"
   ]
  },
  {
   "cell_type": "markdown",
   "metadata": {},
   "source": [
    "**The optimal number of clusters should probably be at around 3 clusters, as that is where the elbow is in the curve. We'll use this in the next exercise as our baseline model, and see how well this does in detecting fraud**"
   ]
  },
  {
   "cell_type": "markdown",
   "metadata": {},
   "source": [
    "#### Validating the K-Minibatch Model Results\n",
    "\n",
    "* without fraud labels, the usual performance metrics can't be run\n",
    "    * check with the fraud analyst\n",
    "    * investigate and describe cases that are flagged in more detail\n",
    "        * is it fraudulent or just a rare case of legit data\n",
    "        * avoid rare, legit cases by deleting certain features or removing the cases from the data\n",
    "    * if there are past cases of fraud, see if the model can predict them using historic data"
   ]
  },
  {
   "cell_type": "markdown",
   "metadata": {},
   "source": [
    "### Detecting outliers\n",
    "\n",
    "Using the K-means algorithm to predict fraud, and we compare those predictions to the actual labels that are saved, to sense check our results (since we don't have an actual fraud analyst)\n"
   ]
  },
  {
   "cell_type": "code",
   "execution_count": 74,
   "metadata": {},
   "outputs": [],
   "source": [
    "# Split the data into training and test set\n",
    "X_train, X_test, y_train, y_test = train_test_split(X_scaled, labels, test_size=0.3, random_state=0)\n",
    "\n",
    "# Define K-means model \n",
    "kmeans = MiniBatchKMeans(n_clusters=3, random_state=42).fit(X_train)\n",
    "\n",
    "# Obtain predictions and calculate distance from cluster centroid\n",
    "X_test_clusters = kmeans.predict(X_test)\n",
    "X_test_clusters_centers = kmeans.cluster_centers_\n",
    "dist = [np.linalg.norm(x-y) for x, y in zip(X_test, X_test_clusters_centers[X_test_clusters])]\n",
    "\n",
    "# Create fraud predictions based on outliers on clusters \n",
    "km_y_pred = np.array(dist)\n",
    "km_y_pred[dist >= np.percentile(dist, 95)] = 1\n",
    "km_y_pred[dist < np.percentile(dist, 95)] = 0"
   ]
  },
  {
   "cell_type": "code",
   "execution_count": 75,
   "metadata": {},
   "outputs": [],
   "source": [
    "def plot_confusion_matrix(cm, classes=['Not Fraud', 'Fraud'],\n",
    "                          normalize=False,\n",
    "                          title='Fraud Confusion matrix',\n",
    "                          cmap=plt.cm.Blues):\n",
    "    \"\"\"\n",
    "    This function prints and plots the confusion matrix.\n",
    "    Normalization can be applied by setting `normalize=True`.\n",
    "    From:\n",
    "        http://scikit-learn.org/stable/auto_examples/model_selection/plot_confusion_matrix.html#sphx-glr-auto-\n",
    "        examples-model-selection-plot-confusion-matrix-py\n",
    "    \"\"\"\n",
    "    if normalize:\n",
    "        cm = cm.astype('float') / cm.sum(axis=1)[:, np.newaxis]\n",
    "        print(\"Normalized confusion matrix\")\n",
    "    else:\n",
    "        print('Confusion matrix, without normalization')\n",
    "\n",
    "    # print(cm)\n",
    "\n",
    "    plt.imshow(cm, interpolation='nearest', cmap=cmap)\n",
    "    plt.title(title)\n",
    "    plt.colorbar()\n",
    "    tick_marks = np.arange(len(classes))\n",
    "    plt.xticks(tick_marks, classes, rotation=45)\n",
    "    plt.yticks(tick_marks, classes)\n",
    "\n",
    "    fmt = '.2f' if normalize else 'd'\n",
    "    thresh = cm.max() / 2.\n",
    "    for i, j in product(range(cm.shape[0]), range(cm.shape[1])):\n",
    "        plt.text(j, i, format(cm[i, j], fmt),\n",
    "                 horizontalalignment=\"center\",\n",
    "                 color=\"white\" if cm[i, j] > thresh else \"black\")\n",
    "\n",
    "    plt.tight_layout()\n",
    "    plt.ylabel('True label')\n",
    "    plt.xlabel('Predicted label')\n",
    "    plt.show()"
   ]
  },
  {
   "cell_type": "code",
   "execution_count": 76,
   "metadata": {},
   "outputs": [
    {
     "data": {
      "text/plain": [
       "0.8109115999408585"
      ]
     },
     "execution_count": 76,
     "metadata": {},
     "output_type": "execute_result"
    }
   ],
   "source": [
    "# Obtain the ROC score\n",
    "roc_auc_score(y_test, km_y_pred)"
   ]
  },
  {
   "cell_type": "code",
   "execution_count": 77,
   "metadata": {},
   "outputs": [
    {
     "name": "stdout",
     "output_type": "stream",
     "text": [
      "Confusion matrix, without normalization\n"
     ]
    },
    {
     "data": {
      "image/png": "[encoded data removed]",
      "text/plain": [
       "<Figure size 432x288 with 2 Axes>"
      ]
     },
     "metadata": {
      "needs_background": "light"
     },
     "output_type": "display_data"
    }
   ],
   "source": [
    "# Create a confusion matrix\n",
    "km_cm = confusion_matrix(y_test, km_y_pred)\n",
    "\n",
    "# Plot the confusion matrix in a figure to visualize results \n",
    "plot_confusion_matrix(km_cm)"
   ]
  },
  {
   "cell_type": "markdown",
   "metadata": {},
   "source": [
    "## Alternate clustering methods for fraud detection\n",
    "\n",
    "* In addition to K-means, there are many different clustering methods, which can be used for fraud detection\n",
    "* ![clustering methods](images/clustering_methods.jpeg)\n",
    "* K-means works well when the data is clustered in normal, round shapes\n",
    "* There are methods to flag fraud other the cluster outliers\n",
    "* ![clustering outlier](images/cluster_outlier.jpeg)\n",
    "    * Small clusters can be an indication of fraud\n",
    "    * This approach can be used when fraudulent behavior has commonalities, which cause clustering\n",
    "    * The fraudulent data would cluster in tiny groups, rather than be the outliers of larger clusters\n",
    "* ![typical data](images/typical_data.jpeg)\n",
    "    * In this case there are 3 obvious clusters\n",
    "    * The smallest dots are outliers and outside of what can be described as normal behavior\n",
    "    * There are also small to medium clusters closely connected to the red cluster\n",
    "    * Visualizing the data with something like [PCA](https://en.wikipedia.org/wiki/Principal_component_analysis) can be quite helpful"
   ]
  },
  {
   "cell_type": "markdown",
   "metadata": {},
   "source": [
    "#### DBSCAN: Density-Based Spatial Clustering of Applications with Noise\n",
    "\n",
    "* [DBscan](https://en.wikipedia.org/wiki/DBSCAN)\n",
    "* DBSCAN vs. K-means\n",
    "    * The number of clusters does not need to be predefined\n",
    "        * The algorithm finds core samples of high density and expands clusters from them\n",
    "        * Works well on data containing clusters of similar density\n",
    "    * This type of algorithm can be used to identify fraud as very small clusters\n",
    "    * Maximum allowed distance between points in a cluster must be assigned\n",
    "    * Minimal number of data points in clusters must be assigned\n",
    "    * Better performance on weirdly shaped data\n",
    "    * Computationally heavier then MiniBatch K-means"
   ]
  },
  {
   "cell_type": "markdown",
   "metadata": {},
   "source": [
    "### DB scan"
   ]
  },
  {
   "cell_type": "code",
   "execution_count": 78,
   "metadata": {},
   "outputs": [],
   "source": [
    "# Initialize and fit the DBscan model\n",
    "db = DBSCAN(eps=0.9, min_samples=10, n_jobs=-1).fit(X_scaled)\n",
    "\n",
    "# Obtain the predicted labels and calculate number of clusters\n",
    "pred_labels = db.labels_\n",
    "n_clusters = len(set(pred_labels)) - (1 if -1 in labels else 0)"
   ]
  },
  {
   "cell_type": "code",
   "execution_count": 79,
   "metadata": {},
   "outputs": [
    {
     "name": "stdout",
     "output_type": "stream",
     "text": [
      "Estimated number of clusters: 23\n",
      "Homogeneity: 0.612\n",
      "Silhouette Coefficient: 0.713\n"
     ]
    }
   ],
   "source": [
    "# Print performance metrics for DBscan\n",
    "print(f'Estimated number of clusters: {n_clusters}')\n",
    "print(f'Homogeneity: {homogeneity_score(labels, pred_labels):0.3f}')\n",
    "print(f'Silhouette Coefficient: {silhouette_score(X_scaled, pred_labels):0.3f}')"
   ]
  },
  {
   "cell_type": "markdown",
   "metadata": {},
   "source": [
    "**The number of clusters is much higher than with K-means. For fraud detection this is for now OK, as we are only interested in the smallest clusters, since those are considered as abnormal. Now have a look at those clusters and decide which one to flag as fraud.**"
   ]
  },
  {
   "cell_type": "markdown",
   "metadata": {},
   "source": [
    "### Assessing smallest clusters - DB Scan"
   ]
  },
  {
   "cell_type": "code",
   "execution_count": 80,
   "metadata": {},
   "outputs": [
    {
     "name": "stdout",
     "output_type": "stream",
     "text": [
      "[3252  145 2714   55  174  119  122   98   54   15   76   15   43   25\n",
      "   51   47   42   15   25   20   19   10]\n"
     ]
    }
   ],
   "source": [
    "# Count observations in each cluster number\n",
    "counts = np.bincount(pred_labels[pred_labels >= 0])\n",
    "\n",
    "# Print the result\n",
    "print(counts)"
   ]
  },
  {
   "cell_type": "code",
   "execution_count": 81,
   "metadata": {},
   "outputs": [],
   "source": [
    "# Sort the sample counts of the clusters and take the top 3 smallest clusters\n",
    "smallest_clusters = np.argsort(counts)[:3]"
   ]
  },
  {
   "cell_type": "code",
   "execution_count": 82,
   "metadata": {},
   "outputs": [
    {
     "name": "stdout",
     "output_type": "stream",
     "text": [
      "The smallest clusters are clusters: [21 17  9]\n"
     ]
    }
   ],
   "source": [
    "# Print the results \n",
    "print(f'The smallest clusters are clusters: {smallest_clusters}')"
   ]
  },
  {
   "cell_type": "code",
   "execution_count": 83,
   "metadata": {},
   "outputs": [
    {
     "name": "stdout",
     "output_type": "stream",
     "text": [
      "Their counts are: [10 15 15]\n"
     ]
    }
   ],
   "source": [
    "# Print the counts of the smallest clusters only\n",
    "print(f'Their counts are: {counts[smallest_clusters]}')"
   ]
  },
  {
   "cell_type": "markdown",
   "metadata": {},
   "source": [
    "**So now we know which smallest clusters you could flag as fraud. If you were to take more of the smallest clusters, you cast your net wider and catch more fraud, but most likely also more false positives. It is up to the fraud analyst to find the right amount of cases to flag and to investigate. In the next exercise you'll check the results with the actual labels.**"
   ]
  },
  {
   "cell_type": "markdown",
   "metadata": {},
   "source": [
    "### Results verification\n"
   ]
  },
  {
   "cell_type": "code",
   "execution_count": 84,
   "metadata": {},
   "outputs": [],
   "source": [
    "# Create a dataframe of the predicted cluster numbers and fraud labels \n",
    "df = pd.DataFrame({'clusternr':pred_labels,'fraud':labels})\n",
    "\n",
    "# Create a condition flagging fraud for the smallest clusters \n",
    "df['predicted_fraud'] = np.where((df['clusternr'].isin([21, 17, 9])), 1 , 0)"
   ]
  },
  {
   "cell_type": "code",
   "execution_count": 85,
   "metadata": {},
   "outputs": [
    {
     "name": "stdout",
     "output_type": "stream",
     "text": [
      "Flagged Fraud     0   1\n",
      "Actual Fraud           \n",
      "0              6973  16\n",
      "1               176  24\n"
     ]
    }
   ],
   "source": [
    "# Run a crosstab on the results \n",
    "print(pd.crosstab(df['fraud'], df['predicted_fraud'], rownames=['Actual Fraud'], colnames=['Flagged Fraud']))"
   ]
  },
  {
   "cell_type": "markdown",
   "metadata": {},
   "source": [
    "**Compared to the K-means model, we have significantly less false positives, 70 to 16, however we have significantly more falst negatives 20 to 176 and catch overall less fraud, 38 to 24. The good thing is: our of all flagged cases, roughly 16/24 are actually fraud with is higher than 38/70. Since you only take the three smallest clusters, by definition you flag less cases of fraud, so you catch less but also have less false positives. However, you are missing quite a lot of fraud cases. Increasing the amount of smallest clusters you flag could improve that, but at the cost of more false positives.**"
   ]
  },
  {
   "cell_type": "markdown",
   "metadata": {},
   "source": [
    "# FD4 Fraud Detection using NLP\n",
    "\n",
    "Text data, text mining and topic modeling to detect fraudulent behavior."
   ]
  },
  {
   "cell_type": "markdown",
   "metadata": {},
   "source": [
    "### Word search with dataframes\n",
    "\n",
    "Lastly, we will use text data, containing emails from Enron employees. The **Enron scandal** is a famous fraud case. Enron employees covered up the bad financial position of the company, thereby keeping the stock price artificially high. Enron employees sold their own stock options, and when the truth came out, Enron investors were left with nothing. The goal is to find all emails that mention specific words, such as \"sell enron stock\"."
   ]
  },
  {
   "cell_type": "markdown",
   "metadata": {},
   "source": [
    "### Simple Term Search"
   ]
  },
  {
   "cell_type": "code",
   "execution_count": 86,
   "metadata": {},
   "outputs": [],
   "source": [
    "df = pd.read_csv(enron_emails_clean_file)"
   ]
  },
  {
   "cell_type": "code",
   "execution_count": 87,
   "metadata": {},
   "outputs": [],
   "source": [
    "mask = df['clean_content'].str.contains('sell enron stock', na=False)"
   ]
  },
  {
   "cell_type": "code",
   "execution_count": 88,
   "metadata": {},
   "outputs": [
    {
     "data": {
      "text/html": [
       "<div>\n",
       "<style scoped>\n",
       "    .dataframe tbody tr th:only-of-type {\n",
       "        vertical-align: middle;\n",
       "    }\n",
       "\n",
       "    .dataframe tbody tr th {\n",
       "        vertical-align: top;\n",
       "    }\n",
       "\n",
       "    .dataframe thead th {\n",
       "        text-align: right;\n",
       "    }\n",
       "</style>\n",
       "<table border=\"1\" class=\"dataframe\">\n",
       "  <thead>\n",
       "    <tr style=\"text-align: right;\">\n",
       "      <th></th>\n",
       "      <th>Message-ID</th>\n",
       "      <th>From</th>\n",
       "      <th>To</th>\n",
       "      <th>Date</th>\n",
       "      <th>content</th>\n",
       "      <th>clean_content</th>\n",
       "    </tr>\n",
       "  </thead>\n",
       "  <tbody>\n",
       "    <tr>\n",
       "      <th>154</th>\n",
       "      <td>&lt;6336501.1075841154311.JavaMail.evans@thyme&gt;</td>\n",
       "      <td>('sarah.palmer@enron.com')</td>\n",
       "      <td>('sarah.palmer@enron.com')</td>\n",
       "      <td>2002-02-01 14:53:35</td>\n",
       "      <td>\\nJoint Venture: A 1997 Enron Meeting Belies O...</td>\n",
       "      <td>joint venture enron meeting belies officers cl...</td>\n",
       "    </tr>\n",
       "  </tbody>\n",
       "</table>\n",
       "</div>"
      ],
      "text/plain": [
       "                                       Message-ID                        From  \\\n",
       "154  <6336501.1075841154311.JavaMail.evans@thyme>  ('sarah.palmer@enron.com')   \n",
       "\n",
       "                             To                 Date  \\\n",
       "154  ('sarah.palmer@enron.com')  2002-02-01 14:53:35   \n",
       "\n",
       "                                               content  \\\n",
       "154  \\nJoint Venture: A 1997 Enron Meeting Belies O...   \n",
       "\n",
       "                                         clean_content  \n",
       "154  joint venture enron meeting belies officers cl...  "
      ]
     },
     "execution_count": 88,
     "metadata": {},
     "output_type": "execute_result"
    }
   ],
   "source": [
    "# Select the data from df using the mask\n",
    "df[mask]"
   ]
  },
  {
   "cell_type": "markdown",
   "metadata": {},
   "source": [
    "**You see that searching for particular string values in a dataframe can be relatively easy, and allows you to include textual data into your model or analysis. You can use this word search as an additional flag, or as a feature in your fraud detection model. Let's look at how to filter the data using multiple search terms.**"
   ]
  },
  {
   "cell_type": "markdown",
   "metadata": {},
   "source": [
    "### Using List of Search Terms\n",
    "\n",
    "Oftentimes we don't want to search on just one term. You probably can create a full **\"fraud dictionary\"** of terms that could potentially **flag fraudulent clients** and/or transactions. Fraud analysts often will have an idea what should be in such a dictionary. In this exercise you're going to **flag a multitude of terms**. We can use this in machine learning models as a feature, or as an additional filter on top of your machine learning model results."
   ]
  },
  {
   "cell_type": "code",
   "execution_count": 89,
   "metadata": {},
   "outputs": [
    {
     "data": {
      "text/html": [
       "<div>\n",
       "<style scoped>\n",
       "    .dataframe tbody tr th:only-of-type {\n",
       "        vertical-align: middle;\n",
       "    }\n",
       "\n",
       "    .dataframe tbody tr th {\n",
       "        vertical-align: top;\n",
       "    }\n",
       "\n",
       "    .dataframe thead th {\n",
       "        text-align: right;\n",
       "    }\n",
       "</style>\n",
       "<table border=\"1\" class=\"dataframe\">\n",
       "  <thead>\n",
       "    <tr style=\"text-align: right;\">\n",
       "      <th></th>\n",
       "      <th>Message-ID</th>\n",
       "      <th>From</th>\n",
       "      <th>To</th>\n",
       "      <th>Date</th>\n",
       "      <th>content</th>\n",
       "      <th>clean_content</th>\n",
       "    </tr>\n",
       "  </thead>\n",
       "  <tbody>\n",
       "    <tr>\n",
       "      <th>0</th>\n",
       "      <td>&lt;8345058.1075840404046.JavaMail.evans@thyme&gt;</td>\n",
       "      <td>('advdfeedback@investools.com')</td>\n",
       "      <td>('advdfeedback@investools.com')</td>\n",
       "      <td>2002-01-29 23:20:55</td>\n",
       "      <td>INVESTools Advisory\\nA Free Digest of Trusted ...</td>\n",
       "      <td>investools advisory free digest trusted invest...</td>\n",
       "    </tr>\n",
       "    <tr>\n",
       "      <th>1</th>\n",
       "      <td>&lt;1512159.1075863666797.JavaMail.evans@thyme&gt;</td>\n",
       "      <td>('richard.sanders@enron.com')</td>\n",
       "      <td>('richard.sanders@enron.com')</td>\n",
       "      <td>2000-09-20 19:07:00</td>\n",
       "      <td>----- Forwarded by Richard B Sanders/HOU/ECT o...</td>\n",
       "      <td>forwarded richard b sanders hou ect pm justin ...</td>\n",
       "    </tr>\n",
       "    <tr>\n",
       "      <th>2</th>\n",
       "      <td>&lt;26118676.1075862176383.JavaMail.evans@thyme&gt;</td>\n",
       "      <td>('m..love@enron.com')</td>\n",
       "      <td>('m..love@enron.com')</td>\n",
       "      <td>2001-10-30 16:15:17</td>\n",
       "      <td>hey you are not wearing your target purple shi...</td>\n",
       "      <td>hey wearing target purple shirt today mine wan...</td>\n",
       "    </tr>\n",
       "    <tr>\n",
       "      <th>3</th>\n",
       "      <td>&lt;10369289.1075860831062.JavaMail.evans@thyme&gt;</td>\n",
       "      <td>('leslie.milosevich@kp.org')</td>\n",
       "      <td>('leslie.milosevich@kp.org')</td>\n",
       "      <td>2002-01-30 17:54:18</td>\n",
       "      <td>Leslie Milosevich\\n1042 Santa Clara Avenue\\nAl...</td>\n",
       "      <td>leslie milosevich santa clara avenue alameda c...</td>\n",
       "    </tr>\n",
       "    <tr>\n",
       "      <th>4</th>\n",
       "      <td>&lt;26728895.1075860815046.JavaMail.evans@thyme&gt;</td>\n",
       "      <td>('rtwait@graphicaljazz.com')</td>\n",
       "      <td>('rtwait@graphicaljazz.com')</td>\n",
       "      <td>2002-01-30 19:36:01</td>\n",
       "      <td>Rini Twait\\n1010 E 5th Ave\\nLongmont, CO 80501...</td>\n",
       "      <td>rini twait e th ave longmont co rtwait graphic...</td>\n",
       "    </tr>\n",
       "  </tbody>\n",
       "</table>\n",
       "</div>"
      ],
      "text/plain": [
       "                                      Message-ID  \\\n",
       "0   <8345058.1075840404046.JavaMail.evans@thyme>   \n",
       "1   <1512159.1075863666797.JavaMail.evans@thyme>   \n",
       "2  <26118676.1075862176383.JavaMail.evans@thyme>   \n",
       "3  <10369289.1075860831062.JavaMail.evans@thyme>   \n",
       "4  <26728895.1075860815046.JavaMail.evans@thyme>   \n",
       "\n",
       "                              From                               To  \\\n",
       "0  ('advdfeedback@investools.com')  ('advdfeedback@investools.com')   \n",
       "1    ('richard.sanders@enron.com')    ('richard.sanders@enron.com')   \n",
       "2            ('m..love@enron.com')            ('m..love@enron.com')   \n",
       "3     ('leslie.milosevich@kp.org')     ('leslie.milosevich@kp.org')   \n",
       "4     ('rtwait@graphicaljazz.com')     ('rtwait@graphicaljazz.com')   \n",
       "\n",
       "                  Date                                            content  \\\n",
       "0  2002-01-29 23:20:55  INVESTools Advisory\\nA Free Digest of Trusted ...   \n",
       "1  2000-09-20 19:07:00  ----- Forwarded by Richard B Sanders/HOU/ECT o...   \n",
       "2  2001-10-30 16:15:17  hey you are not wearing your target purple shi...   \n",
       "3  2002-01-30 17:54:18  Leslie Milosevich\\n1042 Santa Clara Avenue\\nAl...   \n",
       "4  2002-01-30 19:36:01  Rini Twait\\n1010 E 5th Ave\\nLongmont, CO 80501...   \n",
       "\n",
       "                                       clean_content  \n",
       "0  investools advisory free digest trusted invest...  \n",
       "1  forwarded richard b sanders hou ect pm justin ...  \n",
       "2  hey wearing target purple shirt today mine wan...  \n",
       "3  leslie milosevich santa clara avenue alameda c...  \n",
       "4  rini twait e th ave longmont co rtwait graphic...  "
      ]
     },
     "execution_count": 89,
     "metadata": {},
     "output_type": "execute_result"
    }
   ],
   "source": [
    "# Create a list of terms to search for\n",
    "searchfor = ['enron stock', 'sell stock', 'stock bonus', 'sell enron stock']\n",
    "\n",
    "# Filter cleaned emails on searchfor list and select from df \n",
    "filtered_emails = df[df.clean_content.str.contains('|'.join(searchfor), na=False)]\n",
    "filtered_emails.head()"
   ]
  },
  {
   "cell_type": "markdown",
   "metadata": {},
   "source": [
    "**By joining the search terms we can search on a multitude of terms in the dataset with minimal effort.**"
   ]
  },
  {
   "cell_type": "markdown",
   "metadata": {},
   "source": [
    "### Creating a flag on search terms"
   ]
  },
  {
   "cell_type": "code",
   "execution_count": 90,
   "metadata": {},
   "outputs": [
    {
     "name": "stdout",
     "output_type": "stream",
     "text": [
      "0    1776\n",
      "1     314\n",
      "Name: flag, dtype: int64\n"
     ]
    }
   ],
   "source": [
    "# Create flag variable where the emails match the searchfor terms\n",
    "df['flag'] = np.where((df['clean_content'].str.contains('|'.join(searchfor)) == True), 1, 0)\n",
    "\n",
    "# Count the values of the flag variable\n",
    "count = df['flag'].value_counts()\n",
    "print(count)"
   ]
  },
  {
   "cell_type": "markdown",
   "metadata": {},
   "source": [
    "## Text mining to detect fraud"
   ]
  },
  {
   "cell_type": "markdown",
   "metadata": {},
   "source": [
    "### Text Preprocessing\n"
   ]
  },
  {
   "cell_type": "code",
   "execution_count": 92,
   "metadata": {},
   "outputs": [],
   "source": [
    "# import nltk\n",
    "# nltk.download()"
   ]
  },
  {
   "cell_type": "code",
   "execution_count": 93,
   "metadata": {},
   "outputs": [],
   "source": [
    "# Define stopwords to exclude\n",
    "stop = set(stopwords.words('english'))\n",
    "stop.update((\"to\", \"cc\", \"subject\", \"http\", \"from\", \"sent\", \"ect\", \"u\", \"fwd\", \"www\", \"com\", 'html'))\n",
    "\n",
    "# Define punctuations to exclude and lemmatizer\n",
    "exclude = set(string.punctuation)"
   ]
  },
  {
   "cell_type": "markdown",
   "metadata": {},
   "source": [
    "### Cleaning text data\n",
    "\n",
    "Now that you've defined the **stopwords and punctuations**, let's use these to clean our enron emails in the dataframe `df` further. The lists containing stopwords and punctuations are available under `stop` and `exclude` There are a few more steps to take before you have cleaned data, such as **\"lemmatization\"** of words, and **stemming the verbs**. The verbs in the email data are already stemmed, and the lemmatization is already done for you in this exercise."
   ]
  },
  {
   "cell_type": "code",
   "execution_count": 94,
   "metadata": {},
   "outputs": [],
   "source": [
    "# Import the lemmatizer from nltk\n",
    "lemma = WordNetLemmatizer()\n",
    "\n",
    "def clean(text, stop):\n",
    "    text = str(text).rstrip()\n",
    "    stop_free = \" \".join([i for i in text.lower().split() if((i not in stop) and (not i.isdigit()))])\n",
    "    punc_free = ''.join(i for i in stop_free if i not in exclude)\n",
    "    normalized = \" \".join(lemma.lemmatize(i) for i in punc_free.split())      \n",
    "    return normalized"
   ]
  },
  {
   "cell_type": "code",
   "execution_count": 95,
   "metadata": {},
   "outputs": [],
   "source": [
    "# Clean the emails in df and print results\n",
    "text_clean=[]\n",
    "for text in df['clean_content']:\n",
    "    text_clean.append(clean(text, stop).split())    "
   ]
  },
  {
   "cell_type": "code",
   "execution_count": 96,
   "metadata": {},
   "outputs": [
    {
     "data": {
      "text/plain": [
       "['investools',\n",
       " 'advisory',\n",
       " 'free',\n",
       " 'digest',\n",
       " 'trusted',\n",
       " 'investment',\n",
       " 'advice',\n",
       " 'unsubscribe',\n",
       " 'free',\n",
       " 'newsletter']"
      ]
     },
     "execution_count": 96,
     "metadata": {},
     "output_type": "execute_result"
    }
   ],
   "source": [
    "text_clean[0][:10]"
   ]
  },
  {
   "cell_type": "markdown",
   "metadata": {},
   "source": [
    "**After text preprocessing, including splitting the text into words, removing stopwords and punctuations, and lemmatizing your words, we then run a topic model on this data."
   ]
  },
  {
   "cell_type": "markdown",
   "metadata": {},
   "source": [
    "## Topic modeling on fraud\n",
    "\n",
    "1. Discovering topics in text data\n",
    "1. \"What is the text about\"\n",
    "1. Conceptually similar to clustering data\n",
    "1. Compare topics of fraud cases to non-fraud cases and use as a feature or flag\n",
    "1. Or.. is there a particular topic in the data that seems to point to fraud?"
   ]
  },
  {
   "cell_type": "markdown",
   "metadata": {},
   "source": [
    "### Create dictionary and corpus\n",
    "\n",
    "In order to run an LDA topic model, you first need to **define your dictionary and corpus** first, as those need to go into the model. You're going to continue working on the cleaned text data that you've done in the previous exercises. That means that `text_clean` is available for you already to continue working with, and you'll use that to create your dictionary and corpus.\n",
    "\n",
    "This exercise will take a little longer to execute than usual.\n",
    "\n",
    "**Instructions**\n",
    "\n",
    "* Import the gensim package and corpora from gensim separately.\n",
    "* Define your dictionary by running the correct function on your clean data `text_clean`.\n",
    "* Define the corpus by running `doc2bow` on each piece of text in `text_clean`.\n",
    "* Print your results so you can see `dictionary` and `corpus` look like."
   ]
  },
  {
   "cell_type": "code",
   "execution_count": 97,
   "metadata": {},
   "outputs": [],
   "source": [
    "# Define the dictionary\n",
    "dictionary = corpora.Dictionary(text_clean)\n",
    "\n",
    "# Define the corpus \n",
    "corpus = [dictionary.doc2bow(text) for text in text_clean]"
   ]
  },
  {
   "cell_type": "code",
   "execution_count": 98,
   "metadata": {},
   "outputs": [
    {
     "name": "stdout",
     "output_type": "stream",
     "text": [
      "Dictionary(33980 unique tokens: ['account', 'accurate', 'acquiring', 'acre', 'address']...)\n"
     ]
    }
   ],
   "source": [
    "print(dictionary)"
   ]
  },
  {
   "cell_type": "code",
   "execution_count": 99,
   "metadata": {},
   "outputs": [
    {
     "data": {
      "text/plain": [
       "[(0, 2),\n",
       " (1, 1),\n",
       " (2, 1),\n",
       " (3, 1),\n",
       " (4, 1),\n",
       " (5, 6),\n",
       " (6, 1),\n",
       " (7, 2),\n",
       " (8, 4),\n",
       " (9, 1)]"
      ]
     },
     "execution_count": 99,
     "metadata": {},
     "output_type": "execute_result"
    }
   ],
   "source": [
    "corpus[0][:10]"
   ]
  },
  {
   "cell_type": "markdown",
   "metadata": {},
   "source": [
    "**These are the two ingredients you need to run your topic model on the enron emails. You are now ready for the final step and create your first fraud detection topic model.**"
   ]
  },
  {
   "cell_type": "markdown",
   "metadata": {},
   "source": [
    "### LDA model\n",
    "\n",
    "Now it's time to **build the LDA model**. Using the `dictionary` and `corpus`, you are ready to discover which topics are present in the Enron emails. With a quick print of words assigned to the topics, you can do a first exploration about whether there are any obvious topics that jump out. Be mindful that the topic model is **heavy to calculate** so it will take a while to run. Let's give it a try!\n",
    "\n",
    "**Instructions**\n",
    "\n",
    "* Build the LDA model from gensim models, by inserting the `corpus` and `dictionary`.\n",
    "* Save the 5 topics by running `print_topics` on the model results, and select the top 5 words."
   ]
  },
  {
   "cell_type": "code",
   "execution_count": 100,
   "metadata": {},
   "outputs": [
    {
     "name": "stdout",
     "output_type": "stream",
     "text": [
      "(0, '0.056*\"enron\" + 0.015*\"hou\" + 0.009*\"development\" + 0.009*\"please\" + 0.008*\"pm\"')\n",
      "(1, '0.018*\"enron\" + 0.010*\"company\" + 0.005*\"energy\" + 0.005*\"employee\" + 0.005*\"stock\"')\n",
      "(2, '0.031*\"td\" + 0.023*\"net\" + 0.022*\"money\" + 0.020*\"tr\" + 0.018*\"width\"')\n",
      "(3, '0.048*\"image\" + 0.014*\"click\" + 0.012*\"se\" + 0.011*\"ne\" + 0.011*\"sp\"')\n",
      "(4, '0.016*\"message\" + 0.014*\"original\" + 0.010*\"enron\" + 0.008*\"team\" + 0.008*\"thanks\"')\n"
     ]
    }
   ],
   "source": [
    "# Define the LDA model\n",
    "ldamodel = gensim.models.ldamodel.LdaModel(corpus, num_topics=5, id2word=dictionary, passes=5)\n",
    "\n",
    "# Save the topics and top 5 words\n",
    "topics = ldamodel.print_topics(num_words=5)\n",
    "\n",
    "# Print the results\n",
    "for topic in topics:\n",
    "    print(topic)"
   ]
  },
  {
   "cell_type": "markdown",
   "metadata": {},
   "source": [
    "**We created a topic model on the Enron email data. However, the print of words doesn't really give enough information to find a topic that might show signs of fraud. Therefore we need to closely inspect the model results in order to be able to detect anything that can be related to fraud in the data.**"
   ]
  },
  {
   "cell_type": "markdown",
   "metadata": {},
   "source": [
    "## Flagging fraud based on topic"
   ]
  },
  {
   "cell_type": "markdown",
   "metadata": {},
   "source": [
    "#### Explanability - To understand topics, you need to visualize and peer into the black box (interpretability)\n"
   ]
  },
  {
   "cell_type": "code",
   "execution_count": 101,
   "metadata": {},
   "outputs": [],
   "source": [
    "lda_display = pyLDAvis.gensim.prepare(ldamodel, corpus, dictionary, sort_topics=False)"
   ]
  },
  {
   "cell_type": "code",
   "execution_count": 102,
   "metadata": {},
   "outputs": [
    {
     "data": {
      "text/html": [
       "\n",
       "<link rel=\"stylesheet\" type=\"text/css\" href=\"https://cdn.rawgit.com/bmabey/pyLDAvis/files/ldavis.v1.0.0.css\">\n",
       "\n",
       "\n",
       "<div id=\"ldavis_el376571403441258036002009494662\"></div>\n",
       "<script type=\"text/javascript\">\n",
       "\n",
       "var ldavis_el376571403441258036002009494662_data = {\"mdsDat\": {\"x\": [0.13255290638202352, 0.062472429760815934, -0.16368669045845338, -0.1887326122023046, 0.15739396651791834], \"y\": [-0.0232600572138666, -0.008165940668163878, -0.19974855546644546, 0.18920340003558564, 0.04197115331289028], \"topics\": [1, 2, 3, 4, 5], \"cluster\": [1, 1, 1, 1, 1], \"Freq\": [21.694726943969727, 61.96747589111328, 4.311470031738281, 4.354830265045166, 7.671497821807861]}, \"tinfo\": {\"Term\": [\"enron\", \"image\", \"hou\", \"money\", \"td\", \"net\", \"message\", \"original\", \"development\", \"pm\", \"tr\", \"market\", \"e\", \"please\", \"width\", \"click\", \"time\", \"thanks\", \"class\", \"energy\", \"know\", \"team\", \"corp\", \"service\", \"se\", \"day\", \"right\", \"ne\", \"email\", \"mail\", \"enronxgate\", \"whalley\", \"exotica\", \"bergfelt\", \"bradford\", \"neumin\", \"kern\", \"xll\", \"krishna\", \"commoditylogic\", \"addin\", \"gregwhalley\", \"eix\", \"pcg\", \"breese\", \"pinnamaneni\", \"krishnarao\", \"netback\", \"royalty\", \"demoes\", \"permian\", \"gift\", \"hou\", \"debbie\", \"emailed\", \"raquel\", \"spreadsheet\", \"certificate\", \"brackett\", \"gt\", \"amazon\", \"div\", \"simulation\", \"na\", \"development\", \"ee\", \"forwarded\", \"stack\", \"greg\", \"leg\", \"attached\", \"vince\", \"ena\", \"communication\", \"ben\", \"shipping\", \"credit\", \"enron\", \"pm\", \"sara\", \"corp\", \"file\", \"please\", \"mail\", \"paul\", \"thanks\", \"mark\", \"available\", \"know\", \"order\", \"message\", \"product\", \"e\", \"question\", \"need\", \"original\", \"would\", \"call\", \"bakernet\", \"retirement\", \"declared\", \"donate\", \"reported\", \"crisis\", \"income\", \"largest\", \"worker\", \"alert\", \"profit\", \"sold\", \"thousand\", \"urge\", \"netted\", \"aggressively\", \"urging\", \"wiped\", \"afford\", \"pocketbook\", \"financially\", \"devastated\", \"astronomical\", \"repair\", \"underhanded\", \"relief\", \"bankrupt\", \"hurt\", \"dbcaps\", \"earnings\", \"million\", \"mr\", \"stock\", \"investor\", \"court\", \"lost\", \"lay\", \"federal\", \"copyright\", \"former\", \"employee\", \"fund\", \"york\", \"security\", \"california\", \"company\", \"said\", \"share\", \"saving\", \"american\", \"investment\", \"consumer\", \"energy\", \"plan\", \"business\", \"executive\", \"year\", \"new\", \"state\", \"market\", \"firm\", \"mailto\", \"made\", \"time\", \"pay\", \"enron\", \"power\", \"one\", \"price\", \"last\", \"say\", \"would\", \"e\", \"may\", \"u\", \"service\", \"also\", \"align\", \"rfp\", \"bodydefault\", \"scoop\", \"pager\", \"script\", \"ancillary\", \"eei\", \"pt\", \"stocklookup\", \"euci\", \"reliantenergy\", \"backout\", \"linkbarseperator\", \"variance\", \"fri\", \"sdg\", \"nbsp\", \"powersrc\", \"dye\", \"detected\", \"underscore\", \"fran\", \"stwbom\", \"stsw\", \"coral\", \"td\", \"interchange\", \"pnm\", \"fagan\", \"height\", \"width\", \"br\", \"src\", \"img\", \"tr\", \"colspan\", \"href\", \"gif\", \"table\", \"rect\", \"class\", \"coords\", \"cellspacing\", \"net\", \"valign\", \"cellpadding\", \"money\", \"border\", \"clear\", \"outage\", \"sat\", \"font\", \"center\", \"thru\", \"start\", \"image\", \"schedule\", \"right\", \"service\", \"market\", \"e\", \"time\", \"pm\", \"wj\", \"syncrasy\", \"ctr\", \"ecar\", \"npcc\", \"std\", \"aaaaaaaaaaaaaaaaaaaaaaaaaaaaaaaaaaaaaaaaaaaaaaaaaaaaaaaaaaaaaaaaaaaaaaaaaaaa\", \"maac\", \"frcc\", \"sw\", \"deviation\", \"wscc\", \"serc\", \"mapp\", \"nc\", \"rk\", \"matrix\", \"hp\", \"enlarge\", \"talbot\", \"sp\", \"spp\", \"clickaction\", \"columbiahouse\", \"temp\", \"min\", \"nw\", \"aggies\", \"paypal\", \"svc\", \"temperature\", \"arctic\", \"ne\", \"reg\", \"image\", \"delta\", \"se\", \"max\", \"click\", \"range\", \"volatility\", \"ct\", \"email\", \"choice\", \"forecast\", \"p\", \"day\", \"see\", \"e\", \"standard\", \"main\", \"used\", \"darrell\", \"devon\", \"schoolcraft\", \"sfs\", \"hanagriff\", \"whitt\", \"pseg\", \"tagline\", \"lorraine\", \"laurel\", \"lindberg\", \"classmate\", \"enform\", \"cherry\", \"agave\", \"jerry\", \"earl\", \"bolt\", \"kowalke\", \"dietz\", \"headcount\", \"lover\", \"vegetarian\", \"veggie\", \"chanley\", \"savita\", \"baughman\", \"pampa\", \"lokay\", \"nella\", \"pep\", \"bt\", \"kimberly\", \"michelle\", \"beth\", \"blair\", \"buchanan\", \"estoppel\", \"privileged\", \"intended\", \"amy\", \"recipient\", \"original\", \"team\", \"lynn\", \"wolfe\", \"message\", \"fw\", \"play\", \"january\", \"feedback\", \"watson\", \"november\", \"thursday\", \"thanks\", \"know\", \"monday\", \"let\", \"pm\", \"like\", \"please\", \"enron\", \"may\", \"get\", \"mail\", \"e\", \"contract\", \"would\", \"friday\", \"mark\", \"john\", \"go\", \"gas\"], \"Freq\": [10748.0, 1178.0, 1455.0, 749.0, 644.0, 724.0, 1158.0, 828.0, 1007.0, 1154.0, 437.0, 1194.0, 1784.0, 1539.0, 385.0, 375.0, 1308.0, 733.0, 349.0, 1597.0, 806.0, 478.0, 1199.0, 774.0, 285.0, 888.0, 549.0, 246.0, 478.0, 810.0, 343.5723571777344, 292.10906982421875, 144.8443603515625, 124.2143783569336, 120.4793472290039, 103.5897445678711, 107.10172271728516, 83.7346420288086, 84.78759002685547, 83.7427749633789, 84.1931381225586, 82.89385223388672, 82.89385223388672, 83.4926986694336, 104.16568756103516, 65.67932891845703, 65.14884185791016, 63.5364875793457, 62.26044464111328, 62.24176788330078, 64.46617126464844, 266.0015563964844, 1435.5142822265625, 58.7138557434082, 63.02823257446289, 83.32140350341797, 58.19190979003906, 134.8203887939453, 53.434295654296875, 78.02546691894531, 379.8150329589844, 155.46351623535156, 158.8113555908203, 399.9140625, 907.170166015625, 272.5489196777344, 412.1447448730469, 81.77497863769531, 401.99359130859375, 113.29145812988281, 300.9591369628906, 167.1488494873047, 139.45635986328125, 310.6363830566406, 164.4310302734375, 152.93406677246094, 378.2337951660156, 5400.81005859375, 789.4846801757812, 105.90776062011719, 767.11474609375, 322.7003173828125, 855.0473022460938, 475.5314636230469, 271.6578063964844, 408.066650390625, 332.6573486328125, 310.6260986328125, 381.56072998046875, 266.2466125488281, 447.58551025390625, 275.0880126953125, 556.5850219726562, 311.9667663574219, 308.19244384765625, 331.439208984375, 298.923583984375, 274.4205627441406, 1117.9556884765625, 360.9447021484375, 302.15911865234375, 299.1773681640625, 279.6240539550781, 226.45993041992188, 207.21214294433594, 271.6779479980469, 259.93902587890625, 357.8381652832031, 312.89825439453125, 229.08619689941406, 189.7838592529297, 173.4723663330078, 152.31997680664062, 154.15086364746094, 156.1498260498047, 150.33485412597656, 152.2722625732422, 147.47613525390625, 152.2594757080078, 149.3606414794922, 147.43844604492188, 151.24806213378906, 146.47850036621094, 167.50225830078125, 161.5583953857422, 168.201416015625, 116.71507263183594, 228.30088806152344, 1115.96484375, 725.009033203125, 1440.7279052734375, 404.32415771484375, 276.16607666015625, 245.26834106445312, 541.1591186523438, 198.2611083984375, 226.13916015625, 192.5007781982422, 1456.1856689453125, 761.596923828125, 474.3459777832031, 382.7160339355469, 730.1996459960938, 2773.07470703125, 1230.858154296875, 544.3801879882812, 342.4808654785156, 323.4383544921875, 416.4129943847656, 535.4473266601562, 1475.0159912109375, 731.3751831054688, 868.0231323242188, 387.0814514160156, 1098.69189453125, 1341.03466796875, 686.8453369140625, 1001.206298828125, 431.12896728515625, 700.3875122070312, 699.75, 1010.31640625, 497.3447265625, 4903.978515625, 768.80615234375, 756.5790405273438, 632.0636596679688, 586.2913818359375, 500.15423583984375, 775.1173706054688, 890.1356201171875, 677.3593139648438, 637.5423583984375, 566.1035766601562, 568.35595703125, 183.5738525390625, 28.66575813293457, 94.03887176513672, 112.48053741455078, 27.384075164794922, 183.517333984375, 27.829219818115234, 21.57585334777832, 38.02653121948242, 38.34199523925781, 24.966501235961914, 22.233644485473633, 18.40521812438965, 31.3798828125, 19.75607681274414, 55.12289810180664, 15.310901641845703, 131.50051879882812, 14.488847732543945, 17.806730270385742, 14.496088027954102, 20.936695098876953, 14.745010375976562, 14.157137870788574, 14.157137870788574, 15.854716300964355, 591.4842529296875, 11.041969299316406, 10.947614669799805, 10.62988567352295, 216.9500732421875, 337.4364013671875, 194.45242309570312, 178.88674926757812, 168.4084014892578, 372.52105712890625, 39.27387237548828, 150.12840270996094, 160.18087768554688, 202.26766967773438, 36.72374725341797, 250.5491485595703, 36.72374725341797, 70.97853088378906, 445.5058898925781, 46.090240478515625, 69.6737060546875, 410.8612060546875, 122.9106674194336, 132.3936767578125, 76.57797241210938, 48.341461181640625, 61.424522399902344, 100.8892822265625, 55.74747085571289, 87.1649169921875, 153.62828063964844, 70.85071563720703, 88.55980682373047, 92.9268798828125, 99.4971923828125, 96.6115493774414, 92.19810485839844, 89.24217224121094, 165.90248107910156, 123.45046997070312, 123.45046997070312, 68.62286376953125, 68.62286376953125, 68.62286376953125, 78.51673889160156, 62.35456848144531, 61.7694091796875, 141.13079833984375, 69.22577667236328, 201.27529907226562, 61.995643615722656, 68.9120101928711, 135.17430114746094, 137.6709747314453, 133.6281280517578, 140.4251251220703, 69.0903549194336, 27.786344528198242, 215.1517333984375, 64.05545043945312, 20.876649856567383, 24.011682510375977, 63.490055084228516, 69.3187484741211, 140.61154174804688, 20.60114097595215, 14.380435943603516, 14.20959758758545, 29.034080505371094, 27.67020606994629, 216.84298706054688, 81.70291900634766, 925.5784301757812, 74.8534927368164, 232.35818481445312, 63.28640365600586, 263.5363464355469, 132.94281005859375, 118.56804656982422, 83.44764709472656, 117.07574462890625, 71.50782012939453, 73.46796417236328, 92.63003540039062, 94.82613372802734, 81.98960876464844, 76.82642364501953, 70.97925567626953, 70.06776428222656, 70.33234405517578, 79.41549682617188, 113.92659759521484, 70.64495086669922, 69.93659210205078, 52.48023223876953, 44.15929412841797, 53.28169250488281, 43.7519645690918, 44.76152420043945, 54.98124313354492, 45.19788360595703, 80.58500671386719, 44.02476501464844, 44.00117111206055, 35.04674530029297, 47.722652435302734, 36.012657165527344, 35.46634292602539, 35.77256774902344, 27.757280349731445, 27.30668830871582, 27.083776473999023, 26.313098907470703, 26.313098907470703, 26.303747177124023, 51.6411018371582, 27.622880935668945, 26.271318435668945, 27.472482681274414, 26.275922775268555, 51.77204513549805, 38.79349899291992, 100.78081512451172, 83.74659729003906, 75.42951202392578, 65.78239440917969, 36.32421112060547, 31.279987335205078, 46.92997741699219, 147.84420776367188, 74.41802215576172, 139.05564880371094, 459.3269348144531, 282.452392578125, 95.13813781738281, 61.446861267089844, 549.4429321289062, 118.24930572509766, 94.14126586914062, 173.47634887695312, 73.051513671875, 96.64149475097656, 150.52264404296875, 181.68626403808594, 276.3800964355469, 244.85733032226562, 143.00836181640625, 181.48443603515625, 236.39036560058594, 148.6536865234375, 180.45748901367188, 350.669921875, 151.4381561279297, 129.87469482421875, 136.0662841796875, 164.5537109375, 117.11438751220703, 137.11276245117188, 107.8252182006836, 115.89936065673828, 109.67840576171875, 109.28824615478516, 101.53121185302734], \"Total\": [10748.0, 1178.0, 1455.0, 749.0, 644.0, 724.0, 1158.0, 828.0, 1007.0, 1154.0, 437.0, 1194.0, 1784.0, 1539.0, 385.0, 375.0, 1308.0, 733.0, 349.0, 1597.0, 806.0, 478.0, 1199.0, 774.0, 285.0, 888.0, 549.0, 246.0, 478.0, 810.0, 344.69354248046875, 293.1014709472656, 145.63088989257812, 125.00906372070312, 121.27642059326172, 104.36243438720703, 107.903076171875, 84.5071029663086, 85.56987762451172, 84.51736450195312, 84.98710632324219, 83.6803207397461, 83.6803207397461, 84.3469009399414, 105.30915069580078, 66.45710754394531, 65.92487335205078, 64.31600952148438, 63.03143310546875, 63.01530075073242, 65.27439880371094, 269.4548034667969, 1455.2884521484375, 59.52932357788086, 63.916404724121094, 84.51521301269531, 59.037540435791016, 136.82244873046875, 54.22791290283203, 79.18523406982422, 386.7526550292969, 158.73133850097656, 162.5089111328125, 416.20831298828125, 1007.24267578125, 290.3635559082031, 447.6962890625, 83.749267578125, 460.1454772949219, 119.05950164794922, 343.6908264160156, 185.8892364501953, 152.13671875, 385.7835388183594, 184.3541717529297, 169.48455810546875, 487.6510925292969, 10748.24609375, 1154.5697021484375, 111.47833251953125, 1199.1295166015625, 425.4023742675781, 1539.754638671875, 810.2799682617188, 387.3915710449219, 733.6781005859375, 606.1812133789062, 556.7315063476562, 806.1376953125, 444.679931640625, 1158.67529296875, 475.2147216796875, 1784.71240234375, 640.9888305664062, 646.4854125976562, 828.755615234375, 1282.251708984375, 594.707763671875, 1119.2216796875, 361.74017333984375, 302.82794189453125, 299.8802185058594, 280.4076232910156, 227.17880249023438, 207.884521484375, 272.5744934082031, 260.8075256347656, 359.050537109375, 313.9757080078125, 229.89456176757812, 190.4689483642578, 174.10617065429688, 152.92532348632812, 154.7719268798828, 156.77947998046875, 150.94386291503906, 152.88912963867188, 148.0762939453125, 152.88046264648438, 149.97242736816406, 148.0440216064453, 151.87188720703125, 147.08277893066406, 168.19650268554688, 162.26388549804688, 168.9519500732422, 117.26447296142578, 229.4930877685547, 1122.060302734375, 730.2353515625, 1466.6812744140625, 406.58135986328125, 277.97125244140625, 246.88363647460938, 549.3212890625, 199.46380615234375, 227.84881591796875, 193.71621704101562, 1496.1929931640625, 777.954345703125, 483.6402893066406, 388.63848876953125, 752.8367919921875, 2944.31591796875, 1288.798583984375, 559.4052124023438, 348.6416015625, 328.9432678222656, 426.8310241699219, 554.1962890625, 1597.1396484375, 769.820068359375, 929.083740234375, 397.22943115234375, 1203.9322509765625, 1578.7823486328125, 765.1521606445312, 1194.28369140625, 456.7064208984375, 803.9853515625, 816.9155883789062, 1308.373046875, 550.2543334960938, 10748.24609375, 986.0760498046875, 967.0037231445312, 788.72216796875, 751.2530517578125, 579.9691162109375, 1282.251708984375, 1784.71240234375, 1032.3592529296875, 927.9087524414062, 774.3065795898438, 890.2091674804688, 188.0699920654297, 29.701576232910156, 97.62171936035156, 116.83307647705078, 28.491445541381836, 191.11465454101562, 29.09652328491211, 22.607633590698242, 40.005149841308594, 40.3887939453125, 26.31131935119629, 23.44952964782715, 19.412229537963867, 33.23468017578125, 20.92979621887207, 58.76458740234375, 16.34384536743164, 140.53207397460938, 15.516227722167969, 19.08655548095703, 15.564087867736816, 22.503501892089844, 15.871721267700195, 15.263882637023926, 15.263882637023926, 17.173858642578125, 644.7463989257812, 12.052454948425293, 11.964359283447266, 11.654008865356445, 239.83279418945312, 385.45123291015625, 222.42007446289062, 205.11782836914062, 192.8968048095703, 437.76214599609375, 43.54338455200195, 176.16175842285156, 197.4048309326172, 257.3567199707031, 41.91398239135742, 349.7884521484375, 41.91398239135742, 88.55641174316406, 724.145751953125, 54.827545166015625, 89.60399627685547, 749.8050537109375, 179.08099365234375, 234.81800842285156, 114.35659790039062, 61.46904754638672, 99.04844665527344, 275.3306884765625, 87.67678833007812, 258.5018005371094, 1178.8551025390625, 180.79432678222656, 549.5126342773438, 774.3065795898438, 1194.28369140625, 1784.71240234375, 1308.373046875, 1154.5697021484375, 166.87001037597656, 124.54908752441406, 124.54908752441406, 69.65876770019531, 69.65876770019531, 69.65876770019531, 79.78890991210938, 63.37644958496094, 62.79747772216797, 143.52377319335938, 70.41404724121094, 204.80128479003906, 63.09149169921875, 70.20703125, 138.0783233642578, 140.71527099609375, 137.088623046875, 144.3162078857422, 71.48290252685547, 28.757102966308594, 223.50819396972656, 66.66883850097656, 21.856651306152344, 25.14039421081543, 66.74795532226562, 73.33592987060547, 149.4677276611328, 21.91984748840332, 15.350086212158203, 15.172273635864258, 31.16960906982422, 29.868078231811523, 246.16392517089844, 90.8651123046875, 1178.8551025390625, 84.18412780761719, 285.3300476074219, 72.00860595703125, 375.3808898925781, 175.75424194335938, 160.091796875, 142.03460693359375, 478.9281921386719, 97.92291259765625, 112.06983947753906, 579.8095092773438, 888.7266235351562, 820.2350463867188, 1784.71240234375, 227.1754150390625, 125.50647735595703, 251.09478759765625, 80.36302947998047, 115.4494400024414, 71.59465026855469, 70.89763641357422, 53.434059143066406, 45.0929069519043, 54.42555236816406, 44.6939811706543, 45.75335693359375, 56.20741653442383, 46.207820892333984, 82.42365264892578, 45.13605499267578, 45.1328125, 35.97896957397461, 49.0806999206543, 37.076839447021484, 36.528133392333984, 36.86920166015625, 28.69426155090332, 28.24554443359375, 28.018831253051758, 27.24530029296875, 27.24530029296875, 27.250669479370117, 53.50181198120117, 28.64977264404297, 27.278121948242188, 28.526920318603516, 27.29178237915039, 53.802608489990234, 40.36272430419922, 106.04479217529297, 90.81100463867188, 81.44816589355469, 72.88912963867188, 38.64595413208008, 32.893463134765625, 51.90366744995117, 190.43516540527344, 87.79888153076172, 180.22250366210938, 828.755615234375, 478.966796875, 124.3582763671875, 72.05000305175781, 1158.67529296875, 168.87892150878906, 126.65987396240234, 309.5638427734375, 93.15020751953125, 142.7190399169922, 284.0818786621094, 384.187744140625, 733.6781005859375, 806.1376953125, 326.04248046875, 514.4237060546875, 1154.5697021484375, 657.740234375, 1539.754638671875, 10748.24609375, 1032.3592529296875, 669.2890625, 810.2799682617188, 1784.71240234375, 500.76043701171875, 1282.251708984375, 378.07470703125, 606.1812133789062, 441.17547607421875, 466.3168640136719, 894.4165649414062], \"Category\": [\"Default\", \"Default\", \"Default\", \"Default\", \"Default\", \"Default\", \"Default\", \"Default\", \"Default\", \"Default\", \"Default\", \"Default\", \"Default\", \"Default\", \"Default\", \"Default\", \"Default\", \"Default\", \"Default\", \"Default\", \"Default\", \"Default\", \"Default\", \"Default\", \"Default\", \"Default\", \"Default\", \"Default\", \"Default\", \"Default\", \"Topic1\", \"Topic1\", \"Topic1\", \"Topic1\", \"Topic1\", \"Topic1\", \"Topic1\", \"Topic1\", \"Topic1\", \"Topic1\", \"Topic1\", \"Topic1\", \"Topic1\", \"Topic1\", \"Topic1\", \"Topic1\", \"Topic1\", \"Topic1\", \"Topic1\", \"Topic1\", \"Topic1\", \"Topic1\", \"Topic1\", \"Topic1\", \"Topic1\", \"Topic1\", \"Topic1\", \"Topic1\", \"Topic1\", \"Topic1\", \"Topic1\", \"Topic1\", \"Topic1\", \"Topic1\", \"Topic1\", \"Topic1\", \"Topic1\", \"Topic1\", \"Topic1\", \"Topic1\", \"Topic1\", \"Topic1\", \"Topic1\", \"Topic1\", \"Topic1\", \"Topic1\", \"Topic1\", \"Topic1\", \"Topic1\", \"Topic1\", \"Topic1\", \"Topic1\", \"Topic1\", \"Topic1\", \"Topic1\", \"Topic1\", \"Topic1\", \"Topic1\", \"Topic1\", \"Topic1\", \"Topic1\", \"Topic1\", \"Topic1\", \"Topic1\", \"Topic1\", \"Topic1\", \"Topic1\", \"Topic1\", \"Topic2\", \"Topic2\", \"Topic2\", \"Topic2\", \"Topic2\", \"Topic2\", \"Topic2\", \"Topic2\", \"Topic2\", \"Topic2\", \"Topic2\", \"Topic2\", \"Topic2\", \"Topic2\", \"Topic2\", \"Topic2\", \"Topic2\", \"Topic2\", \"Topic2\", \"Topic2\", \"Topic2\", \"Topic2\", \"Topic2\", \"Topic2\", \"Topic2\", \"Topic2\", \"Topic2\", \"Topic2\", \"Topic2\", \"Topic2\", \"Topic2\", \"Topic2\", \"Topic2\", \"Topic2\", \"Topic2\", \"Topic2\", \"Topic2\", \"Topic2\", \"Topic2\", \"Topic2\", \"Topic2\", \"Topic2\", \"Topic2\", \"Topic2\", \"Topic2\", \"Topic2\", \"Topic2\", \"Topic2\", \"Topic2\", \"Topic2\", \"Topic2\", \"Topic2\", \"Topic2\", \"Topic2\", \"Topic2\", \"Topic2\", \"Topic2\", \"Topic2\", \"Topic2\", \"Topic2\", \"Topic2\", \"Topic2\", \"Topic2\", \"Topic2\", \"Topic2\", \"Topic2\", \"Topic2\", \"Topic2\", \"Topic2\", \"Topic2\", \"Topic2\", \"Topic2\", \"Topic2\", \"Topic2\", \"Topic2\", \"Topic2\", \"Topic2\", \"Topic3\", \"Topic3\", \"Topic3\", \"Topic3\", \"Topic3\", \"Topic3\", \"Topic3\", \"Topic3\", \"Topic3\", \"Topic3\", \"Topic3\", \"Topic3\", \"Topic3\", \"Topic3\", \"Topic3\", \"Topic3\", \"Topic3\", \"Topic3\", \"Topic3\", \"Topic3\", \"Topic3\", \"Topic3\", \"Topic3\", \"Topic3\", \"Topic3\", \"Topic3\", \"Topic3\", \"Topic3\", \"Topic3\", \"Topic3\", \"Topic3\", \"Topic3\", \"Topic3\", \"Topic3\", \"Topic3\", \"Topic3\", \"Topic3\", \"Topic3\", \"Topic3\", \"Topic3\", \"Topic3\", \"Topic3\", \"Topic3\", \"Topic3\", \"Topic3\", \"Topic3\", \"Topic3\", \"Topic3\", \"Topic3\", \"Topic3\", \"Topic3\", \"Topic3\", \"Topic3\", \"Topic3\", \"Topic3\", \"Topic3\", \"Topic3\", \"Topic3\", \"Topic3\", \"Topic3\", \"Topic3\", \"Topic3\", \"Topic3\", \"Topic3\", \"Topic4\", \"Topic4\", \"Topic4\", \"Topic4\", \"Topic4\", \"Topic4\", \"Topic4\", \"Topic4\", \"Topic4\", \"Topic4\", \"Topic4\", \"Topic4\", \"Topic4\", \"Topic4\", \"Topic4\", \"Topic4\", \"Topic4\", \"Topic4\", \"Topic4\", \"Topic4\", \"Topic4\", \"Topic4\", \"Topic4\", \"Topic4\", \"Topic4\", \"Topic4\", \"Topic4\", \"Topic4\", \"Topic4\", \"Topic4\", \"Topic4\", \"Topic4\", \"Topic4\", \"Topic4\", \"Topic4\", \"Topic4\", \"Topic4\", \"Topic4\", \"Topic4\", \"Topic4\", \"Topic4\", \"Topic4\", \"Topic4\", \"Topic4\", \"Topic4\", \"Topic4\", \"Topic4\", \"Topic4\", \"Topic4\", \"Topic4\", \"Topic4\", \"Topic4\", \"Topic5\", \"Topic5\", \"Topic5\", \"Topic5\", \"Topic5\", \"Topic5\", \"Topic5\", \"Topic5\", \"Topic5\", \"Topic5\", \"Topic5\", \"Topic5\", \"Topic5\", \"Topic5\", \"Topic5\", \"Topic5\", \"Topic5\", \"Topic5\", \"Topic5\", \"Topic5\", \"Topic5\", \"Topic5\", \"Topic5\", \"Topic5\", \"Topic5\", \"Topic5\", \"Topic5\", \"Topic5\", \"Topic5\", \"Topic5\", \"Topic5\", \"Topic5\", \"Topic5\", \"Topic5\", \"Topic5\", \"Topic5\", \"Topic5\", \"Topic5\", \"Topic5\", \"Topic5\", \"Topic5\", \"Topic5\", \"Topic5\", \"Topic5\", \"Topic5\", \"Topic5\", \"Topic5\", \"Topic5\", \"Topic5\", \"Topic5\", \"Topic5\", \"Topic5\", \"Topic5\", \"Topic5\", \"Topic5\", \"Topic5\", \"Topic5\", \"Topic5\", \"Topic5\", \"Topic5\", \"Topic5\", \"Topic5\", \"Topic5\", \"Topic5\", \"Topic5\", \"Topic5\", \"Topic5\", \"Topic5\", \"Topic5\", \"Topic5\", \"Topic5\", \"Topic5\", \"Topic5\"], \"logprob\": [30.0, 29.0, 28.0, 27.0, 26.0, 25.0, 24.0, 23.0, 22.0, 21.0, 20.0, 19.0, 18.0, 17.0, 16.0, 15.0, 14.0, 13.0, 12.0, 11.0, 10.0, 9.0, 8.0, 7.0, 6.0, 5.0, 4.0, 3.0, 2.0, 1.0, -5.6296000480651855, -5.791800022125244, -6.493299961090088, -6.646900177001953, -6.677499771118164, -6.828499794006348, -6.795199871063232, -7.041299819946289, -7.028800010681152, -7.041200160980225, -7.035799980163574, -7.051400184631348, -7.051400184631348, -7.0441999435424805, -6.822999954223633, -7.284200191497803, -7.292300224304199, -7.317299842834473, -7.337600231170654, -7.337900161743164, -7.302800178527832, -5.885499954223633, -4.199699878692627, -7.396299839019775, -7.325399875640869, -7.046299934387207, -7.405200004577637, -6.565000057220459, -7.490499973297119, -7.1118998527526855, -5.529300212860107, -6.422500133514404, -6.401199817657471, -5.477700233459473, -4.658599853515625, -5.861100196838379, -5.4475998878479, -7.065000057220459, -5.472499847412109, -6.738999843597412, -5.76200008392334, -6.350100040435791, -6.531199932098389, -5.730299949645996, -6.366499900817871, -6.438899993896484, -5.533400058746338, -2.8747000694274902, -4.797599792480469, -6.806399822235107, -4.826300144195557, -5.692200183868408, -4.717800140380859, -5.304500102996826, -5.8643999099731445, -5.457499980926514, -5.661799907684326, -5.730400085449219, -5.524700164794922, -5.884500026702881, -5.365099906921387, -5.851900100708008, -5.14709997177124, -5.726099967956543, -5.7382001876831055, -5.665500164031982, -5.768799781799316, -5.854300022125244, -5.499199867248535, -6.629799842834473, -6.807499885559082, -6.817500114440918, -6.8850998878479, -7.095900058746338, -7.184800148010254, -6.913899898529053, -6.958000183105469, -6.638400077819824, -6.772600173950195, -7.084400177001953, -7.272600173950195, -7.362500190734863, -7.492499828338623, -7.480599880218506, -7.467700004577637, -7.5055999755859375, -7.492800235748291, -7.524799823760986, -7.4928998947143555, -7.5121002197265625, -7.525100231170654, -7.499599933624268, -7.531599998474121, -7.397500038146973, -7.433599948883057, -7.3933000564575195, -7.758800029754639, -7.087800025939941, -5.500999927520752, -5.932300090789795, -5.24560022354126, -6.516300201416016, -6.897500038146973, -7.01609992980957, -6.224800109863281, -7.228899955749512, -7.097300052642822, -7.258399963378906, -5.234899997711182, -5.8831000328063965, -6.356599807739258, -6.571199893951416, -5.92519998550415, -4.590799808502197, -5.4029998779296875, -6.218800067901611, -6.682300090789795, -6.739500045776367, -6.486800193786621, -6.235400199890137, -5.222099781036377, -5.923600196838379, -5.752299785614014, -6.559899806976318, -5.516600131988525, -5.317299842834473, -5.986400127410889, -5.609499931335449, -6.452099800109863, -5.966899871826172, -5.967800140380859, -5.600500106811523, -6.309199810028076, -4.020699977874756, -5.873700141906738, -5.889699935913086, -6.069499969482422, -6.144700050354004, -6.303599834442139, -5.865499973297119, -5.727099895477295, -6.00029993057251, -6.0609002113342285, -6.179699897766113, -6.1757001876831055, -4.640500068664551, -6.497499942779541, -5.309500217437744, -5.13040018081665, -6.5432000160217285, -4.640900135040283, -6.527100086212158, -6.781599998474121, -6.214900016784668, -6.206600189208984, -6.6356000900268555, -6.7515997886657715, -6.940499782562256, -6.4070000648498535, -6.869699954986572, -5.843599796295166, -7.124599933624268, -4.9741997718811035, -7.179800033569336, -6.973599910736084, -7.179299831390381, -6.811699867248535, -7.162300109863281, -7.202899932861328, -7.202899932861328, -7.089700222015381, -3.4704999923706055, -7.451499938964844, -7.460000038146973, -7.489500045776367, -4.473499774932861, -4.031799793243408, -4.583000183105469, -4.666399955749512, -4.726799964904785, -3.9328999519348145, -6.182600021362305, -4.841700077056885, -4.776899814605713, -4.543600082397461, -6.24970006942749, -4.329500198364258, -6.24970006942749, -5.590799808502197, -3.753999948501587, -6.022600173950195, -5.609300136566162, -3.83489990234375, -5.0416998863220215, -4.967400074005127, -5.514900207519531, -5.974899768829346, -5.735400199890137, -5.239099979400635, -5.832300186157227, -5.38539981842041, -4.818600177764893, -5.592599868774414, -5.369500160217285, -5.321400165557861, -5.252999782562256, -5.28249979019165, -5.32919979095459, -5.361800193786621, -4.751800060272217, -5.047299861907959, -5.047299861907959, -5.634500026702881, -5.634500026702881, -5.634500026702881, -5.499899864196777, -5.730299949645996, -5.739799976348877, -4.91349983215332, -5.625800132751465, -4.558499813079834, -5.736100196838379, -5.630300045013428, -4.956600189208984, -4.938300132751465, -4.968100070953369, -4.918499946594238, -5.627799987792969, -6.538599967956543, -4.491799831390381, -5.703400135040283, -6.82450008392334, -6.684599876403809, -5.712299823760986, -5.624499797821045, -4.917200088500977, -6.837800025939941, -7.197299957275391, -7.2093000411987305, -6.494699954986572, -6.542799949645996, -4.484000205993652, -5.460100173950195, -3.0327999591827393, -5.547599792480469, -4.414899826049805, -5.7154998779296875, -4.289000034332275, -4.973299980163574, -5.087699890136719, -5.439000129699707, -5.100399971008301, -5.593400001525879, -5.566299915313721, -5.33459997177124, -5.311100006103516, -5.456600189208984, -5.521599769592285, -5.600800037384033, -5.613699913024902, -5.609899997711182, -6.054699897766113, -5.69379997253418, -6.1717000007629395, -6.18179988861084, -6.468999862670898, -6.641600131988525, -6.453800201416016, -6.650899887084961, -6.627999782562256, -6.422399997711182, -6.618299961090088, -6.04010009765625, -6.644599914550781, -6.645199775695801, -6.872700214385986, -6.564000129699707, -6.8454999923706055, -6.860799789428711, -6.852200031280518, -7.105899810791016, -7.122300148010254, -7.130499839782715, -7.159299850463867, -7.159299850463867, -7.1596999168396, -6.485099792480469, -7.110799789428711, -7.160900115966797, -7.116199970245361, -7.160699844360352, -6.482500076293945, -6.771100044250488, -5.816500186920166, -6.0015997886657715, -6.106200218200684, -6.243000030517578, -6.836900234222412, -6.986400127410889, -6.580699920654297, -5.433199882507324, -6.119699954986572, -5.494500160217285, -4.299600124359131, -4.785900115966797, -5.874100208282471, -6.311200141906738, -4.120500087738037, -5.656599998474121, -5.8846001625061035, -5.273399829864502, -6.138199806213379, -5.858399868011475, -5.415299892425537, -5.227099895477295, -4.807600021362305, -4.928699970245361, -5.4664998054504395, -5.2281999588012695, -4.963900089263916, -5.427800178527832, -5.23390007019043, -4.5696001052856445, -5.409200191497803, -5.56279993057251, -5.516300201416016, -5.326200008392334, -5.666200160980225, -5.508600234985352, -5.748899936676025, -5.676700115203857, -5.731800079345703, -5.735400199890137, -5.809000015258789], \"loglift\": [30.0, 29.0, 28.0, 27.0, 26.0, 25.0, 24.0, 23.0, 22.0, 21.0, 20.0, 19.0, 18.0, 17.0, 16.0, 15.0, 14.0, 13.0, 12.0, 11.0, 10.0, 9.0, 8.0, 7.0, 6.0, 5.0, 4.0, 3.0, 2.0, 1.0, 1.5247999429702759, 1.5247000455856323, 1.5226999521255493, 1.5217000246047974, 1.5214999914169312, 1.5206999778747559, 1.5205999612808228, 1.5189000368118286, 1.5189000368118286, 1.5189000368118286, 1.5187000036239624, 1.5187000036239624, 1.5187000036239624, 1.517899990081787, 1.517199993133545, 1.5162999629974365, 1.5162999629974365, 1.5159000158309937, 1.5157999992370605, 1.5156999826431274, 1.5155999660491943, 1.5152000188827515, 1.5144000053405762, 1.514299988746643, 1.5140999555587769, 1.5139000415802002, 1.513700008392334, 1.5133999586105347, 1.5133999586105347, 1.5132999420166016, 1.5099999904632568, 1.5073000192642212, 1.5051000118255615, 1.4881999492645264, 1.4234999418258667, 1.4648000001907349, 1.4453999996185303, 1.5041999816894531, 1.3930000066757202, 1.4783999919891357, 1.395300030708313, 1.4218000173568726, 1.441100001335144, 1.311400055885315, 1.413699984550476, 1.4253000020980835, 1.2740000486373901, 0.839900016784668, 1.1480000019073486, 1.4767999649047852, 1.0814000368118286, 1.2517999410629272, 0.9398999810218811, 0.995199978351593, 1.173200011253357, 0.9415000081062317, 0.9279999732971191, 0.944599986076355, 0.7800999879837036, 1.0152000188827515, 0.5769000053405762, 0.9814000129699707, 0.3628999888896942, 0.8080000281333923, 0.7872999906539917, 0.6115999817848206, 0.07190000265836716, 0.7547000050544739, 0.477400004863739, 0.4763999879360199, 0.4763000011444092, 0.47620001435279846, 0.4758000075817108, 0.47540000081062317, 0.47530001401901245, 0.47530001401901245, 0.47519999742507935, 0.47519999742507935, 0.47510001063346863, 0.4749999940395355, 0.4749999940395355, 0.4749000072479248, 0.4745999872684479, 0.47450000047683716, 0.47450000047683716, 0.47450000047683716, 0.47450000047683716, 0.47450000047683716, 0.47450000047683716, 0.47450000047683716, 0.47450000047683716, 0.47440001368522644, 0.47440001368522644, 0.47440001368522644, 0.4742000102996826, 0.4740999937057495, 0.4738999903202057, 0.4733999967575073, 0.4731000065803528, 0.4713999927043915, 0.46070000529289246, 0.4729999899864197, 0.47200000286102295, 0.47200000286102295, 0.4636000096797943, 0.4724999964237213, 0.47099998593330383, 0.4722999930381775, 0.4514999985694885, 0.45730000734329224, 0.459199994802475, 0.46320000290870667, 0.4480000138282776, 0.4185999929904938, 0.4325999915599823, 0.4512999951839447, 0.46070000529289246, 0.4616999924182892, 0.4537999927997589, 0.4440999925136566, 0.39899998903274536, 0.42730000615119934, 0.4106000065803528, 0.4526999890804291, 0.3871000111103058, 0.31529998779296875, 0.37059998512268066, 0.30219998955726624, 0.42089998722076416, 0.34060001373291016, 0.3237000107765198, 0.2199999988079071, 0.3774999976158142, -0.3061000108718872, 0.2296999990940094, 0.23319999873638153, 0.257099986076355, 0.2305999994277954, 0.3305000066757202, -0.024800000712275505, -0.21709999442100525, 0.05719999969005585, 0.10320000350475311, 0.16539999842643738, 0.029899999499320984, 3.1196999549865723, 3.1084001064300537, 3.1064999103546143, 3.1059000492095947, 3.1041998863220215, 3.103300094604492, 3.099400043487549, 3.0971999168395996, 3.0931999683380127, 3.091900110244751, 3.091399908065796, 3.09060001373291, 3.09060001373291, 3.0864999294281006, 3.086199998855591, 3.079900026321411, 3.0785999298095703, 3.077500104904175, 3.0754001140594482, 3.07450008392334, 3.0727999210357666, 3.071700096130371, 3.0703001022338867, 3.0685999393463135, 3.0685999393463135, 3.063999891281128, 3.0576999187469482, 3.056299924850464, 3.0550999641418457, 3.0518999099731445, 3.043600082397461, 3.0109000205993652, 3.009500026702881, 3.0071001052856445, 3.0081000328063965, 2.9825000762939453, 3.0406999588012695, 2.9839999675750732, 2.9349000453948975, 2.9030001163482666, 3.011699914932251, 2.8101999759674072, 3.011699914932251, 2.922600030899048, 2.658099889755249, 2.9702999591827393, 2.8922998905181885, 2.54229998588562, 2.7674999237060547, 2.5708999633789062, 2.7428998947143555, 2.903599977493286, 2.666100025177002, 2.139899969100952, 2.6910998821258545, 2.05679988861084, 1.1060999631881714, 2.2070999145507812, 1.31850004196167, 1.0236999988555908, 0.6586999893188477, 0.22759999334812164, 0.49129998683929443, 0.5838000178337097, 3.1280999183654785, 3.125, 3.125, 3.1189000606536865, 3.1189000606536865, 3.1189000606536865, 3.117799997329712, 3.1175999641418457, 3.1173999309539795, 3.1171000003814697, 3.1168999671936035, 3.116499900817871, 3.1164000034332275, 3.115299940109253, 3.112600088119507, 3.111999988555908, 3.108299970626831, 3.106600046157837, 3.0998001098632812, 3.0994999408721924, 3.0957999229431152, 3.093899965286255, 3.0880000591278076, 3.087899923324585, 3.0838000774383545, 3.077500104904175, 3.0727999210357666, 3.0717999935150146, 3.0685999393463135, 3.0683000087738037, 3.0629000663757324, 3.057499885559082, 3.0071001052856445, 3.027600049972534, 2.8919999599456787, 3.016400098800659, 2.928499937057495, 3.0048000812530518, 2.780100107192993, 2.8547000885009766, 2.8336000442504883, 2.6019999980926514, 1.7252000570297241, 2.819499969482422, 2.7116000652313232, 1.2998000383377075, 0.8960999846458435, 0.8309000134468079, -0.011599999852478504, 1.9704999923706055, 2.5510001182556152, 1.861299991607666, 2.555799961090088, 2.5543999671936035, 2.55430006980896, 2.553999900817871, 2.5495998859405518, 2.5467000007629395, 2.5464000701904297, 2.5464000701904297, 2.5457000732421875, 2.545599937438965, 2.545599937438965, 2.545099973678589, 2.5427000522613525, 2.54229998588562, 2.5413999557495117, 2.539599895477295, 2.5385000705718994, 2.5381999015808105, 2.5374999046325684, 2.5344998836517334, 2.533900022506714, 2.5336999893188477, 2.5327999591827393, 2.5327999591827393, 2.5322999954223633, 2.5322999954223633, 2.5311999320983887, 2.530100107192993, 2.5299999713897705, 2.5297000408172607, 2.5292000770568848, 2.5280001163482666, 2.516700029373169, 2.4867000579833984, 2.4909000396728516, 2.465100049972534, 2.50570011138916, 2.517400026321411, 2.466900110244751, 2.314500093460083, 2.4022998809814453, 2.308300018310547, 1.9774999618530273, 2.0394999980926514, 2.299799919128418, 2.4084999561309814, 1.8214999437332153, 2.2112998962402344, 2.270900011062622, 1.9884999990463257, 2.3245999813079834, 2.177799940109253, 1.9325000047683716, 1.8187999725341797, 1.5914000272750854, 1.376099944114685, 1.743499994277954, 1.5257999897003174, 0.9817000031471252, 1.0805000066757202, 0.423799991607666, -0.8550000190734863, 0.6481999754905701, 0.9279999732971191, 0.7833999991416931, 0.18389999866485596, 1.1146999597549438, 0.3321000039577484, 1.313099980354309, 0.9132000207901001, 1.1757999658584595, 1.1167999505996704, 0.3919000029563904]}, \"token.table\": {\"Topic\": [2, 4, 1, 2, 2, 2, 5, 2, 4, 2, 1, 2, 2, 3, 4, 1, 2, 3, 4, 5, 1, 2, 3, 1, 2, 3, 1, 2, 5, 2, 3, 2, 4, 5, 2, 1, 2, 3, 4, 5, 1, 2, 3, 4, 5, 2, 3, 1, 2, 2, 2, 5, 1, 2, 5, 1, 2, 1, 2, 5, 2, 5, 2, 3, 4, 2, 5, 1, 2, 3, 4, 1, 2, 3, 4, 1, 2, 1, 2, 1, 2, 2, 3, 5, 1, 2, 5, 1, 2, 3, 4, 5, 1, 2, 3, 5, 1, 2, 3, 4, 5, 2, 3, 4, 2, 3, 4, 1, 2, 3, 4, 1, 2, 2, 5, 2, 5, 1, 2, 4, 5, 1, 2, 3, 4, 5, 2, 5, 1, 2, 3, 4, 1, 2, 3, 4, 2, 4, 2, 3, 4, 2, 4, 1, 2, 1, 2, 5, 1, 2, 3, 4, 5, 2, 3, 1, 2, 3, 4, 5, 2, 3, 4, 1, 2, 4, 2, 3, 1, 2, 3, 4, 5, 1, 2, 1, 2, 5, 2, 1, 2, 3, 4, 2, 4, 2, 5, 1, 2, 3, 4, 5, 2, 1, 2, 2, 1, 2, 4, 5, 1, 2, 2, 3, 2, 1, 2, 1, 2, 4, 1, 2, 5, 2, 5, 1, 2, 4, 2, 2, 3, 1, 2, 3, 4, 5, 2, 5, 1, 2, 2, 4, 1, 2, 3, 5, 2, 3, 1, 2, 1, 2, 3, 4, 5, 1, 2, 1, 2, 3, 5, 1, 2, 3, 5, 1, 2, 3, 4, 5, 2, 5, 1, 2, 4, 1, 2, 3, 4, 5, 1, 2, 2, 4, 5, 2, 3, 1, 2, 3, 1, 2, 2, 3, 1, 2, 1, 2, 5, 1, 2, 3, 4, 5, 2, 1, 2, 3, 4, 5, 2, 3, 4, 1, 2, 4, 5, 1, 2, 1, 2, 3, 4, 5, 2, 3, 2, 4, 1, 2, 3, 1, 2, 3, 4, 5, 1, 2, 3, 4, 5, 1, 2, 3, 5, 1, 2, 3, 5, 1, 2, 3, 4, 5, 2, 3, 4, 1, 2, 1, 2, 3, 4, 5, 1, 2, 3, 4, 5, 1, 2, 1, 2, 2, 5, 2, 5, 2, 3, 4, 1, 2, 3, 4, 5, 2, 4, 2, 3, 4, 2, 1, 2, 3, 4, 5, 2, 3, 4, 2, 1, 2, 4, 5, 2, 3, 1, 2, 1, 2, 1, 2, 3, 4, 5, 1, 2, 5, 1, 2, 3, 5, 1, 2, 1, 2, 5, 1, 2, 3, 4, 5, 2, 5, 1, 2, 1, 2, 1, 2, 1, 2, 3, 4, 5, 2, 5, 1, 2, 1, 2, 1, 2, 3, 4, 5, 1, 2, 3, 4, 5, 2, 5, 2, 3, 4, 2, 5, 2, 5, 1, 2, 2, 5, 1, 2, 5, 2, 4, 1, 2, 4, 5, 1, 2, 3, 4, 5, 1, 2, 3, 4, 5, 1, 2, 4, 5, 2, 4, 1, 2, 3, 5, 1, 2, 3, 4, 5, 1, 2, 4, 2, 4, 1, 2, 4, 5, 1, 2, 3, 4, 5, 1, 2, 5, 1, 2, 3, 4, 1, 2, 4, 1, 2, 3, 4, 5, 1, 2, 3, 4, 1, 2, 5, 1, 2, 2, 3, 4, 2, 4, 5, 1, 2, 4, 5, 1, 2, 3, 4, 5, 2, 5, 1, 2, 3, 4, 5, 1, 2, 2, 1, 2, 1, 2, 3, 4, 5, 1, 2, 3, 5, 2, 4, 1, 2, 4, 1, 2, 3, 4, 5, 1, 2, 3, 5, 1, 2, 3, 4, 5, 1, 2, 3, 5, 1, 2, 3, 4, 5, 2, 3, 2, 5, 1, 2, 5, 1, 2, 3, 4, 5, 2, 4, 1, 2, 2, 5, 1, 2, 1, 2, 1, 2, 3, 5, 1, 2, 5, 1, 2, 3, 4, 5, 1, 2, 3, 4, 5, 2, 3, 2, 1, 2, 3, 4, 5, 2, 3, 1, 2, 3, 4, 5, 1, 2, 5, 1, 2, 3, 4, 5, 1, 2, 2, 5, 2, 3, 1, 2, 3, 4, 5, 1, 2, 3, 4, 5, 1, 2, 1, 2, 4, 5, 2, 3, 4, 1, 2, 4, 2, 3, 2, 2, 2, 2, 2, 3, 1, 2, 3, 4, 5, 2, 4, 1, 2, 1, 2, 5, 1, 2, 5, 2, 3, 5, 1, 2, 3, 4, 2, 3, 5, 1, 2, 5, 1, 2, 3, 5, 2, 5, 2, 3, 4, 2, 3, 4, 2, 3, 1, 2, 3, 4, 5, 1, 2, 1, 2, 3, 4, 5, 2, 4, 1, 2, 3, 4, 5, 2, 5, 1, 2, 4, 5, 1, 2, 4, 1, 2, 3, 2, 1, 2, 3, 4, 5, 2, 4, 1, 2, 2, 3, 4, 1, 2, 3, 1, 2, 3, 4, 1, 2, 3, 4, 5, 1, 2, 3, 4, 5, 2, 4, 1, 2, 3, 4, 5, 2, 3, 4, 2, 3, 2, 3, 2, 4, 1, 2, 4, 2, 4, 1, 2, 3, 4, 2, 5, 2, 4, 1, 2, 3, 4, 1, 2, 3, 4, 5, 1, 2, 4, 1, 2, 4, 1, 2, 3, 4, 5, 2, 1, 2, 3, 4, 1, 2, 3, 4, 5, 1, 2, 3, 4, 5, 2, 3, 4, 1, 2, 3, 4, 5, 2, 2, 3, 4, 2, 2, 1, 2, 3, 4, 5, 2, 3, 4, 2, 3, 2, 5, 2, 5, 1, 2, 5, 1, 2, 4, 1, 2, 3, 5, 1, 2, 2, 5, 2, 3, 4, 2, 2, 4, 1, 2, 3, 5, 2, 1, 2, 3, 4, 5, 1, 2, 4, 1, 2, 1, 2, 3, 4, 5, 1, 2, 3, 4, 5], \"Freq\": [0.012533070519566536, 0.9901125431060791, 0.9883852005004883, 0.011766490526497364, 0.9941844940185547, 0.027794014662504196, 0.9727904796600342, 0.04562075436115265, 0.9580358862876892, 0.9950124621391296, 0.002785123186185956, 0.9970741271972656, 0.005317169241607189, 0.9783591628074646, 0.015951508656144142, 0.285326212644577, 0.6380522847175598, 0.03482327610254288, 0.0011233314871788025, 0.04156326502561569, 0.9825401306152344, 0.00775689585134387, 0.01034252718091011, 0.003040037816390395, 0.9819322228431702, 0.01216015126556158, 0.04555866867303848, 0.10250700265169144, 0.8428353667259216, 0.0343683660030365, 0.9623143076896667, 0.03348056226968765, 0.9374557137489319, 0.03348056226968765, 0.9929478764533997, 0.8757871389389038, 0.014547958970069885, 0.02036714181303978, 0.002909591654315591, 0.08728775382041931, 0.5586175918579102, 0.296372652053833, 0.008980989456176758, 0.07005172222852707, 0.0646631270647049, 0.0515139177441597, 0.9272505044937134, 0.0008934780489653349, 0.9989084601402283, 0.9983737468719482, 0.03490428999066353, 0.97732013463974, 0.8895919919013977, 0.04881907254457474, 0.05966775864362717, 0.9919281005859375, 0.007999420166015625, 0.061388734728097916, 0.012277747504413128, 0.920831024646759, 0.09603627026081085, 0.9054847955703735, 0.010243621654808521, 0.9629004597663879, 0.03073086589574814, 0.02737616002559662, 0.9581655859947205, 0.0055840653367340565, 0.13960163295269012, 0.6868400573730469, 0.1619378924369812, 0.004495996981859207, 0.03596797585487366, 0.872223436832428, 0.08542394638061523, 0.9773564338684082, 0.018440688028931618, 0.9894751310348511, 0.008245625533163548, 0.9875684976577759, 0.009495850652456284, 0.02477533370256424, 0.02477533370256424, 0.9662380218505859, 0.05175185948610306, 0.02587592974305153, 0.9315334558486938, 0.03659519553184509, 0.9342538118362427, 0.01614493876695633, 0.0043053170666098595, 0.008610634133219719, 0.01062647346407175, 0.9696657061576843, 0.018596328794956207, 0.0013283091830089688, 0.46073049306869507, 0.4170115292072296, 0.03362996131181717, 0.013451985083520412, 0.07566741853952408, 0.01116021629422903, 0.7812151312828064, 0.2120441198348999, 0.011292236857116222, 0.8017488121986389, 0.19196802377700806, 0.039951957762241364, 0.4830555021762848, 0.36683160066604614, 0.10532788932323456, 0.9866802096366882, 0.01461748406291008, 0.03669634461402893, 0.954105019569397, 0.02215682901442051, 0.974900484085083, 0.030636344105005264, 0.23487862944602966, 0.735272228717804, 0.010212114080786705, 0.0028588708955794573, 0.19440321624279022, 0.7175765633583069, 0.08004838228225708, 0.0057177417911589146, 0.012132439762353897, 0.9827276468276978, 0.1362757533788681, 0.2768101096153259, 0.5621374845504761, 0.025551702827215195, 0.005327921826392412, 0.2530762851238251, 0.03729545325040817, 0.7032856941223145, 0.04575266316533089, 0.9608058929443359, 0.022965600714087486, 0.8956584334373474, 0.06889680027961731, 0.039776623249053955, 0.9546389579772949, 0.9938786029815674, 0.011831887997686863, 0.8061515688896179, 0.19181741774082184, 0.0025921273045241833, 0.053323082625865936, 0.9418147206306458, 0.0037360121496021748, 0.0003396374813746661, 0.0006792749627493322, 0.9653619527816772, 0.03247946500778198, 0.12381169945001602, 0.6150645613670349, 0.021966591477394104, 0.001996962819248438, 0.23364464938640594, 0.023858387023210526, 0.8827602863311768, 0.0954335480928421, 0.00438887532800436, 0.991885781288147, 0.00438887532800436, 0.0582280308008194, 0.9316484928131104, 0.6396306753158569, 0.2493475377559662, 0.025018148124217987, 0.0025018148589879274, 0.08339382708072662, 0.003597494214773178, 0.9929084181785583, 0.7751443982124329, 0.20301400125026703, 0.020506463944911957, 0.9948111176490784, 0.007040537893772125, 0.14785128831863403, 0.26049989461898804, 0.584364652633667, 0.008028962649405003, 0.9875624179840088, 0.012443533167243004, 0.9830390810966492, 0.20028656721115112, 0.562602698802948, 0.040507394820451736, 0.10689451545476913, 0.0900164321064949, 0.997744619846344, 0.9911081790924072, 0.016798444092273712, 0.9972659945487976, 0.011878724209964275, 0.011878724209964275, 0.8909043073654175, 0.08315106481313705, 0.9838880300521851, 0.01586916111409664, 0.06425046920776367, 0.8995066285133362, 0.9935159683227539, 0.9004781246185303, 0.09828813374042511, 0.014201711863279343, 0.014201711863279343, 0.9799181222915649, 0.008661800064146519, 0.008661800064146519, 0.9874452352523804, 0.03485017269849777, 0.97580486536026, 0.9764927625656128, 0.012599905952811241, 0.006299952976405621, 0.9970647692680359, 0.05239289999008179, 0.9430721998214722, 0.31209510564804077, 0.4986797869205475, 0.05435049533843994, 0.04314420744776726, 0.09245187044143677, 0.026971016079187393, 0.970956563949585, 0.004357429686933756, 0.9934939742088318, 0.014355694875121117, 0.9905429482460022, 0.9402006268501282, 0.05510333552956581, 0.003443958470597863, 0.003443958470597863, 0.044232845306396484, 0.9731226563453674, 0.9918699860572815, 0.011950241401791573, 0.10439978539943695, 0.4050711691379547, 0.05846387892961502, 0.24429549276828766, 0.18583162128925323, 0.9856624603271484, 0.015645435079932213, 0.0033418149687349796, 0.9731364846229553, 0.0026734517887234688, 0.0207192525267601, 0.9136518836021423, 0.05258428305387497, 0.026292141526937485, 0.006573035381734371, 0.020035818219184875, 0.9235259890556335, 0.03944551572203636, 0.014400744810700417, 0.0025044772773981094, 0.022155236452817917, 0.9748304486274719, 0.013989359140396118, 0.027978718280792236, 0.9652658104896545, 0.502500593662262, 0.45626047253608704, 0.0057683829218149185, 0.0028841914609074593, 0.03265649080276489, 0.9979879260063171, 0.0029011277947574854, 0.03040117770433426, 0.03040117770433426, 0.9424365162849426, 0.03800645470619202, 0.9501613974571228, 0.015104620717465878, 0.9742480516433716, 0.01006974745541811, 0.9956678748130798, 0.006866674870252609, 0.08580738306045532, 0.9438812136650085, 0.005013440735638142, 0.9926612973213196, 0.042941395193338394, 0.17176558077335358, 0.7836804986000061, 0.7592811584472656, 0.11518506705760956, 0.037611450999975204, 0.0023507156874984503, 0.08697647601366043, 0.9942408204078674, 0.0175167229026556, 0.9437134861946106, 0.0175167229026556, 0.0175167229026556, 0.00218959036283195, 0.010096069425344467, 0.6158602237701416, 0.363458514213562, 0.017846014350652695, 0.3212282657623291, 0.6513795256614685, 0.008923007175326347, 0.005162190645933151, 0.9963027238845825, 0.9202667474746704, 0.026803884655237198, 0.015635600313544273, 0.0022336570546031, 0.03350485488772392, 0.06300514191389084, 0.9450770616531372, 0.015924206003546715, 0.9873008131980896, 0.03403410315513611, 0.017017051577568054, 0.9359378218650818, 0.3597172796726227, 0.2697879374027252, 0.007934940047562122, 0.07670442014932632, 0.2856578230857849, 0.002570844953879714, 0.9794919490814209, 0.003856267314404249, 0.003856267314404249, 0.010283379815518856, 0.2605416774749756, 0.01776420697569847, 0.01776420697569847, 0.6987254619598389, 0.1990124136209488, 0.6283425688743591, 0.05813845992088318, 0.11404082179069519, 0.3316952586174011, 0.4467426836490631, 0.014941227622330189, 0.013447104953229427, 0.19423595070838928, 0.040525857359170914, 0.8105171322822571, 0.14690622687339783, 0.9871785640716553, 0.011133592575788498, 0.11794555187225342, 0.5747165083885193, 0.027878040447831154, 0.042889293283224106, 0.23374663293361664, 0.8736367225646973, 0.010866128839552402, 0.05433064326643944, 0.015212580561637878, 0.045637741684913635, 0.9918699860572815, 0.011950241401791573, 0.9850321412086487, 0.012628616765141487, 0.018714655190706253, 0.973162055015564, 0.035403814166784286, 0.9559029936790466, 0.004169571679085493, 0.9047970175743103, 0.08756100386381149, 0.9867459535598755, 0.007558639161288738, 0.002748596016317606, 0.0006871490040794015, 0.002748596016317606, 0.020787686109542847, 0.9700919985771179, 0.005676601082086563, 0.8514901399612427, 0.14191502332687378, 0.9943655729293823, 0.0008482806733809412, 0.0407174713909626, 0.13063521683216095, 0.7855079174041748, 0.04241403192281723, 0.00518411910161376, 0.8709319829940796, 0.12441885471343994, 0.9957451224327087, 0.03675791621208191, 0.16803619265556335, 0.01575339213013649, 0.7771673798561096, 0.08297064900398254, 0.9126771092414856, 0.023428475484251976, 0.9746245741844177, 0.004919064696878195, 0.9936510324478149, 0.051685623824596405, 0.3488779664039612, 0.012921405956149101, 0.025842811912298203, 0.5588508248329163, 0.020374607294797897, 0.020374607294797897, 0.9779811501502991, 0.4397343099117279, 0.26066726446151733, 0.04986678063869476, 0.24933388829231262, 0.9916306734085083, 0.009267576038837433, 0.037719909101724625, 0.009429977275431156, 0.9524277448654175, 0.47386446595191956, 0.1897938847541809, 0.021088209003210068, 0.011164345778524876, 0.3039183020591736, 0.02712290920317173, 0.9764246940612793, 0.9933401942253113, 0.01168635580688715, 0.9859707951545715, 0.015168781392276287, 0.00366872176527977, 0.9978923201560974, 0.10382653027772903, 0.7800301313400269, 0.014642203226685524, 0.04791994020342827, 0.05324437469244003, 0.017791246995329857, 0.978518545627594, 0.012742998078465462, 0.9848517179489136, 0.9491052627563477, 0.041995808482170105, 0.48403680324554443, 0.13996244966983795, 0.021383151412010193, 0.0019439228344708681, 0.3518500328063965, 0.2645421326160431, 0.42569997906684875, 0.039529282599687576, 0.044090352952480316, 0.2265332043170929, 0.021641358733177185, 0.9738610982894897, 0.03008905053138733, 0.9327605962753296, 0.03008905053138733, 0.035054609179496765, 0.9464744329452515, 0.021856319159269333, 0.9835343956947327, 0.004050491377711296, 0.9923703670501709, 0.03569028154015541, 0.96363765001297, 0.20907333493232727, 0.024123847484588623, 0.7639217972755432, 0.015778731554746628, 0.9782813787460327, 0.07099876552820206, 0.8568816781044006, 0.0024482333101332188, 0.06977465003728867, 0.5874512791633606, 0.1789504885673523, 0.05677049979567528, 0.008638989180326462, 0.16784322261810303, 0.011194233782589436, 0.8706626296043396, 0.009950430132448673, 0.0012438037665560842, 0.1057233214378357, 0.007967716082930565, 0.34261178970336914, 0.5577401518821716, 0.08764488250017166, 0.014243587851524353, 0.9828075170516968, 0.5493406653404236, 0.25569912791252136, 0.004949015099555254, 0.1913619190454483, 0.06866040080785751, 0.8381593227386475, 0.08289487659931183, 0.0008373219752684236, 0.009210541844367981, 0.007294551469385624, 0.014589102938771248, 0.9774698615074158, 0.11109783500432968, 0.874895453453064, 0.1927623599767685, 0.6557794809341431, 0.0038746201898902655, 0.146266907453537, 0.3866484463214874, 0.09752516448497772, 0.02330247312784195, 0.01812414638698101, 0.47381696105003357, 0.05505940690636635, 0.02202376164495945, 0.9249980449676514, 0.0017824353417381644, 0.994598925113678, 0.003564870683476329, 0.0008912176708690822, 0.027271762490272522, 0.027271762490272522, 0.940875768661499, 0.27910473942756653, 0.23309846222400665, 0.021469594910740852, 0.027603764086961746, 0.43859314918518066, 0.03334200009703636, 0.39343559741973877, 0.5481424927711487, 0.025339920073747635, 0.005477685946971178, 0.9928305745124817, 0.0013694214867427945, 0.961057186126709, 0.03844228759407997, 0.007115813437849283, 0.9392873644828796, 0.056926507502794266, 0.007242266554385424, 0.9777059555053711, 0.007242266554385424, 0.008124667219817638, 0.10562067478895187, 0.8815264105796814, 0.004062333609908819, 0.47642219066619873, 0.4222833216190338, 0.01856190338730812, 0.0030936505645513535, 0.07888808846473694, 0.036641065031290054, 0.9526677131652832, 0.12290343642234802, 0.17399811744689941, 0.6158981323242188, 0.08561812341213226, 0.002761875046417117, 0.9950866103172302, 0.015548228286206722, 0.9939491748809814, 0.9965271353721619, 0.009581991471350193, 0.07094074785709381, 0.8493887782096863, 0.024069182574748993, 0.019635384902358055, 0.035470373928546906, 0.23936760425567627, 0.2182469367980957, 0.010560335591435432, 0.531536877155304, 0.014355694875121117, 0.9905429482460022, 0.006690407637506723, 0.05352326110005379, 0.9433474540710449, 0.12099229544401169, 0.7828304767608643, 0.0010341221932321787, 0.03205778822302818, 0.06411557644605637, 0.5981830358505249, 0.34406769275665283, 0.008995234034955502, 0.04497617110610008, 0.3993939757347107, 0.03378559276461601, 0.01085965521633625, 0.00120662827976048, 0.5538424253463745, 0.008744576014578342, 0.008744576014578342, 0.6733323931694031, 0.3148047626018524, 0.24663272500038147, 0.5381077527999878, 0.03794349730014801, 0.1603975147008896, 0.018971748650074005, 0.035098254680633545, 0.9476528763771057, 0.03665941581130028, 0.9531447887420654, 0.7021319270133972, 0.14197520911693573, 0.1548820436000824, 0.04906821995973587, 0.903218686580658, 0.012721390463411808, 0.010904048569500446, 0.025442780926823616, 0.06514621526002884, 0.9120469689369202, 0.9840314388275146, 0.011855799704790115, 0.037172917276620865, 0.9664958715438843, 0.9804762601852417, 0.015319941565394402, 0.9931217432022095, 0.015047299675643444, 0.028578106313943863, 0.9495725631713867, 0.005196019541472197, 0.015588058158755302, 0.007895160466432571, 0.24474996328353882, 0.7421450614929199, 0.55528324842453, 0.25328710675239563, 0.04676069691777229, 0.027926526963710785, 0.11690174043178558, 0.6833714842796326, 0.03291269391775131, 0.0770849958062172, 0.0017322470666840672, 0.20440515875816345, 0.08358157426118851, 0.9193973541259766, 0.992731511592865, 0.13082155585289001, 0.7798587083816528, 0.04157894477248192, 0.00811296422034502, 0.040564823895692825, 0.06444865465164185, 0.9022811651229858, 0.10142988711595535, 0.8012961149215698, 0.046911321580410004, 0.050714943557977676, 0.0012678735656663775, 0.0770658478140831, 0.019266461953520775, 0.9055236577987671, 0.5786857604980469, 0.30722954869270325, 0.018938807770609856, 0.07575523108243942, 0.018938807770609856, 0.0031849597580730915, 0.9968923926353455, 0.018373722210526466, 0.9738072752952576, 0.02499678172171116, 0.9498776793479919, 0.48674795031547546, 0.4040631949901581, 0.04212241992354393, 0.0015600896440446377, 0.06708385050296783, 0.011379525996744633, 0.21052123606204987, 0.022759051993489265, 0.7567384839057922, 0.005689762998372316, 0.9820716977119446, 0.011832189746201038, 0.19420437514781952, 0.022194785997271538, 0.011097392998635769, 0.7712688446044922, 0.023858387023210526, 0.8827602863311768, 0.0954335480928421, 0.0770372673869133, 0.022010648623108864, 0.9024365544319153, 0.04264478012919426, 0.9381851553916931, 0.9988316893577576, 0.9942590594291687, 0.998546302318573, 0.9979538321495056, 0.03366824612021446, 0.9763791561126709, 0.08371054381132126, 0.7097197771072388, 0.16196170449256897, 0.005459383130073547, 0.04003547504544258, 0.014213098213076591, 0.9807037711143494, 0.983636200428009, 0.015865100547671318, 0.04267540201544762, 0.9551531076431274, 0.0015518328873440623, 0.950857400894165, 0.026911059394478798, 0.01794070564210415, 0.016268350183963776, 0.7808808088302612, 0.17895185947418213, 0.005736549850553274, 0.9809500575065613, 0.011473099701106548, 0.002868274925276637, 0.01869095489382744, 0.01869095489382744, 0.971929669380188, 0.11724762618541718, 0.8621148467063904, 0.020690757781267166, 0.09956064820289612, 0.35399341583251953, 0.39271143078804016, 0.14934097230434418, 0.013967524282634258, 0.9916942119598389, 0.008559219539165497, 0.9586326479911804, 0.02567766048014164, 0.020929845049977303, 0.9627728462219238, 0.015697384253144264, 0.06118511036038399, 0.9177766442298889, 0.003504713298752904, 0.17874038219451904, 0.003504713298752904, 0.8130934834480286, 0.003504713298752904, 0.012865426950156689, 0.9854916930198669, 0.22920259833335876, 0.5949513912200928, 0.002438325434923172, 0.09997134655714035, 0.07193060219287872, 0.015849998220801353, 0.9826998710632324, 0.10719268023967743, 0.7309766411781311, 0.12010746449232101, 0.02712104097008705, 0.012914781458675861, 0.014104842208325863, 0.9873389601707458, 0.007150451652705669, 0.972461462020874, 0.0017876129131764174, 0.01787612959742546, 0.9027370810508728, 0.011800484731793404, 0.0885036364197731, 0.9784078598022461, 0.006153508555144072, 0.018460525199770927, 0.9961088299751282, 0.004474109038710594, 0.026844654232263565, 0.004474109038710594, 0.961933434009552, 0.004474109038710594, 0.02999902330338955, 0.9599687457084656, 0.9824257493019104, 0.016938375309109688, 0.004875246435403824, 0.8726691603660583, 0.1218811646103859, 0.9791130423545837, 0.011940402910113335, 0.011940402910113335, 0.1452621966600418, 0.49301108717918396, 0.048420730978250504, 0.31253382563591003, 0.18955381214618683, 0.348160058259964, 0.33655470609664917, 0.03481600433588028, 0.0889742374420166, 0.08233656734228134, 0.8978606462478638, 0.003920788876712322, 0.001306929625570774, 0.014376225881278515, 0.014355694875121117, 0.9905429482460022, 0.010227170772850513, 0.9824902415275574, 0.004772679880261421, 0.0006818114197812974, 0.0020454342011362314, 0.024759342893958092, 0.9408550262451172, 0.024759342893958092, 0.06551413238048553, 0.9171978235244751, 0.06551413238048553, 0.9171978235244751, 0.06590969860553741, 0.9227358102798462, 0.006967486813664436, 0.006967486813664436, 0.9824156165122986, 0.008028962649405003, 0.9875624179840088, 0.0038856572937220335, 0.06994183361530304, 0.7849027514457703, 0.13599799573421478, 0.02237437665462494, 0.9844726324081421, 0.034774016588926315, 0.9736725091934204, 0.0015509973745793104, 0.0015509973745793104, 0.9166394472122192, 0.08065186440944672, 0.2547149360179901, 0.15241140127182007, 0.002087827306240797, 0.002087827306240797, 0.5887673497200012, 0.014981732703745365, 0.02996346540749073, 0.9438491463661194, 0.03208253160119057, 0.03208253160119057, 0.9303934574127197, 0.5561022162437439, 0.027259910479187965, 0.027259910479187965, 0.012266959995031357, 0.3761867880821228, 0.9975379109382629, 0.27373266220092773, 0.011405527591705322, 0.638709545135498, 0.07983869314193726, 0.23946624994277954, 0.23946624994277954, 0.02863183431327343, 0.020823152735829353, 0.47372671961784363, 0.06878772377967834, 0.7719510793685913, 0.07031633704900742, 0.0328652448952198, 0.055030178278684616, 0.02055910974740982, 0.852060854434967, 0.12792335450649261, 0.1993730515241623, 0.6875675916671753, 0.024786919355392456, 0.043107688426971436, 0.04526307061314583, 0.9926382899284363, 0.044437527656555176, 0.9331880807876587, 0.044437527656555176, 0.9936465620994568, 0.9950281977653503, 0.27479663491249084, 0.39825597405433655, 0.04380815848708153, 0.27877917885780334, 0.0039825597777962685, 0.018239008262753487, 0.8389943242073059, 0.1459120661020279, 0.04777877405285835, 0.9555754661560059, 0.036703579127788544, 0.9542930126190186, 0.036703579127788544, 0.9542930126190186, 0.8983844518661499, 0.08607276529073715, 0.010759095661342144, 0.1748996526002884, 0.0812034085392952, 0.7433235049247742, 0.1611557900905609, 0.1611557900905609, 0.007006773725152016, 0.6796570420265198, 0.9962419867515564, 0.0034117877949029207, 0.022176437079906464, 0.975763201713562, 0.002594362013041973, 0.874299943447113, 0.12193500995635986, 0.9937469363212585, 0.005992688704282045, 0.9947863221168518, 0.013879249803721905, 0.013879249803721905, 0.12491325289011002, 0.8466342687606812, 0.9969037771224976, 0.23318354785442352, 0.6044055223464966, 0.016377439722418785, 0.03899390250444412, 0.10684330016374588, 0.014648345299065113, 0.004882781766355038, 0.9814391732215881, 0.9939993023872375, 0.011833325028419495, 0.03903874009847641, 0.9128420352935791, 0.0024918345734477043, 0.006644892040640116, 0.03903874009847641, 0.008270609192550182, 0.980067253112793, 0.008270609192550182, 0.0020676522981375456, 0.0020676522981375456], \"Term\": [\"aaaaaaaaaaaaaaaaaaaaaaaaaaaaaaaaaaaaaaaaaaaaaaaaaaaaaaaaaaaaaaaaaaaaaaaaaaaa\", \"aaaaaaaaaaaaaaaaaaaaaaaaaaaaaaaaaaaaaaaaaaaaaaaaaaaaaaaaaaaaaaaaaaaaaaaaaaaa\", \"addin\", \"addin\", \"afford\", \"agave\", \"agave\", \"aggies\", \"aggies\", \"aggressively\", \"alert\", \"alert\", \"align\", \"align\", \"align\", \"also\", \"also\", \"also\", \"also\", \"also\", \"amazon\", \"amazon\", \"amazon\", \"american\", \"american\", \"american\", \"amy\", \"amy\", \"amy\", \"ancillary\", \"ancillary\", \"arctic\", \"arctic\", \"arctic\", \"astronomical\", \"attached\", \"attached\", \"attached\", \"attached\", \"attached\", \"available\", \"available\", \"available\", \"available\", \"available\", \"backout\", \"backout\", \"bakernet\", \"bakernet\", \"bankrupt\", \"baughman\", \"baughman\", \"ben\", \"ben\", \"ben\", \"bergfelt\", \"bergfelt\", \"beth\", \"beth\", \"beth\", \"blair\", \"blair\", \"bodydefault\", \"bodydefault\", \"bodydefault\", \"bolt\", \"bolt\", \"border\", \"border\", \"border\", \"border\", \"br\", \"br\", \"br\", \"br\", \"brackett\", \"brackett\", \"bradford\", \"bradford\", \"breese\", \"breese\", \"bt\", \"bt\", \"bt\", \"buchanan\", \"buchanan\", \"buchanan\", \"business\", \"business\", \"business\", \"business\", \"business\", \"california\", \"california\", \"california\", \"california\", \"call\", \"call\", \"call\", \"call\", \"call\", \"cellpadding\", \"cellpadding\", \"cellpadding\", \"cellspacing\", \"cellspacing\", \"cellspacing\", \"center\", \"center\", \"center\", \"center\", \"certificate\", \"certificate\", \"chanley\", \"chanley\", \"cherry\", \"cherry\", \"choice\", \"choice\", \"choice\", \"choice\", \"class\", \"class\", \"class\", \"class\", \"class\", \"classmate\", \"classmate\", \"clear\", \"clear\", \"clear\", \"clear\", \"click\", \"click\", \"click\", \"click\", \"clickaction\", \"clickaction\", \"colspan\", \"colspan\", \"colspan\", \"columbiahouse\", \"columbiahouse\", \"commoditylogic\", \"commoditylogic\", \"communication\", \"communication\", \"communication\", \"company\", \"company\", \"company\", \"company\", \"company\", \"consumer\", \"consumer\", \"contract\", \"contract\", \"contract\", \"contract\", \"contract\", \"coords\", \"coords\", \"coords\", \"copyright\", \"copyright\", \"copyright\", \"coral\", \"coral\", \"corp\", \"corp\", \"corp\", \"corp\", \"corp\", \"court\", \"court\", \"credit\", \"credit\", \"credit\", \"crisis\", \"ct\", \"ct\", \"ct\", \"ct\", \"ctr\", \"ctr\", \"darrell\", \"darrell\", \"day\", \"day\", \"day\", \"day\", \"day\", \"dbcaps\", \"debbie\", \"debbie\", \"declared\", \"delta\", \"delta\", \"delta\", \"delta\", \"demoes\", \"demoes\", \"detected\", \"detected\", \"devastated\", \"development\", \"development\", \"deviation\", \"deviation\", \"deviation\", \"devon\", \"devon\", \"devon\", \"dietz\", \"dietz\", \"div\", \"div\", \"div\", \"donate\", \"dye\", \"dye\", \"e\", \"e\", \"e\", \"e\", \"e\", \"earl\", \"earl\", \"earnings\", \"earnings\", \"ecar\", \"ecar\", \"ee\", \"ee\", \"ee\", \"ee\", \"eei\", \"eei\", \"eix\", \"eix\", \"email\", \"email\", \"email\", \"email\", \"email\", \"emailed\", \"emailed\", \"employee\", \"employee\", \"employee\", \"employee\", \"ena\", \"ena\", \"ena\", \"ena\", \"energy\", \"energy\", \"energy\", \"energy\", \"energy\", \"enform\", \"enform\", \"enlarge\", \"enlarge\", \"enlarge\", \"enron\", \"enron\", \"enron\", \"enron\", \"enron\", \"enronxgate\", \"enronxgate\", \"estoppel\", \"estoppel\", \"estoppel\", \"euci\", \"euci\", \"executive\", \"executive\", \"executive\", \"exotica\", \"exotica\", \"fagan\", \"fagan\", \"federal\", \"federal\", \"feedback\", \"feedback\", \"feedback\", \"file\", \"file\", \"file\", \"file\", \"file\", \"financially\", \"firm\", \"firm\", \"firm\", \"firm\", \"firm\", \"font\", \"font\", \"font\", \"forecast\", \"forecast\", \"forecast\", \"forecast\", \"former\", \"former\", \"forwarded\", \"forwarded\", \"forwarded\", \"forwarded\", \"forwarded\", \"fran\", \"fran\", \"frcc\", \"frcc\", \"fri\", \"fri\", \"fri\", \"friday\", \"friday\", \"friday\", \"friday\", \"friday\", \"fund\", \"fund\", \"fund\", \"fund\", \"fund\", \"fw\", \"fw\", \"fw\", \"fw\", \"gas\", \"gas\", \"gas\", \"gas\", \"get\", \"get\", \"get\", \"get\", \"get\", \"gif\", \"gif\", \"gif\", \"gift\", \"gift\", \"go\", \"go\", \"go\", \"go\", \"go\", \"greg\", \"greg\", \"greg\", \"greg\", \"greg\", \"gregwhalley\", \"gregwhalley\", \"gt\", \"gt\", \"hanagriff\", \"hanagriff\", \"headcount\", \"headcount\", \"height\", \"height\", \"height\", \"hou\", \"hou\", \"hou\", \"hou\", \"hou\", \"hp\", \"hp\", \"href\", \"href\", \"href\", \"hurt\", \"image\", \"image\", \"image\", \"image\", \"image\", \"img\", \"img\", \"img\", \"income\", \"intended\", \"intended\", \"intended\", \"intended\", \"interchange\", \"interchange\", \"investment\", \"investment\", \"investor\", \"investor\", \"january\", \"january\", \"january\", \"january\", \"january\", \"jerry\", \"jerry\", \"jerry\", \"john\", \"john\", \"john\", \"john\", \"kern\", \"kern\", \"kimberly\", \"kimberly\", \"kimberly\", \"know\", \"know\", \"know\", \"know\", \"know\", \"kowalke\", \"kowalke\", \"krishna\", \"krishna\", \"krishnarao\", \"krishnarao\", \"largest\", \"largest\", \"last\", \"last\", \"last\", \"last\", \"last\", \"laurel\", \"laurel\", \"lay\", \"lay\", \"leg\", \"leg\", \"let\", \"let\", \"let\", \"let\", \"let\", \"like\", \"like\", \"like\", \"like\", \"like\", \"lindberg\", \"lindberg\", \"linkbarseperator\", \"linkbarseperator\", \"linkbarseperator\", \"lokay\", \"lokay\", \"lorraine\", \"lorraine\", \"lost\", \"lost\", \"lover\", \"lover\", \"lynn\", \"lynn\", \"lynn\", \"maac\", \"maac\", \"made\", \"made\", \"made\", \"made\", \"mail\", \"mail\", \"mail\", \"mail\", \"mail\", \"mailto\", \"mailto\", \"mailto\", \"mailto\", \"mailto\", \"main\", \"main\", \"main\", \"main\", \"mapp\", \"mapp\", \"mark\", \"mark\", \"mark\", \"mark\", \"market\", \"market\", \"market\", \"market\", \"market\", \"matrix\", \"matrix\", \"matrix\", \"max\", \"max\", \"may\", \"may\", \"may\", \"may\", \"message\", \"message\", \"message\", \"message\", \"message\", \"michelle\", \"michelle\", \"michelle\", \"million\", \"million\", \"million\", \"million\", \"min\", \"min\", \"min\", \"monday\", \"monday\", \"monday\", \"monday\", \"monday\", \"money\", \"money\", \"money\", \"money\", \"mr\", \"mr\", \"mr\", \"na\", \"na\", \"nbsp\", \"nbsp\", \"nbsp\", \"nc\", \"nc\", \"nc\", \"ne\", \"ne\", \"ne\", \"ne\", \"need\", \"need\", \"need\", \"need\", \"need\", \"nella\", \"nella\", \"net\", \"net\", \"net\", \"net\", \"net\", \"netback\", \"netback\", \"netted\", \"neumin\", \"neumin\", \"new\", \"new\", \"new\", \"new\", \"new\", \"november\", \"november\", \"november\", \"november\", \"npcc\", \"npcc\", \"nw\", \"nw\", \"nw\", \"one\", \"one\", \"one\", \"one\", \"one\", \"order\", \"order\", \"order\", \"order\", \"original\", \"original\", \"original\", \"original\", \"original\", \"outage\", \"outage\", \"outage\", \"outage\", \"p\", \"p\", \"p\", \"p\", \"p\", \"pager\", \"pager\", \"pampa\", \"pampa\", \"paul\", \"paul\", \"paul\", \"pay\", \"pay\", \"pay\", \"pay\", \"pay\", \"paypal\", \"paypal\", \"pcg\", \"pcg\", \"pep\", \"pep\", \"permian\", \"permian\", \"pinnamaneni\", \"pinnamaneni\", \"plan\", \"plan\", \"plan\", \"plan\", \"play\", \"play\", \"play\", \"please\", \"please\", \"please\", \"please\", \"please\", \"pm\", \"pm\", \"pm\", \"pm\", \"pm\", \"pnm\", \"pnm\", \"pocketbook\", \"power\", \"power\", \"power\", \"power\", \"power\", \"powersrc\", \"powersrc\", \"price\", \"price\", \"price\", \"price\", \"price\", \"privileged\", \"privileged\", \"privileged\", \"product\", \"product\", \"product\", \"product\", \"product\", \"profit\", \"profit\", \"pseg\", \"pseg\", \"pt\", \"pt\", \"question\", \"question\", \"question\", \"question\", \"question\", \"range\", \"range\", \"range\", \"range\", \"range\", \"raquel\", \"raquel\", \"recipient\", \"recipient\", \"recipient\", \"recipient\", \"rect\", \"rect\", \"rect\", \"reg\", \"reg\", \"reg\", \"reliantenergy\", \"reliantenergy\", \"relief\", \"repair\", \"reported\", \"retirement\", \"rfp\", \"rfp\", \"right\", \"right\", \"right\", \"right\", \"right\", \"rk\", \"rk\", \"royalty\", \"royalty\", \"said\", \"said\", \"said\", \"sara\", \"sara\", \"sara\", \"sat\", \"sat\", \"sat\", \"saving\", \"saving\", \"saving\", \"saving\", \"savita\", \"savita\", \"savita\", \"say\", \"say\", \"say\", \"schedule\", \"schedule\", \"schedule\", \"schedule\", \"schoolcraft\", \"schoolcraft\", \"scoop\", \"scoop\", \"scoop\", \"script\", \"script\", \"script\", \"sdg\", \"sdg\", \"se\", \"se\", \"se\", \"se\", \"se\", \"security\", \"security\", \"see\", \"see\", \"see\", \"see\", \"see\", \"serc\", \"serc\", \"service\", \"service\", \"service\", \"service\", \"service\", \"sfs\", \"sfs\", \"share\", \"share\", \"share\", \"share\", \"shipping\", \"shipping\", \"shipping\", \"simulation\", \"simulation\", \"simulation\", \"sold\", \"sp\", \"sp\", \"sp\", \"sp\", \"sp\", \"spp\", \"spp\", \"spreadsheet\", \"spreadsheet\", \"src\", \"src\", \"src\", \"stack\", \"stack\", \"stack\", \"standard\", \"standard\", \"standard\", \"standard\", \"start\", \"start\", \"start\", \"start\", \"start\", \"state\", \"state\", \"state\", \"state\", \"state\", \"std\", \"std\", \"stock\", \"stock\", \"stock\", \"stock\", \"stock\", \"stocklookup\", \"stocklookup\", \"stocklookup\", \"stsw\", \"stsw\", \"stwbom\", \"stwbom\", \"svc\", \"svc\", \"sw\", \"sw\", \"sw\", \"syncrasy\", \"syncrasy\", \"table\", \"table\", \"table\", \"table\", \"tagline\", \"tagline\", \"talbot\", \"talbot\", \"td\", \"td\", \"td\", \"td\", \"team\", \"team\", \"team\", \"team\", \"team\", \"temp\", \"temp\", \"temp\", \"temperature\", \"temperature\", \"temperature\", \"thanks\", \"thanks\", \"thanks\", \"thanks\", \"thanks\", \"thousand\", \"thru\", \"thru\", \"thru\", \"thru\", \"thursday\", \"thursday\", \"thursday\", \"thursday\", \"thursday\", \"time\", \"time\", \"time\", \"time\", \"time\", \"tr\", \"tr\", \"tr\", \"u\", \"u\", \"u\", \"u\", \"u\", \"underhanded\", \"underscore\", \"underscore\", \"underscore\", \"urge\", \"urging\", \"used\", \"used\", \"used\", \"used\", \"used\", \"valign\", \"valign\", \"valign\", \"variance\", \"variance\", \"vegetarian\", \"vegetarian\", \"veggie\", \"veggie\", \"vince\", \"vince\", \"vince\", \"volatility\", \"volatility\", \"volatility\", \"watson\", \"watson\", \"watson\", \"watson\", \"whalley\", \"whalley\", \"whitt\", \"whitt\", \"width\", \"width\", \"width\", \"wiped\", \"wj\", \"wj\", \"wolfe\", \"wolfe\", \"wolfe\", \"wolfe\", \"worker\", \"would\", \"would\", \"would\", \"would\", \"would\", \"wscc\", \"wscc\", \"wscc\", \"xll\", \"xll\", \"year\", \"year\", \"year\", \"year\", \"year\", \"york\", \"york\", \"york\", \"york\", \"york\"]}, \"R\": 30, \"lambda.step\": 0.01, \"plot.opts\": {\"xlab\": \"PC1\", \"ylab\": \"PC2\"}, \"topic.order\": [1, 2, 3, 4, 5]};\n",
       "\n",
       "function LDAvis_load_lib(url, callback){\n",
       "  var s = document.createElement('script');\n",
       "  s.src = url;\n",
       "  s.async = true;\n",
       "  s.onreadystatechange = s.onload = callback;\n",
       "  s.onerror = function(){console.warn(\"failed to load library \" + url);};\n",
       "  document.getElementsByTagName(\"head\")[0].appendChild(s);\n",
       "}\n",
       "\n",
       "if(typeof(LDAvis) !== \"undefined\"){\n",
       "   // already loaded: just create the visualization\n",
       "   !function(LDAvis){\n",
       "       new LDAvis(\"#\" + \"ldavis_el376571403441258036002009494662\", ldavis_el376571403441258036002009494662_data);\n",
       "   }(LDAvis);\n",
       "}else if(typeof define === \"function\" && define.amd){\n",
       "   // require.js is available: use it to load d3/LDAvis\n",
       "   require.config({paths: {d3: \"https://cdnjs.cloudflare.com/ajax/libs/d3/3.5.5/d3.min\"}});\n",
       "   require([\"d3\"], function(d3){\n",
       "      window.d3 = d3;\n",
       "      LDAvis_load_lib(\"https://cdn.rawgit.com/bmabey/pyLDAvis/files/ldavis.v1.0.0.js\", function(){\n",
       "        new LDAvis(\"#\" + \"ldavis_el376571403441258036002009494662\", ldavis_el376571403441258036002009494662_data);\n",
       "      });\n",
       "    });\n",
       "}else{\n",
       "    // require.js not available: dynamically load d3 & LDAvis\n",
       "    LDAvis_load_lib(\"https://cdnjs.cloudflare.com/ajax/libs/d3/3.5.5/d3.min.js\", function(){\n",
       "         LDAvis_load_lib(\"https://cdn.rawgit.com/bmabey/pyLDAvis/files/ldavis.v1.0.0.js\", function(){\n",
       "                 new LDAvis(\"#\" + \"ldavis_el376571403441258036002009494662\", ldavis_el376571403441258036002009494662_data);\n",
       "            })\n",
       "         });\n",
       "}\n",
       "</script>"
      ],
      "text/plain": [
       "<IPython.core.display.HTML object>"
      ]
     },
     "execution_count": 102,
     "metadata": {},
     "output_type": "execute_result"
    }
   ],
   "source": [
    "pyLDAvis.display(lda_display)"
   ]
  },
  {
   "cell_type": "markdown",
   "metadata": {},
   "source": [
    "### Interpreting the topic model\n",
    "\n",
    "* Have a look at topic 2 from the LDA model on the Enron email data. You would research further for fraud detection purposes.\n",
    "* Words like 'stock', 'know', 'would'may imply insider trading of Enron Stock amongst it's employees. \n",
    "* Slide the lambda value to .2. Words like 'bankruptcy\", \"retirement\", \"fund\" appear in Topic 2\n",
    "* Resources: http://bl.ocks.org/AlessandraSozzi/raw/ce1ace56e4aed6f2d614ae2243aab5a5/"
   ]
  },
  {
   "cell_type": "markdown",
   "metadata": {},
   "source": [
    "### Finding fraudsters based on topic\n",
    "\n",
    "Next we **link the results** from the topic model **back to the original data**. We want to **flag everything related to topic 2**. As you will see, this is actually not that straightforward.\n",
    "\n",
    "More detail on how to work with the model results (which is beyond the scope of this notebook) please look here [article](https://www.machinelearningplus.com/nlp/topic-modeling-gensim-python/).\n"
   ]
  },
  {
   "cell_type": "markdown",
   "metadata": {},
   "source": [
    "#### def get_topic_details"
   ]
  },
  {
   "cell_type": "code",
   "execution_count": 173,
   "metadata": {},
   "outputs": [],
   "source": [
    "def get_topic_details(ldamodel, corpus):\n",
    "    topic_details_df = pd.DataFrame()\n",
    "    for i, row in enumerate(ldamodel[corpus]):\n",
    "        row = sorted(row, key=lambda x: (x[1]), reverse=True)\n",
    "        for j, (topic_num, prop_topic) in enumerate(row):\n",
    "            if j == 0:  # => dominant topic\n",
    "                wp = ldamodel.show_topic(topic_num)\n",
    "                topic_details_df = topic_details_df.append(pd.Series([topic_num, prop_topic]), ignore_index=True)\n",
    "    topic_details_df.columns = ['Dominant_Topic', '% Score']\n",
    "    return topic_details_df"
   ]
  },
  {
   "cell_type": "code",
   "execution_count": 174,
   "metadata": {},
   "outputs": [],
   "source": [
    "# Run get_topic_details function and check the results\n",
    "topic_details_df = get_topic_details(ldamodel, corpus)"
   ]
  },
  {
   "cell_type": "code",
   "execution_count": 175,
   "metadata": {},
   "outputs": [
    {
     "data": {
      "text/html": [
       "<div>\n",
       "<style scoped>\n",
       "    .dataframe tbody tr th:only-of-type {\n",
       "        vertical-align: middle;\n",
       "    }\n",
       "\n",
       "    .dataframe tbody tr th {\n",
       "        vertical-align: top;\n",
       "    }\n",
       "\n",
       "    .dataframe thead th {\n",
       "        text-align: right;\n",
       "    }\n",
       "</style>\n",
       "<table border=\"1\" class=\"dataframe\">\n",
       "  <thead>\n",
       "    <tr style=\"text-align: right;\">\n",
       "      <th></th>\n",
       "      <th>Dominant_Topic</th>\n",
       "      <th>% Score</th>\n",
       "    </tr>\n",
       "  </thead>\n",
       "  <tbody>\n",
       "    <tr>\n",
       "      <th>0</th>\n",
       "      <td>0.0</td>\n",
       "      <td>0.900764</td>\n",
       "    </tr>\n",
       "    <tr>\n",
       "      <th>1</th>\n",
       "      <td>2.0</td>\n",
       "      <td>0.762288</td>\n",
       "    </tr>\n",
       "    <tr>\n",
       "      <th>2</th>\n",
       "      <td>2.0</td>\n",
       "      <td>0.374963</td>\n",
       "    </tr>\n",
       "    <tr>\n",
       "      <th>3</th>\n",
       "      <td>1.0</td>\n",
       "      <td>0.993497</td>\n",
       "    </tr>\n",
       "    <tr>\n",
       "      <th>4</th>\n",
       "      <td>1.0</td>\n",
       "      <td>0.993387</td>\n",
       "    </tr>\n",
       "  </tbody>\n",
       "</table>\n",
       "</div>"
      ],
      "text/plain": [
       "   Dominant_Topic   % Score\n",
       "0             0.0  0.900764\n",
       "1             2.0  0.762288\n",
       "2             2.0  0.374963\n",
       "3             1.0  0.993497\n",
       "4             1.0  0.993387"
      ]
     },
     "execution_count": 175,
     "metadata": {},
     "output_type": "execute_result"
    }
   ],
   "source": [
    "topic_details_df.head()"
   ]
  },
  {
   "cell_type": "code",
   "execution_count": 176,
   "metadata": {},
   "outputs": [
    {
     "data": {
      "text/html": [
       "<div>\n",
       "<style scoped>\n",
       "    .dataframe tbody tr th:only-of-type {\n",
       "        vertical-align: middle;\n",
       "    }\n",
       "\n",
       "    .dataframe tbody tr th {\n",
       "        vertical-align: top;\n",
       "    }\n",
       "\n",
       "    .dataframe thead th {\n",
       "        text-align: right;\n",
       "    }\n",
       "</style>\n",
       "<table border=\"1\" class=\"dataframe\">\n",
       "  <thead>\n",
       "    <tr style=\"text-align: right;\">\n",
       "      <th></th>\n",
       "      <th>Dominant_Topic</th>\n",
       "      <th>% Score</th>\n",
       "    </tr>\n",
       "  </thead>\n",
       "  <tbody>\n",
       "    <tr>\n",
       "      <th>2085</th>\n",
       "      <td>3.0</td>\n",
       "      <td>0.910028</td>\n",
       "    </tr>\n",
       "    <tr>\n",
       "      <th>2086</th>\n",
       "      <td>2.0</td>\n",
       "      <td>0.599773</td>\n",
       "    </tr>\n",
       "    <tr>\n",
       "      <th>2087</th>\n",
       "      <td>4.0</td>\n",
       "      <td>0.999322</td>\n",
       "    </tr>\n",
       "    <tr>\n",
       "      <th>2088</th>\n",
       "      <td>0.0</td>\n",
       "      <td>0.998145</td>\n",
       "    </tr>\n",
       "    <tr>\n",
       "      <th>2089</th>\n",
       "      <td>1.0</td>\n",
       "      <td>0.988380</td>\n",
       "    </tr>\n",
       "  </tbody>\n",
       "</table>\n",
       "</div>"
      ],
      "text/plain": [
       "      Dominant_Topic   % Score\n",
       "2085             3.0  0.910028\n",
       "2086             2.0  0.599773\n",
       "2087             4.0  0.999322\n",
       "2088             0.0  0.998145\n",
       "2089             1.0  0.988380"
      ]
     },
     "execution_count": 176,
     "metadata": {},
     "output_type": "execute_result"
    }
   ],
   "source": [
    "topic_details_df.tail()"
   ]
  },
  {
   "cell_type": "code",
   "execution_count": 177,
   "metadata": {},
   "outputs": [],
   "source": [
    "# Add original text to topic details in a dataframe\n",
    "contents = pd.DataFrame({'Original text': text_clean})\n",
    "topic_details = pd.concat([get_topic_details(ldamodel, corpus), contents], axis=1)"
   ]
  },
  {
   "cell_type": "code",
   "execution_count": 178,
   "metadata": {},
   "outputs": [
    {
     "data": {
      "text/html": [
       "<div>\n",
       "<style scoped>\n",
       "    .dataframe tbody tr th:only-of-type {\n",
       "        vertical-align: middle;\n",
       "    }\n",
       "\n",
       "    .dataframe tbody tr th {\n",
       "        vertical-align: top;\n",
       "    }\n",
       "\n",
       "    .dataframe thead th {\n",
       "        text-align: right;\n",
       "    }\n",
       "</style>\n",
       "<table border=\"1\" class=\"dataframe\">\n",
       "  <thead>\n",
       "    <tr style=\"text-align: right;\">\n",
       "      <th></th>\n",
       "      <th>Dominant_Topic</th>\n",
       "      <th>% Score</th>\n",
       "      <th>Original text</th>\n",
       "    </tr>\n",
       "  </thead>\n",
       "  <tbody>\n",
       "    <tr>\n",
       "      <th>849</th>\n",
       "      <td>1.0</td>\n",
       "      <td>0.999873</td>\n",
       "      <td>[original, message, received, thu, aug, cdt, e...</td>\n",
       "    </tr>\n",
       "    <tr>\n",
       "      <th>1252</th>\n",
       "      <td>4.0</td>\n",
       "      <td>0.999795</td>\n",
       "      <td>[attention, reading, message, mail, reader, ca...</td>\n",
       "    </tr>\n",
       "    <tr>\n",
       "      <th>2081</th>\n",
       "      <td>4.0</td>\n",
       "      <td>0.999631</td>\n",
       "      <td>[unsubscribe, mailing, please, go, money, net,...</td>\n",
       "    </tr>\n",
       "    <tr>\n",
       "      <th>2087</th>\n",
       "      <td>4.0</td>\n",
       "      <td>0.999322</td>\n",
       "      <td>[image, image, image, image, image, image, ima...</td>\n",
       "    </tr>\n",
       "    <tr>\n",
       "      <th>1211</th>\n",
       "      <td>3.0</td>\n",
       "      <td>0.999060</td>\n",
       "      <td>[start, date, hourahead, hour, hourahead, sche...</td>\n",
       "    </tr>\n",
       "  </tbody>\n",
       "</table>\n",
       "</div>"
      ],
      "text/plain": [
       "      Dominant_Topic   % Score  \\\n",
       "849              1.0  0.999873   \n",
       "1252             4.0  0.999795   \n",
       "2081             4.0  0.999631   \n",
       "2087             4.0  0.999322   \n",
       "1211             3.0  0.999060   \n",
       "\n",
       "                                          Original text  \n",
       "849   [original, message, received, thu, aug, cdt, e...  \n",
       "1252  [attention, reading, message, mail, reader, ca...  \n",
       "2081  [unsubscribe, mailing, please, go, money, net,...  \n",
       "2087  [image, image, image, image, image, image, ima...  \n",
       "1211  [start, date, hourahead, hour, hourahead, sche...  "
      ]
     },
     "execution_count": 178,
     "metadata": {},
     "output_type": "execute_result"
    }
   ],
   "source": [
    "topic_details.sort_values(by=['% Score'], ascending=False).head(10).head()"
   ]
  },
  {
   "cell_type": "code",
   "execution_count": 179,
   "metadata": {},
   "outputs": [
    {
     "data": {
      "text/html": [
       "<div>\n",
       "<style scoped>\n",
       "    .dataframe tbody tr th:only-of-type {\n",
       "        vertical-align: middle;\n",
       "    }\n",
       "\n",
       "    .dataframe tbody tr th {\n",
       "        vertical-align: top;\n",
       "    }\n",
       "\n",
       "    .dataframe thead th {\n",
       "        text-align: right;\n",
       "    }\n",
       "</style>\n",
       "<table border=\"1\" class=\"dataframe\">\n",
       "  <thead>\n",
       "    <tr style=\"text-align: right;\">\n",
       "      <th></th>\n",
       "      <th>Dominant_Topic</th>\n",
       "      <th>% Score</th>\n",
       "      <th>Original text</th>\n",
       "    </tr>\n",
       "  </thead>\n",
       "  <tbody>\n",
       "    <tr>\n",
       "      <th>442</th>\n",
       "      <td>0.0</td>\n",
       "      <td>0.998842</td>\n",
       "      <td>[pleased, send, web, based, e, mail, alert, pr...</td>\n",
       "    </tr>\n",
       "    <tr>\n",
       "      <th>1138</th>\n",
       "      <td>1.0</td>\n",
       "      <td>0.998685</td>\n",
       "      <td>[greg, great, time, million, club, lavo, dave,...</td>\n",
       "    </tr>\n",
       "    <tr>\n",
       "      <th>109</th>\n",
       "      <td>2.0</td>\n",
       "      <td>0.998311</td>\n",
       "      <td>[original, message, ken, lay, office, chairman...</td>\n",
       "    </tr>\n",
       "    <tr>\n",
       "      <th>181</th>\n",
       "      <td>2.0</td>\n",
       "      <td>0.998248</td>\n",
       "      <td>[today, announced, plan, merge, dynegy, major,...</td>\n",
       "    </tr>\n",
       "    <tr>\n",
       "      <th>293</th>\n",
       "      <td>2.0</td>\n",
       "      <td>0.998248</td>\n",
       "      <td>[today, announced, plan, merge, dynegy, major,...</td>\n",
       "    </tr>\n",
       "  </tbody>\n",
       "</table>\n",
       "</div>"
      ],
      "text/plain": [
       "      Dominant_Topic   % Score  \\\n",
       "442              0.0  0.998842   \n",
       "1138             1.0  0.998685   \n",
       "109              2.0  0.998311   \n",
       "181              2.0  0.998248   \n",
       "293              2.0  0.998248   \n",
       "\n",
       "                                          Original text  \n",
       "442   [pleased, send, web, based, e, mail, alert, pr...  \n",
       "1138  [greg, great, time, million, club, lavo, dave,...  \n",
       "109   [original, message, ken, lay, office, chairman...  \n",
       "181   [today, announced, plan, merge, dynegy, major,...  \n",
       "293   [today, announced, plan, merge, dynegy, major,...  "
      ]
     },
     "execution_count": 179,
     "metadata": {},
     "output_type": "execute_result"
    }
   ],
   "source": [
    "topic_details.sort_values(by=['% Score'], ascending=False).head(10).tail()"
   ]
  },
  {
   "cell_type": "code",
   "execution_count": 180,
   "metadata": {},
   "outputs": [],
   "source": [
    "# Create flag for text highest associated with topic 3\n",
    "topic_details['flag'] = np.where((topic_details['Dominant_Topic'] == 2.0), 1, 0)"
   ]
  },
  {
   "cell_type": "code",
   "execution_count": 181,
   "metadata": {},
   "outputs": [],
   "source": [
    "topic_details_1 = topic_details[topic_details.flag == 1]"
   ]
  },
  {
   "cell_type": "code",
   "execution_count": 182,
   "metadata": {},
   "outputs": [
    {
     "data": {
      "text/html": [
       "<div>\n",
       "<style scoped>\n",
       "    .dataframe tbody tr th:only-of-type {\n",
       "        vertical-align: middle;\n",
       "    }\n",
       "\n",
       "    .dataframe tbody tr th {\n",
       "        vertical-align: top;\n",
       "    }\n",
       "\n",
       "    .dataframe thead th {\n",
       "        text-align: right;\n",
       "    }\n",
       "</style>\n",
       "<table border=\"1\" class=\"dataframe\">\n",
       "  <thead>\n",
       "    <tr style=\"text-align: right;\">\n",
       "      <th></th>\n",
       "      <th>Dominant_Topic</th>\n",
       "      <th>% Score</th>\n",
       "      <th>Original text</th>\n",
       "      <th>flag</th>\n",
       "    </tr>\n",
       "  </thead>\n",
       "  <tbody>\n",
       "    <tr>\n",
       "      <th>109</th>\n",
       "      <td>2.0</td>\n",
       "      <td>0.998311</td>\n",
       "      <td>[original, message, ken, lay, office, chairman...</td>\n",
       "      <td>1</td>\n",
       "    </tr>\n",
       "    <tr>\n",
       "      <th>181</th>\n",
       "      <td>2.0</td>\n",
       "      <td>0.998248</td>\n",
       "      <td>[today, announced, plan, merge, dynegy, major,...</td>\n",
       "      <td>1</td>\n",
       "    </tr>\n",
       "    <tr>\n",
       "      <th>1473</th>\n",
       "      <td>2.0</td>\n",
       "      <td>0.998248</td>\n",
       "      <td>[today, announced, plan, merge, dynegy, major,...</td>\n",
       "      <td>1</td>\n",
       "    </tr>\n",
       "    <tr>\n",
       "      <th>129</th>\n",
       "      <td>2.0</td>\n",
       "      <td>0.998248</td>\n",
       "      <td>[today, announced, plan, merge, dynegy, major,...</td>\n",
       "      <td>1</td>\n",
       "    </tr>\n",
       "    <tr>\n",
       "      <th>293</th>\n",
       "      <td>2.0</td>\n",
       "      <td>0.998248</td>\n",
       "      <td>[today, announced, plan, merge, dynegy, major,...</td>\n",
       "      <td>1</td>\n",
       "    </tr>\n",
       "    <tr>\n",
       "      <th>13</th>\n",
       "      <td>2.0</td>\n",
       "      <td>0.998247</td>\n",
       "      <td>[today, announced, plan, merge, dynegy, major,...</td>\n",
       "      <td>1</td>\n",
       "    </tr>\n",
       "    <tr>\n",
       "      <th>38</th>\n",
       "      <td>2.0</td>\n",
       "      <td>0.998247</td>\n",
       "      <td>[today, announced, plan, merge, dynegy, major,...</td>\n",
       "      <td>1</td>\n",
       "    </tr>\n",
       "    <tr>\n",
       "      <th>96</th>\n",
       "      <td>2.0</td>\n",
       "      <td>0.998247</td>\n",
       "      <td>[today, announced, plan, merge, dynegy, major,...</td>\n",
       "      <td>1</td>\n",
       "    </tr>\n",
       "    <tr>\n",
       "      <th>155</th>\n",
       "      <td>2.0</td>\n",
       "      <td>0.998247</td>\n",
       "      <td>[today, announced, plan, merge, dynegy, major,...</td>\n",
       "      <td>1</td>\n",
       "    </tr>\n",
       "    <tr>\n",
       "      <th>49</th>\n",
       "      <td>2.0</td>\n",
       "      <td>0.998247</td>\n",
       "      <td>[today, announced, plan, merge, dynegy, major,...</td>\n",
       "      <td>1</td>\n",
       "    </tr>\n",
       "  </tbody>\n",
       "</table>\n",
       "</div>"
      ],
      "text/plain": [
       "      Dominant_Topic   % Score  \\\n",
       "109              2.0  0.998311   \n",
       "181              2.0  0.998248   \n",
       "1473             2.0  0.998248   \n",
       "129              2.0  0.998248   \n",
       "293              2.0  0.998248   \n",
       "13               2.0  0.998247   \n",
       "38               2.0  0.998247   \n",
       "96               2.0  0.998247   \n",
       "155              2.0  0.998247   \n",
       "49               2.0  0.998247   \n",
       "\n",
       "                                          Original text  flag  \n",
       "109   [original, message, ken, lay, office, chairman...     1  \n",
       "181   [today, announced, plan, merge, dynegy, major,...     1  \n",
       "1473  [today, announced, plan, merge, dynegy, major,...     1  \n",
       "129   [today, announced, plan, merge, dynegy, major,...     1  \n",
       "293   [today, announced, plan, merge, dynegy, major,...     1  \n",
       "13    [today, announced, plan, merge, dynegy, major,...     1  \n",
       "38    [today, announced, plan, merge, dynegy, major,...     1  \n",
       "96    [today, announced, plan, merge, dynegy, major,...     1  \n",
       "155   [today, announced, plan, merge, dynegy, major,...     1  \n",
       "49    [today, announced, plan, merge, dynegy, major,...     1  "
      ]
     },
     "execution_count": 182,
     "metadata": {},
     "output_type": "execute_result"
    }
   ],
   "source": [
    "topic_details_1.sort_values(by=['% Score'], ascending=False).head(10)"
   ]
  },
  {
   "cell_type": "markdown",
   "metadata": {},
   "source": [
    "**You have now flagged all data that is highest associated with topic 2 that seems to cover internal conversation about enron stock options. **"
   ]
  },
  {
   "cell_type": "markdown",
   "metadata": {},
   "source": [
    "## Recap"
   ]
  },
  {
   "cell_type": "markdown",
   "metadata": {},
   "source": [
    "### FD1: Working with imbalanced data\n",
    "\n",
    "* Worked with highly imbalanced fraud data\n",
    "* Resample your data\n",
    "* Different resampling methods"
   ]
  },
  {
   "cell_type": "markdown",
   "metadata": {},
   "source": [
    "### FD2: Fraud detection with labeled data\n",
    "\n",
    "* Refreshed supervised learning techniques to detect fraud\n",
    "* Learned how to get reliable performance metrics and worked with the precision recall trade-off\n",
    "* Explored how to optimize your model parameters to handle fraud data\n",
    "* Applied ensemble methods to fraud detection"
   ]
  },
  {
   "cell_type": "markdown",
   "metadata": {},
   "source": [
    "### FD3: Fraud detection without labels\n",
    "\n",
    "* Learned about the importance of segmentation\n",
    "* Refreshed your knowledge on clustering methods\n",
    "* Learned how to detect fraud using outliers and small clusters with K-means clustering\n",
    "* Applied a DB-scan clustering model for fraud detection"
   ]
  },
  {
   "cell_type": "markdown",
   "metadata": {},
   "source": [
    "### FD4: Text mining for fraud detection\n",
    "\n",
    "* Know how to augment fraud detection analysis with text mining techniques\n",
    "* Applied word searches to flag use of certain words, and learned how to apply topic modeling for fraud detection\n",
    "* Learned how to effectively clean messy text data"
   ]
  },
  {
   "cell_type": "markdown",
   "metadata": {},
   "source": [
    "### Further Exploration for fraud detection\n",
    "\n",
    "* Network analysis to detect fraud\n",
    "* Different supervised and unsupervised learning techniques (e.g. Neural Networks)\n",
    "* Working with very large data"
   ]
  }
 ],
 "metadata": {
  "kernelspec": {
   "display_name": "Python 3",
   "language": "python",
   "name": "python3"
  },
  "language_info": {
   "codemirror_mode": {
    "name": "ipython",
    "version": 3
   },
   "file_extension": ".py",
   "mimetype": "text/x-python",
   "name": "python",
   "nbconvert_exporter": "python",
   "pygments_lexer": "ipython3",
   "version": "3.7.4"
  },
  "toc-autonumbering": true
 },
 "nbformat": 4,
 "nbformat_minor": 4
}
