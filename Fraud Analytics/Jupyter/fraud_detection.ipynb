{
 "cells": [
  {
   "cell_type": "markdown",
   "metadata": {},
   "source": [
    "## **Fraud Detection**\n",
    "\n",
    "The notebook provides technical and theoretical insights and demonstrates how to implement fraud detection models. It is a succint version used for demo purposes."
   ]
  },
  {
   "cell_type": "markdown",
   "metadata": {},
   "source": [
    "**Imports**"
   ]
  },
  {
   "cell_type": "code",
   "execution_count": 1,
   "metadata": {},
   "outputs": [],
   "source": [
    "import warnings\n",
    "warnings.filterwarnings('ignore')\n",
    "warnings.simplefilter('ignore')"
   ]
  },
  {
   "cell_type": "code",
   "execution_count": 2,
   "metadata": {},
   "outputs": [],
   "source": [
    "import pandas as pd\n",
    "import matplotlib.pyplot as plt\n",
    "from matplotlib.patches import Rectangle\n",
    "import numpy as np\n",
    "from pprint import pprint as pp\n",
    "import csv\n",
    "from pathlib import Path\n",
    "from imblearn.over_sampling import SMOTE\n",
    "from imblearn.pipeline import Pipeline \n",
    "from sklearn.linear_model import LinearRegression, LogisticRegression\n",
    "from sklearn.model_selection import train_test_split, GridSearchCV\n",
    "from sklearn.tree import DecisionTreeClassifier\n",
    "from sklearn.metrics import r2_score, classification_report, confusion_matrix, accuracy_score, roc_auc_score, roc_curve, precision_recall_curve, average_precision_score\n",
    "from sklearn.metrics import homogeneity_score, silhouette_score\n",
    "from sklearn.ensemble import RandomForestClassifier, VotingClassifier\n",
    "from sklearn.preprocessing import MinMaxScaler\n",
    "from sklearn.cluster import MiniBatchKMeans, DBSCAN\n",
    "import seaborn as sns\n",
    "from itertools import product\n",
    "import nltk\n",
    "from nltk.corpus import stopwords\n",
    "from nltk.stem.wordnet import WordNetLemmatizer\n",
    "import string\n",
    "import gensim\n",
    "from gensim import corpora\n",
    "import pyLDAvis.gensim"
   ]
  },
  {
   "cell_type": "markdown",
   "metadata": {},
   "source": [
    "**Pandas Configuration Options**"
   ]
  },
  {
   "cell_type": "code",
   "execution_count": 3,
   "metadata": {},
   "outputs": [],
   "source": [
    "pd.set_option('max_columns', 200)\n",
    "pd.set_option('max_rows', 300)\n",
    "pd.set_option('display.expand_frame_repr', True)"
   ]
  },
  {
   "cell_type": "markdown",
   "metadata": {},
   "source": [
    "**Data File Objects**"
   ]
  },
  {
   "cell_type": "code",
   "execution_count": 4,
   "metadata": {},
   "outputs": [],
   "source": [
    "data = Path.cwd() / 'data'\n",
    "\n",
    "fd1 = data / '1_FD_data_prepping'\n",
    "cc1_file = fd1 / 'creditcard_sampledata.csv'\n",
    "cc3_file = fd1 / 'creditcard_sampledata_3.csv'\n",
    "\n",
    "fd2 = data / '2_FD_supervised'\n",
    "cc2_file = fd2 / 'creditcard_sampledata_2.csv'\n",
    "\n",
    "fd3 = data / '3_FD_unsupervised'\n",
    "banksim_file = fd3 / 'banksim.csv'\n",
    "banksim_adj_file = fd3 / 'banksim_adj.csv'\n",
    "db_full_file = fd3 / 'db_full.pickle'\n",
    "labels_file = fd3 / 'labels.pickle'\n",
    "labels_full_file = fd3 / 'labels_full.pickle'\n",
    "x_scaled_file = fd3 / 'x_scaled.pickle'\n",
    "x_scaled_full_file = fd3 / 'x_scaled_full.pickle'\n",
    "\n",
    "fd4 = data / '4_FD_NLP'\n",
    "enron_emails_clean_file = fd4 / 'enron_emails_clean.csv'\n",
    "cleantext_file = fd4 / 'cleantext.pickle'\n",
    "corpus_file = fd4 / 'corpus.pickle'\n",
    "dict_file = fd4 / 'dict.pickle'\n",
    "ldamodel_file = fd4 / 'ldamodel.pickle'"
   ]
  },
  {
   "cell_type": "markdown",
   "metadata": {},
   "source": [
    "# FD1 Prepping the Data and Imbalanced Datasets\n"
   ]
  },
  {
   "cell_type": "markdown",
   "metadata": {},
   "source": [
    "### Checking the fraud to non-fraud ratio\n",
    "\n",
    "In part 1, we will work on `creditcard_sampledata.csv`, a dataset containing credit card transactions data. \n",
    "\n",
    "Fraud occurrences are unfortunately an **extreme minority** in these transactions.\n",
    "\n",
    "Machine Learning algorithms usually work best when the different classes contained in the dataset are more or less equally present. If there are few cases of fraud, then there's little data to learn how to identify them. This is known as **class imbalance**, and it's one of the main challenges of fraud detection.\n"
   ]
  },
  {
   "cell_type": "code",
   "execution_count": 5,
   "metadata": {},
   "outputs": [],
   "source": [
    "df = pd.read_csv(cc3_file)"
   ]
  },
  {
   "cell_type": "markdown",
   "metadata": {},
   "source": [
    "#### Explore the features available in your dataframe"
   ]
  },
  {
   "cell_type": "code",
   "execution_count": 6,
   "metadata": {},
   "outputs": [
    {
     "name": "stdout",
     "output_type": "stream",
     "text": [
      "<class 'pandas.core.frame.DataFrame'>\n",
      "RangeIndex: 5050 entries, 0 to 5049\n",
      "Data columns (total 31 columns):\n",
      " #   Column      Non-Null Count  Dtype  \n",
      "---  ------      --------------  -----  \n",
      " 0   Unnamed: 0  5050 non-null   int64  \n",
      " 1   V1          5050 non-null   float64\n",
      " 2   V2          5050 non-null   float64\n",
      " 3   V3          5050 non-null   float64\n",
      " 4   V4          5050 non-null   float64\n",
      " 5   V5          5050 non-null   float64\n",
      " 6   V6          5050 non-null   float64\n",
      " 7   V7          5050 non-null   float64\n",
      " 8   V8          5050 non-null   float64\n",
      " 9   V9          5050 non-null   float64\n",
      " 10  V10         5050 non-null   float64\n",
      " 11  V11         5050 non-null   float64\n",
      " 12  V12         5050 non-null   float64\n",
      " 13  V13         5050 non-null   float64\n",
      " 14  V14         5050 non-null   float64\n",
      " 15  V15         5050 non-null   float64\n",
      " 16  V16         5050 non-null   float64\n",
      " 17  V17         5050 non-null   float64\n",
      " 18  V18         5050 non-null   float64\n",
      " 19  V19         5050 non-null   float64\n",
      " 20  V20         5050 non-null   float64\n",
      " 21  V21         5050 non-null   float64\n",
      " 22  V22         5050 non-null   float64\n",
      " 23  V23         5050 non-null   float64\n",
      " 24  V24         5050 non-null   float64\n",
      " 25  V25         5050 non-null   float64\n",
      " 26  V26         5050 non-null   float64\n",
      " 27  V27         5050 non-null   float64\n",
      " 28  V28         5050 non-null   float64\n",
      " 29  Amount      5050 non-null   float64\n",
      " 30  Class       5050 non-null   int64  \n",
      "dtypes: float64(29), int64(2)\n",
      "memory usage: 1.2 MB\n"
     ]
    }
   ],
   "source": [
    "df.info()"
   ]
  },
  {
   "cell_type": "markdown",
   "metadata": {},
   "source": [
    "Above is the data set we are working with. Column indexes 1-28 represent credit card features represented in representation form. "
   ]
  },
  {
   "cell_type": "code",
   "execution_count": 7,
   "metadata": {},
   "outputs": [
    {
     "data": {
      "text/html": [
       "<div>\n",
       "<style scoped>\n",
       "    .dataframe tbody tr th:only-of-type {\n",
       "        vertical-align: middle;\n",
       "    }\n",
       "\n",
       "    .dataframe tbody tr th {\n",
       "        vertical-align: top;\n",
       "    }\n",
       "\n",
       "    .dataframe thead th {\n",
       "        text-align: right;\n",
       "    }\n",
       "</style>\n",
       "<table border=\"1\" class=\"dataframe\">\n",
       "  <thead>\n",
       "    <tr style=\"text-align: right;\">\n",
       "      <th></th>\n",
       "      <th>Unnamed: 0</th>\n",
       "      <th>V1</th>\n",
       "      <th>V2</th>\n",
       "      <th>V3</th>\n",
       "      <th>V4</th>\n",
       "      <th>V5</th>\n",
       "      <th>V6</th>\n",
       "      <th>V7</th>\n",
       "      <th>V8</th>\n",
       "      <th>V9</th>\n",
       "      <th>V10</th>\n",
       "      <th>V11</th>\n",
       "      <th>V12</th>\n",
       "      <th>V13</th>\n",
       "      <th>V14</th>\n",
       "      <th>V15</th>\n",
       "      <th>V16</th>\n",
       "      <th>V17</th>\n",
       "      <th>V18</th>\n",
       "      <th>V19</th>\n",
       "      <th>V20</th>\n",
       "      <th>V21</th>\n",
       "      <th>V22</th>\n",
       "      <th>V23</th>\n",
       "      <th>V24</th>\n",
       "      <th>V25</th>\n",
       "      <th>V26</th>\n",
       "      <th>V27</th>\n",
       "      <th>V28</th>\n",
       "      <th>Amount</th>\n",
       "      <th>Class</th>\n",
       "    </tr>\n",
       "  </thead>\n",
       "  <tbody>\n",
       "    <tr>\n",
       "      <th>0</th>\n",
       "      <td>258647</td>\n",
       "      <td>1.725265</td>\n",
       "      <td>-1.337256</td>\n",
       "      <td>-1.012687</td>\n",
       "      <td>-0.361656</td>\n",
       "      <td>-1.431611</td>\n",
       "      <td>-1.098681</td>\n",
       "      <td>-0.842274</td>\n",
       "      <td>-0.026594</td>\n",
       "      <td>-0.032409</td>\n",
       "      <td>0.215113</td>\n",
       "      <td>1.618952</td>\n",
       "      <td>-0.654046</td>\n",
       "      <td>-1.442665</td>\n",
       "      <td>-1.546538</td>\n",
       "      <td>-0.230008</td>\n",
       "      <td>1.785539</td>\n",
       "      <td>1.419793</td>\n",
       "      <td>0.071666</td>\n",
       "      <td>0.233031</td>\n",
       "      <td>0.275911</td>\n",
       "      <td>0.414524</td>\n",
       "      <td>0.793434</td>\n",
       "      <td>0.028887</td>\n",
       "      <td>0.419421</td>\n",
       "      <td>-0.367529</td>\n",
       "      <td>-0.155634</td>\n",
       "      <td>-0.015768</td>\n",
       "      <td>0.010790</td>\n",
       "      <td>189.00</td>\n",
       "      <td>0</td>\n",
       "    </tr>\n",
       "    <tr>\n",
       "      <th>1</th>\n",
       "      <td>69263</td>\n",
       "      <td>0.683254</td>\n",
       "      <td>-1.681875</td>\n",
       "      <td>0.533349</td>\n",
       "      <td>-0.326064</td>\n",
       "      <td>-1.455603</td>\n",
       "      <td>0.101832</td>\n",
       "      <td>-0.520590</td>\n",
       "      <td>0.114036</td>\n",
       "      <td>-0.601760</td>\n",
       "      <td>0.444011</td>\n",
       "      <td>1.521570</td>\n",
       "      <td>0.499202</td>\n",
       "      <td>-0.127849</td>\n",
       "      <td>-0.237253</td>\n",
       "      <td>-0.752351</td>\n",
       "      <td>0.667190</td>\n",
       "      <td>0.724785</td>\n",
       "      <td>-1.736615</td>\n",
       "      <td>0.702088</td>\n",
       "      <td>0.638186</td>\n",
       "      <td>0.116898</td>\n",
       "      <td>-0.304605</td>\n",
       "      <td>-0.125547</td>\n",
       "      <td>0.244848</td>\n",
       "      <td>0.069163</td>\n",
       "      <td>-0.460712</td>\n",
       "      <td>-0.017068</td>\n",
       "      <td>0.063542</td>\n",
       "      <td>315.17</td>\n",
       "      <td>0</td>\n",
       "    </tr>\n",
       "    <tr>\n",
       "      <th>2</th>\n",
       "      <td>96552</td>\n",
       "      <td>1.067973</td>\n",
       "      <td>-0.656667</td>\n",
       "      <td>1.029738</td>\n",
       "      <td>0.253899</td>\n",
       "      <td>-1.172715</td>\n",
       "      <td>0.073232</td>\n",
       "      <td>-0.745771</td>\n",
       "      <td>0.249803</td>\n",
       "      <td>1.383057</td>\n",
       "      <td>-0.483771</td>\n",
       "      <td>-0.782780</td>\n",
       "      <td>0.005242</td>\n",
       "      <td>-1.273288</td>\n",
       "      <td>-0.269260</td>\n",
       "      <td>0.091287</td>\n",
       "      <td>-0.347973</td>\n",
       "      <td>0.495328</td>\n",
       "      <td>-0.925949</td>\n",
       "      <td>0.099138</td>\n",
       "      <td>-0.083859</td>\n",
       "      <td>-0.189315</td>\n",
       "      <td>-0.426743</td>\n",
       "      <td>0.079539</td>\n",
       "      <td>0.129692</td>\n",
       "      <td>0.002778</td>\n",
       "      <td>0.970498</td>\n",
       "      <td>-0.035056</td>\n",
       "      <td>0.017313</td>\n",
       "      <td>59.98</td>\n",
       "      <td>0</td>\n",
       "    </tr>\n",
       "    <tr>\n",
       "      <th>3</th>\n",
       "      <td>281898</td>\n",
       "      <td>0.119513</td>\n",
       "      <td>0.729275</td>\n",
       "      <td>-1.678879</td>\n",
       "      <td>-1.551408</td>\n",
       "      <td>3.128914</td>\n",
       "      <td>3.210632</td>\n",
       "      <td>0.356276</td>\n",
       "      <td>0.920374</td>\n",
       "      <td>-0.160589</td>\n",
       "      <td>-0.801748</td>\n",
       "      <td>0.137341</td>\n",
       "      <td>-0.156740</td>\n",
       "      <td>-0.429388</td>\n",
       "      <td>-0.752392</td>\n",
       "      <td>0.155272</td>\n",
       "      <td>0.215068</td>\n",
       "      <td>0.352222</td>\n",
       "      <td>-0.376168</td>\n",
       "      <td>-0.398920</td>\n",
       "      <td>0.043715</td>\n",
       "      <td>-0.335825</td>\n",
       "      <td>-0.906171</td>\n",
       "      <td>0.108350</td>\n",
       "      <td>0.593062</td>\n",
       "      <td>-0.424303</td>\n",
       "      <td>0.164201</td>\n",
       "      <td>0.245881</td>\n",
       "      <td>0.071029</td>\n",
       "      <td>0.89</td>\n",
       "      <td>0</td>\n",
       "    </tr>\n",
       "    <tr>\n",
       "      <th>4</th>\n",
       "      <td>86917</td>\n",
       "      <td>1.271253</td>\n",
       "      <td>0.275694</td>\n",
       "      <td>0.159568</td>\n",
       "      <td>1.003096</td>\n",
       "      <td>-0.128535</td>\n",
       "      <td>-0.608730</td>\n",
       "      <td>0.088777</td>\n",
       "      <td>-0.145336</td>\n",
       "      <td>0.156047</td>\n",
       "      <td>0.022707</td>\n",
       "      <td>-0.963306</td>\n",
       "      <td>-0.228074</td>\n",
       "      <td>-0.324933</td>\n",
       "      <td>0.390609</td>\n",
       "      <td>1.065923</td>\n",
       "      <td>0.285930</td>\n",
       "      <td>-0.627072</td>\n",
       "      <td>0.170175</td>\n",
       "      <td>-0.215912</td>\n",
       "      <td>-0.147394</td>\n",
       "      <td>0.031958</td>\n",
       "      <td>0.123503</td>\n",
       "      <td>-0.174528</td>\n",
       "      <td>-0.147535</td>\n",
       "      <td>0.735909</td>\n",
       "      <td>-0.262270</td>\n",
       "      <td>0.015577</td>\n",
       "      <td>0.015955</td>\n",
       "      <td>6.53</td>\n",
       "      <td>0</td>\n",
       "    </tr>\n",
       "  </tbody>\n",
       "</table>\n",
       "</div>"
      ],
      "text/plain": [
       "   Unnamed: 0        V1        V2        V3        V4        V5        V6  \\\n",
       "0      258647  1.725265 -1.337256 -1.012687 -0.361656 -1.431611 -1.098681   \n",
       "1       69263  0.683254 -1.681875  0.533349 -0.326064 -1.455603  0.101832   \n",
       "2       96552  1.067973 -0.656667  1.029738  0.253899 -1.172715  0.073232   \n",
       "3      281898  0.119513  0.729275 -1.678879 -1.551408  3.128914  3.210632   \n",
       "4       86917  1.271253  0.275694  0.159568  1.003096 -0.128535 -0.608730   \n",
       "\n",
       "         V7        V8        V9       V10       V11       V12       V13  \\\n",
       "0 -0.842274 -0.026594 -0.032409  0.215113  1.618952 -0.654046 -1.442665   \n",
       "1 -0.520590  0.114036 -0.601760  0.444011  1.521570  0.499202 -0.127849   \n",
       "2 -0.745771  0.249803  1.383057 -0.483771 -0.782780  0.005242 -1.273288   \n",
       "3  0.356276  0.920374 -0.160589 -0.801748  0.137341 -0.156740 -0.429388   \n",
       "4  0.088777 -0.145336  0.156047  0.022707 -0.963306 -0.228074 -0.324933   \n",
       "\n",
       "        V14       V15       V16       V17       V18       V19       V20  \\\n",
       "0 -1.546538 -0.230008  1.785539  1.419793  0.071666  0.233031  0.275911   \n",
       "1 -0.237253 -0.752351  0.667190  0.724785 -1.736615  0.702088  0.638186   \n",
       "2 -0.269260  0.091287 -0.347973  0.495328 -0.925949  0.099138 -0.083859   \n",
       "3 -0.752392  0.155272  0.215068  0.352222 -0.376168 -0.398920  0.043715   \n",
       "4  0.390609  1.065923  0.285930 -0.627072  0.170175 -0.215912 -0.147394   \n",
       "\n",
       "        V21       V22       V23       V24       V25       V26       V27  \\\n",
       "0  0.414524  0.793434  0.028887  0.419421 -0.367529 -0.155634 -0.015768   \n",
       "1  0.116898 -0.304605 -0.125547  0.244848  0.069163 -0.460712 -0.017068   \n",
       "2 -0.189315 -0.426743  0.079539  0.129692  0.002778  0.970498 -0.035056   \n",
       "3 -0.335825 -0.906171  0.108350  0.593062 -0.424303  0.164201  0.245881   \n",
       "4  0.031958  0.123503 -0.174528 -0.147535  0.735909 -0.262270  0.015577   \n",
       "\n",
       "        V28  Amount  Class  \n",
       "0  0.010790  189.00      0  \n",
       "1  0.063542  315.17      0  \n",
       "2  0.017313   59.98      0  \n",
       "3  0.071029    0.89      0  \n",
       "4  0.015955    6.53      0  "
      ]
     },
     "execution_count": 7,
     "metadata": {},
     "output_type": "execute_result"
    }
   ],
   "source": [
    "df.head()"
   ]
  },
  {
   "cell_type": "code",
   "execution_count": 8,
   "metadata": {},
   "outputs": [
    {
     "data": {
      "text/plain": [
       "0    5000\n",
       "1      50\n",
       "Name: Class, dtype: int64"
      ]
     },
     "execution_count": 8,
     "metadata": {},
     "output_type": "execute_result"
    }
   ],
   "source": [
    "# Count the occurrences of fraud and no fraud and print them\n",
    "occ = df['Class'].value_counts()\n",
    "occ"
   ]
  },
  {
   "cell_type": "code",
   "execution_count": 9,
   "metadata": {},
   "outputs": [
    {
     "name": "stdout",
     "output_type": "stream",
     "text": [
      "Ratio of fraudulent cases: 0.9900990099009901\n",
      "Ratio of non-fraudulent cases: 0.009900990099009901\n"
     ]
    }
   ],
   "source": [
    "# Print the ratio of fraud cases\n",
    "ratio_cases = occ/len(df.index)\n",
    "print('Ratio of fraudulent cases: {}'.format(ratio_cases[0]))\n",
    "print('Ratio of non-fraudulent cases: {}'.format(ratio_cases[1]))"
   ]
  },
  {
   "cell_type": "markdown",
   "metadata": {},
   "source": [
    "**The ratio of fraudulent transactions is very low. This is a case of class imbalance problem"
   ]
  },
  {
   "cell_type": "markdown",
   "metadata": {},
   "source": [
    "### Data visualization\n",
    "\n",
    "From the previous exercise we know that the ratio of fraud to non-fraud observations is very low.\n",
    "\n",
    "Next we **visualize the fraud to non-fraud ratio**. It is always a good starting point in fraud analysis, to look at your data first, before you make any changes to it.\n",
    "\n",
    "Moreover, visualizations often makes it very clear that we're dealing with heavily imbalanced data. Let's create a plot to visualize the ratio fraud to non-fraud data points on the dataset `df`."
   ]
  },
  {
   "cell_type": "markdown",
   "metadata": {},
   "source": [
    "#### def prep_data"
   ]
  },
  {
   "cell_type": "code",
   "execution_count": 10,
   "metadata": {},
   "outputs": [],
   "source": [
    "def prep_data(df: pd.DataFrame) -> (np.ndarray, np.ndarray):\n",
    "    \"\"\"\n",
    "    Convert the DataFrame into two variable\n",
    "    X: data columns (V1 - V28)\n",
    "    y: label column\n",
    "    \"\"\"\n",
    "    X = df.iloc[:, 2:30].values\n",
    "    y = df.Class.values\n",
    "    return X, y"
   ]
  },
  {
   "cell_type": "markdown",
   "metadata": {},
   "source": [
    "#### def plot_data"
   ]
  },
  {
   "cell_type": "code",
   "execution_count": 11,
   "metadata": {},
   "outputs": [],
   "source": [
    "# Define a function to create a scatter plot of our data and labels\n",
    "def plot_data(X: np.ndarray, y: np.ndarray):\n",
    "    plt.scatter(X[y == 0, 0], X[y == 0, 1], label=\"Class #0\", alpha=0.5, linewidth=0.15)\n",
    "    plt.scatter(X[y == 1, 0], X[y == 1, 1], label=\"Class #1\", alpha=0.5, linewidth=0.15, c='r')\n",
    "    plt.legend()\n",
    "    return plt.show()"
   ]
  },
  {
   "cell_type": "code",
   "execution_count": 12,
   "metadata": {},
   "outputs": [],
   "source": [
    "# Create X and y from the prep_data function \n",
    "X, y = prep_data(df)"
   ]
  },
  {
   "cell_type": "code",
   "execution_count": 13,
   "metadata": {},
   "outputs": [
    {
     "data": {
      "image/png": "[encoded data removed]",
      "text/plain": [
       "<Figure size 432x288 with 1 Axes>"
      ]
     },
     "metadata": {
      "needs_background": "light"
     },
     "output_type": "display_data"
    }
   ],
   "source": [
    "# Plot our data by running our plot data function on X and y\n",
    "plot_data(X, y)"
   ]
  },
  {
   "cell_type": "markdown",
   "metadata": {},
   "source": [
    "**By visualizing the data, you can immediately see how our fraud cases are scattered over our data, and how few cases we have. A picture often makes the imbalance problem clear. In the next exercises we'll visually explore how to improve our fraud to non-fraud balance.**"
   ]
  },
  {
   "cell_type": "markdown",
   "metadata": {},
   "source": [
    "#### SMOTE\n",
    "\n",
    "* ![smote](images/smote.jpeg)\n",
    "* Synthetic minority Oversampling Technique (SMOTE)\n",
    "    * [Resampling strategies for Imbalanced Data Sets](https://www.kaggle.com/rafjaa/resampling-strategies-for-imbalanced-datasets)\n",
    "    * Another way of adjusting the imbalance by oversampling minority observations\n",
    "    * SMOTE uses characteristics of nearest neighbors of fraud cases to create new synthetic fraud cases\n",
    "        * avoids duplicating observations"
   ]
  },
  {
   "cell_type": "markdown",
   "metadata": {},
   "source": [
    "#### Determining the best resampling method is situational\n",
    "\n",
    "* Random Undersampling (RUS):\n",
    "    * If there is a lot of data and many minority cases, then undersampling may be computationally more convenient\n",
    "        * In most cases, throwing away data is not desirable\n",
    "* Random Oversampling (ROS):\n",
    "    * Straightforward\n",
    "    * Training the model on many duplicates\n",
    "* SMOTE:\n",
    "    * more sophisticated\n",
    "    * realistic data set\n",
    "    * training on synthetic data\n",
    "    * only works well if the minority case features are similar\n",
    "        * **if fraud is spread through the data and not distinct, using nearest neighbors to create more fraud cases, introduces noise into the data, as the nearest neighbors might not be fraud cases**"
   ]
  },
  {
   "cell_type": "markdown",
   "metadata": {},
   "source": [
    "#### When to use resmapling methods\n",
    "\n",
    "* Use resampling methods on the training set, not on the test set\n",
    "* The goal is to produce a better model by providing balanced data\n",
    "    * The goal is not to predict the synthetic samples\n",
    "* Test data should be free of duplicates and synthetic data\n",
    "* Only test the model on real data\n",
    "    * First, spit the data into train and test sets\n"
   ]
  },
  {
   "cell_type": "markdown",
   "metadata": {},
   "source": [
    "### Applying Synthetic Minority Oversampling Technique (SMOTE)\n",
    "\n",
    "Next, we re-balance our data using the **Synthetic Minority Over-sampling Technique** (SMOTE). Unlike ROS, SMOTE does not create exact copies of observations, but **creates new, synthetic, samples** that are quite similar to the existing observations in the minority class. SMOTE is therefore slightly more sophisticated than just copying observations, so we apply SMOTE to our credit card data. The dataset `df` is available and the packages needed for SMOTE are imported. In the following exercise, we visualize the result and compare it to the original data, such that we can see the effect of applying SMOTE very clearly.\n"
   ]
  },
  {
   "cell_type": "code",
   "execution_count": 14,
   "metadata": {},
   "outputs": [],
   "source": [
    "# Run the prep_data function\n",
    "X, y = prep_data(df)"
   ]
  },
  {
   "cell_type": "code",
   "execution_count": 15,
   "metadata": {},
   "outputs": [
    {
     "name": "stdout",
     "output_type": "stream",
     "text": [
      "X shape: (5050, 28)\n",
      "y shape: (5050,)\n"
     ]
    }
   ],
   "source": [
    "print(f'X shape: {X.shape}\\ny shape: {y.shape}')"
   ]
  },
  {
   "cell_type": "code",
   "execution_count": 16,
   "metadata": {},
   "outputs": [],
   "source": [
    "# Define the resampling method\n",
    "method = SMOTE()"
   ]
  },
  {
   "cell_type": "code",
   "execution_count": 17,
   "metadata": {},
   "outputs": [],
   "source": [
    "# Create the resampled feature set\n",
    "X_resampled, y_resampled = method.fit_sample(X, y)"
   ]
  },
  {
   "cell_type": "code",
   "execution_count": 18,
   "metadata": {},
   "outputs": [
    {
     "data": {
      "image/png": "[encoded data removed]",
      "text/plain": [
       "<Figure size 432x288 with 1 Axes>"
      ]
     },
     "metadata": {
      "needs_background": "light"
     },
     "output_type": "display_data"
    }
   ],
   "source": [
    "# Plot the resampled data\n",
    "plot_data(X_resampled, y_resampled)"
   ]
  },
  {
   "cell_type": "markdown",
   "metadata": {},
   "source": [
    "**The minority class is now much more prominently visible in our data. To see the results of SMOTE even better, compare it to the original data in the next exercise.**"
   ]
  },
  {
   "cell_type": "markdown",
   "metadata": {},
   "source": [
    "### Compare SMOTE to original data\n",
    "\n",
    "In the last exercise, we saw that using SMOTE suddenly gives us more observations of the minority class. Let's compare those results to our original data, to get a good feeling for what has actually happened. Have a look at the value counts again of our old and new data, and plot the two scatter plots of the data side by side. Use the function compare_plot(), which takes the following arguments: `X`, `y`, `X_resampled`, `y_resampled`, `method=''`. The function plots the original data in a scatter plot, along with the resampled side by side.\n"
   ]
  },
  {
   "cell_type": "code",
   "execution_count": 19,
   "metadata": {},
   "outputs": [
    {
     "data": {
      "text/plain": [
       "0    5000\n",
       "1      50\n",
       "dtype: int64"
      ]
     },
     "execution_count": 19,
     "metadata": {},
     "output_type": "execute_result"
    }
   ],
   "source": [
    "pd.value_counts(pd.Series(y))"
   ]
  },
  {
   "cell_type": "code",
   "execution_count": 20,
   "metadata": {},
   "outputs": [
    {
     "data": {
      "text/plain": [
       "1    5000\n",
       "0    5000\n",
       "dtype: int64"
      ]
     },
     "execution_count": 20,
     "metadata": {},
     "output_type": "execute_result"
    }
   ],
   "source": [
    "pd.value_counts(pd.Series(y_resampled))"
   ]
  },
  {
   "cell_type": "markdown",
   "metadata": {},
   "source": [
    "#### def compare_plot"
   ]
  },
  {
   "cell_type": "code",
   "execution_count": 21,
   "metadata": {},
   "outputs": [],
   "source": [
    "def compare_plot(X: np.ndarray, y: np.ndarray, X_resampled: np.ndarray, y_resampled: np.ndarray, method: str):\n",
    "    plt.subplot(1, 2, 1)\n",
    "    plt.scatter(X[y == 0, 0], X[y == 0, 1], label=\"Class #0\", alpha=0.5, linewidth=0.15)\n",
    "    plt.scatter(X[y == 1, 0], X[y == 1, 1], label=\"Class #1\", alpha=0.5, linewidth=0.15, c='r')\n",
    "    plt.title('Original Set')\n",
    "    plt.subplot(1, 2, 2)\n",
    "    plt.scatter(X_resampled[y_resampled == 0, 0], X_resampled[y_resampled == 0, 1], label=\"Class #0\", alpha=0.5, linewidth=0.15)\n",
    "    plt.scatter(X_resampled[y_resampled == 1, 0], X_resampled[y_resampled == 1, 1], label=\"Class #1\", alpha=0.5, linewidth=0.15, c='r')\n",
    "    plt.title(method)\n",
    "    plt.legend()\n",
    "    plt.show()"
   ]
  },
  {
   "cell_type": "code",
   "execution_count": 22,
   "metadata": {},
   "outputs": [
    {
     "data": {
      "image/png": "[encoded data removed]",
      "text/plain": [
       "<Figure size 432x288 with 2 Axes>"
      ]
     },
     "metadata": {
      "needs_background": "light"
     },
     "output_type": "display_data"
    }
   ],
   "source": [
    "compare_plot(X, y, X_resampled, y_resampled, method='SMOTE')"
   ]
  },
  {
   "cell_type": "markdown",
   "metadata": {},
   "source": [
    "**It should be clear SMOTE has balanced the data completely, and that the minority class is now equal in size to the majority class. Visualizing the data shows the effect on the data very clearly. Next will demonstrate multiple ways to implement SMOTE and how each method will have a slightly different effect.**"
   ]
  },
  {
   "cell_type": "markdown",
   "metadata": {},
   "source": [
    "#### SIDE NOTE: Advantages of ML Based Systems Rather than Rules Based Systems, Combinations are generally the best\n",
    "\n",
    "* Adapt to the data, thus can change over time\n",
    "* Uses all the data combined, rather than a threshold per feature\n",
    "* Produces a probability, rather than a binary score\n",
    "* Typically have better performance and can be combined with rules"
   ]
  },
  {
   "cell_type": "markdown",
   "metadata": {},
   "source": [
    "###  Logistic regression NOT using SMOTE"
   ]
  },
  {
   "cell_type": "code",
   "execution_count": 23,
   "metadata": {},
   "outputs": [],
   "source": [
    "# Create the training and testing sets\n",
    "X_train, X_test, y_train, y_test = train_test_split(X, y, test_size=0.3, random_state=0)"
   ]
  },
  {
   "cell_type": "code",
   "execution_count": 24,
   "metadata": {},
   "outputs": [
    {
     "data": {
      "text/plain": [
       "LogisticRegression(solver='liblinear')"
      ]
     },
     "execution_count": 24,
     "metadata": {},
     "output_type": "execute_result"
    }
   ],
   "source": [
    "# Fit a logistic regression model to our data\n",
    "model = LogisticRegression(solver='liblinear')\n",
    "model.fit(X_train, y_train)"
   ]
  },
  {
   "cell_type": "code",
   "execution_count": 25,
   "metadata": {},
   "outputs": [],
   "source": [
    "# Obtain model predictions\n",
    "predicted = model.predict(X_test)"
   ]
  },
  {
   "cell_type": "code",
   "execution_count": 26,
   "metadata": {},
   "outputs": [
    {
     "name": "stdout",
     "output_type": "stream",
     "text": [
      "Classification report:\n",
      "               precision    recall  f1-score   support\n",
      "\n",
      "           0       1.00      1.00      1.00      1505\n",
      "           1       0.89      0.80      0.84        10\n",
      "\n",
      "    accuracy                           1.00      1515\n",
      "   macro avg       0.94      0.90      0.92      1515\n",
      "weighted avg       1.00      1.00      1.00      1515\n",
      "\n",
      "Confusion matrix:\n",
      " [[1504    1]\n",
      " [   2    8]]\n"
     ]
    }
   ],
   "source": [
    "# Print the classifcation report and confusion matrix\n",
    "print('Classification report:\\n', classification_report(y_test, predicted))\n",
    "conf_mat = confusion_matrix(y_true=y_test, y_pred=predicted)\n",
    "print('Confusion matrix:\\n', conf_mat)"
   ]
  },
  {
   "cell_type": "markdown",
   "metadata": {},
   "source": [
    "### Logistic regression with SMOTE\n",
    "\n",
    "Using the Logistic Regression model from the previous exercise, and combine that with a **SMOTE resampling method**. \n"
   ]
  },
  {
   "cell_type": "code",
   "execution_count": 27,
   "metadata": {},
   "outputs": [],
   "source": [
    "# Define which resampling method and which ML model to use in the pipeline\n",
    "resampling = SMOTE()\n",
    "model = LogisticRegression(solver='liblinear')"
   ]
  },
  {
   "cell_type": "code",
   "execution_count": 28,
   "metadata": {},
   "outputs": [],
   "source": [
    "pipeline = Pipeline([('SMOTE', resampling), ('Logistic Regression', model)])"
   ]
  },
  {
   "cell_type": "markdown",
   "metadata": {},
   "source": [
    "### Pipelining\n"
   ]
  },
  {
   "cell_type": "code",
   "execution_count": 29,
   "metadata": {},
   "outputs": [],
   "source": [
    "# Split  data X and y, into a training and a test set and fit the pipeline onto the training data\n",
    "X_train, X_test, y_train, y_test = train_test_split(X, y, test_size=0.3, random_state=0)"
   ]
  },
  {
   "cell_type": "code",
   "execution_count": 30,
   "metadata": {},
   "outputs": [],
   "source": [
    "pipeline.fit(X_train, y_train) \n",
    "predicted = pipeline.predict(X_test)"
   ]
  },
  {
   "cell_type": "code",
   "execution_count": 31,
   "metadata": {},
   "outputs": [
    {
     "name": "stdout",
     "output_type": "stream",
     "text": [
      "Classifcation report:\n",
      "               precision    recall  f1-score   support\n",
      "\n",
      "           0       1.00      1.00      1.00      1505\n",
      "           1       0.62      1.00      0.77        10\n",
      "\n",
      "    accuracy                           1.00      1515\n",
      "   macro avg       0.81      1.00      0.88      1515\n",
      "weighted avg       1.00      1.00      1.00      1515\n",
      "\n",
      "Confusion matrix:\n",
      " [[1499    6]\n",
      " [   0   10]]\n"
     ]
    }
   ],
   "source": [
    "# Obtain the results from the classification report and confusion matrix \n",
    "print('Classifcation report:\\n', classification_report(y_test, predicted))\n",
    "conf_mat = confusion_matrix(y_true=y_test, y_pred=predicted)\n",
    "print('Confusion matrix:\\n', conf_mat)"
   ]
  },
  {
   "cell_type": "markdown",
   "metadata": {},
   "source": [
    "**SMOTE slightly improves our results. We now manage to find all cases of fraud, but we have a slightly higher number of false positives, albeit only 6 cases. Remember, resampling doesn't necessarily lead to better results. When the fraud cases are very spread and scattered over the data, using SMOTE can introduce a bit of bias. Nearest neighbors aren't necessarily also fraud cases, so the synthetic samples might 'confuse' the model slightly. Next, we adjust our machine learning models to better detect the minority fraud cases.**"
   ]
  },
  {
   "cell_type": "markdown",
   "metadata": {},
   "source": [
    "# FD2 Fraud Detection Using Labelled Data"
   ]
  },
  {
   "cell_type": "markdown",
   "metadata": {},
   "source": [
    "In this exercise, you'll again use credit card transaction data. The features and labels are similar to the data in the previous example FD1"
   ]
  },
  {
   "cell_type": "code",
   "execution_count": 32,
   "metadata": {},
   "outputs": [
    {
     "data": {
      "text/html": [
       "<div>\n",
       "<style scoped>\n",
       "    .dataframe tbody tr th:only-of-type {\n",
       "        vertical-align: middle;\n",
       "    }\n",
       "\n",
       "    .dataframe tbody tr th {\n",
       "        vertical-align: top;\n",
       "    }\n",
       "\n",
       "    .dataframe thead th {\n",
       "        text-align: right;\n",
       "    }\n",
       "</style>\n",
       "<table border=\"1\" class=\"dataframe\">\n",
       "  <thead>\n",
       "    <tr style=\"text-align: right;\">\n",
       "      <th></th>\n",
       "      <th>Unnamed: 0</th>\n",
       "      <th>V1</th>\n",
       "      <th>V2</th>\n",
       "      <th>V3</th>\n",
       "      <th>V4</th>\n",
       "      <th>V5</th>\n",
       "      <th>V6</th>\n",
       "      <th>V7</th>\n",
       "      <th>V8</th>\n",
       "      <th>V9</th>\n",
       "      <th>V10</th>\n",
       "      <th>V11</th>\n",
       "      <th>V12</th>\n",
       "      <th>V13</th>\n",
       "      <th>V14</th>\n",
       "      <th>V15</th>\n",
       "      <th>V16</th>\n",
       "      <th>V17</th>\n",
       "      <th>V18</th>\n",
       "      <th>V19</th>\n",
       "      <th>V20</th>\n",
       "      <th>V21</th>\n",
       "      <th>V22</th>\n",
       "      <th>V23</th>\n",
       "      <th>V24</th>\n",
       "      <th>V25</th>\n",
       "      <th>V26</th>\n",
       "      <th>V27</th>\n",
       "      <th>V28</th>\n",
       "      <th>Amount</th>\n",
       "      <th>Class</th>\n",
       "    </tr>\n",
       "  </thead>\n",
       "  <tbody>\n",
       "    <tr>\n",
       "      <th>0</th>\n",
       "      <td>221547</td>\n",
       "      <td>-1.191668</td>\n",
       "      <td>0.428409</td>\n",
       "      <td>1.640028</td>\n",
       "      <td>-1.848859</td>\n",
       "      <td>-0.870903</td>\n",
       "      <td>-0.204849</td>\n",
       "      <td>-0.385675</td>\n",
       "      <td>0.352793</td>\n",
       "      <td>-1.098301</td>\n",
       "      <td>-0.334597</td>\n",
       "      <td>-0.679089</td>\n",
       "      <td>-0.039671</td>\n",
       "      <td>1.372661</td>\n",
       "      <td>-0.732001</td>\n",
       "      <td>-0.344528</td>\n",
       "      <td>1.024751</td>\n",
       "      <td>0.380209</td>\n",
       "      <td>-1.087349</td>\n",
       "      <td>0.364507</td>\n",
       "      <td>0.051924</td>\n",
       "      <td>0.507173</td>\n",
       "      <td>1.292565</td>\n",
       "      <td>-0.467752</td>\n",
       "      <td>1.244887</td>\n",
       "      <td>0.697707</td>\n",
       "      <td>0.059375</td>\n",
       "      <td>-0.319964</td>\n",
       "      <td>-0.017444</td>\n",
       "      <td>27.44</td>\n",
       "      <td>0</td>\n",
       "    </tr>\n",
       "    <tr>\n",
       "      <th>1</th>\n",
       "      <td>184524</td>\n",
       "      <td>1.966614</td>\n",
       "      <td>-0.450087</td>\n",
       "      <td>-1.228586</td>\n",
       "      <td>0.142873</td>\n",
       "      <td>-0.150627</td>\n",
       "      <td>-0.543590</td>\n",
       "      <td>-0.076217</td>\n",
       "      <td>-0.108390</td>\n",
       "      <td>0.973310</td>\n",
       "      <td>-0.029903</td>\n",
       "      <td>0.279973</td>\n",
       "      <td>0.885685</td>\n",
       "      <td>-0.583912</td>\n",
       "      <td>0.322019</td>\n",
       "      <td>-1.065335</td>\n",
       "      <td>-0.340285</td>\n",
       "      <td>-0.385399</td>\n",
       "      <td>0.216554</td>\n",
       "      <td>0.675646</td>\n",
       "      <td>-0.190851</td>\n",
       "      <td>0.124055</td>\n",
       "      <td>0.564916</td>\n",
       "      <td>-0.039331</td>\n",
       "      <td>-0.283904</td>\n",
       "      <td>0.186400</td>\n",
       "      <td>0.192932</td>\n",
       "      <td>-0.039155</td>\n",
       "      <td>-0.071314</td>\n",
       "      <td>35.95</td>\n",
       "      <td>0</td>\n",
       "    </tr>\n",
       "    <tr>\n",
       "      <th>2</th>\n",
       "      <td>91201</td>\n",
       "      <td>1.528452</td>\n",
       "      <td>-1.296191</td>\n",
       "      <td>-0.890677</td>\n",
       "      <td>-2.504028</td>\n",
       "      <td>0.803202</td>\n",
       "      <td>3.350793</td>\n",
       "      <td>-1.633016</td>\n",
       "      <td>0.815350</td>\n",
       "      <td>-1.884692</td>\n",
       "      <td>1.465259</td>\n",
       "      <td>-0.188235</td>\n",
       "      <td>-0.976779</td>\n",
       "      <td>0.560550</td>\n",
       "      <td>-0.250847</td>\n",
       "      <td>0.936115</td>\n",
       "      <td>0.136409</td>\n",
       "      <td>-0.078251</td>\n",
       "      <td>0.355086</td>\n",
       "      <td>0.127756</td>\n",
       "      <td>-0.163982</td>\n",
       "      <td>-0.412088</td>\n",
       "      <td>-1.017485</td>\n",
       "      <td>0.129566</td>\n",
       "      <td>0.948048</td>\n",
       "      <td>0.287826</td>\n",
       "      <td>-0.396592</td>\n",
       "      <td>0.042997</td>\n",
       "      <td>0.025853</td>\n",
       "      <td>28.40</td>\n",
       "      <td>0</td>\n",
       "    </tr>\n",
       "    <tr>\n",
       "      <th>3</th>\n",
       "      <td>26115</td>\n",
       "      <td>-0.774614</td>\n",
       "      <td>1.100916</td>\n",
       "      <td>0.679080</td>\n",
       "      <td>1.034016</td>\n",
       "      <td>0.168633</td>\n",
       "      <td>0.874582</td>\n",
       "      <td>0.209454</td>\n",
       "      <td>0.770550</td>\n",
       "      <td>-0.558106</td>\n",
       "      <td>-0.165442</td>\n",
       "      <td>0.017562</td>\n",
       "      <td>0.285377</td>\n",
       "      <td>-0.818739</td>\n",
       "      <td>0.637991</td>\n",
       "      <td>-0.370124</td>\n",
       "      <td>-0.605148</td>\n",
       "      <td>0.275686</td>\n",
       "      <td>0.246362</td>\n",
       "      <td>1.331927</td>\n",
       "      <td>0.080978</td>\n",
       "      <td>0.011158</td>\n",
       "      <td>0.146017</td>\n",
       "      <td>-0.130401</td>\n",
       "      <td>-0.848815</td>\n",
       "      <td>0.005698</td>\n",
       "      <td>-0.183295</td>\n",
       "      <td>0.282940</td>\n",
       "      <td>0.123856</td>\n",
       "      <td>43.20</td>\n",
       "      <td>0</td>\n",
       "    </tr>\n",
       "    <tr>\n",
       "      <th>4</th>\n",
       "      <td>201292</td>\n",
       "      <td>-1.075860</td>\n",
       "      <td>1.361160</td>\n",
       "      <td>1.496972</td>\n",
       "      <td>2.242604</td>\n",
       "      <td>1.314751</td>\n",
       "      <td>0.272787</td>\n",
       "      <td>1.005246</td>\n",
       "      <td>0.132932</td>\n",
       "      <td>-1.558317</td>\n",
       "      <td>0.484216</td>\n",
       "      <td>-1.967998</td>\n",
       "      <td>-1.818338</td>\n",
       "      <td>-2.036184</td>\n",
       "      <td>0.346962</td>\n",
       "      <td>-1.161316</td>\n",
       "      <td>1.017093</td>\n",
       "      <td>-0.926787</td>\n",
       "      <td>0.183965</td>\n",
       "      <td>-2.102868</td>\n",
       "      <td>-0.354008</td>\n",
       "      <td>0.254485</td>\n",
       "      <td>0.530692</td>\n",
       "      <td>-0.651119</td>\n",
       "      <td>0.626389</td>\n",
       "      <td>1.040212</td>\n",
       "      <td>0.249501</td>\n",
       "      <td>-0.146745</td>\n",
       "      <td>0.029714</td>\n",
       "      <td>10.59</td>\n",
       "      <td>0</td>\n",
       "    </tr>\n",
       "  </tbody>\n",
       "</table>\n",
       "</div>"
      ],
      "text/plain": [
       "   Unnamed: 0        V1        V2        V3        V4        V5        V6  \\\n",
       "0      221547 -1.191668  0.428409  1.640028 -1.848859 -0.870903 -0.204849   \n",
       "1      184524  1.966614 -0.450087 -1.228586  0.142873 -0.150627 -0.543590   \n",
       "2       91201  1.528452 -1.296191 -0.890677 -2.504028  0.803202  3.350793   \n",
       "3       26115 -0.774614  1.100916  0.679080  1.034016  0.168633  0.874582   \n",
       "4      201292 -1.075860  1.361160  1.496972  2.242604  1.314751  0.272787   \n",
       "\n",
       "         V7        V8        V9       V10       V11       V12       V13  \\\n",
       "0 -0.385675  0.352793 -1.098301 -0.334597 -0.679089 -0.039671  1.372661   \n",
       "1 -0.076217 -0.108390  0.973310 -0.029903  0.279973  0.885685 -0.583912   \n",
       "2 -1.633016  0.815350 -1.884692  1.465259 -0.188235 -0.976779  0.560550   \n",
       "3  0.209454  0.770550 -0.558106 -0.165442  0.017562  0.285377 -0.818739   \n",
       "4  1.005246  0.132932 -1.558317  0.484216 -1.967998 -1.818338 -2.036184   \n",
       "\n",
       "        V14       V15       V16       V17       V18       V19       V20  \\\n",
       "0 -0.732001 -0.344528  1.024751  0.380209 -1.087349  0.364507  0.051924   \n",
       "1  0.322019 -1.065335 -0.340285 -0.385399  0.216554  0.675646 -0.190851   \n",
       "2 -0.250847  0.936115  0.136409 -0.078251  0.355086  0.127756 -0.163982   \n",
       "3  0.637991 -0.370124 -0.605148  0.275686  0.246362  1.331927  0.080978   \n",
       "4  0.346962 -1.161316  1.017093 -0.926787  0.183965 -2.102868 -0.354008   \n",
       "\n",
       "        V21       V22       V23       V24       V25       V26       V27  \\\n",
       "0  0.507173  1.292565 -0.467752  1.244887  0.697707  0.059375 -0.319964   \n",
       "1  0.124055  0.564916 -0.039331 -0.283904  0.186400  0.192932 -0.039155   \n",
       "2 -0.412088 -1.017485  0.129566  0.948048  0.287826 -0.396592  0.042997   \n",
       "3  0.011158  0.146017 -0.130401 -0.848815  0.005698 -0.183295  0.282940   \n",
       "4  0.254485  0.530692 -0.651119  0.626389  1.040212  0.249501 -0.146745   \n",
       "\n",
       "        V28  Amount  Class  \n",
       "0 -0.017444   27.44      0  \n",
       "1 -0.071314   35.95      0  \n",
       "2  0.025853   28.40      0  \n",
       "3  0.123856   43.20      0  \n",
       "4  0.029714   10.59      0  "
      ]
     },
     "execution_count": 32,
     "metadata": {},
     "output_type": "execute_result"
    }
   ],
   "source": [
    "df2 = pd.read_csv(cc2_file)\n",
    "df2.head()"
   ]
  },
  {
   "cell_type": "code",
   "execution_count": 33,
   "metadata": {},
   "outputs": [
    {
     "name": "stdout",
     "output_type": "stream",
     "text": [
      "X shape: (7300, 28)\n",
      "y shape: (7300,)\n"
     ]
    }
   ],
   "source": [
    "X, y = prep_data(df2)\n",
    "print(f'X shape: {X.shape}\\ny shape: {y.shape}')"
   ]
  },
  {
   "cell_type": "code",
   "execution_count": 34,
   "metadata": {},
   "outputs": [
    {
     "data": {
      "text/plain": [
       "0    7000\n",
       "1     300\n",
       "Name: Class, dtype: int64"
      ]
     },
     "execution_count": 34,
     "metadata": {},
     "output_type": "execute_result"
    }
   ],
   "source": [
    "df2.Class.value_counts()"
   ]
  },
  {
   "cell_type": "code",
   "execution_count": 35,
   "metadata": {},
   "outputs": [
    {
     "name": "stdout",
     "output_type": "stream",
     "text": [
      "95.89%\n"
     ]
    }
   ],
   "source": [
    "# Count the total number of observations from the length of y\n",
    "total_obs = len(y)\n",
    "\n",
    "# Count the total number of non-fraudulent observations \n",
    "non_fraud = [i for i in y if i == 0]\n",
    "count_non_fraud = non_fraud.count(0)\n",
    "\n",
    "percentage = count_non_fraud/total_obs * 100\n",
    "print(f'{percentage:0.2f}%')"
   ]
  },
  {
   "cell_type": "markdown",
   "metadata": {},
   "source": [
    "### Random Forest Classifier - part 1\n",
    "\n",
    "Next, we create a **random forest classifier** for fraud detection. Hopefully we can perform better than the baseline accuracy you've just calculated, which was roughly **96%**. This model will serve as the **\"baseline\" model** that we are going to try to improve in the upcoming exercises. We start by **splitting the data into a test and training set**, and **defining the Random Forest model**"
   ]
  },
  {
   "cell_type": "markdown",
   "metadata": {},
   "source": [
    "#### X_train, X_test, y_train, y_test"
   ]
  },
  {
   "cell_type": "code",
   "execution_count": 36,
   "metadata": {},
   "outputs": [],
   "source": [
    "# Split data into training and test set\n",
    "X_train, X_test, y_train, y_test = train_test_split(X, y, test_size=0.3, random_state=0)"
   ]
  },
  {
   "cell_type": "code",
   "execution_count": 37,
   "metadata": {},
   "outputs": [],
   "source": [
    "# Define the model as the random forest\n",
    "model = RandomForestClassifier(random_state=5, n_estimators=20)"
   ]
  },
  {
   "cell_type": "markdown",
   "metadata": {},
   "source": [
    "Next, we see how our Random Forest model performs **without hyperameter tuning**."
   ]
  },
  {
   "cell_type": "code",
   "execution_count": 38,
   "metadata": {},
   "outputs": [
    {
     "data": {
      "text/plain": [
       "RandomForestClassifier(n_estimators=20, random_state=5)"
      ]
     },
     "execution_count": 38,
     "metadata": {},
     "output_type": "execute_result"
    }
   ],
   "source": [
    "# Fit the model to our training set\n",
    "model.fit(X_train, y_train)"
   ]
  },
  {
   "cell_type": "code",
   "execution_count": 39,
   "metadata": {},
   "outputs": [],
   "source": [
    "# Obtain predictions from the test data \n",
    "predicted = model.predict(X_test)"
   ]
  },
  {
   "cell_type": "markdown",
   "metadata": {},
   "source": [
    "### Performance metrics for the RF model\n",
    "\n",
    "We know **accuracy can be misleading** in the case of fraud detection. With highly imbalanced fraud data, the AUROC curve is a more reliable performance metric, used to compare different classifiers. Moreover, the *classification report* tells you about the precision and recall of your model, whilst the *confusion matrix* actually shows how many fraud cases you can predict correctly. So let's get these performance metrics."
   ]
  },
  {
   "cell_type": "code",
   "execution_count": 40,
   "metadata": {},
   "outputs": [],
   "source": [
    "# Obtain the predictions from our random forest model \n",
    "predicted = model.predict(X_test)"
   ]
  },
  {
   "cell_type": "code",
   "execution_count": 41,
   "metadata": {},
   "outputs": [],
   "source": [
    "# Predict probabilities\n",
    "probs = model.predict_proba(X_test)"
   ]
  },
  {
   "cell_type": "code",
   "execution_count": 42,
   "metadata": {},
   "outputs": [
    {
     "name": "stdout",
     "output_type": "stream",
     "text": [
      "ROC Score:\n",
      "0.9419896444670147\n",
      "\n",
      "Classification Report:\n",
      "              precision    recall  f1-score   support\n",
      "\n",
      "           0       0.99      1.00      1.00      2099\n",
      "           1       0.97      0.80      0.88        91\n",
      "\n",
      "    accuracy                           0.99      2190\n",
      "   macro avg       0.98      0.90      0.94      2190\n",
      "weighted avg       0.99      0.99      0.99      2190\n",
      "\n",
      "\n",
      "Confusion Matrix:\n",
      "[[2097    2]\n",
      " [  18   73]]\n"
     ]
    }
   ],
   "source": [
    "# Print the ROC curve, classification report and confusion matrix\n",
    "print('ROC Score:')\n",
    "print(roc_auc_score(y_test, probs[:,1]))\n",
    "print('\\nClassification Report:')\n",
    "print(classification_report(y_test, predicted))\n",
    "print('\\nConfusion Matrix:')\n",
    "print(confusion_matrix(y_test, predicted))"
   ]
  },
  {
   "cell_type": "markdown",
   "metadata": {},
   "source": [
    "**We obtained more meaningful performance metrics that tell us how well the model performs, given the highly imbalanced data that we are working with. The model predicts 75 cases of fraud, out of which 73 are actual fraud. We have only 2 false positives. This is acceptable, and as a result we have a very high precision score. However, we did miss 18 cases of actual fraud. Recall is therefore not as good as precision.**"
   ]
  },
  {
   "cell_type": "markdown",
   "metadata": {},
   "source": [
    "### Plotting the Precision vs. Recall Curve\n",
    "\n",
    "We Plot **Precision-Recall curve** to investigate the trade-off between the two in your model. In this curve **Precision and Recall are inversely related**; as Precision increases, Recall falls and vice-versa. A balance between these two needs to be achieved in your model, otherwise you might end up with many false positives, or not enough actual fraud cases caught. To achieve this and to compare performance, the precision-recall curves come in handy."
   ]
  },
  {
   "cell_type": "code",
   "execution_count": 43,
   "metadata": {},
   "outputs": [
    {
     "data": {
      "text/plain": [
       "0.7890250388880526"
      ]
     },
     "execution_count": 43,
     "metadata": {},
     "output_type": "execute_result"
    }
   ],
   "source": [
    "# Calculate average precision and the PR curve\n",
    "average_precision = average_precision_score(y_test, predicted)\n",
    "average_precision"
   ]
  },
  {
   "cell_type": "code",
   "execution_count": 44,
   "metadata": {},
   "outputs": [
    {
     "name": "stdout",
     "output_type": "stream",
     "text": [
      "Precision: [0.04155251 0.97333333 1.        ]\n",
      "Recall: [1.        0.8021978 0.       ]\n"
     ]
    }
   ],
   "source": [
    "# Obtain precision and recall \n",
    "precision, recall, _ = precision_recall_curve(y_test, predicted)\n",
    "print(f'Precision: {precision}\\nRecall: {recall}')"
   ]
  },
  {
   "cell_type": "markdown",
   "metadata": {},
   "source": [
    "#### def plot_pr_curve"
   ]
  },
  {
   "cell_type": "code",
   "execution_count": 45,
   "metadata": {},
   "outputs": [],
   "source": [
    "def plot_pr_curve(recall, precision, average_precision):\n",
    "    \"\"\"\n",
    "    https://scikit-learn.org/stable/auto_examples/model_selection/plot_precision_recall.html\n",
    "    \"\"\"\n",
    "    from inspect import signature\n",
    "    plt.figure()\n",
    "    step_kwargs = ({'step': 'post'}\n",
    "                   if 'step' in signature(plt.fill_between).parameters\n",
    "                   else {})\n",
    "\n",
    "    plt.step(recall, precision, color='b', alpha=0.2, where='post')\n",
    "    plt.fill_between(recall, precision, alpha=0.2, color='b', **step_kwargs)\n",
    "\n",
    "    plt.xlabel('Recall')\n",
    "    plt.ylabel('Precision')\n",
    "    plt.ylim([0.0, 1.0])\n",
    "    plt.xlim([0.0, 1.0])\n",
    "    plt.title(f'2-class Precision-Recall curve: AP={average_precision:0.2f}')\n",
    "    return plt.show()"
   ]
  },
  {
   "cell_type": "code",
   "execution_count": 46,
   "metadata": {},
   "outputs": [
    {
     "data": {
      "image/png": "[encoded data removed]",
      "text/plain": [
       "<Figure size 432x288 with 1 Axes>"
      ]
     },
     "metadata": {
      "needs_background": "light"
     },
     "output_type": "display_data"
    }
   ],
   "source": [
    "# Plot the recall precision tradeoff\n",
    "plot_pr_curve(recall, precision, average_precision)"
   ]
  },
  {
   "cell_type": "markdown",
   "metadata": {},
   "source": [
    "**The ROC curve plots the true positives vs. false positives , for a classifier, as its discrimination threshold is varied. Since, a random method describes a horizontal curve through the unit interval, it has an AUC of 0.5. Minimally, classifiers should perform better than this, and the extent to which they score higher than one another (meaning the area under the ROC curve is larger), they have better expected performance.**"
   ]
  },
  {
   "cell_type": "markdown",
   "metadata": {},
   "source": [
    "### Parameter optimization with GridSearchCV for RF\n",
    "\n",
    "Next use `GridSearchCV` to find optimal parameters for our RF.\n"
   ]
  },
  {
   "cell_type": "markdown",
   "metadata": {},
   "source": [
    "#### def get_model_results"
   ]
  },
  {
   "cell_type": "code",
   "execution_count": 47,
   "metadata": {},
   "outputs": [],
   "source": [
    "def get_model_results(X_train: np.ndarray, y_train: np.ndarray,\n",
    "                      X_test: np.ndarray, y_test: np.ndarray, model):\n",
    "    \"\"\"\n",
    "    model: sklearn model (e.g. RandomForestClassifier)\n",
    "    \"\"\"\n",
    "    # Fit your training model to your training set\n",
    "    model.fit(X_train, y_train)\n",
    "\n",
    "    # Obtain the predicted values and probabilities from the model \n",
    "    predicted = model.predict(X_test)\n",
    "    \n",
    "    try:\n",
    "        probs = model.predict_proba(X_test)\n",
    "        print('ROC Score:')\n",
    "        print(roc_auc_score(y_test, probs[:,1]))\n",
    "    except AttributeError:\n",
    "        pass\n",
    "\n",
    "    # Print the ROC curve, classification report and confusion matrix\n",
    "    print('\\nClassification Report:')\n",
    "    print(classification_report(y_test, predicted))\n",
    "    print('\\nConfusion Matrix:')\n",
    "    print(confusion_matrix(y_test, predicted))"
   ]
  },
  {
   "cell_type": "code",
   "execution_count": 48,
   "metadata": {},
   "outputs": [
    {
     "data": {
      "text/plain": [
       "{'criterion': 'gini',\n",
       " 'max_depth': 8,\n",
       " 'max_features': 'log2',\n",
       " 'n_estimators': 30}"
      ]
     },
     "execution_count": 48,
     "metadata": {},
     "output_type": "execute_result"
    }
   ],
   "source": [
    "# Define the parameter sets to test\n",
    "param_grid = {'n_estimators': [1, 30],\n",
    "              'max_features': ['auto', 'log2'], \n",
    "              'max_depth': [4, 8, 10, 12],\n",
    "              'criterion': ['gini', 'entropy']}\n",
    "\n",
    "# Define the model to use\n",
    "model = RandomForestClassifier(random_state=5)\n",
    "\n",
    "# Combine the parameter sets with the defined model\n",
    "CV_model = GridSearchCV(estimator=model, param_grid=param_grid, cv=5, scoring='recall', n_jobs=-1)\n",
    "\n",
    "# Fit the model to our training data and obtain best parameters\n",
    "CV_model.fit(X_train, y_train)\n",
    "CV_model.best_params_"
   ]
  },
  {
   "cell_type": "code",
   "execution_count": 49,
   "metadata": {},
   "outputs": [
    {
     "name": "stdout",
     "output_type": "stream",
     "text": [
      "ROC Score:\n",
      "0.9749697658225529\n",
      "\n",
      "Classification Report:\n",
      "              precision    recall  f1-score   support\n",
      "\n",
      "           0       0.99      1.00      1.00      2099\n",
      "           1       0.95      0.84      0.89        91\n",
      "\n",
      "    accuracy                           0.99      2190\n",
      "   macro avg       0.97      0.92      0.94      2190\n",
      "weighted avg       0.99      0.99      0.99      2190\n",
      "\n",
      "\n",
      "Confusion Matrix:\n",
      "[[2095    4]\n",
      " [  15   76]]\n"
     ]
    }
   ],
   "source": [
    "# Input the optimal parameters in the model\n",
    "model = RandomForestClassifier(class_weight={0:1,1:12},\n",
    "                               criterion='gini',\n",
    "                               max_depth=8,\n",
    "                               max_features='log2', \n",
    "                               min_samples_leaf=10,\n",
    "                               n_estimators=30,\n",
    "                               n_jobs=-1,\n",
    "                               random_state=5)\n",
    "\n",
    "# Get results from your model\n",
    "get_model_results(X_train, y_train, X_test, y_test, model)"
   ]
  },
  {
   "cell_type": "markdown",
   "metadata": {},
   "source": [
    "**The model has been improved even further. The number of false negativs has now been slightly reduced even further 18 to 15, which means we are catching more cases of fraud, 73 to 76. However, you see that the number of false positives actually went up, 2 to 4. That is that Precision-Recall trade-off in action. To decide which final model is best, you need to take into account how bad it is not to catch fraudsters, versus how many false positives the fraud analytics team can deal with. Ultimately, this final decision should be made by you and the fraud team together.**"
   ]
  },
  {
   "cell_type": "markdown",
   "metadata": {},
   "source": [
    "### Logistic Regression - A comparison to our RF\n",
    "\n",
    "Implementing an Ensemble\n",
    "\n",
    "The Voting Classifier can potentially improve your original mode by combining the strengths and weaknesses of many other models. \n"
   ]
  },
  {
   "cell_type": "code",
   "execution_count": 50,
   "metadata": {},
   "outputs": [
    {
     "name": "stdout",
     "output_type": "stream",
     "text": [
      "ROC Score:\n",
      "0.9722054981702433\n",
      "\n",
      "Classification Report:\n",
      "              precision    recall  f1-score   support\n",
      "\n",
      "           0       0.99      0.98      0.99      2099\n",
      "           1       0.63      0.88      0.73        91\n",
      "\n",
      "    accuracy                           0.97      2190\n",
      "   macro avg       0.81      0.93      0.86      2190\n",
      "weighted avg       0.98      0.97      0.98      2190\n",
      "\n",
      "\n",
      "Confusion Matrix:\n",
      "[[2052   47]\n",
      " [  11   80]]\n"
     ]
    }
   ],
   "source": [
    "# Define the Logistic Regression model with weights\n",
    "model = LogisticRegression(class_weight={0:1, 1:15}, random_state=5, solver='liblinear')\n",
    "\n",
    "# Get the model results\n",
    "get_model_results(X_train, y_train, X_test, y_test, model)"
   ]
  },
  {
   "cell_type": "markdown",
   "metadata": {},
   "source": [
    "**As you can see the Logistic Regression has quite different performance from the Random Forest. More false positives, but also a better Recall. It will therefore will a useful addition to the Random Forest in an ensemble model.**"
   ]
  },
  {
   "cell_type": "markdown",
   "metadata": {},
   "source": [
    "### Voting Classifier\n",
    "\n",
    "Next we **combine three machine learning models into one**, to improve our Random Forest fraud detection model from before. We combine our usual Random Forest model, with the Logistic Regression from the previous exercise, with a simple Decision Tree. "
   ]
  },
  {
   "cell_type": "code",
   "execution_count": 51,
   "metadata": {},
   "outputs": [
    {
     "name": "stdout",
     "output_type": "stream",
     "text": [
      "\n",
      "Classification Report:\n",
      "              precision    recall  f1-score   support\n",
      "\n",
      "           0       0.99      1.00      0.99      2099\n",
      "           1       0.90      0.86      0.88        91\n",
      "\n",
      "    accuracy                           0.99      2190\n",
      "   macro avg       0.95      0.93      0.94      2190\n",
      "weighted avg       0.99      0.99      0.99      2190\n",
      "\n",
      "\n",
      "Confusion Matrix:\n",
      "[[2090    9]\n",
      " [  13   78]]\n"
     ]
    }
   ],
   "source": [
    "# Define the three classifiers to use in the ensemble\n",
    "clf1 = LogisticRegression(class_weight={0:1, 1:15},\n",
    "                          random_state=5,\n",
    "                          solver='liblinear')\n",
    "\n",
    "clf2 = RandomForestClassifier(class_weight={0:1, 1:12}, \n",
    "                              criterion='gini', \n",
    "                              max_depth=8, \n",
    "                              max_features='log2',\n",
    "                              min_samples_leaf=10, \n",
    "                              n_estimators=30, \n",
    "                              n_jobs=-1,\n",
    "                              random_state=5)\n",
    "\n",
    "clf3 = DecisionTreeClassifier(random_state=5,\n",
    "                              class_weight=\"balanced\")\n",
    "\n",
    "# Combine the classifiers in the ensemble model\n",
    "ensemble_model = VotingClassifier(estimators=[('lr', clf1), ('rf', clf2), ('dt', clf3)], voting='hard')\n",
    "\n",
    "# Get the results \n",
    "get_model_results(X_train, y_train, X_test, y_test, ensemble_model)"
   ]
  },
  {
   "cell_type": "markdown",
   "metadata": {},
   "source": [
    "**By combining the classifiers, you can take the best of multiple models. You've increased the cases of fraud you are catching from 76 to 78, and you only have 5 extra false positives in return. If you do care about catching as many fraud cases as you can, whilst keeping the false positives low, this is a pretty good trade-off. The Logistic Regression as a standalone was quite bad in terms of false positives, and the Random Forest was worse in terms of false negatives. By combining these together you indeed managed to improve performance.**"
   ]
  },
  {
   "cell_type": "markdown",
   "metadata": {},
   "source": [
    "### Adjusting weights within the Voting Classifier\n",
    "\n",
    "The Voting Classifier allows improvement on fraud detection performance, by combining good aspects from multiple models. Next we **adjust the weights** we give to these models. By increasing or decreasing weights illustrate **how much emphasis to give to a particular model** relative to the rest. This is useful when a certain model has overall better performance than the rest, but still want to combine aspects of the others to further improve your results."
   ]
  },
  {
   "cell_type": "code",
   "execution_count": 52,
   "metadata": {},
   "outputs": [
    {
     "name": "stdout",
     "output_type": "stream",
     "text": [
      "ROC Score:\n",
      "0.9739226947421326\n",
      "\n",
      "Classification Report:\n",
      "              precision    recall  f1-score   support\n",
      "\n",
      "           0       0.99      1.00      1.00      2099\n",
      "           1       0.94      0.85      0.89        91\n",
      "\n",
      "    accuracy                           0.99      2190\n",
      "   macro avg       0.97      0.92      0.94      2190\n",
      "weighted avg       0.99      0.99      0.99      2190\n",
      "\n",
      "\n",
      "Confusion Matrix:\n",
      "[[2094    5]\n",
      " [  14   77]]\n"
     ]
    }
   ],
   "source": [
    "# Define the ensemble model\n",
    "ensemble_model = VotingClassifier(estimators=[('lr', clf1), ('rf', clf2), ('gnb', clf3)], voting='soft', weights=[1, 4, 1], flatten_transform=True)\n",
    "\n",
    "# Get results \n",
    "get_model_results(X_train, y_train, X_test, y_test, ensemble_model)"
   ]
  },
  {
   "cell_type": "markdown",
   "metadata": {},
   "source": [
    "**The weight option allows individual models to get the optimal wighting mix for the fraud detection model. Weights must be experimented with to determine optimal allocation**"
   ]
  },
  {
   "cell_type": "markdown",
   "metadata": {},
   "source": [
    "# FD3 Fraud Detection Using Unlabeled Data\n",
    "\n",
    "Unsupervised learning techniques to detect fraud. Segment customers, use K-means clustering and other clustering algorithms to find suspicious occurrences."
   ]
  },
  {
   "cell_type": "markdown",
   "metadata": {},
   "source": [
    "### Exploring the data\n",
    "\n",
    "Next we look at bank **payment transaction data**. The financial transactions are categorized by type of expense, as well as the amount spent. Moreover, some client characteristics are available such as age group and gender.\n",
    "\n",
    "When using unsupervised learning techniques for fraud detection, **distinguish normal from abnormal** (thus potentially fraudulent) behavior. A fraud analyst would best understand what is \"normal\"."
   ]
  },
  {
   "cell_type": "code",
   "execution_count": 53,
   "metadata": {},
   "outputs": [],
   "source": [
    "banksim_df = pd.read_csv(banksim_file)\n",
    "banksim_df.drop(['Unnamed: 0'], axis=1, inplace=True)\n",
    "banksim_adj_df = pd.read_csv(banksim_adj_file)\n",
    "banksim_adj_df.drop(['Unnamed: 0'], axis=1, inplace=True)"
   ]
  },
  {
   "cell_type": "code",
   "execution_count": 54,
   "metadata": {},
   "outputs": [
    {
     "data": {
      "text/plain": [
       "(7200, 5)"
      ]
     },
     "execution_count": 54,
     "metadata": {},
     "output_type": "execute_result"
    }
   ],
   "source": [
    "banksim_df.shape"
   ]
  },
  {
   "cell_type": "code",
   "execution_count": 55,
   "metadata": {},
   "outputs": [
    {
     "data": {
      "text/html": [
       "<div>\n",
       "<style scoped>\n",
       "    .dataframe tbody tr th:only-of-type {\n",
       "        vertical-align: middle;\n",
       "    }\n",
       "\n",
       "    .dataframe tbody tr th {\n",
       "        vertical-align: top;\n",
       "    }\n",
       "\n",
       "    .dataframe thead th {\n",
       "        text-align: right;\n",
       "    }\n",
       "</style>\n",
       "<table border=\"1\" class=\"dataframe\">\n",
       "  <thead>\n",
       "    <tr style=\"text-align: right;\">\n",
       "      <th></th>\n",
       "      <th>age</th>\n",
       "      <th>gender</th>\n",
       "      <th>category</th>\n",
       "      <th>amount</th>\n",
       "      <th>fraud</th>\n",
       "    </tr>\n",
       "  </thead>\n",
       "  <tbody>\n",
       "    <tr>\n",
       "      <th>0</th>\n",
       "      <td>3</td>\n",
       "      <td>F</td>\n",
       "      <td>es_transportation</td>\n",
       "      <td>49.71</td>\n",
       "      <td>0</td>\n",
       "    </tr>\n",
       "    <tr>\n",
       "      <th>1</th>\n",
       "      <td>4</td>\n",
       "      <td>F</td>\n",
       "      <td>es_health</td>\n",
       "      <td>39.29</td>\n",
       "      <td>0</td>\n",
       "    </tr>\n",
       "    <tr>\n",
       "      <th>2</th>\n",
       "      <td>3</td>\n",
       "      <td>F</td>\n",
       "      <td>es_transportation</td>\n",
       "      <td>18.76</td>\n",
       "      <td>0</td>\n",
       "    </tr>\n",
       "    <tr>\n",
       "      <th>3</th>\n",
       "      <td>4</td>\n",
       "      <td>M</td>\n",
       "      <td>es_transportation</td>\n",
       "      <td>13.95</td>\n",
       "      <td>0</td>\n",
       "    </tr>\n",
       "    <tr>\n",
       "      <th>4</th>\n",
       "      <td>2</td>\n",
       "      <td>M</td>\n",
       "      <td>es_transportation</td>\n",
       "      <td>49.87</td>\n",
       "      <td>0</td>\n",
       "    </tr>\n",
       "  </tbody>\n",
       "</table>\n",
       "</div>"
      ],
      "text/plain": [
       "  age gender           category  amount  fraud\n",
       "0   3      F  es_transportation   49.71      0\n",
       "1   4      F          es_health   39.29      0\n",
       "2   3      F  es_transportation   18.76      0\n",
       "3   4      M  es_transportation   13.95      0\n",
       "4   2      M  es_transportation   49.87      0"
      ]
     },
     "execution_count": 55,
     "metadata": {},
     "output_type": "execute_result"
    }
   ],
   "source": [
    "banksim_df.head()"
   ]
  },
  {
   "cell_type": "code",
   "execution_count": 56,
   "metadata": {},
   "outputs": [
    {
     "data": {
      "text/plain": [
       "(7189, 18)"
      ]
     },
     "execution_count": 56,
     "metadata": {},
     "output_type": "execute_result"
    }
   ],
   "source": [
    "banksim_adj_df.shape"
   ]
  },
  {
   "cell_type": "code",
   "execution_count": 57,
   "metadata": {},
   "outputs": [
    {
     "data": {
      "text/html": [
       "<div>\n",
       "<style scoped>\n",
       "    .dataframe tbody tr th:only-of-type {\n",
       "        vertical-align: middle;\n",
       "    }\n",
       "\n",
       "    .dataframe tbody tr th {\n",
       "        vertical-align: top;\n",
       "    }\n",
       "\n",
       "    .dataframe thead th {\n",
       "        text-align: right;\n",
       "    }\n",
       "</style>\n",
       "<table border=\"1\" class=\"dataframe\">\n",
       "  <thead>\n",
       "    <tr style=\"text-align: right;\">\n",
       "      <th></th>\n",
       "      <th>age</th>\n",
       "      <th>amount</th>\n",
       "      <th>fraud</th>\n",
       "      <th>M</th>\n",
       "      <th>es_barsandrestaurants</th>\n",
       "      <th>es_contents</th>\n",
       "      <th>es_fashion</th>\n",
       "      <th>es_food</th>\n",
       "      <th>es_health</th>\n",
       "      <th>es_home</th>\n",
       "      <th>es_hotelservices</th>\n",
       "      <th>es_hyper</th>\n",
       "      <th>es_leisure</th>\n",
       "      <th>es_otherservices</th>\n",
       "      <th>es_sportsandtoys</th>\n",
       "      <th>es_tech</th>\n",
       "      <th>es_transportation</th>\n",
       "      <th>es_travel</th>\n",
       "    </tr>\n",
       "  </thead>\n",
       "  <tbody>\n",
       "    <tr>\n",
       "      <th>0</th>\n",
       "      <td>3</td>\n",
       "      <td>49.71</td>\n",
       "      <td>0</td>\n",
       "      <td>0</td>\n",
       "      <td>0</td>\n",
       "      <td>0</td>\n",
       "      <td>0</td>\n",
       "      <td>0</td>\n",
       "      <td>0</td>\n",
       "      <td>0</td>\n",
       "      <td>0</td>\n",
       "      <td>0</td>\n",
       "      <td>0</td>\n",
       "      <td>0</td>\n",
       "      <td>0</td>\n",
       "      <td>0</td>\n",
       "      <td>1</td>\n",
       "      <td>0</td>\n",
       "    </tr>\n",
       "    <tr>\n",
       "      <th>1</th>\n",
       "      <td>4</td>\n",
       "      <td>39.29</td>\n",
       "      <td>0</td>\n",
       "      <td>0</td>\n",
       "      <td>0</td>\n",
       "      <td>0</td>\n",
       "      <td>0</td>\n",
       "      <td>0</td>\n",
       "      <td>1</td>\n",
       "      <td>0</td>\n",
       "      <td>0</td>\n",
       "      <td>0</td>\n",
       "      <td>0</td>\n",
       "      <td>0</td>\n",
       "      <td>0</td>\n",
       "      <td>0</td>\n",
       "      <td>0</td>\n",
       "      <td>0</td>\n",
       "    </tr>\n",
       "    <tr>\n",
       "      <th>2</th>\n",
       "      <td>3</td>\n",
       "      <td>18.76</td>\n",
       "      <td>0</td>\n",
       "      <td>0</td>\n",
       "      <td>0</td>\n",
       "      <td>0</td>\n",
       "      <td>0</td>\n",
       "      <td>0</td>\n",
       "      <td>0</td>\n",
       "      <td>0</td>\n",
       "      <td>0</td>\n",
       "      <td>0</td>\n",
       "      <td>0</td>\n",
       "      <td>0</td>\n",
       "      <td>0</td>\n",
       "      <td>0</td>\n",
       "      <td>1</td>\n",
       "      <td>0</td>\n",
       "    </tr>\n",
       "    <tr>\n",
       "      <th>3</th>\n",
       "      <td>4</td>\n",
       "      <td>13.95</td>\n",
       "      <td>0</td>\n",
       "      <td>1</td>\n",
       "      <td>0</td>\n",
       "      <td>0</td>\n",
       "      <td>0</td>\n",
       "      <td>0</td>\n",
       "      <td>0</td>\n",
       "      <td>0</td>\n",
       "      <td>0</td>\n",
       "      <td>0</td>\n",
       "      <td>0</td>\n",
       "      <td>0</td>\n",
       "      <td>0</td>\n",
       "      <td>0</td>\n",
       "      <td>1</td>\n",
       "      <td>0</td>\n",
       "    </tr>\n",
       "    <tr>\n",
       "      <th>4</th>\n",
       "      <td>2</td>\n",
       "      <td>49.87</td>\n",
       "      <td>0</td>\n",
       "      <td>1</td>\n",
       "      <td>0</td>\n",
       "      <td>0</td>\n",
       "      <td>0</td>\n",
       "      <td>0</td>\n",
       "      <td>0</td>\n",
       "      <td>0</td>\n",
       "      <td>0</td>\n",
       "      <td>0</td>\n",
       "      <td>0</td>\n",
       "      <td>0</td>\n",
       "      <td>0</td>\n",
       "      <td>0</td>\n",
       "      <td>1</td>\n",
       "      <td>0</td>\n",
       "    </tr>\n",
       "  </tbody>\n",
       "</table>\n",
       "</div>"
      ],
      "text/plain": [
       "   age  amount  fraud  M  es_barsandrestaurants  es_contents  es_fashion  \\\n",
       "0    3   49.71      0  0                      0            0           0   \n",
       "1    4   39.29      0  0                      0            0           0   \n",
       "2    3   18.76      0  0                      0            0           0   \n",
       "3    4   13.95      0  1                      0            0           0   \n",
       "4    2   49.87      0  1                      0            0           0   \n",
       "\n",
       "   es_food  es_health  es_home  es_hotelservices  es_hyper  es_leisure  \\\n",
       "0        0          0        0                 0         0           0   \n",
       "1        0          1        0                 0         0           0   \n",
       "2        0          0        0                 0         0           0   \n",
       "3        0          0        0                 0         0           0   \n",
       "4        0          0        0                 0         0           0   \n",
       "\n",
       "   es_otherservices  es_sportsandtoys  es_tech  es_transportation  es_travel  \n",
       "0                 0                 0        0                  1          0  \n",
       "1                 0                 0        0                  0          0  \n",
       "2                 0                 0        0                  1          0  \n",
       "3                 0                 0        0                  1          0  \n",
       "4                 0                 0        0                  1          0  "
      ]
     },
     "execution_count": 57,
     "metadata": {},
     "output_type": "execute_result"
    }
   ],
   "source": [
    "banksim_adj_df.head()"
   ]
  },
  {
   "cell_type": "code",
   "execution_count": 58,
   "metadata": {},
   "outputs": [
    {
     "data": {
      "text/html": [
       "<div>\n",
       "<style scoped>\n",
       "    .dataframe tbody tr th:only-of-type {\n",
       "        vertical-align: middle;\n",
       "    }\n",
       "\n",
       "    .dataframe tbody tr th {\n",
       "        vertical-align: top;\n",
       "    }\n",
       "\n",
       "    .dataframe thead th {\n",
       "        text-align: right;\n",
       "    }\n",
       "</style>\n",
       "<table border=\"1\" class=\"dataframe\">\n",
       "  <thead>\n",
       "    <tr style=\"text-align: right;\">\n",
       "      <th></th>\n",
       "      <th>amount</th>\n",
       "      <th>fraud</th>\n",
       "    </tr>\n",
       "    <tr>\n",
       "      <th>category</th>\n",
       "      <th></th>\n",
       "      <th></th>\n",
       "    </tr>\n",
       "  </thead>\n",
       "  <tbody>\n",
       "    <tr>\n",
       "      <th>es_barsandrestaurants</th>\n",
       "      <td>43.841793</td>\n",
       "      <td>0.022472</td>\n",
       "    </tr>\n",
       "    <tr>\n",
       "      <th>es_contents</th>\n",
       "      <td>55.170000</td>\n",
       "      <td>0.000000</td>\n",
       "    </tr>\n",
       "    <tr>\n",
       "      <th>es_fashion</th>\n",
       "      <td>59.780769</td>\n",
       "      <td>0.020619</td>\n",
       "    </tr>\n",
       "    <tr>\n",
       "      <th>es_food</th>\n",
       "      <td>35.216050</td>\n",
       "      <td>0.000000</td>\n",
       "    </tr>\n",
       "    <tr>\n",
       "      <th>es_health</th>\n",
       "      <td>126.604704</td>\n",
       "      <td>0.242798</td>\n",
       "    </tr>\n",
       "    <tr>\n",
       "      <th>es_home</th>\n",
       "      <td>120.688317</td>\n",
       "      <td>0.208333</td>\n",
       "    </tr>\n",
       "    <tr>\n",
       "      <th>es_hotelservices</th>\n",
       "      <td>172.756245</td>\n",
       "      <td>0.548387</td>\n",
       "    </tr>\n",
       "    <tr>\n",
       "      <th>es_hyper</th>\n",
       "      <td>46.788180</td>\n",
       "      <td>0.125000</td>\n",
       "    </tr>\n",
       "    <tr>\n",
       "      <th>es_leisure</th>\n",
       "      <td>229.757600</td>\n",
       "      <td>1.000000</td>\n",
       "    </tr>\n",
       "    <tr>\n",
       "      <th>es_otherservices</th>\n",
       "      <td>149.648960</td>\n",
       "      <td>0.600000</td>\n",
       "    </tr>\n",
       "    <tr>\n",
       "      <th>es_sportsandtoys</th>\n",
       "      <td>157.251737</td>\n",
       "      <td>0.657895</td>\n",
       "    </tr>\n",
       "    <tr>\n",
       "      <th>es_tech</th>\n",
       "      <td>132.852862</td>\n",
       "      <td>0.179487</td>\n",
       "    </tr>\n",
       "    <tr>\n",
       "      <th>es_transportation</th>\n",
       "      <td>27.422014</td>\n",
       "      <td>0.000000</td>\n",
       "    </tr>\n",
       "    <tr>\n",
       "      <th>es_travel</th>\n",
       "      <td>231.818656</td>\n",
       "      <td>0.944444</td>\n",
       "    </tr>\n",
       "    <tr>\n",
       "      <th>es_wellnessandbeauty</th>\n",
       "      <td>66.167078</td>\n",
       "      <td>0.060606</td>\n",
       "    </tr>\n",
       "  </tbody>\n",
       "</table>\n",
       "</div>"
      ],
      "text/plain": [
       "                           amount     fraud\n",
       "category                                   \n",
       "es_barsandrestaurants   43.841793  0.022472\n",
       "es_contents             55.170000  0.000000\n",
       "es_fashion              59.780769  0.020619\n",
       "es_food                 35.216050  0.000000\n",
       "es_health              126.604704  0.242798\n",
       "es_home                120.688317  0.208333\n",
       "es_hotelservices       172.756245  0.548387\n",
       "es_hyper                46.788180  0.125000\n",
       "es_leisure             229.757600  1.000000\n",
       "es_otherservices       149.648960  0.600000\n",
       "es_sportsandtoys       157.251737  0.657895\n",
       "es_tech                132.852862  0.179487\n",
       "es_transportation       27.422014  0.000000\n",
       "es_travel              231.818656  0.944444\n",
       "es_wellnessandbeauty    66.167078  0.060606"
      ]
     },
     "execution_count": 58,
     "metadata": {},
     "output_type": "execute_result"
    }
   ],
   "source": [
    "banksim_df.groupby(['category']).mean()"
   ]
  },
  {
   "cell_type": "markdown",
   "metadata": {},
   "source": [
    "### Customer segmentation\n",
    "\n",
    "Chekcing for any **obvious patterns** for the clients in this data, we need to determine if there a need to segment your data into groups, aka homogenous populations.\n",
    "\n",
    "Unfortunately there is not a lot client information available; for example we can not distinguish between the wealth levels of different clients. However, there is data on **age ** available.\n"
   ]
  },
  {
   "cell_type": "code",
   "execution_count": 59,
   "metadata": {},
   "outputs": [
    {
     "data": {
      "text/html": [
       "<div>\n",
       "<style scoped>\n",
       "    .dataframe tbody tr th:only-of-type {\n",
       "        vertical-align: middle;\n",
       "    }\n",
       "\n",
       "    .dataframe tbody tr th {\n",
       "        vertical-align: top;\n",
       "    }\n",
       "\n",
       "    .dataframe thead th {\n",
       "        text-align: right;\n",
       "    }\n",
       "</style>\n",
       "<table border=\"1\" class=\"dataframe\">\n",
       "  <thead>\n",
       "    <tr style=\"text-align: right;\">\n",
       "      <th></th>\n",
       "      <th>amount</th>\n",
       "      <th>fraud</th>\n",
       "    </tr>\n",
       "    <tr>\n",
       "      <th>age</th>\n",
       "      <th></th>\n",
       "      <th></th>\n",
       "    </tr>\n",
       "  </thead>\n",
       "  <tbody>\n",
       "    <tr>\n",
       "      <th>0</th>\n",
       "      <td>49.468935</td>\n",
       "      <td>0.050000</td>\n",
       "    </tr>\n",
       "    <tr>\n",
       "      <th>1</th>\n",
       "      <td>35.622829</td>\n",
       "      <td>0.026648</td>\n",
       "    </tr>\n",
       "    <tr>\n",
       "      <th>2</th>\n",
       "      <td>37.228665</td>\n",
       "      <td>0.028718</td>\n",
       "    </tr>\n",
       "    <tr>\n",
       "      <th>3</th>\n",
       "      <td>37.279338</td>\n",
       "      <td>0.023283</td>\n",
       "    </tr>\n",
       "    <tr>\n",
       "      <th>4</th>\n",
       "      <td>36.197985</td>\n",
       "      <td>0.035966</td>\n",
       "    </tr>\n",
       "    <tr>\n",
       "      <th>5</th>\n",
       "      <td>37.547521</td>\n",
       "      <td>0.023990</td>\n",
       "    </tr>\n",
       "    <tr>\n",
       "      <th>6</th>\n",
       "      <td>36.700852</td>\n",
       "      <td>0.022293</td>\n",
       "    </tr>\n",
       "    <tr>\n",
       "      <th>U</th>\n",
       "      <td>39.117000</td>\n",
       "      <td>0.000000</td>\n",
       "    </tr>\n",
       "  </tbody>\n",
       "</table>\n",
       "</div>"
      ],
      "text/plain": [
       "        amount     fraud\n",
       "age                     \n",
       "0    49.468935  0.050000\n",
       "1    35.622829  0.026648\n",
       "2    37.228665  0.028718\n",
       "3    37.279338  0.023283\n",
       "4    36.197985  0.035966\n",
       "5    37.547521  0.023990\n",
       "6    36.700852  0.022293\n",
       "U    39.117000  0.000000"
      ]
     },
     "execution_count": 59,
     "metadata": {},
     "output_type": "execute_result"
    }
   ],
   "source": [
    "banksim_df.groupby(['age']).mean()"
   ]
  },
  {
   "cell_type": "code",
   "execution_count": 60,
   "metadata": {},
   "outputs": [
    {
     "data": {
      "text/plain": [
       "2    2333\n",
       "3    1718\n",
       "4    1279\n",
       "5     792\n",
       "1     713\n",
       "6     314\n",
       "0      40\n",
       "U      11\n",
       "Name: age, dtype: int64"
      ]
     },
     "execution_count": 60,
     "metadata": {},
     "output_type": "execute_result"
    }
   ],
   "source": [
    "banksim_df.age.value_counts()"
   ]
  },
  {
   "cell_type": "markdown",
   "metadata": {},
   "source": [
    "**The average amount spent as well as fraud occurrence is rather similar across groups. Age group '0' stands out but since there are only 40 cases, it does not make sense to split these out in a separate group and run a separate model on them.**"
   ]
  },
  {
   "cell_type": "markdown",
   "metadata": {},
   "source": [
    "### Using statistics to define normal behavior\n",
    "\n",
    "There is no obvious way to segment our data into for example age groups. However, we can investigate the **average amounts spent** in normal transactions versus fraud transactions. Giving an idea of how fraudulent transactions **differ structurally** from normal transactions."
   ]
  },
  {
   "cell_type": "code",
   "execution_count": 61,
   "metadata": {},
   "outputs": [],
   "source": [
    "# Create two dataframes with fraud and non-fraud data \n",
    "df_fraud = banksim_df[banksim_df.fraud == 1] \n",
    "df_non_fraud = banksim_df[banksim_df.fraud == 0]"
   ]
  },
  {
   "cell_type": "code",
   "execution_count": 62,
   "metadata": {},
   "outputs": [
    {
     "data": {
      "image/png": "[encoded data removed]",
      "text/plain": [
       "<Figure size 432x288 with 1 Axes>"
      ]
     },
     "metadata": {
      "needs_background": "light"
     },
     "output_type": "display_data"
    }
   ],
   "source": [
    "# Plot histograms of the amounts in fraud and non-fraud data \n",
    "plt.hist(df_fraud.amount, alpha=0.5, label='fraud')\n",
    "plt.hist(df_non_fraud.amount, alpha=0.5, label='nonfraud')\n",
    "plt.xlabel('amount')\n",
    "plt.legend()\n",
    "plt.show()"
   ]
  },
  {
   "cell_type": "markdown",
   "metadata": {},
   "source": [
    "**As the number fraud observations is much smaller, it is difficult to see the full distribution. Nonetheless, you can see that the fraudulent transactions tend to be on the larger side relative to normal observations. This is good news, as it helps us later in detecting fraud from non-fraud. In the next chapter you're going to implement a clustering model to distinguish between normal and abnormal transactions, when the fraud labels are no longer available.**"
   ]
  },
  {
   "cell_type": "markdown",
   "metadata": {},
   "source": [
    "## Clustering methods to detect fraud"
   ]
  },
  {
   "cell_type": "code",
   "execution_count": 63,
   "metadata": {},
   "outputs": [],
   "source": [
    "labels = banksim_adj_df.fraud"
   ]
  },
  {
   "cell_type": "code",
   "execution_count": 64,
   "metadata": {},
   "outputs": [],
   "source": [
    "cols = ['age', 'amount', 'M', 'es_barsandrestaurants', 'es_contents',\n",
    "        'es_fashion', 'es_food', 'es_health', 'es_home', 'es_hotelservices',\n",
    "        'es_hyper', 'es_leisure', 'es_otherservices', 'es_sportsandtoys',\n",
    "        'es_tech', 'es_transportation', 'es_travel']"
   ]
  },
  {
   "cell_type": "code",
   "execution_count": 65,
   "metadata": {},
   "outputs": [],
   "source": [
    "# Take the float values of df for X\n",
    "X = banksim_adj_df[cols].values.astype(np.float)"
   ]
  },
  {
   "cell_type": "code",
   "execution_count": 66,
   "metadata": {},
   "outputs": [
    {
     "data": {
      "text/plain": [
       "(7189, 17)"
      ]
     },
     "execution_count": 66,
     "metadata": {},
     "output_type": "execute_result"
    }
   ],
   "source": [
    "X.shape"
   ]
  },
  {
   "cell_type": "code",
   "execution_count": 67,
   "metadata": {},
   "outputs": [],
   "source": [
    "# Define the scaler and apply to the data\n",
    "scaler = MinMaxScaler()\n",
    "X_scaled = scaler.fit_transform(X)"
   ]
  },
  {
   "cell_type": "code",
   "execution_count": 68,
   "metadata": {},
   "outputs": [
    {
     "data": {
      "text/plain": [
       "MiniBatchKMeans(random_state=0)"
      ]
     },
     "execution_count": 68,
     "metadata": {},
     "output_type": "execute_result"
    }
   ],
   "source": [
    "# Define the model \n",
    "kmeans = MiniBatchKMeans(n_clusters=8, random_state=0)\n",
    "\n",
    "# Fit the model to the scaled data\n",
    "kmeans.fit(X_scaled)"
   ]
  },
  {
   "cell_type": "markdown",
   "metadata": {},
   "source": [
    "**Having fit the MiniBatch K-means model to the data, we still need to figure our what the right number of clusters to use is. Let's do that in the next exercise.**"
   ]
  },
  {
   "cell_type": "markdown",
   "metadata": {},
   "source": [
    "### Elbow Method to Determine K"
   ]
  },
  {
   "cell_type": "code",
   "execution_count": 69,
   "metadata": {},
   "outputs": [],
   "source": [
    "# Define the range of clusters to try\n",
    "clustno = range(1, 10)\n",
    "\n",
    "# Run MiniBatch Kmeans over the number of clusters\n",
    "kmeans = [MiniBatchKMeans(n_clusters=i) for i in clustno]\n",
    "\n",
    "# Obtain the score for each model\n",
    "score = [kmeans[i].fit(X_scaled).score(X_scaled) for i in range(len(kmeans))]"
   ]
  },
  {
   "cell_type": "code",
   "execution_count": 70,
   "metadata": {},
   "outputs": [
    {
     "data": {
      "image/png": "[encoded data removed]",
      "text/plain": [
       "<Figure size 432x288 with 1 Axes>"
      ]
     },
     "metadata": {
      "needs_background": "light"
     },
     "output_type": "display_data"
    }
   ],
   "source": [
    "# Plot the models and their respective score \n",
    "plt.plot(clustno, score)\n",
    "plt.xlabel('Number of Clusters')\n",
    "plt.ylabel('Score')\n",
    "plt.title('Elbow Curve')\n",
    "plt.show()"
   ]
  },
  {
   "cell_type": "markdown",
   "metadata": {},
   "source": [
    "**The optimal number of clusters should probably be at around 3 clusters, as that is where the elbow is in the curve. We'll use this in the next exercise as our baseline model, and see how well this does in detecting fraud**"
   ]
  },
  {
   "cell_type": "markdown",
   "metadata": {},
   "source": [
    "#### Validating the K-Minibatch Model Results\n",
    "\n",
    "* without fraud labels, the usual performance metrics can't be run\n",
    "    * check with the fraud analyst\n",
    "    * investigate and describe cases that are flagged in more detail\n",
    "        * is it fraudulent or just a rare case of legit data\n",
    "        * avoid rare, legit cases by deleting certain features or removing the cases from the data\n",
    "    * if there are past cases of fraud, see if the model can predict them using historic data"
   ]
  },
  {
   "cell_type": "markdown",
   "metadata": {},
   "source": [
    "### Detecting outliers\n",
    "\n",
    "Using the K-means algorithm to predict fraud, and we compare those predictions to the actual labels that are saved, to sense check our results (since we don't have an actual fraud analyst)\n"
   ]
  },
  {
   "cell_type": "code",
   "execution_count": 71,
   "metadata": {},
   "outputs": [],
   "source": [
    "# Split the data into training and test set\n",
    "X_train, X_test, y_train, y_test = train_test_split(X_scaled, labels, test_size=0.3, random_state=0)\n",
    "\n",
    "# Define K-means model \n",
    "kmeans = MiniBatchKMeans(n_clusters=3, random_state=42).fit(X_train)\n",
    "\n",
    "# Obtain predictions and calculate distance from cluster centroid\n",
    "X_test_clusters = kmeans.predict(X_test)\n",
    "X_test_clusters_centers = kmeans.cluster_centers_\n",
    "dist = [np.linalg.norm(x-y) for x, y in zip(X_test, X_test_clusters_centers[X_test_clusters])]\n",
    "\n",
    "# Create fraud predictions based on outliers on clusters \n",
    "km_y_pred = np.array(dist)\n",
    "km_y_pred[dist >= np.percentile(dist, 95)] = 1\n",
    "km_y_pred[dist < np.percentile(dist, 95)] = 0"
   ]
  },
  {
   "cell_type": "code",
   "execution_count": 72,
   "metadata": {},
   "outputs": [],
   "source": [
    "def plot_confusion_matrix(cm, classes=['Not Fraud', 'Fraud'],\n",
    "                          normalize=False,\n",
    "                          title='Fraud Confusion matrix',\n",
    "                          cmap=plt.cm.Blues):\n",
    "    \"\"\"\n",
    "    This function prints and plots the confusion matrix.\n",
    "    Normalization can be applied by setting `normalize=True`.\n",
    "    From:\n",
    "        http://scikit-learn.org/stable/auto_examples/model_selection/plot_confusion_matrix.html#sphx-glr-auto-\n",
    "        examples-model-selection-plot-confusion-matrix-py\n",
    "    \"\"\"\n",
    "    if normalize:\n",
    "        cm = cm.astype('float') / cm.sum(axis=1)[:, np.newaxis]\n",
    "        print(\"Normalized confusion matrix\")\n",
    "    else:\n",
    "        print('Confusion matrix, without normalization')\n",
    "\n",
    "    # print(cm)\n",
    "\n",
    "    plt.imshow(cm, interpolation='nearest', cmap=cmap)\n",
    "    plt.title(title)\n",
    "    plt.colorbar()\n",
    "    tick_marks = np.arange(len(classes))\n",
    "    plt.xticks(tick_marks, classes, rotation=45)\n",
    "    plt.yticks(tick_marks, classes)\n",
    "\n",
    "    fmt = '.2f' if normalize else 'd'\n",
    "    thresh = cm.max() / 2.\n",
    "    for i, j in product(range(cm.shape[0]), range(cm.shape[1])):\n",
    "        plt.text(j, i, format(cm[i, j], fmt),\n",
    "                 horizontalalignment=\"center\",\n",
    "                 color=\"white\" if cm[i, j] > thresh else \"black\")\n",
    "\n",
    "    plt.tight_layout()\n",
    "    plt.ylabel('True label')\n",
    "    plt.xlabel('Predicted label')\n",
    "    plt.show()"
   ]
  },
  {
   "cell_type": "code",
   "execution_count": 73,
   "metadata": {},
   "outputs": [
    {
     "data": {
      "text/plain": [
       "0.8109115999408585"
      ]
     },
     "execution_count": 73,
     "metadata": {},
     "output_type": "execute_result"
    }
   ],
   "source": [
    "# Obtain the ROC score\n",
    "roc_auc_score(y_test, km_y_pred)"
   ]
  },
  {
   "cell_type": "code",
   "execution_count": 74,
   "metadata": {},
   "outputs": [
    {
     "name": "stdout",
     "output_type": "stream",
     "text": [
      "Confusion matrix, without normalization\n"
     ]
    },
    {
     "data": {
      "image/png": "[encoded data removed]",
      "text/plain": [
       "<Figure size 432x288 with 2 Axes>"
      ]
     },
     "metadata": {
      "needs_background": "light"
     },
     "output_type": "display_data"
    }
   ],
   "source": [
    "# Create a confusion matrix\n",
    "km_cm = confusion_matrix(y_test, km_y_pred)\n",
    "\n",
    "# Plot the confusion matrix in a figure to visualize results \n",
    "plot_confusion_matrix(km_cm)"
   ]
  },
  {
   "cell_type": "markdown",
   "metadata": {},
   "source": [
    "## Alternate clustering methods for fraud detection\n",
    "\n",
    "* In addition to K-means, there are many different clustering methods, which can be used for fraud detection\n",
    "* ![clustering methods](images/clustering_methods.jpeg)\n",
    "* K-means works well when the data is clustered in normal, round shapes\n",
    "* There are methods to flag fraud other the cluster outliers\n",
    "* ![clustering outlier](images/cluster_outlier.jpeg)\n",
    "    * Small clusters can be an indication of fraud\n",
    "    * This approach can be used when fraudulent behavior has commonalities, which cause clustering\n",
    "    * The fraudulent data would cluster in tiny groups, rather than be the outliers of larger clusters\n",
    "* ![typical data](images/typical_data.jpeg)\n",
    "    * In this case there are 3 obvious clusters\n",
    "    * The smallest dots are outliers and outside of what can be described as normal behavior\n",
    "    * There are also small to medium clusters closely connected to the red cluster\n",
    "    * Visualizing the data with something like [PCA](https://en.wikipedia.org/wiki/Principal_component_analysis) can be quite helpful"
   ]
  },
  {
   "cell_type": "markdown",
   "metadata": {},
   "source": [
    "#### DBSCAN: Density-Based Spatial Clustering of Applications with Noise\n",
    "\n",
    "* [DBscan](https://en.wikipedia.org/wiki/DBSCAN)\n",
    "* DBSCAN vs. K-means\n",
    "    * The number of clusters does not need to be predefined\n",
    "        * The algorithm finds core samples of high density and expands clusters from them\n",
    "        * Works well on data containing clusters of similar density\n",
    "    * This type of algorithm can be used to identify fraud as very small clusters\n",
    "    * Maximum allowed distance between points in a cluster must be assigned\n",
    "    * Minimal number of data points in clusters must be assigned\n",
    "    * Better performance on weirdly shaped data\n",
    "    * Computationally heavier then MiniBatch K-means"
   ]
  },
  {
   "cell_type": "markdown",
   "metadata": {},
   "source": [
    "### DB Scan"
   ]
  },
  {
   "cell_type": "code",
   "execution_count": 75,
   "metadata": {},
   "outputs": [],
   "source": [
    "# Initialize and fit the DBscan model\n",
    "db = DBSCAN(eps=0.9, min_samples=10, n_jobs=-1).fit(X_scaled)\n",
    "\n",
    "# Obtain the predicted labels and calculate number of clusters\n",
    "pred_labels = db.labels_\n",
    "n_clusters = len(set(pred_labels)) - (1 if -1 in labels else 0)"
   ]
  },
  {
   "cell_type": "code",
   "execution_count": 76,
   "metadata": {},
   "outputs": [
    {
     "name": "stdout",
     "output_type": "stream",
     "text": [
      "Estimated number of clusters: 23\n",
      "Homogeneity: 0.612\n",
      "Silhouette Coefficient: 0.713\n"
     ]
    }
   ],
   "source": [
    "# Print performance metrics for DBscan\n",
    "print(f'Estimated number of clusters: {n_clusters}')\n",
    "print(f'Homogeneity: {homogeneity_score(labels, pred_labels):0.3f}')\n",
    "print(f'Silhouette Coefficient: {silhouette_score(X_scaled, pred_labels):0.3f}')"
   ]
  },
  {
   "cell_type": "markdown",
   "metadata": {},
   "source": [
    "**The number of clusters is much higher than with K-means. For fraud detection this is for now OK, as we are only interested in the smallest clusters, since those are considered as abnormal. Now have a look at those clusters and decide which one to flag as fraud.**"
   ]
  },
  {
   "cell_type": "markdown",
   "metadata": {},
   "source": [
    "### Assessing smallest clusters - DB Scan"
   ]
  },
  {
   "cell_type": "code",
   "execution_count": 77,
   "metadata": {},
   "outputs": [
    {
     "name": "stdout",
     "output_type": "stream",
     "text": [
      "[3252  145 2714   55  174  119  122   98   54   15   76   15   43   25\n",
      "   51   47   42   15   25   20   19   10]\n"
     ]
    }
   ],
   "source": [
    "# Count observations in each cluster number\n",
    "counts = np.bincount(pred_labels[pred_labels >= 0])\n",
    "\n",
    "# Print the result\n",
    "print(counts)"
   ]
  },
  {
   "cell_type": "code",
   "execution_count": 78,
   "metadata": {},
   "outputs": [],
   "source": [
    "# Sort the sample counts of the clusters and take the top 3 smallest clusters\n",
    "smallest_clusters = np.argsort(counts)[:3]"
   ]
  },
  {
   "cell_type": "code",
   "execution_count": 79,
   "metadata": {},
   "outputs": [
    {
     "name": "stdout",
     "output_type": "stream",
     "text": [
      "The smallest clusters are clusters: [21 17  9]\n"
     ]
    }
   ],
   "source": [
    "# Print the results \n",
    "print(f'The smallest clusters are clusters: {smallest_clusters}')"
   ]
  },
  {
   "cell_type": "code",
   "execution_count": 80,
   "metadata": {},
   "outputs": [
    {
     "name": "stdout",
     "output_type": "stream",
     "text": [
      "Their counts are: [10 15 15]\n"
     ]
    }
   ],
   "source": [
    "# Print the counts of the smallest clusters only\n",
    "print(f'Their counts are: {counts[smallest_clusters]}')"
   ]
  },
  {
   "cell_type": "markdown",
   "metadata": {},
   "source": [
    "**So now we know which smallest clusters you could flag as fraud. If you were to take more of the smallest clusters, you cast your net wider and catch more fraud, but most likely also more false positives. It is up to the fraud analyst to find the right amount of cases to flag and to investigate. In the next exercise you'll check the results with the actual labels.**"
   ]
  },
  {
   "cell_type": "markdown",
   "metadata": {},
   "source": [
    "### Results verification\n"
   ]
  },
  {
   "cell_type": "code",
   "execution_count": 81,
   "metadata": {},
   "outputs": [],
   "source": [
    "# Create a dataframe of the predicted cluster numbers and fraud labels \n",
    "df = pd.DataFrame({'clusternr':pred_labels,'fraud':labels})\n",
    "\n",
    "# Create a condition flagging fraud for the smallest clusters \n",
    "df['predicted_fraud'] = np.where((df['clusternr'].isin([21, 17, 9])), 1 , 0)"
   ]
  },
  {
   "cell_type": "code",
   "execution_count": 82,
   "metadata": {},
   "outputs": [
    {
     "name": "stdout",
     "output_type": "stream",
     "text": [
      "Flagged Fraud     0   1\n",
      "Actual Fraud           \n",
      "0              6973  16\n",
      "1               176  24\n"
     ]
    }
   ],
   "source": [
    "# Run a crosstab on the results \n",
    "print(pd.crosstab(df['fraud'], df['predicted_fraud'], rownames=['Actual Fraud'], colnames=['Flagged Fraud']))"
   ]
  },
  {
   "cell_type": "markdown",
   "metadata": {},
   "source": [
    "**Compared to the K-means model, we have significantly less false positives, 70 to 16, however we have significantly more falst negatives 20 to 176 and catch overall less fraud, 38 to 24. The good thing is: our of all flagged cases, roughly 16/24 are actually fraud with is higher than 38/70. Since you only take the three smallest clusters, by definition you flag less cases of fraud, so you catch less but also have less false positives. However, you are missing quite a lot of fraud cases. Increasing the amount of smallest clusters you flag could improve that, but at the cost of more false positives.**"
   ]
  },
  {
   "cell_type": "markdown",
   "metadata": {},
   "source": [
    "# FD4 Fraud Detection using NLP\n",
    "\n",
    "Text data, text mining and topic modeling to detect fraudulent behavior."
   ]
  },
  {
   "cell_type": "markdown",
   "metadata": {},
   "source": [
    "### Word search with dataframes\n",
    "\n",
    "Lastly, we will use text data, containing emails from Enron employees. The **Enron scandal** is a famous fraud case. Enron employees covered up the bad financial position of the company, thereby keeping the stock price artificially high. Enron employees sold their own stock options, and when the truth came out, Enron investors were left with nothing. The goal is to find all emails that mention specific words, such as \"sell enron stock\"."
   ]
  },
  {
   "cell_type": "markdown",
   "metadata": {},
   "source": [
    "### Simple Term Search"
   ]
  },
  {
   "cell_type": "code",
   "execution_count": 83,
   "metadata": {},
   "outputs": [],
   "source": [
    "df = pd.read_csv(enron_emails_clean_file)"
   ]
  },
  {
   "cell_type": "code",
   "execution_count": 84,
   "metadata": {},
   "outputs": [],
   "source": [
    "mask = df['clean_content'].str.contains('sell enron stock', na=False)"
   ]
  },
  {
   "cell_type": "code",
   "execution_count": 85,
   "metadata": {},
   "outputs": [
    {
     "data": {
      "text/html": [
       "<div>\n",
       "<style scoped>\n",
       "    .dataframe tbody tr th:only-of-type {\n",
       "        vertical-align: middle;\n",
       "    }\n",
       "\n",
       "    .dataframe tbody tr th {\n",
       "        vertical-align: top;\n",
       "    }\n",
       "\n",
       "    .dataframe thead th {\n",
       "        text-align: right;\n",
       "    }\n",
       "</style>\n",
       "<table border=\"1\" class=\"dataframe\">\n",
       "  <thead>\n",
       "    <tr style=\"text-align: right;\">\n",
       "      <th></th>\n",
       "      <th>Message-ID</th>\n",
       "      <th>From</th>\n",
       "      <th>To</th>\n",
       "      <th>Date</th>\n",
       "      <th>content</th>\n",
       "      <th>clean_content</th>\n",
       "    </tr>\n",
       "  </thead>\n",
       "  <tbody>\n",
       "    <tr>\n",
       "      <th>154</th>\n",
       "      <td>&lt;6336501.1075841154311.JavaMail.evans@thyme&gt;</td>\n",
       "      <td>('sarah.palmer@enron.com')</td>\n",
       "      <td>('sarah.palmer@enron.com')</td>\n",
       "      <td>2002-02-01 14:53:35</td>\n",
       "      <td>\\nJoint Venture: A 1997 Enron Meeting Belies O...</td>\n",
       "      <td>joint venture enron meeting belies officers cl...</td>\n",
       "    </tr>\n",
       "  </tbody>\n",
       "</table>\n",
       "</div>"
      ],
      "text/plain": [
       "                                       Message-ID                        From  \\\n",
       "154  <6336501.1075841154311.JavaMail.evans@thyme>  ('sarah.palmer@enron.com')   \n",
       "\n",
       "                             To                 Date  \\\n",
       "154  ('sarah.palmer@enron.com')  2002-02-01 14:53:35   \n",
       "\n",
       "                                               content  \\\n",
       "154  \\nJoint Venture: A 1997 Enron Meeting Belies O...   \n",
       "\n",
       "                                         clean_content  \n",
       "154  joint venture enron meeting belies officers cl...  "
      ]
     },
     "execution_count": 85,
     "metadata": {},
     "output_type": "execute_result"
    }
   ],
   "source": [
    "# Select the data from df using the mask\n",
    "df[mask]"
   ]
  },
  {
   "cell_type": "markdown",
   "metadata": {},
   "source": [
    "**You see that searching for particular string values in a dataframe can be relatively easy, and allows you to include textual data into your model or analysis. You can use this word search as an additional flag, or as a feature in your fraud detection model. Let's look at how to filter the data using multiple search terms.**"
   ]
  },
  {
   "cell_type": "markdown",
   "metadata": {},
   "source": [
    "### Using List of Search Terms\n",
    "\n",
    "Oftentimes we don't want to search on just one term. You probably can create a full **\"fraud dictionary\"** of terms that could potentially **flag fraudulent clients** and/or transactions. Fraud analysts often will have an idea what should be in such a dictionary. In this exercise you're going to **flag a multitude of terms**. We can use this in machine learning models as a feature, or as an additional filter on top of your machine learning model results."
   ]
  },
  {
   "cell_type": "code",
   "execution_count": 86,
   "metadata": {},
   "outputs": [
    {
     "data": {
      "text/html": [
       "<div>\n",
       "<style scoped>\n",
       "    .dataframe tbody tr th:only-of-type {\n",
       "        vertical-align: middle;\n",
       "    }\n",
       "\n",
       "    .dataframe tbody tr th {\n",
       "        vertical-align: top;\n",
       "    }\n",
       "\n",
       "    .dataframe thead th {\n",
       "        text-align: right;\n",
       "    }\n",
       "</style>\n",
       "<table border=\"1\" class=\"dataframe\">\n",
       "  <thead>\n",
       "    <tr style=\"text-align: right;\">\n",
       "      <th></th>\n",
       "      <th>Message-ID</th>\n",
       "      <th>From</th>\n",
       "      <th>To</th>\n",
       "      <th>Date</th>\n",
       "      <th>content</th>\n",
       "      <th>clean_content</th>\n",
       "    </tr>\n",
       "  </thead>\n",
       "  <tbody>\n",
       "    <tr>\n",
       "      <th>0</th>\n",
       "      <td>&lt;8345058.1075840404046.JavaMail.evans@thyme&gt;</td>\n",
       "      <td>('advdfeedback@investools.com')</td>\n",
       "      <td>('advdfeedback@investools.com')</td>\n",
       "      <td>2002-01-29 23:20:55</td>\n",
       "      <td>INVESTools Advisory\\nA Free Digest of Trusted ...</td>\n",
       "      <td>investools advisory free digest trusted invest...</td>\n",
       "    </tr>\n",
       "    <tr>\n",
       "      <th>1</th>\n",
       "      <td>&lt;1512159.1075863666797.JavaMail.evans@thyme&gt;</td>\n",
       "      <td>('richard.sanders@enron.com')</td>\n",
       "      <td>('richard.sanders@enron.com')</td>\n",
       "      <td>2000-09-20 19:07:00</td>\n",
       "      <td>----- Forwarded by Richard B Sanders/HOU/ECT o...</td>\n",
       "      <td>forwarded richard b sanders hou ect pm justin ...</td>\n",
       "    </tr>\n",
       "    <tr>\n",
       "      <th>2</th>\n",
       "      <td>&lt;26118676.1075862176383.JavaMail.evans@thyme&gt;</td>\n",
       "      <td>('m..love@enron.com')</td>\n",
       "      <td>('m..love@enron.com')</td>\n",
       "      <td>2001-10-30 16:15:17</td>\n",
       "      <td>hey you are not wearing your target purple shi...</td>\n",
       "      <td>hey wearing target purple shirt today mine wan...</td>\n",
       "    </tr>\n",
       "    <tr>\n",
       "      <th>3</th>\n",
       "      <td>&lt;10369289.1075860831062.JavaMail.evans@thyme&gt;</td>\n",
       "      <td>('leslie.milosevich@kp.org')</td>\n",
       "      <td>('leslie.milosevich@kp.org')</td>\n",
       "      <td>2002-01-30 17:54:18</td>\n",
       "      <td>Leslie Milosevich\\n1042 Santa Clara Avenue\\nAl...</td>\n",
       "      <td>leslie milosevich santa clara avenue alameda c...</td>\n",
       "    </tr>\n",
       "    <tr>\n",
       "      <th>4</th>\n",
       "      <td>&lt;26728895.1075860815046.JavaMail.evans@thyme&gt;</td>\n",
       "      <td>('rtwait@graphicaljazz.com')</td>\n",
       "      <td>('rtwait@graphicaljazz.com')</td>\n",
       "      <td>2002-01-30 19:36:01</td>\n",
       "      <td>Rini Twait\\n1010 E 5th Ave\\nLongmont, CO 80501...</td>\n",
       "      <td>rini twait e th ave longmont co rtwait graphic...</td>\n",
       "    </tr>\n",
       "  </tbody>\n",
       "</table>\n",
       "</div>"
      ],
      "text/plain": [
       "                                      Message-ID  \\\n",
       "0   <8345058.1075840404046.JavaMail.evans@thyme>   \n",
       "1   <1512159.1075863666797.JavaMail.evans@thyme>   \n",
       "2  <26118676.1075862176383.JavaMail.evans@thyme>   \n",
       "3  <10369289.1075860831062.JavaMail.evans@thyme>   \n",
       "4  <26728895.1075860815046.JavaMail.evans@thyme>   \n",
       "\n",
       "                              From                               To  \\\n",
       "0  ('advdfeedback@investools.com')  ('advdfeedback@investools.com')   \n",
       "1    ('richard.sanders@enron.com')    ('richard.sanders@enron.com')   \n",
       "2            ('m..love@enron.com')            ('m..love@enron.com')   \n",
       "3     ('leslie.milosevich@kp.org')     ('leslie.milosevich@kp.org')   \n",
       "4     ('rtwait@graphicaljazz.com')     ('rtwait@graphicaljazz.com')   \n",
       "\n",
       "                  Date                                            content  \\\n",
       "0  2002-01-29 23:20:55  INVESTools Advisory\\nA Free Digest of Trusted ...   \n",
       "1  2000-09-20 19:07:00  ----- Forwarded by Richard B Sanders/HOU/ECT o...   \n",
       "2  2001-10-30 16:15:17  hey you are not wearing your target purple shi...   \n",
       "3  2002-01-30 17:54:18  Leslie Milosevich\\n1042 Santa Clara Avenue\\nAl...   \n",
       "4  2002-01-30 19:36:01  Rini Twait\\n1010 E 5th Ave\\nLongmont, CO 80501...   \n",
       "\n",
       "                                       clean_content  \n",
       "0  investools advisory free digest trusted invest...  \n",
       "1  forwarded richard b sanders hou ect pm justin ...  \n",
       "2  hey wearing target purple shirt today mine wan...  \n",
       "3  leslie milosevich santa clara avenue alameda c...  \n",
       "4  rini twait e th ave longmont co rtwait graphic...  "
      ]
     },
     "execution_count": 86,
     "metadata": {},
     "output_type": "execute_result"
    }
   ],
   "source": [
    "# Create a list of terms to search for\n",
    "searchfor = ['enron stock', 'sell stock', 'stock bonus', 'sell enron stock']\n",
    "\n",
    "# Filter cleaned emails on searchfor list and select from df \n",
    "filtered_emails = df[df.clean_content.str.contains('|'.join(searchfor), na=False)]\n",
    "filtered_emails.head()"
   ]
  },
  {
   "cell_type": "markdown",
   "metadata": {},
   "source": [
    "**By joining the search terms we can search on a multitude of terms in the dataset with minimal effort.**"
   ]
  },
  {
   "cell_type": "markdown",
   "metadata": {},
   "source": [
    "### Creating a flag on search terms"
   ]
  },
  {
   "cell_type": "code",
   "execution_count": 87,
   "metadata": {},
   "outputs": [
    {
     "name": "stdout",
     "output_type": "stream",
     "text": [
      "0    1776\n",
      "1     314\n",
      "Name: flag, dtype: int64\n"
     ]
    }
   ],
   "source": [
    "# Create flag variable where the emails match the searchfor terms\n",
    "df['flag'] = np.where((df['clean_content'].str.contains('|'.join(searchfor)) == True), 1, 0)\n",
    "\n",
    "# Count the values of the flag variable\n",
    "count = df['flag'].value_counts()\n",
    "print(count)"
   ]
  },
  {
   "cell_type": "markdown",
   "metadata": {},
   "source": [
    "## Text mining to detect fraud"
   ]
  },
  {
   "cell_type": "markdown",
   "metadata": {},
   "source": [
    "### Text Preprocessing\n"
   ]
  },
  {
   "cell_type": "code",
   "execution_count": 88,
   "metadata": {},
   "outputs": [],
   "source": [
    "# import nltk\n",
    "# nltk.download()"
   ]
  },
  {
   "cell_type": "code",
   "execution_count": 89,
   "metadata": {},
   "outputs": [],
   "source": [
    "# Define stopwords to exclude\n",
    "stop = set(stopwords.words('english'))\n",
    "stop.update((\"to\", \"cc\", \"subject\", \"http\", \"from\", \"sent\", \"ect\", \"u\", \"fwd\", \"www\", \"com\", 'html'))\n",
    "\n",
    "# Define punctuations to exclude and lemmatizer\n",
    "exclude = set(string.punctuation)"
   ]
  },
  {
   "cell_type": "markdown",
   "metadata": {},
   "source": [
    "### Cleaning text data\n",
    "\n",
    "Now that you've defined the **stopwords and punctuations**, let's use these to clean our enron emails in the dataframe `df` further. The lists containing stopwords and punctuations are available under `stop` and `exclude` There are a few more steps to take before you have cleaned data, such as **\"lemmatization\"** of words, and **stemming the verbs**. The verbs in the email data are already stemmed, and the lemmatization is already done."
   ]
  },
  {
   "cell_type": "code",
   "execution_count": 90,
   "metadata": {},
   "outputs": [],
   "source": [
    "# Import the lemmatizer from nltk\n",
    "lemma = WordNetLemmatizer()\n",
    "\n",
    "def clean(text, stop):\n",
    "    text = str(text).rstrip()\n",
    "    stop_free = \" \".join([i for i in text.lower().split() if((i not in stop) and (not i.isdigit()))])\n",
    "    punc_free = ''.join(i for i in stop_free if i not in exclude)\n",
    "    normalized = \" \".join(lemma.lemmatize(i) for i in punc_free.split())      \n",
    "    return normalized"
   ]
  },
  {
   "cell_type": "code",
   "execution_count": 91,
   "metadata": {},
   "outputs": [],
   "source": [
    "# Clean the emails in df and print results\n",
    "text_clean=[]\n",
    "for text in df['clean_content']:\n",
    "    text_clean.append(clean(text, stop).split())    "
   ]
  },
  {
   "cell_type": "code",
   "execution_count": 92,
   "metadata": {},
   "outputs": [
    {
     "data": {
      "text/plain": [
       "['investools',\n",
       " 'advisory',\n",
       " 'free',\n",
       " 'digest',\n",
       " 'trusted',\n",
       " 'investment',\n",
       " 'advice',\n",
       " 'unsubscribe',\n",
       " 'free',\n",
       " 'newsletter']"
      ]
     },
     "execution_count": 92,
     "metadata": {},
     "output_type": "execute_result"
    }
   ],
   "source": [
    "text_clean[0][:10]"
   ]
  },
  {
   "cell_type": "markdown",
   "metadata": {},
   "source": [
    "**After text preprocessing, including splitting the text into words, removing stopwords and punctuations, and lemmatizing your words, we then run a topic model on this data."
   ]
  },
  {
   "cell_type": "markdown",
   "metadata": {},
   "source": [
    "## Topic modeling on fraud\n",
    "\n",
    "1. Discovering topics in text data\n",
    "1. \"What is the text about\"\n",
    "1. Conceptually similar to clustering data\n",
    "1. Compare topics of fraud cases to non-fraud cases and use as a feature or flag\n",
    "1. Or.. is there a particular topic in the data that seems to point to fraud?"
   ]
  },
  {
   "cell_type": "markdown",
   "metadata": {},
   "source": [
    "### Create dictionary and corpus\n",
    "\n",
    "In order to run an LDA topic model, you first need to **define your dictionary and corpus** first, as those need to go into the model. You're going to continue working on the cleaned text data that you've done in the previous exercises. That means that `text_clean` is available for you already to continue working with, and you'll use that to create your dictionary and corpus.\n",
    "\n",
    "This exercise will take a little longer to execute than usual.\n",
    "\n",
    "**Instructions**\n",
    "\n",
    "* Import the gensim package and corpora from gensim separately.\n",
    "* Define your dictionary by running the correct function on your clean data `text_clean`.\n",
    "* Define the corpus by running `doc2bow` on each piece of text in `text_clean`.\n",
    "* Print your results so you can see `dictionary` and `corpus` look like."
   ]
  },
  {
   "cell_type": "code",
   "execution_count": 93,
   "metadata": {},
   "outputs": [],
   "source": [
    "# Define the dictionary\n",
    "dictionary = corpora.Dictionary(text_clean)\n",
    "\n",
    "# Define the corpus \n",
    "corpus = [dictionary.doc2bow(text) for text in text_clean]"
   ]
  },
  {
   "cell_type": "code",
   "execution_count": 94,
   "metadata": {},
   "outputs": [
    {
     "name": "stdout",
     "output_type": "stream",
     "text": [
      "Dictionary(33980 unique tokens: ['account', 'accurate', 'acquiring', 'acre', 'address']...)\n"
     ]
    }
   ],
   "source": [
    "print(dictionary)"
   ]
  },
  {
   "cell_type": "code",
   "execution_count": 95,
   "metadata": {},
   "outputs": [
    {
     "data": {
      "text/plain": [
       "[(0, 2),\n",
       " (1, 1),\n",
       " (2, 1),\n",
       " (3, 1),\n",
       " (4, 1),\n",
       " (5, 6),\n",
       " (6, 1),\n",
       " (7, 2),\n",
       " (8, 4),\n",
       " (9, 1)]"
      ]
     },
     "execution_count": 95,
     "metadata": {},
     "output_type": "execute_result"
    }
   ],
   "source": [
    "corpus[0][:10]"
   ]
  },
  {
   "cell_type": "markdown",
   "metadata": {},
   "source": [
    "**These are the two ingredients you need to run your topic model on the enron emails. You are now ready for the final step and create your first fraud detection topic model.**"
   ]
  },
  {
   "cell_type": "markdown",
   "metadata": {},
   "source": [
    "### LDA model\n",
    "\n",
    "Now it's time to **build the LDA model**. Using the `dictionary` and `corpus`, you are ready to discover which topics are present in the Enron emails. With a quick print of words assigned to the topics, you can do a first exploration about whether there are any obvious topics that jump out. Be mindful that the topic model is **heavy to calculate** so it will take a while to run. Let's give it a try!\n",
    "\n",
    "**Instructions**\n",
    "\n",
    "* Build the LDA model from gensim models, by inserting the `corpus` and `dictionary`.\n",
    "* Save the 5 topics by running `print_topics` on the model results, and select the top 5 words."
   ]
  },
  {
   "cell_type": "code",
   "execution_count": 96,
   "metadata": {},
   "outputs": [
    {
     "name": "stdout",
     "output_type": "stream",
     "text": [
      "(0, '0.023*\"image\" + 0.011*\"message\" + 0.010*\"original\" + 0.007*\"e\" + 0.007*\"se\"')\n",
      "(1, '0.055*\"enron\" + 0.011*\"pm\" + 0.011*\"corp\" + 0.010*\"hou\" + 0.009*\"development\"')\n",
      "(2, '0.055*\"td\" + 0.039*\"net\" + 0.038*\"money\" + 0.036*\"tr\" + 0.032*\"width\"')\n",
      "(3, '0.020*\"enron\" + 0.011*\"company\" + 0.006*\"employee\" + 0.006*\"energy\" + 0.006*\"stock\"')\n",
      "(4, '0.009*\"enron\" + 0.007*\"market\" + 0.006*\"would\" + 0.006*\"gas\" + 0.005*\"please\"')\n"
     ]
    }
   ],
   "source": [
    "# Define the LDA model\n",
    "ldamodel = gensim.models.ldamodel.LdaModel(corpus, num_topics=5, id2word=dictionary, passes=5)\n",
    "\n",
    "# Save the topics and top 5 words\n",
    "topics = ldamodel.print_topics(num_words=5)\n",
    "\n",
    "# Print the results\n",
    "for topic in topics:\n",
    "    print(topic)"
   ]
  },
  {
   "cell_type": "markdown",
   "metadata": {},
   "source": [
    "**We created a topic model on the Enron email data. However, the print of words doesn't really give enough information to find a topic that might show signs of fraud. Therefore we need to closely inspect the model results in order to be able to detect anything that can be related to fraud in the data.**"
   ]
  },
  {
   "cell_type": "markdown",
   "metadata": {},
   "source": [
    "## Flagging fraud based on topic"
   ]
  },
  {
   "cell_type": "markdown",
   "metadata": {},
   "source": [
    "#### Explanability - To understand topics, you need to visualize and peer into the black box (interpretability)\n"
   ]
  },
  {
   "cell_type": "code",
   "execution_count": 97,
   "metadata": {},
   "outputs": [],
   "source": [
    "lda_display = pyLDAvis.gensim.prepare(ldamodel, corpus, dictionary, sort_topics=False)"
   ]
  },
  {
   "cell_type": "code",
   "execution_count": 98,
   "metadata": {},
   "outputs": [
    {
     "data": {
      "text/html": [
       "\n",
       "<link rel=\"stylesheet\" type=\"text/css\" href=\"https://cdn.rawgit.com/bmabey/pyLDAvis/files/ldavis.v1.0.0.css\">\n",
       "\n",
       "\n",
       "<div id=\"ldavis_el384061403139075346728309424787\"></div>\n",
       "<script type=\"text/javascript\">\n",
       "\n",
       "var ldavis_el384061403139075346728309424787_data = {\"mdsDat\": {\"x\": [0.0943888257393323, 0.0972593678789261, -0.34680437664503166, 0.05493711062111105, 0.10021907240566268], \"y\": [-0.23600970586615777, 0.10534946796643653, -0.00571648658126402, 0.07993459004379447, 0.05644213443719058], \"topics\": [1, 2, 3, 4, 5], \"cluster\": [1, 1, 1, 1, 1], \"Freq\": [5.592879295349121, 15.144083023071289, 2.8805441856384277, 51.02843475341797, 25.35405731201172]}, \"tinfo\": {\"Term\": [\"enron\", \"image\", \"money\", \"td\", \"net\", \"tr\", \"width\", \"class\", \"message\", \"pm\", \"right\", \"corp\", \"hou\", \"original\", \"e\", \"development\", \"table\", \"please\", \"height\", \"br\", \"thanks\", \"center\", \"mail\", \"src\", \"energy\", \"clear\", \"script\", \"align\", \"gif\", \"f\", \"devon\", \"darrell\", \"sfs\", \"schoolcraft\", \"hourahead\", \"exotica\", \"xl\", \"barbo\", \"hanagriff\", \"bergfelt\", \"variance\", \"lindberg\", \"deviation\", \"tagline\", \"reliantenergy\", \"kowalke\", \"xll\", \"pcg\", \"buchanan\", \"detected\", \"gregwhalley\", \"eix\", \"krishna\", \"westdesk\", \"parsing\", \"apb\", \"mulligan\", \"locate\", \"lokay\", \"pinnamaneni\", \"eei\", \"lorraine\", \"coral\", \"aaaaaaaaaaaaaaaaaaaaaaaaaaaaaaaaaaaaaaaaaaaaaaaaaaaaaaaaaaaaaaaaaaaaaaaaaaaa\", \"powersrc\", \"kristen\", \"ctr\", \"syncrasy\", \"sp\", \"matrix\", \"reg\", \"wscc\", \"rk\", \"whitt\", \"sw\", \"ecar\", \"std\", \"npcc\", \"maac\", \"enlarge\", \"hp\", \"se\", \"ne\", \"nw\", \"volatility\", \"schedule\", \"kimberly\", \"frcc\", \"image\", \"original\", \"final\", \"range\", \"message\", \"file\", \"january\", \"doc\", \"kim\", \"nc\", \"watson\", \"lynn\", \"e\", \"click\", \"thanks\", \"pm\", \"please\", \"mail\", \"see\", \"enron\", \"energy\", \"sat\", \"fri\", \"wj\", \"pt\", \"wolfe\", \"pager\", \"beth\", \"recipient\", \"messaging\", \"backout\", \"impacted\", \"enform\", \"cherry\", \"neumin\", \"server\", \"kern\", \"allan\", \"raquel\", \"shipping\", \"hereto\", \"certificate\", \"estoppel\", \"enforceable\", \"gift\", \"pep\", \"memory\", \"binding\", \"privileged\", \"lenhart\", \"auth\", \"amazon\", \"div\", \"bradford\", \"matt\", \"intended\", \"outage\", \"jason\", \"development\", \"na\", \"feedback\", \"scheduled\", \"corp\", \"thru\", \"london\", \"communication\", \"pm\", \"enron\", \"hou\", \"mail\", \"enronxgate\", \"thank\", \"request\", \"please\", \"credit\", \"e\", \"contact\", \"message\", \"know\", \"may\", \"time\", \"information\", \"td\", \"align\", \"width\", \"nbsp\", \"bodydefault\", \"img\", \"script\", \"src\", \"href\", \"cellspacing\", \"cellpadding\", \"scoop\", \"height\", \"stocklookup\", \"font\", \"rect\", \"coords\", \"valign\", \"linkbarseperator\", \"bgcolor\", \"colspan\", \"tr\", \"br\", \"ffffff\", \"underscore\", \"realtime\", \"fname\", \"stwbom\", \"stsw\", \"mainheadline\", \"gif\", \"table\", \"alt\", \"border\", \"money\", \"class\", \"net\", \"clear\", \"center\", \"image\", \"right\", \"start\", \"f\", \"end\", \"classmate\", \"retirement\", \"declared\", \"donate\", \"indeed\", \"urge\", \"reported\", \"income\", \"aggressively\", \"netted\", \"wiped\", \"pocketbook\", \"astronomical\", \"repair\", \"underhanded\", \"devastated\", \"urging\", \"afford\", \"hurt\", \"t\", \"thousand\", \"investor\", \"crisis\", \"relief\", \"bankrupt\", \"profit\", \"attempting\", \"dealing\", \"occurred\", \"sold\", \"million\", \"bakernet\", \"mr\", \"lay\", \"investment\", \"partnership\", \"said\", \"share\", \"lost\", \"saving\", \"sec\", \"stock\", \"company\", \"fund\", \"employee\", \"largest\", \"bankruptcy\", \"alert\", \"earnings\", \"california\", \"court\", \"security\", \"plan\", \"pay\", \"consumer\", \"energy\", \"firm\", \"dynegy\", \"member\", \"year\", \"state\", \"new\", \"enron\", \"made\", \"york\", \"image\", \"say\", \"mailto\", \"time\", \"business\", \"price\", \"e\", \"last\", \"one\", \"bill\", \"day\", \"would\", \"simulation\", \"euci\", \"savita\", \"curve\", \"brochure\", \"agave\", \"adult\", \"stack\", \"ubswenergy\", \"vladimir\", \"blah\", \"anyhow\", \"wyndham\", \"dynergy\", \"gorny\", \"netback\", \"demoes\", \"overview\", \"emailed\", \"nella\", \"gate\", \"zipper\", \"ssb\", \"calger\", \"parameter\", \"installation\", \"chad\", \"mansoor\", \"kindly\", \"separately\", \"design\", \"eol\", \"atlanta\", \"businessweek\", \"april\", \"importance\", \"validation\", \"password\", \"bandwidth\", \"phil\", \"conference\", \"kay\", \"generation\", \"pdf\", \"lng\", \"log\", \"regard\", \"model\", \"pricing\", \"etc\", \"user\", \"able\", \"gas\", \"supply\", \"market\", \"need\", \"thanks\", \"product\", \"would\", \"know\", \"operation\", \"process\", \"like\", \"get\", \"system\", \"power\", \"mark\", \"going\", \"john\", \"hou\", \"make\", \"please\", \"asset\", \"message\", \"management\", \"also\", \"service\", \"enron\", \"original\", \"pm\", \"may\", \"time\", \"u\", \"trading\", \"new\"], \"Freq\": [9356.0, 1989.0, 764.0, 707.0, 807.0, 470.0, 414.0, 436.0, 1145.0, 1269.0, 535.0, 1133.0, 1198.0, 749.0, 1841.0, 728.0, 271.0, 1551.0, 264.0, 240.0, 825.0, 310.0, 735.0, 221.0, 1541.0, 243.0, 213.0, 212.0, 213.0, 379.0, 72.4934310913086, 50.27118682861328, 44.3016242980957, 44.72494125366211, 46.02023696899414, 38.766563415527344, 49.230186462402344, 33.49267578125, 33.243900299072266, 33.2310676574707, 30.947031021118164, 28.662565231323242, 55.575984954833984, 27.691341400146484, 34.84988021850586, 22.69563865661621, 22.4063720703125, 22.40685272216797, 23.388378143310547, 22.701335906982422, 22.17755889892578, 22.17755889892578, 22.598798751831055, 21.697582244873047, 21.69626235961914, 17.845361709594727, 17.854026794433594, 17.708332061767578, 17.430862426757812, 17.56353187561035, 33.6007080078125, 28.231142044067383, 24.868732452392578, 62.67704391479492, 22.629301071166992, 28.044090270996094, 96.90938568115234, 96.90938568115234, 169.19529724121094, 104.40729522705078, 65.96141052246094, 154.0166473388672, 106.3077392578125, 27.584625244140625, 108.71257019042969, 53.86341094970703, 53.86341094970703, 53.86341094970703, 49.020263671875, 54.28071594238281, 107.37953186035156, 173.3541259765625, 164.7402801513672, 107.62708282470703, 96.78092193603516, 124.6119155883789, 60.6909065246582, 48.482662200927734, 557.061767578125, 252.90855407714844, 111.53067779541016, 102.12016296386719, 279.17645263671875, 107.3588638305664, 110.1591567993164, 89.18817138671875, 93.4219741821289, 92.77395629882812, 65.4205093383789, 60.353233337402344, 179.08917236328125, 118.23727416992188, 122.53156280517578, 123.10427856445312, 115.39346313476562, 96.18208312988281, 96.69026947021484, 130.27786254882812, 94.23199462890625, 219.2265625, 229.69505310058594, 349.93829345703125, 156.61871337890625, 138.99392700195312, 113.29150390625, 128.99295043945312, 259.5898132324219, 85.79395294189453, 76.10569763183594, 77.94738006591797, 73.78007507324219, 73.74671936035156, 73.12071990966797, 119.33882904052734, 75.16110229492188, 61.75836944580078, 59.15863800048828, 138.80728149414062, 53.888248443603516, 95.46047973632812, 53.49563217163086, 54.56845474243164, 188.08279418945312, 86.60052490234375, 47.087181091308594, 55.22456741333008, 80.4684829711914, 44.04764175415039, 37.74421310424805, 267.5719909667969, 111.09300231933594, 82.09031677246094, 71.8871078491211, 262.4044494628906, 319.06451416015625, 177.4269256591797, 616.245849609375, 261.93084716796875, 125.79353332519531, 273.573486328125, 719.07861328125, 230.59304809570312, 199.2181854248047, 222.6885986328125, 740.7867431640625, 3694.1005859375, 655.4669799804688, 441.6180419921875, 195.96910095214844, 221.16305541992188, 267.9482116699219, 499.06646728515625, 212.42922973632812, 490.8303527832031, 239.7427978515625, 323.1415710449219, 284.6517639160156, 237.5169219970703, 242.8495635986328, 209.19512939453125, 703.2412109375, 210.89256286621094, 410.9450988769531, 154.2786407470703, 108.5968246459961, 205.09954833984375, 210.35609436035156, 217.63975524902344, 184.80355834960938, 90.29631042480469, 90.19426727294922, 129.53033447265625, 258.36846923828125, 44.27421569824219, 90.99272918701172, 44.268402099609375, 44.268402099609375, 56.8848762512207, 36.23388671875, 50.642948150634766, 46.508705139160156, 455.5836486816406, 232.18775939941406, 28.768754959106445, 24.17339515686035, 20.408254623413086, 20.26543426513672, 16.140546798706055, 16.140546798706055, 16.1330623626709, 197.9004669189453, 249.206298828125, 22.696420669555664, 151.41246032714844, 481.2702331542969, 292.97747802734375, 500.9912414550781, 151.95782470703125, 110.63961791992188, 197.2079315185547, 103.15769958496094, 77.24016571044922, 79.16210174560547, 74.83879089355469, 321.4071350097656, 333.6244201660156, 279.2049255371094, 276.4088134765625, 187.45436096191406, 160.39654541015625, 257.9316101074219, 191.22378540039062, 142.51902770996094, 140.7562713623047, 138.97532653808594, 136.31932067871094, 136.28814697265625, 139.81248474121094, 135.42417907714844, 137.9983673095703, 144.21664428710938, 140.65916442871094, 155.54769897460938, 226.2934112548828, 174.84703063964844, 374.1294250488281, 208.43667602539062, 154.34152221679688, 148.7621612548828, 287.62860107421875, 85.51644897460938, 161.89674377441406, 87.2090835571289, 210.57200622558594, 1024.7078857421875, 1011.7637939453125, 665.7510375976562, 500.5269470214844, 386.908935546875, 236.60687255859375, 1128.0367431640625, 532.0384521484375, 226.22682189941406, 313.8006896972656, 184.06817626953125, 1246.0654296875, 2467.616943359375, 695.5496826171875, 1292.375732421875, 245.56297302246094, 371.48406982421875, 316.4771728515625, 208.53707885742188, 638.9081420898438, 247.6609344482422, 334.5403137207031, 636.5850219726562, 496.7298278808594, 489.882568359375, 1250.28564453125, 415.0806579589844, 372.64520263671875, 459.7159118652344, 934.2344970703125, 614.5676879882812, 1177.3377685546875, 4563.80908203125, 647.63037109375, 410.2851257324219, 1232.640380859375, 441.0571594238281, 572.317626953125, 931.97705078125, 608.1951293945312, 613.260498046875, 919.9362182617188, 544.3648681640625, 574.0289916992188, 520.7705688476562, 528.41650390625, 533.0906982421875, 179.984375, 149.85089111328125, 130.16380310058594, 135.11878967285156, 110.69975280761719, 84.9183578491211, 133.3100128173828, 90.28923034667969, 67.28665924072266, 69.92768096923828, 63.76469802856445, 65.05439758300781, 65.06744384765625, 64.35505676269531, 69.33248901367188, 64.73424530029297, 63.29095458984375, 118.92460632324219, 64.83792114257812, 63.02288055419922, 49.85251998901367, 47.59872055053711, 43.310546875, 48.128421783447266, 43.292049407958984, 44.82991027832031, 53.71163558959961, 43.1758918762207, 49.34297180175781, 49.57620620727539, 134.27157592773438, 193.72190856933594, 113.30342864990234, 151.67027282714844, 221.2638397216797, 81.19239807128906, 64.03627014160156, 159.2472686767578, 127.71076202392578, 93.59521484375, 508.06390380859375, 142.1217498779297, 185.57823181152344, 240.18704223632812, 89.59426879882812, 190.856201171875, 253.6421356201172, 190.50621032714844, 121.0976333618164, 94.43431854248047, 163.90855407714844, 217.53941345214844, 670.2122802734375, 164.47088623046875, 781.7787475585938, 460.9770202636719, 533.8469848632812, 310.21685791015625, 688.3595581054688, 495.0386657714844, 268.6140441894531, 296.8623046875, 425.68408203125, 418.24371337890625, 344.8768005371094, 478.48248291015625, 323.4024353027344, 295.05914306640625, 299.5063781738281, 512.1356201171875, 358.4703063964844, 570.916259765625, 254.2173309326172, 439.89013671875, 297.98199462890625, 361.0419006347656, 388.4851989746094, 967.0263061523438, 328.3633728027344, 380.43206787109375, 345.1358947753906, 397.44091796875, 329.6743469238281, 304.5029296875, 361.8626708984375], \"Total\": [9356.0, 1989.0, 764.0, 707.0, 807.0, 470.0, 414.0, 436.0, 1145.0, 1269.0, 535.0, 1133.0, 1198.0, 749.0, 1841.0, 728.0, 271.0, 1551.0, 264.0, 240.0, 825.0, 310.0, 735.0, 221.0, 1541.0, 243.0, 213.0, 212.0, 213.0, 379.0, 73.50879669189453, 51.36219787597656, 45.31407928466797, 45.805824279785156, 47.17996597290039, 39.78398895263672, 50.539127349853516, 34.51241683959961, 34.256351470947266, 34.26937484741211, 32.03069305419922, 29.706090927124023, 57.6561279296875, 28.752336502075195, 36.366127014160156, 23.711441040039062, 23.42182159423828, 23.425567626953125, 24.454296112060547, 23.739837646484375, 23.20724105834961, 23.20724105834961, 23.682632446289062, 22.7687931060791, 22.77271842956543, 18.87415313720703, 18.893497467041016, 18.74167823791504, 18.450336456298828, 18.590904235839844, 35.692237854003906, 29.967041015625, 26.397645950317383, 67.66014099121094, 24.01494789123535, 30.1689453125, 114.5758285522461, 114.5758285522461, 212.2144317626953, 129.04547119140625, 79.38793182373047, 212.25439453125, 139.48690795898438, 29.72901153564453, 144.00949096679688, 64.16232299804688, 64.16232299804688, 64.16232299804688, 57.92142105102539, 65.68919372558594, 150.885009765625, 272.9200439453125, 259.4632873535156, 153.8104248046875, 147.176513671875, 217.44985961914062, 79.29602813720703, 57.860633850097656, 1989.9114990234375, 749.8914794921875, 217.71371459960938, 189.9325408935547, 1145.3956298828125, 240.9686279296875, 268.6031188964844, 179.24603271484375, 202.08489990234375, 200.47201538085938, 96.7322998046875, 82.36388397216797, 1841.2923583984375, 571.8690185546875, 825.149658203125, 1269.29443359375, 1551.5887451171875, 735.4830932617188, 769.0628662109375, 9356.974609375, 1541.8427734375, 220.2335968017578, 230.776123046875, 352.01763916015625, 157.8271026611328, 140.1039581298828, 114.24442291259766, 130.3332061767578, 262.49114990234375, 86.75373077392578, 77.00202941894531, 78.90613555908203, 74.68990325927734, 74.67548370361328, 74.05953979492188, 121.0461654663086, 76.27783966064453, 62.70685958862305, 60.09141159057617, 141.05999755859375, 54.8145751953125, 97.1082534790039, 54.43033981323242, 55.57191848754883, 191.6256103515625, 88.40161895751953, 48.08191680908203, 56.47129821777344, 82.31494903564453, 45.083404541015625, 38.676490783691406, 276.1246337890625, 114.64176177978516, 84.51558685302734, 73.8826904296875, 278.5487060546875, 342.2468566894531, 187.82321166992188, 728.0477905273438, 301.9666442871094, 137.48060607910156, 337.8814392089844, 1133.2845458984375, 290.91021728515625, 244.37940979003906, 283.867431640625, 1269.29443359375, 9356.974609375, 1198.4088134765625, 735.4830932617188, 265.5809631347656, 324.1905212402344, 494.3305969238281, 1551.5887451171875, 359.495849609375, 1841.2923583984375, 482.06378173828125, 1145.3956298828125, 938.058837890625, 964.49609375, 1620.4228515625, 780.341064453125, 707.1085205078125, 212.66629028320312, 414.79595947265625, 155.8490447998047, 109.77690887451172, 207.58938598632812, 213.6540985107422, 221.61599731445312, 188.54725646972656, 92.14511108398438, 92.05584716796875, 132.44705200195312, 264.6466064453125, 45.36708450317383, 93.25768280029297, 45.378883361816406, 45.378883361816406, 58.3310546875, 37.315853118896484, 52.176570892333984, 47.977210998535156, 470.0558166503906, 240.12957763671875, 30.00775146484375, 25.2390079498291, 21.517431259155273, 21.434228897094727, 17.17473030090332, 17.17473030090332, 17.187772750854492, 213.8878631591797, 271.6112060546875, 24.25913429260254, 197.15106201171875, 764.2655029296875, 436.05615234375, 807.2535400390625, 243.072021484375, 310.32830810546875, 1989.9114990234375, 535.2608642578125, 309.4794921875, 379.7933349609375, 396.47625732421875, 322.037841796875, 334.48272705078125, 279.9674072265625, 277.21435546875, 188.2632293701172, 161.09999084472656, 259.11492919921875, 192.11180114746094, 143.20713806152344, 141.4381561279297, 139.6536865234375, 136.99038696289062, 136.96310424804688, 140.5079803466797, 136.0989532470703, 138.6904754638672, 144.9422149658203, 141.3837432861328, 156.40650939941406, 227.54823303222656, 175.8550567626953, 376.36553955078125, 209.80519104003906, 155.4348602294922, 149.8190155029297, 289.6997985839844, 86.1452407836914, 163.10430908203125, 87.88037872314453, 212.22325134277344, 1035.6405029296875, 1025.7200927734375, 673.8834838867188, 507.282958984375, 391.79449462890625, 239.0122833251953, 1161.628662109375, 543.8140869140625, 228.51922607421875, 319.88433837890625, 185.88339233398438, 1309.169189453125, 2659.97509765625, 722.401611328125, 1378.9119873046875, 249.95071411132812, 383.70220947265625, 326.09564208984375, 211.4728546142578, 687.9151000976562, 253.4542999267578, 350.4237976074219, 710.0867309570312, 541.18310546875, 533.1256103515625, 1541.8427734375, 449.39459228515625, 399.42022705078125, 511.5037841796875, 1162.0277099609375, 719.1206665039062, 1670.8016357421875, 9356.974609375, 800.5195922851562, 454.3072204589844, 1989.9114990234375, 508.26788330078125, 761.7750244140625, 1620.4228515625, 843.92041015625, 890.7545166015625, 1841.2923583984375, 776.2399291992188, 893.9971923828125, 823.9712524414062, 1000.1943359375, 1351.473876953125, 180.89918518066406, 150.89027404785156, 131.07742309570312, 136.262939453125, 111.69931030273438, 85.75749206542969, 134.77554321289062, 91.31073760986328, 68.10269927978516, 70.82823181152344, 64.59113311767578, 65.91252136230469, 65.9268798828125, 65.21136474609375, 70.26840209960938, 65.61487579345703, 64.19709014892578, 120.65619659423828, 65.82765197753906, 64.02825927734375, 50.69368362426758, 48.438873291015625, 44.11527633666992, 49.05150604248047, 44.12611770629883, 45.71788787841797, 54.797828674316406, 44.067344665527344, 50.41838073730469, 50.69199752807617, 137.542236328125, 199.60562133789062, 116.33658599853516, 156.23809814453125, 230.09999084472656, 83.29025268554688, 65.58673858642578, 166.62014770507812, 133.77626037597656, 97.28779602050781, 577.1826782226562, 152.04966735839844, 203.92233276367188, 272.1694641113281, 93.21437072753906, 214.62132263183594, 294.2966003417969, 218.29051208496094, 131.94400024414062, 99.89181518554688, 187.8907470703125, 262.5095520019531, 988.7021484375, 192.0916290283203, 1289.6298828125, 684.579345703125, 825.149658203125, 466.1002502441406, 1351.473876953125, 938.058837890625, 396.6813659667969, 460.11895751953125, 790.2000732421875, 784.9156494140625, 592.8264770507812, 1006.0184326171875, 547.4164428710938, 474.55755615234375, 490.80462646484375, 1198.4088134765625, 673.4786376953125, 1551.5887451171875, 382.86871337890625, 1145.3956298828125, 557.6119384765625, 845.41650390625, 992.981201171875, 9356.974609375, 749.8914794921875, 1269.29443359375, 964.49609375, 1620.4228515625, 916.514404296875, 701.0286865234375, 1670.8016357421875], \"Category\": [\"Default\", \"Default\", \"Default\", \"Default\", \"Default\", \"Default\", \"Default\", \"Default\", \"Default\", \"Default\", \"Default\", \"Default\", \"Default\", \"Default\", \"Default\", \"Default\", \"Default\", \"Default\", \"Default\", \"Default\", \"Default\", \"Default\", \"Default\", \"Default\", \"Default\", \"Default\", \"Default\", \"Default\", \"Default\", \"Default\", \"Topic1\", \"Topic1\", \"Topic1\", \"Topic1\", \"Topic1\", \"Topic1\", \"Topic1\", \"Topic1\", \"Topic1\", \"Topic1\", \"Topic1\", \"Topic1\", \"Topic1\", \"Topic1\", \"Topic1\", \"Topic1\", \"Topic1\", \"Topic1\", \"Topic1\", \"Topic1\", \"Topic1\", \"Topic1\", \"Topic1\", \"Topic1\", \"Topic1\", \"Topic1\", \"Topic1\", \"Topic1\", \"Topic1\", \"Topic1\", \"Topic1\", \"Topic1\", \"Topic1\", \"Topic1\", \"Topic1\", \"Topic1\", \"Topic1\", \"Topic1\", \"Topic1\", \"Topic1\", \"Topic1\", \"Topic1\", \"Topic1\", \"Topic1\", \"Topic1\", \"Topic1\", \"Topic1\", \"Topic1\", \"Topic1\", \"Topic1\", \"Topic1\", \"Topic1\", \"Topic1\", \"Topic1\", \"Topic1\", \"Topic1\", \"Topic1\", \"Topic1\", \"Topic1\", \"Topic1\", \"Topic1\", \"Topic1\", \"Topic1\", \"Topic1\", \"Topic1\", \"Topic1\", \"Topic1\", \"Topic1\", \"Topic1\", \"Topic1\", \"Topic1\", \"Topic1\", \"Topic1\", \"Topic1\", \"Topic1\", \"Topic1\", \"Topic1\", \"Topic1\", \"Topic1\", \"Topic2\", \"Topic2\", \"Topic2\", \"Topic2\", \"Topic2\", \"Topic2\", \"Topic2\", \"Topic2\", \"Topic2\", \"Topic2\", \"Topic2\", \"Topic2\", \"Topic2\", \"Topic2\", \"Topic2\", \"Topic2\", \"Topic2\", \"Topic2\", \"Topic2\", \"Topic2\", \"Topic2\", \"Topic2\", \"Topic2\", \"Topic2\", \"Topic2\", \"Topic2\", \"Topic2\", \"Topic2\", \"Topic2\", \"Topic2\", \"Topic2\", \"Topic2\", \"Topic2\", \"Topic2\", \"Topic2\", \"Topic2\", \"Topic2\", \"Topic2\", \"Topic2\", \"Topic2\", \"Topic2\", \"Topic2\", \"Topic2\", \"Topic2\", \"Topic2\", \"Topic2\", \"Topic2\", \"Topic2\", \"Topic2\", \"Topic2\", \"Topic2\", \"Topic2\", \"Topic2\", \"Topic2\", \"Topic2\", \"Topic2\", \"Topic2\", \"Topic2\", \"Topic2\", \"Topic2\", \"Topic2\", \"Topic3\", \"Topic3\", \"Topic3\", \"Topic3\", \"Topic3\", \"Topic3\", \"Topic3\", \"Topic3\", \"Topic3\", \"Topic3\", \"Topic3\", \"Topic3\", \"Topic3\", \"Topic3\", \"Topic3\", \"Topic3\", \"Topic3\", \"Topic3\", \"Topic3\", \"Topic3\", \"Topic3\", \"Topic3\", \"Topic3\", \"Topic3\", \"Topic3\", \"Topic3\", \"Topic3\", \"Topic3\", \"Topic3\", \"Topic3\", \"Topic3\", \"Topic3\", \"Topic3\", \"Topic3\", \"Topic3\", \"Topic3\", \"Topic3\", \"Topic3\", \"Topic3\", \"Topic3\", \"Topic3\", \"Topic3\", \"Topic3\", \"Topic3\", \"Topic4\", \"Topic4\", \"Topic4\", \"Topic4\", \"Topic4\", \"Topic4\", \"Topic4\", \"Topic4\", \"Topic4\", \"Topic4\", \"Topic4\", \"Topic4\", \"Topic4\", \"Topic4\", \"Topic4\", \"Topic4\", \"Topic4\", \"Topic4\", \"Topic4\", \"Topic4\", \"Topic4\", \"Topic4\", \"Topic4\", \"Topic4\", \"Topic4\", \"Topic4\", \"Topic4\", \"Topic4\", \"Topic4\", \"Topic4\", \"Topic4\", \"Topic4\", \"Topic4\", \"Topic4\", \"Topic4\", \"Topic4\", \"Topic4\", \"Topic4\", \"Topic4\", \"Topic4\", \"Topic4\", \"Topic4\", \"Topic4\", \"Topic4\", \"Topic4\", \"Topic4\", \"Topic4\", \"Topic4\", \"Topic4\", \"Topic4\", \"Topic4\", \"Topic4\", \"Topic4\", \"Topic4\", \"Topic4\", \"Topic4\", \"Topic4\", \"Topic4\", \"Topic4\", \"Topic4\", \"Topic4\", \"Topic4\", \"Topic4\", \"Topic4\", \"Topic4\", \"Topic4\", \"Topic4\", \"Topic4\", \"Topic4\", \"Topic4\", \"Topic4\", \"Topic4\", \"Topic4\", \"Topic4\", \"Topic4\", \"Topic4\", \"Topic4\", \"Topic5\", \"Topic5\", \"Topic5\", \"Topic5\", \"Topic5\", \"Topic5\", \"Topic5\", \"Topic5\", \"Topic5\", \"Topic5\", \"Topic5\", \"Topic5\", \"Topic5\", \"Topic5\", \"Topic5\", \"Topic5\", \"Topic5\", \"Topic5\", \"Topic5\", \"Topic5\", \"Topic5\", \"Topic5\", \"Topic5\", \"Topic5\", \"Topic5\", \"Topic5\", \"Topic5\", \"Topic5\", \"Topic5\", \"Topic5\", \"Topic5\", \"Topic5\", \"Topic5\", \"Topic5\", \"Topic5\", \"Topic5\", \"Topic5\", \"Topic5\", \"Topic5\", \"Topic5\", \"Topic5\", \"Topic5\", \"Topic5\", \"Topic5\", \"Topic5\", \"Topic5\", \"Topic5\", \"Topic5\", \"Topic5\", \"Topic5\", \"Topic5\", \"Topic5\", \"Topic5\", \"Topic5\", \"Topic5\", \"Topic5\", \"Topic5\", \"Topic5\", \"Topic5\", \"Topic5\", \"Topic5\", \"Topic5\", \"Topic5\", \"Topic5\", \"Topic5\", \"Topic5\", \"Topic5\", \"Topic5\", \"Topic5\", \"Topic5\", \"Topic5\", \"Topic5\", \"Topic5\", \"Topic5\", \"Topic5\", \"Topic5\", \"Topic5\", \"Topic5\", \"Topic5\", \"Topic5\", \"Topic5\", \"Topic5\", \"Topic5\", \"Topic5\", \"Topic5\"], \"logprob\": [30.0, 29.0, 28.0, 27.0, 26.0, 25.0, 24.0, 23.0, 22.0, 21.0, 20.0, 19.0, 18.0, 17.0, 16.0, 15.0, 14.0, 13.0, 12.0, 11.0, 10.0, 9.0, 8.0, 7.0, 6.0, 5.0, 4.0, 3.0, 2.0, 1.0, -5.829899787902832, -6.196000099182129, -6.322400093078613, -6.312900066375732, -6.284299850463867, -6.4558000564575195, -6.216899871826172, -6.602099895477295, -6.609499931335449, -6.609899997711182, -6.681099891662598, -6.757800102233887, -6.095600128173828, -6.792300224304199, -6.562300205230713, -6.991199970245361, -7.004000186920166, -7.004000186920166, -6.961100101470947, -6.991000175476074, -7.0142998695373535, -7.0142998695373535, -6.995500087738037, -7.036200046539307, -7.036200046539307, -7.231599807739258, -7.231200218200684, -7.239299774169922, -7.255099773406982, -7.247600078582764, -6.598800182342529, -6.7729997634887695, -6.899799823760986, -5.975399971008301, -6.994100093841553, -6.779600143432617, -5.539599895477295, -5.539599895477295, -4.9822998046875, -5.465099811553955, -5.924300193786621, -5.076300144195557, -5.447000026702881, -6.79610013961792, -5.424699783325195, -6.1269001960754395, -6.1269001960754395, -6.1269001960754395, -6.221199989318848, -6.119200229644775, -5.436999797821045, -4.958000183105469, -5.008999824523926, -5.434700012207031, -5.540900230407715, -5.2881999015808105, -6.007599830627441, -6.2322001457214355, -3.7906999588012695, -4.580399990081787, -5.399099826812744, -5.487199783325195, -4.481500148773193, -5.43720006942749, -5.411499977111816, -5.622600078582764, -5.576300144195557, -5.583199977874756, -5.932499885559082, -6.013199806213379, -4.92549991607666, -5.340700149536133, -5.304999828338623, -5.3003997802734375, -5.364999771118164, -5.547100067138672, -5.541900157928467, -5.24370002746582, -5.567599773406982, -5.719399929046631, -5.672699928283691, -5.251699924468994, -6.055699825286865, -6.175099849700928, -6.379499912261963, -6.24970006942749, -5.5503997802734375, -6.657599925994873, -6.777400016784668, -6.753499984741211, -6.8084001541137695, -6.808899879455566, -6.817399978637695, -6.327499866485596, -6.789899826049805, -6.986299991607666, -7.029300212860107, -6.176400184631348, -7.122600078582764, -6.55079984664917, -7.129899978637695, -7.110000133514404, -5.872600078582764, -6.648200035095215, -7.257500171661377, -7.098100185394287, -6.72160005569458, -7.32420015335083, -7.478700160980225, -5.520100116729736, -6.399099826812744, -6.701700210571289, -6.834400177001953, -5.539599895477295, -5.344099998474121, -5.9309000968933105, -4.6859002113342285, -5.541399955749512, -6.274899959564209, -5.497900009155273, -4.531499862670898, -5.668799877166748, -5.815100193023682, -5.703700065612793, -4.501800060272217, -2.8949999809265137, -4.624199867248535, -5.019100189208984, -5.831500053405762, -5.710599899291992, -5.518700122833252, -4.8968000411987305, -5.750899791717529, -4.913400173187256, -5.629899978637695, -5.331399917602539, -5.458199977874756, -5.6392998695373535, -5.617099761962891, -5.766200065612793, -2.894200086593628, -4.098499774932861, -3.4314000606536865, -4.411099910736084, -4.762199878692627, -4.126399993896484, -4.101099967956543, -4.066999912261963, -4.230599880218506, -4.946800231933594, -4.94789981842041, -4.585999965667725, -3.8954999446868896, -5.6595001220703125, -4.9390997886657715, -5.659599781036377, -5.659599781036377, -5.40880012512207, -5.859899997711182, -5.525100231170654, -5.610199928283691, -3.3282999992370605, -4.002299785614014, -6.09060001373291, -6.264599800109863, -6.433899879455566, -6.440999984741211, -6.668499946594238, -6.668499946594238, -6.669000148773193, -4.162099838256836, -3.9316000938415527, -6.327700138092041, -4.429900169372559, -3.273400068283081, -3.7697999477386475, -3.233299970626831, -4.426300048828125, -4.743599891662598, -4.165599822998047, -4.813600063323975, -5.10290002822876, -5.078400135040283, -5.134500026702881, -6.551599979400635, -6.5142998695373535, -6.692299842834473, -6.702400207519531, -7.090700149536133, -7.246600151062012, -6.771599769592285, -7.070799827575684, -7.364799976348877, -7.377200126647949, -7.389999866485596, -7.409299850463867, -7.4095001220703125, -7.383999824523926, -7.415900230407715, -7.396999835968018, -7.353000164031982, -7.377900123596191, -7.277299880981445, -6.902400016784668, -7.160399913787842, -6.399700164794922, -6.984600067138672, -7.285099983215332, -7.321899890899658, -6.662600040435791, -7.8755998611450195, -7.237299919128418, -7.855999946594238, -6.974400043487549, -5.392099857330322, -5.404799938201904, -5.823400020599365, -6.10860013961792, -6.366099834442139, -6.857900142669678, -5.296000003814697, -6.047599792480469, -6.902699947357178, -6.575500011444092, -7.109000205993652, -5.196499824523926, -4.513299942016602, -5.779600143432617, -5.159999847412109, -6.820700168609619, -6.406799793243408, -6.566999912261963, -6.9842000007629395, -5.864500045776367, -6.81220006942749, -6.511499881744385, -5.868199825286865, -6.116199970245361, -6.130099773406982, -5.1930999755859375, -6.29580020904541, -6.403600215911865, -6.193699836730957, -5.484499931335449, -5.90339994430542, -5.253300189971924, -3.898400068283081, -5.85099983215332, -6.307400226593018, -5.207399845123291, -6.235099792480469, -5.974599838256836, -5.486999988555908, -5.91379976272583, -5.9054999351501465, -5.5, -6.024700164794922, -5.97160005569458, -6.068999767303467, -6.0543999671936035, -6.045599937438965, -6.432000160217285, -6.615200042724609, -6.75600004196167, -6.718699932098389, -6.918000221252441, -7.18310022354126, -6.7322001457214355, -7.121799945831299, -7.415900230407715, -7.377399921417236, -7.469600200653076, -7.4496002197265625, -7.449399948120117, -7.460400104522705, -7.385900020599365, -7.454500198364258, -7.477099895477295, -6.84630012512207, -7.452899932861328, -7.481299877166748, -7.715799808502197, -7.76200008392334, -7.856400012969971, -7.750999927520752, -7.856900215148926, -7.822000026702881, -7.641200065612793, -7.859499931335449, -7.72599983215332, -7.72130012512207, -6.724999904632568, -6.358399868011475, -6.894800186157227, -6.603099822998047, -6.225500106811523, -7.228000164031982, -7.465400218963623, -6.5543999671936035, -6.775100231170654, -7.0858001708984375, -5.394199848175049, -6.668099880218506, -6.401400089263916, -6.143400192260742, -7.129499912261963, -6.373300075531006, -6.088900089263916, -6.375100135803223, -6.828199863433838, -7.076900005340576, -6.5254998207092285, -6.242400169372559, -5.117199897766113, -6.52209997177124, -4.9633002281188965, -5.491499900817871, -5.344699859619141, -5.887599945068359, -5.0904998779296875, -5.420199871063232, -6.031599998474121, -5.931600093841553, -5.571100234985352, -5.588799953460693, -5.781599998474121, -5.45419979095459, -5.845900058746338, -5.937699794769287, -5.922699928283691, -5.386199951171875, -5.743000030517578, -5.277599811553955, -6.086599826812744, -5.538300037384033, -5.927800178527832, -5.735799789428711, -5.662600040435791, -4.7505998611450195, -5.830699920654297, -5.683499813079834, -5.780900001525879, -5.639800071716309, -5.826700210571289, -5.906099796295166, -5.73360013961792], \"loglift\": [30.0, 29.0, 28.0, 27.0, 26.0, 25.0, 24.0, 23.0, 22.0, 21.0, 20.0, 19.0, 18.0, 17.0, 16.0, 15.0, 14.0, 13.0, 12.0, 11.0, 10.0, 9.0, 8.0, 7.0, 6.0, 5.0, 4.0, 3.0, 2.0, 1.0, 2.869800090789795, 2.8622000217437744, 2.8610999584198, 2.859800100326538, 2.858799934387207, 2.857800006866455, 2.8573999404907227, 2.8536999225616455, 2.8536999225616455, 2.8529000282287598, 2.849299907684326, 2.847899913787842, 2.84689998626709, 2.846100091934204, 2.841099977493286, 2.839900016784668, 2.839400053024292, 2.839200019836426, 2.839099884033203, 2.838900089263916, 2.8382999897003174, 2.8382999897003174, 2.8368000984191895, 2.8355000019073486, 2.8352999687194824, 2.8276000022888184, 2.8271000385284424, 2.8269999027252197, 2.8268001079559326, 2.8268001079559326, 2.8232998847961426, 2.8239998817443848, 2.8239998817443848, 2.8071999549865723, 2.824199914932251, 2.8106000423431396, 2.716200113296509, 2.716200113296509, 2.657099962234497, 2.671799898147583, 2.6984000205993652, 2.562999963760376, 2.611999988555908, 2.808799982070923, 2.6024999618530273, 2.708699941635132, 2.708699941635132, 2.708699941635132, 2.7167999744415283, 2.6928999423980713, 2.5434999465942383, 2.429800033569336, 2.4293999671936035, 2.526599884033203, 2.4644999504089355, 2.326900005340576, 2.616300106048584, 2.7067999839782715, 1.6104999780654907, 1.7968000173568726, 2.2147998809814453, 2.263200044631958, 1.472000002861023, 2.075200080871582, 1.992400050163269, 2.185699939727783, 2.1120998859405518, 2.1131999492645264, 2.4925999641418457, 2.572700023651123, 0.5533000230789185, 1.3075000047683716, 0.9764999747276306, 0.5504999756813049, 0.2849999964237213, 0.849399983882904, 0.8100000023841858, -1.3904999494552612, 0.08869999647140503, 1.8830000162124634, 1.8828999996185303, 1.881600022315979, 1.8798999786376953, 1.8796000480651855, 1.8791999816894531, 1.8772000074386597, 1.8763999938964844, 1.8763999938964844, 1.8759000301361084, 1.8753000497817993, 1.8753000497817993, 1.875, 1.8747999668121338, 1.8733999729156494, 1.8727999925613403, 1.8723000288009644, 1.871899962425232, 1.871500015258789, 1.8704999685287476, 1.8703999519348145, 1.8702000379562378, 1.8693000078201294, 1.868899941444397, 1.8669999837875366, 1.8667000532150269, 1.8652000427246094, 1.86489999294281, 1.864300012588501, 1.8631999492645264, 1.8560999631881714, 1.8560999631881714, 1.8583999872207642, 1.860200047492981, 1.8279000520706177, 1.8173999786376953, 1.8306000232696533, 1.7208000421524048, 1.745300054550171, 1.798699975013733, 1.6763999462127686, 1.4327000379562378, 1.6552000045776367, 1.6832000017166138, 1.6447999477386475, 1.3490999937057495, 0.9581999778747559, 1.2841999530792236, 1.377500057220459, 1.5836000442504883, 1.5051000118255615, 1.2750999927520752, 0.7533000111579895, 1.3615000247955322, 0.5654000043869019, 1.1891000270843506, 0.6220999956130981, 0.6949999928474426, 0.4862000048160553, -0.010400000028312206, 0.5710999965667725, 3.5416998863220215, 3.538800001144409, 3.537899971008301, 3.537100076675415, 3.536400079727173, 3.535099983215332, 3.531599998474121, 3.529099941253662, 3.527100086212158, 3.526900053024292, 3.5267999172210693, 3.524899959564209, 3.523200035095215, 3.5227999687194824, 3.522599935531616, 3.52239990234375, 3.52239990234375, 3.5220999717712402, 3.5178000926971436, 3.517400026321411, 3.5160999298095703, 3.515899896621704, 3.5136001110076904, 3.505000114440918, 3.5041000843048096, 3.49429988861084, 3.4911000728607178, 3.485100030899048, 3.485100030899048, 3.4839000701904297, 3.4695000648498535, 3.4611001014709473, 3.480600118637085, 3.2832000255584717, 3.084700107574463, 3.1494998931884766, 3.0701000690460205, 3.077399969100952, 2.5157999992370605, 1.2355999946594238, 1.9006999731063843, 2.1591999530792236, 1.979099988937378, 1.8798999786376953, 0.670799970626831, 0.670199990272522, 0.6700999736785889, 0.6699000000953674, 0.6685000061988831, 0.66839998960495, 0.6682000160217285, 0.6682000160217285, 0.6679999828338623, 0.6679999828338623, 0.667900025844574, 0.667900025844574, 0.6678000092506409, 0.6678000092506409, 0.6678000092506409, 0.6678000092506409, 0.6678000092506409, 0.6675999760627747, 0.6672999858856201, 0.6672999858856201, 0.6669999957084656, 0.6668000221252441, 0.6661999821662903, 0.6657000184059143, 0.6657000184059143, 0.6656000018119812, 0.6654999852180481, 0.6654000282287598, 0.6650999784469604, 0.6650000214576721, 0.6621999740600586, 0.6590999960899353, 0.6606000065803528, 0.6593999862670898, 0.6601999998092651, 0.6626999974250793, 0.6434000134468079, 0.6509000062942505, 0.6626999974250793, 0.6535999774932861, 0.6629999876022339, 0.6233999729156494, 0.5976999998092651, 0.6348999738693237, 0.6079999804496765, 0.6550999879837036, 0.6403999924659729, 0.642799973487854, 0.6588000059127808, 0.5989000201225281, 0.6496999859809875, 0.6263999938964844, 0.5634999871253967, 0.5871000289916992, 0.5881999731063843, 0.46320000290870667, 0.5934000015258789, 0.6033999919891357, 0.5659999847412109, 0.4546000063419342, 0.5156999826431274, 0.32269999384880066, -0.04520000144839287, 0.4607999920845032, 0.570900022983551, 0.193900004029274, 0.531000018119812, 0.38679999113082886, 0.11969999969005585, 0.3452000021934509, 0.2994999885559082, -0.0210999995470047, 0.31790000200271606, 0.2298000007867813, 0.21400000154972076, 0.034699998795986176, -0.2574999928474426, 1.3672000169754028, 1.3653000593185425, 1.3652000427246094, 1.363800048828125, 1.3631999492645264, 1.3624000549316406, 1.361299991607666, 1.3609999418258667, 1.360200047492981, 1.3594000339508057, 1.3594000339508057, 1.3590999841690063, 1.3590999841690063, 1.3589999675750732, 1.3588000535964966, 1.3587000370025635, 1.3580000400543213, 1.357800006866455, 1.357100009918213, 1.3564000129699707, 1.3554999828338623, 1.354699969291687, 1.3538000583648682, 1.3531999588012695, 1.3530999422073364, 1.3525999784469604, 1.3522000312805176, 1.3517999649047852, 1.3507000207901, 1.350000023841858, 1.3481999635696411, 1.3423000574111938, 1.3458000421524048, 1.3425999879837036, 1.3330999612808228, 1.3466999530792236, 1.3482999801635742, 1.3270000219345093, 1.3257999420166016, 1.3335000276565552, 1.2446999549865723, 1.3047000169754028, 1.277999997138977, 1.2472000122070312, 1.3325999975204468, 1.2548999786376953, 1.2236000299453735, 1.2360999584197998, 1.2864999771118164, 1.315999984741211, 1.235700011253357, 1.1842999458312988, 0.9833999872207642, 1.2170000076293945, 0.8716999888420105, 0.9768000245094299, 0.9368000030517578, 0.9650999903678894, 0.6976000070571899, 0.7330999970436096, 0.9824000000953674, 0.9340000152587891, 0.753600001335144, 0.7426999807357788, 0.8305000066757202, 0.6291000247001648, 0.8458999991416931, 0.8970000147819519, 0.8783000111579895, 0.5220999717712402, 0.741599977016449, 0.3723999857902527, 0.9627000093460083, 0.41530001163482666, 0.7455999851226807, 0.521399974822998, 0.43380001187324524, -0.8974000215530396, 0.5464000105857849, 0.1673000007867813, 0.34459999203681946, -0.03319999948143959, 0.3497999906539917, 0.5383999943733215, -0.15760000050067902]}, \"token.table\": {\"Topic\": [1, 4, 1, 2, 4, 5, 4, 5, 4, 5, 4, 2, 4, 5, 3, 4, 5, 2, 4, 1, 2, 3, 4, 5, 2, 3, 2, 3, 4, 5, 5, 1, 2, 4, 5, 2, 4, 5, 4, 4, 5, 4, 2, 2, 2, 4, 5, 4, 5, 2, 4, 1, 4, 1, 1, 2, 4, 2, 3, 1, 2, 4, 5, 2, 4, 5, 3, 2, 3, 4, 5, 2, 3, 4, 2, 3, 5, 4, 5, 1, 2, 4, 5, 4, 5, 4, 5, 1, 2, 4, 5, 2, 3, 2, 3, 2, 3, 4, 5, 2, 4, 5, 4, 5, 2, 2, 3, 4, 5, 4, 2, 3, 4, 5, 1, 2, 3, 4, 5, 2, 3, 2, 4, 5, 1, 2, 4, 5, 2, 4, 5, 1, 3, 4, 5, 1, 2, 3, 4, 5, 3, 1, 4, 1, 2, 4, 5, 2, 4, 5, 1, 2, 3, 4, 5, 4, 5, 1, 4, 4, 5, 1, 1, 2, 3, 4, 5, 2, 4, 4, 5, 4, 5, 1, 4, 2, 4, 5, 1, 4, 5, 1, 2, 4, 1, 2, 4, 5, 4, 1, 2, 4, 5, 5, 1, 2, 3, 4, 5, 2, 4, 5, 1, 4, 1, 4, 1, 5, 1, 2, 4, 5, 1, 2, 3, 4, 5, 1, 2, 4, 5, 2, 4, 2, 1, 4, 1, 2, 3, 4, 5, 2, 4, 5, 1, 2, 4, 5, 2, 2, 4, 5, 4, 5, 1, 1, 2, 3, 4, 5, 2, 4, 5, 3, 1, 2, 4, 5, 1, 2, 4, 5, 1, 2, 4, 5, 3, 2, 3, 4, 5, 1, 4, 2, 4, 1, 2, 4, 5, 1, 2, 4, 5, 4, 5, 2, 4, 5, 1, 2, 3, 4, 5, 2, 3, 4, 2, 4, 5, 1, 2, 4, 5, 5, 1, 1, 2, 3, 4, 2, 1, 2, 3, 4, 5, 1, 4, 1, 4, 5, 2, 3, 4, 4, 1, 2, 3, 4, 5, 2, 3, 2, 4, 4, 5, 4, 4, 1, 2, 4, 5, 5, 2, 4, 5, 1, 2, 4, 5, 2, 4, 5, 1, 2, 4, 5, 1, 2, 4, 5, 1, 2, 4, 5, 1, 2, 4, 5, 2, 1, 2, 4, 5, 1, 2, 4, 5, 4, 5, 1, 2, 3, 4, 5, 1, 1, 1, 4, 4, 5, 1, 2, 4, 5, 2, 4, 5, 2, 4, 1, 2, 3, 4, 5, 1, 3, 4, 5, 1, 1, 4, 5, 1, 2, 4, 5, 1, 4, 4, 5, 1, 2, 4, 1, 4, 1, 2, 4, 5, 1, 2, 3, 4, 5, 1, 2, 3, 4, 5, 3, 1, 2, 4, 5, 2, 4, 5, 5, 1, 2, 4, 5, 1, 2, 3, 4, 5, 1, 4, 5, 2, 4, 5, 1, 2, 4, 5, 2, 3, 4, 5, 2, 1, 2, 3, 4, 5, 2, 2, 3, 4, 5, 1, 4, 5, 2, 3, 4, 5, 2, 4, 5, 1, 1, 2, 4, 5, 2, 3, 1, 4, 1, 4, 5, 1, 2, 4, 5, 5, 1, 2, 3, 4, 5, 5, 4, 2, 1, 2, 3, 4, 5, 1, 4, 1, 4, 5, 4, 1, 2, 4, 5, 1, 2, 4, 5, 1, 2, 4, 5, 1, 2, 4, 4, 5, 2, 4, 4, 5, 1, 4, 2, 4, 5, 1, 2, 4, 5, 2, 3, 4, 5, 1, 1, 2, 4, 5, 2, 4, 2, 4, 5, 1, 1, 2, 4, 5, 1, 2, 3, 4, 5, 1, 2, 4, 5, 4, 1, 2, 4, 5, 1, 4, 1, 2, 3, 4, 5, 1, 2, 4, 5, 2, 4, 5, 1, 2, 4, 5, 1, 2, 3, 4, 5, 4, 5, 2, 1, 4, 5, 2, 4, 3, 1, 2, 4, 5, 3, 1, 4, 5, 1, 2, 4, 5, 1, 4, 4, 5, 4, 4, 5, 1, 2, 4, 5, 4, 1, 2, 3, 4, 5, 1, 4, 1, 2, 4, 5, 2, 4, 1, 3, 4, 5, 1, 2, 4, 5, 1, 2, 4, 5, 1, 2, 4, 5, 1, 2, 3, 2, 3, 4, 1, 3, 4, 5, 2, 4, 5, 2, 4, 5, 1, 2, 4, 5, 4, 5, 2, 4, 5, 1, 2, 3, 4, 5, 1, 2, 4, 5, 2, 4, 5, 5, 4, 5, 1, 4, 5, 2, 3, 4, 5, 5, 1, 2, 3, 4, 5, 2, 4, 5, 1, 4, 2, 3, 4, 5, 3, 3, 3, 1, 2, 4, 5, 1, 4, 5, 1, 4, 1, 2, 4, 5, 4, 5, 1, 2, 3, 4, 5, 1, 2, 3, 4, 5, 1, 2, 4, 5, 1, 2, 3, 4, 5, 4, 2, 4, 5, 1, 2, 3, 4, 5, 2, 3, 4, 5, 1, 2, 3, 4, 5, 1, 2, 3, 4, 5, 5, 4, 3, 4, 4, 1, 2, 4, 5, 2, 5, 2, 3, 4, 1, 5, 1, 4, 5, 1, 2, 4, 5, 1, 4, 1, 5, 2, 3, 4, 4, 1, 2, 2, 1, 2, 3, 4, 5, 1, 4, 4, 5, 1, 4, 1, 2, 4, 5, 2, 4, 5, 5], \"Freq\": [0.9311242699623108, 0.059119001030921936, 0.02285631187260151, 0.007618770468980074, 0.14094725251197815, 0.8304459452629089, 0.007419743575155735, 0.9868259429931641, 0.997285783290863, 0.9911670684814453, 0.9985535740852356, 0.0061331698670983315, 0.9690408706665039, 0.024532679468393326, 0.9921647906303406, 0.004702202510088682, 0.004702202510088682, 0.9887275695800781, 0.015947218984365463, 0.03548546880483627, 0.11118780076503754, 0.0059142448008060455, 0.41991135478019714, 0.4270084500312805, 0.041221585124731064, 0.948096513748169, 0.9705762267112732, 0.014486212283372879, 0.01086465921252966, 0.0072431061416864395, 0.9861555695533752, 0.9536851644515991, 0.008691873401403427, 0.030421556904911995, 0.9604520201683044, 0.005223722662776709, 0.3317064046859741, 0.6634128093719482, 0.9929681420326233, 0.01719149574637413, 0.9713195562362671, 0.9983140230178833, 0.9825090169906616, 0.9869869947433472, 0.0019498496549203992, 0.9866239428520203, 0.010724172927439213, 0.04485100880265236, 0.9568215012550354, 0.006674719974398613, 0.9945333003997803, 0.02866806462407112, 0.9668956398963928, 0.9561775922775269, 0.9629589319229126, 0.989770770072937, 0.007672641891986132, 0.01916569098830223, 0.9774501919746399, 0.007281807251274586, 0.22816330194473267, 0.6323035955429077, 0.1322861611843109, 0.9739460945129395, 0.01770811155438423, 0.9908480644226074, 0.992922842502594, 0.015216757543385029, 0.7659101486206055, 0.020289011299610138, 0.19274559617042542, 0.012493254616856575, 0.9661450386047363, 0.016657672822475433, 0.9702352285385132, 0.011832136660814285, 0.011832136660814285, 0.008952606469392776, 0.9937393665313721, 0.9405300617218018, 0.0971655622124672, 0.7204470634460449, 0.1812967211008072, 0.02560194954276085, 0.972874104976654, 0.02038673311471939, 0.9785632491111755, 0.03343435749411583, 0.00581467105075717, 0.9288936853408813, 0.031980689615011215, 0.010862970724701881, 0.9776673913002014, 0.010852447710931301, 0.9767202734947205, 0.23523473739624023, 0.35768571496009827, 0.27068108320236206, 0.13856293261051178, 0.9782896637916565, 0.010297785513103008, 0.010297785513103008, 0.018248898908495903, 0.9854404926300049, 0.9909543991088867, 0.009173130616545677, 0.671931803226471, 0.31647300720214844, 0.0022932826541364193, 0.9967772960662842, 0.09873616695404053, 0.6253290772438049, 0.23038439452648163, 0.04114006832242012, 0.206340953707695, 0.04021900147199631, 0.045464955270290375, 0.3392385244369507, 0.36721694469451904, 0.020843228325247765, 0.979631781578064, 0.7855779528617859, 0.1902296394109726, 0.024659398943185806, 0.011278301477432251, 0.012782074511051178, 0.9278282523155212, 0.04812075197696686, 0.08662768453359604, 0.03291852027177811, 0.8801372647285461, 0.011254383251070976, 0.022508766502141953, 0.919107973575592, 0.04689326509833336, 0.022818557918071747, 0.4978594183921814, 0.00414882879704237, 0.07467891275882721, 0.40243637561798096, 0.9696139693260193, 0.9470541477203369, 0.03788216412067413, 0.007941517978906631, 0.6344390511512756, 0.21530339121818542, 0.14206494390964508, 0.011836453340947628, 0.9784801602363586, 0.011836453340947628, 0.05007011815905571, 0.589714765548706, 0.0027816733345389366, 0.30042070150375366, 0.05285179242491722, 0.991395890712738, 0.004766326397657394, 0.8466008901596069, 0.14837335050106049, 0.007338752504438162, 0.9907315969467163, 0.9734786152839661, 0.0889827087521553, 0.13997279107570648, 0.013997280038893223, 0.5278974175453186, 0.22795569896697998, 0.006131045985966921, 0.9932294487953186, 0.996544599533081, 0.9813528656959534, 0.021811481565237045, 0.9742462038993835, 0.9688355922698975, 0.9950214624404907, 0.8460983037948608, 0.06730327755212784, 0.08515924215316772, 0.9712757468223572, 0.017344210296869278, 0.017344210296869278, 0.9794746041297913, 0.9682335257530212, 0.026168474927544594, 0.49652424454689026, 0.044631391763687134, 0.15063095092773438, 0.30684080719947815, 0.9956194162368774, 0.060087092220783234, 0.0050072576850652695, 0.9338535666465759, 0.0050072576850652695, 0.9814240336418152, 0.09721432626247406, 0.26666054129600525, 0.009775742888450623, 0.4996490478515625, 0.12654155492782593, 0.004728739149868488, 0.9883065223693848, 0.009457478299736977, 0.8416154384613037, 0.1558547019958496, 0.9525880813598633, 0.05603459104895592, 0.9479799866676331, 0.9874269962310791, 0.0043512568809092045, 0.05439070984721184, 0.936970591545105, 0.0043512568809092045, 0.06809991598129272, 0.05548882111907005, 0.18916644155979156, 0.264833003282547, 0.4212105870246887, 0.06096600741147995, 0.002594298217445612, 0.8107181787490845, 0.1251748949289322, 0.9897084832191467, 0.017994699999690056, 0.9907631278038025, 0.8220530152320862, 0.16745524108409882, 0.01389337982982397, 0.39478573203086853, 0.00021374430798459798, 0.48776450753211975, 0.1033453717827797, 0.7380046844482422, 0.00753066036850214, 0.2560424506664276, 0.01001975778490305, 0.0200395155698061, 0.005009878892451525, 0.9719164967536926, 0.9737216234207153, 0.02002166025340557, 0.03003249131143093, 0.9410180449485779, 0.006627332419157028, 0.9940998554229736, 0.980293869972229, 0.07372430711984634, 0.09215538203716278, 0.20800785720348358, 0.5029050707817078, 0.12375151365995407, 0.9164928793907166, 0.06546378135681152, 0.021821260452270508, 0.9664169549942017, 0.4440411925315857, 0.14939704537391663, 0.14939704537391663, 0.2572948932647705, 0.5144370198249817, 0.04593187943100929, 0.2939640283584595, 0.14238882064819336, 0.03115302324295044, 0.00667564757168293, 0.9234645962715149, 0.04005388543009758, 0.9330869913101196, 0.010722977109253407, 0.9757909178733826, 0.010722977109253407, 0.010722977109253407, 0.8295795917510986, 0.155546173453331, 0.9966369271278381, 0.004333204124122858, 0.009689901024103165, 0.024916887283325195, 0.9634529948234558, 0.0027685430832207203, 0.05562848225235939, 0.020228538662195206, 0.24577674269676208, 0.6776560544967651, 0.01972632296383381, 0.9863161444664001, 0.004903827793896198, 0.0833650752902031, 0.9121119379997253, 0.02420642226934433, 0.10446982085704803, 0.0076441336423158646, 0.3312457799911499, 0.5325412750244141, 0.00935069378465414, 0.9257187247276306, 0.065454863011837, 0.9810796976089478, 0.010437018238008022, 0.005218509119004011, 0.06110955402255058, 0.13486246764659882, 0.1791142076253891, 0.6216316819190979, 0.9819492101669312, 0.9479799866676331, 0.963325023651123, 0.011335872113704681, 0.9748849868774414, 0.011335872113704681, 0.9851394295692444, 0.0066755181178450584, 0.5465580821037292, 0.0008344397647306323, 0.017523234710097313, 0.42723315954208374, 0.9749901294708252, 0.021195437759160995, 0.7091493010520935, 0.2849852442741394, 0.006627563387155533, 0.015911130234599113, 0.9811863899230957, 0.005303710233420134, 0.9974009394645691, 0.27991193532943726, 0.0010050698183476925, 0.09899938106536865, 0.6196255683898926, 0.0005025349091738462, 0.009634403511881828, 0.9875264167785645, 0.9885162711143494, 0.01267328578978777, 0.012006206437945366, 0.9725027680397034, 0.9942127466201782, 0.9932900667190552, 0.02947429195046425, 0.26783159375190735, 0.38829174637794495, 0.3139652907848358, 0.9842974543571472, 0.9405895471572876, 0.046670474112033844, 0.010770109482109547, 0.005104716867208481, 0.0025523584336042404, 0.9877627491950989, 0.005104716867208481, 0.002656991360709071, 0.9937148094177246, 0.002656991360709071, 0.40952613949775696, 0.011168895289301872, 0.3313438892364502, 0.24943865835666656, 0.03726908937096596, 0.9423755407333374, 0.01597246713936329, 0.005324155557900667, 0.11613582819700241, 0.150772824883461, 0.12428570538759232, 0.6112411618232727, 0.006576798390597105, 0.05261438712477684, 0.006576798390597105, 0.9339053630828857, 0.9832475781440735, 0.4602026045322418, 0.11381354928016663, 0.004948415327817202, 0.4206152856349945, 0.7692692875862122, 0.03783291578292847, 0.012610971927642822, 0.1765536069869995, 0.019834036007523537, 0.9718677997589111, 0.06289584189653397, 0.30381888151168823, 0.0021320623345673084, 0.10340502858161926, 0.5276854634284973, 0.9699958562850952, 0.9711758494377136, 0.9281066656112671, 0.06629333645105362, 0.9841940402984619, 0.01600315421819687, 0.03478306159377098, 0.12624962627887726, 0.7008142471313477, 0.13784398138523102, 0.009856431744992733, 0.9876145124435425, 0.003942572977393866, 0.9759688973426819, 0.022181110456585884, 0.0746646374464035, 0.053151097148656845, 0.0189825352281332, 0.31384456157684326, 0.5391039848327637, 0.9762307405471802, 0.9647374153137207, 0.03218387812376022, 0.9655163884162903, 0.9604262709617615, 0.102506123483181, 0.004659369122236967, 0.889939546585083, 0.9213924407958984, 0.8143075704574585, 0.14321991801261902, 0.04091997817158699, 0.9343598484992981, 0.0333699956536293, 0.9889758825302124, 0.008751998655498028, 0.7284746170043945, 0.21854238212108612, 0.036423731595277786, 0.8459737300872803, 0.13811816275119781, 0.014990263618528843, 0.0449707917869091, 0.8094742298126221, 0.12991562485694885, 0.13052645325660706, 0.6009655594825745, 0.012236854992806911, 0.1577194631099701, 0.09925448894500732, 0.01050178799778223, 0.1916576325893402, 0.01050178799778223, 0.750877857208252, 0.036756258457899094, 0.9308943152427673, 0.020787592977285385, 0.01336345262825489, 0.4335697889328003, 0.5315684676170349, 0.19906316697597504, 0.26541754603385925, 0.5344218611717224, 0.9757792353630066, 0.11691281944513321, 0.12970015406608582, 0.16440865397453308, 0.590044379234314, 0.0007754162652418017, 0.09537620097398758, 0.012406660243868828, 0.28457778692245483, 0.606375515460968, 0.805917501449585, 0.17823174595832825, 0.0077492063865065575, 0.974517822265625, 0.01353496965020895, 0.01353496965020895, 0.014515351504087448, 0.24676097929477692, 0.38154637813568115, 0.35769975185394287, 0.04887549206614494, 0.00782007910311222, 0.8993090987205505, 0.04301043599843979, 0.977498471736908, 0.24358396232128143, 0.2819986343383789, 0.007857547141611576, 0.08206771314144135, 0.3841467499732971, 0.9913118481636047, 0.0009655860485509038, 0.003862344194203615, 0.989725649356842, 0.004827930126339197, 0.05497261509299278, 0.06871576607227325, 0.8749807476997375, 0.010467566549777985, 0.6293624639511108, 0.3585141599178314, 0.001308445818722248, 0.004451808054000139, 0.9883013963699341, 0.007419680245220661, 0.9527087211608887, 0.003311624052003026, 0.8676455020904541, 0.029804617166519165, 0.09603709727525711, 0.006416465155780315, 0.9881356954574585, 0.4639051556587219, 0.5337403416633606, 0.6359280943870544, 0.3622863292694092, 0.0038541099056601524, 0.014607510529458523, 0.0715768039226532, 0.2410239279270172, 0.6734062433242798, 0.9839405417442322, 0.03344674035906792, 0.12759312987327576, 0.6206228733062744, 0.1139666736125946, 0.10529529303312302, 0.9906290173530579, 0.9969021081924438, 0.9856933951377869, 0.010773271322250366, 0.06523814797401428, 0.0029925755225121975, 0.7044522762298584, 0.2166624665260315, 0.8416154384613037, 0.1558547019958496, 0.70216304063797, 0.2925679385662079, 0.0065015098080039024, 0.9899820685386658, 0.0380314402282238, 0.07382573187351227, 0.6420601606369019, 0.24720434844493866, 0.012604574672877789, 0.13108758628368378, 0.17898496985435486, 0.6781261563301086, 0.33738213777542114, 0.2000289410352707, 0.024003474041819572, 0.4373966157436371, 0.06428108364343643, 0.9320757389068604, 0.002921867650002241, 0.008288011886179447, 0.9862734079360962, 0.9891073703765869, 0.008753162808716297, 0.022662315517663956, 0.9744795560836792, 0.9660682678222656, 0.043912190943956375, 0.004183885175734758, 0.9915808439254761, 0.004183885175734758, 0.036010049283504486, 0.00600167503580451, 0.00600167503580451, 0.954266369342804, 0.059129711240530014, 0.016630230471491814, 0.918358325958252, 0.005543410312384367, 0.9391447901725769, 0.047764357179403305, 0.0036741814110428095, 0.0698094442486763, 0.881803572177887, 0.9841448664665222, 0.011312009766697884, 0.01027878187596798, 0.03083634376525879, 0.9662054777145386, 0.9682154059410095, 0.0014082787092775106, 0.06900565326213837, 0.89707350730896, 0.03239040821790695, 0.07411757856607437, 0.3216058313846588, 0.01869051903486252, 0.2171967327594757, 0.36800989508628845, 0.09690423309803009, 0.5837888717651367, 0.019695982336997986, 0.2993789315223694, 0.9927703738212585, 0.029820527881383896, 0.038766685873270035, 0.4552600383758545, 0.47514039278030396, 0.9577368497848511, 0.04164073243737221, 0.00785850640386343, 0.00785850640386343, 0.02806609310209751, 0.6881806254386902, 0.2671892046928406, 0.04547383636236191, 0.007578972727060318, 0.030315890908241272, 0.9170557260513306, 0.9718769192695618, 0.012148461304605007, 0.012148461304605007, 0.0021733511239290237, 0.2325485646724701, 0.11953430622816086, 0.6454852223396301, 0.03218191862106323, 0.0386183001101017, 0.0386183001101017, 0.22527343034744263, 0.665092945098877, 0.9941325783729553, 0.003451849101111293, 0.9947594404220581, 0.5370327830314636, 0.30010655522346497, 0.15795081853866577, 0.9818374514579773, 0.016641313210129738, 0.9294790029525757, 0.003809652291238308, 0.990509569644928, 0.003809652291238308, 0.003809652291238308, 0.9696139693260193, 0.8313606381416321, 0.1511564701795578, 0.02519274689257145, 0.047571055591106415, 0.0747545138001442, 0.016989663243293762, 0.8630748987197876, 0.9624340534210205, 0.027498116716742516, 0.9907687306404114, 0.006433563306927681, 0.9963846802711487, 0.9956971406936646, 0.0038592913188040257, 0.03034406527876854, 0.5421472787857056, 0.19622495770454407, 0.23061490058898926, 0.9985567927360535, 0.001868247869424522, 0.013077735900878906, 0.1924295425415039, 0.5754203796386719, 0.21671676635742188, 0.7599279284477234, 0.22941221296787262, 0.010330324061214924, 0.004304301459342241, 0.9710504412651062, 0.014634625054895878, 0.9943987131118774, 0.004540633410215378, 0.003126129973679781, 0.012504519894719124, 0.981604814529419, 0.9917802810668945, 0.023609597235918045, 0.04328425973653793, 0.8676527142524719, 0.0649263933300972, 0.5748451352119446, 0.02759256772696972, 0.3127157688140869, 0.08277770131826401, 0.017757708206772804, 0.8109353184700012, 0.16869822144508362, 0.0029596181120723486, 0.982407808303833, 0.015100373886525631, 0.9815242886543274, 0.009360925294458866, 0.9828971028327942, 0.004680462647229433, 0.6338852643966675, 0.021984461694955826, 0.3334309756755829, 0.010992230847477913, 0.005379716865718365, 0.9898678660392761, 0.005379716865718365, 0.01712212525308132, 0.9559853076934814, 0.028536874800920486, 0.12612752616405487, 0.054611921310424805, 0.6137339472770691, 0.2054448425769806, 0.019726980477571487, 0.9863489866256714, 0.9830960035324097, 0.008261310867965221, 0.008261310867965221, 0.006042410619556904, 0.19134299457073212, 0.02517670951783657, 0.38570719957351685, 0.39074254035949707, 0.971000611782074, 0.005516591016203165, 0.9782754778862, 0.014710909686982632, 0.9853963255882263, 0.007089181803166866, 0.007089181803166866, 0.9950293302536011, 0.9942359924316406, 0.004712019115686417, 0.7963643074035645, 0.1979130208492279, 0.004712214693427086, 0.013536929152905941, 0.9836835265159607, 0.004512309562414885, 0.9747190475463867, 0.9856452941894531, 0.10986188054084778, 0.07108709961175919, 0.24880485236644745, 0.31666073203086853, 0.25203609466552734, 0.06118583679199219, 0.8552111387252808, 0.08343522995710373, 0.8416154384613037, 0.1558547019958496, 0.03666447475552559, 0.00611074548214674, 0.9517486691474915, 0.005346902646124363, 0.969866156578064, 0.9316012263298035, 0.9316012263298035, 0.010411697439849377, 0.005205848719924688, 0.12494037300348282, 0.853759229183197, 0.7568945288658142, 0.22915156185626984, 0.013887973502278328, 0.8466008901596069, 0.14837335050106049, 0.0016868342645466328, 0.30363017320632935, 0.11133106052875519, 0.5819578170776367, 0.9931960105895996, 0.0043946728110313416, 0.0036817332729697227, 0.01840866543352604, 0.9167515635490417, 0.04418079927563667, 0.01840866543352604, 0.9738339185714722, 0.002828420139849186, 0.9941896796226501, 0.001414210069924593, 0.001414210069924593, 0.02776145376265049, 0.6816979050636292, 0.021592240780591965, 0.26527610421180725, 0.1490638703107834, 0.1963280290365219, 0.002423802623525262, 0.00605950690805912, 0.6471553444862366, 0.9951376914978027, 0.7940593957901001, 0.12374952435493469, 0.0824996829032898, 0.020365053787827492, 0.14996086061000824, 0.009256843477487564, 0.5751585364341736, 0.2449977844953537, 0.008509627543389797, 0.970097541809082, 0.02127406932413578, 0.0021274068858474493, 0.0014264751225709915, 0.10841210931539536, 0.029955977573990822, 0.42508959770202637, 0.43507492542266846, 0.014184174127876759, 0.1385684758424759, 0.01854853518307209, 0.46916884183883667, 0.36005979776382446, 0.9838082790374756, 0.9919253587722778, 0.9509090185165405, 0.9931719899177551, 0.9934993982315063, 0.03193345293402672, 0.01596672646701336, 0.07983362674713135, 0.8728476762771606, 0.015246984548866749, 0.9758070111274719, 0.017143527045845985, 0.9771810173988342, 0.017143527045845985, 0.9678217172622681, 0.98830646276474, 0.6590725779533386, 0.3125498592853546, 0.02717825025320053, 0.6719575524330139, 0.010337808169424534, 0.2274317890405655, 0.09304028004407883, 0.9662348031997681, 0.04391976445913315, 0.9418409466743469, 0.03363717719912529, 0.007232471834868193, 0.9908486008644104, 0.0024108239449560642, 0.9953192472457886, 0.0028407666832208633, 0.9942683577537537, 0.9921204447746277, 0.03773657977581024, 0.05179530382156372, 0.00665939599275589, 0.3943842351436615, 0.5090738534927368, 0.7255444526672363, 0.2732570171356201, 0.015168319456279278, 0.9859408140182495, 0.969545841217041, 0.0197866503149271, 0.9392949938774109, 0.047331057488918304, 0.8037673830986023, 0.14801712334156036, 0.015408075414597988, 0.902472972869873, 0.0814426839351654, 0.9909396767616272], \"Term\": [\"aaaaaaaaaaaaaaaaaaaaaaaaaaaaaaaaaaaaaaaaaaaaaaaaaaaaaaaaaaaaaaaaaaaaaaaaaaaa\", \"aaaaaaaaaaaaaaaaaaaaaaaaaaaaaaaaaaaaaaaaaaaaaaaaaaaaaaaaaaaaaaaaaaaaaaaaaaaa\", \"able\", \"able\", \"able\", \"able\", \"adult\", \"adult\", \"afford\", \"agave\", \"aggressively\", \"alert\", \"alert\", \"alert\", \"align\", \"align\", \"align\", \"allan\", \"allan\", \"also\", \"also\", \"also\", \"also\", \"also\", \"alt\", \"alt\", \"amazon\", \"amazon\", \"amazon\", \"amazon\", \"anyhow\", \"apb\", \"april\", \"april\", \"april\", \"asset\", \"asset\", \"asset\", \"astronomical\", \"atlanta\", \"atlanta\", \"attempting\", \"auth\", \"backout\", \"bakernet\", \"bakernet\", \"bakernet\", \"bandwidth\", \"bandwidth\", \"bankrupt\", \"bankrupt\", \"bankruptcy\", \"bankruptcy\", \"barbo\", \"bergfelt\", \"beth\", \"beth\", \"bgcolor\", \"bgcolor\", \"bill\", \"bill\", \"bill\", \"bill\", \"binding\", \"binding\", \"blah\", \"bodydefault\", \"border\", \"border\", \"border\", \"border\", \"br\", \"br\", \"br\", \"bradford\", \"bradford\", \"bradford\", \"brochure\", \"brochure\", \"buchanan\", \"business\", \"business\", \"business\", \"businessweek\", \"businessweek\", \"calger\", \"calger\", \"california\", \"california\", \"california\", \"california\", \"cellpadding\", \"cellpadding\", \"cellspacing\", \"cellspacing\", \"center\", \"center\", \"center\", \"center\", \"certificate\", \"certificate\", \"certificate\", \"chad\", \"chad\", \"cherry\", \"class\", \"class\", \"class\", \"class\", \"classmate\", \"clear\", \"clear\", \"clear\", \"clear\", \"click\", \"click\", \"click\", \"click\", \"click\", \"colspan\", \"colspan\", \"communication\", \"communication\", \"communication\", \"company\", \"company\", \"company\", \"company\", \"conference\", \"conference\", \"conference\", \"consumer\", \"consumer\", \"consumer\", \"consumer\", \"contact\", \"contact\", \"contact\", \"contact\", \"contact\", \"coords\", \"coral\", \"coral\", \"corp\", \"corp\", \"corp\", \"corp\", \"court\", \"court\", \"court\", \"credit\", \"credit\", \"credit\", \"credit\", \"credit\", \"crisis\", \"crisis\", \"ctr\", \"ctr\", \"curve\", \"curve\", \"darrell\", \"day\", \"day\", \"day\", \"day\", \"day\", \"dealing\", \"dealing\", \"declared\", \"demoes\", \"design\", \"design\", \"detected\", \"devastated\", \"development\", \"development\", \"development\", \"deviation\", \"deviation\", \"deviation\", \"devon\", \"div\", \"div\", \"doc\", \"doc\", \"doc\", \"doc\", \"donate\", \"dynegy\", \"dynegy\", \"dynegy\", \"dynegy\", \"dynergy\", \"e\", \"e\", \"e\", \"e\", \"e\", \"earnings\", \"earnings\", \"earnings\", \"ecar\", \"ecar\", \"eei\", \"eei\", \"eix\", \"emailed\", \"employee\", \"employee\", \"employee\", \"employee\", \"end\", \"end\", \"end\", \"end\", \"end\", \"energy\", \"energy\", \"energy\", \"energy\", \"enforceable\", \"enforceable\", \"enform\", \"enlarge\", \"enlarge\", \"enron\", \"enron\", \"enron\", \"enron\", \"enron\", \"enronxgate\", \"enronxgate\", \"enronxgate\", \"eol\", \"eol\", \"eol\", \"eol\", \"estoppel\", \"etc\", \"etc\", \"etc\", \"euci\", \"euci\", \"exotica\", \"f\", \"f\", \"f\", \"f\", \"f\", \"feedback\", \"feedback\", \"feedback\", \"ffffff\", \"file\", \"file\", \"file\", \"file\", \"final\", \"final\", \"final\", \"final\", \"firm\", \"firm\", \"firm\", \"firm\", \"fname\", \"font\", \"font\", \"font\", \"font\", \"frcc\", \"frcc\", \"fri\", \"fri\", \"fund\", \"fund\", \"fund\", \"fund\", \"gas\", \"gas\", \"gas\", \"gas\", \"gate\", \"gate\", \"generation\", \"generation\", \"generation\", \"get\", \"get\", \"get\", \"get\", \"get\", \"gif\", \"gif\", \"gif\", \"gift\", \"gift\", \"gift\", \"going\", \"going\", \"going\", \"going\", \"gorny\", \"gregwhalley\", \"hanagriff\", \"height\", \"height\", \"height\", \"hereto\", \"hou\", \"hou\", \"hou\", \"hou\", \"hou\", \"hourahead\", \"hourahead\", \"hp\", \"hp\", \"hp\", \"href\", \"href\", \"href\", \"hurt\", \"image\", \"image\", \"image\", \"image\", \"image\", \"img\", \"img\", \"impacted\", \"impacted\", \"importance\", \"importance\", \"income\", \"indeed\", \"information\", \"information\", \"information\", \"information\", \"installation\", \"intended\", \"intended\", \"intended\", \"investment\", \"investment\", \"investment\", \"investment\", \"investor\", \"investor\", \"investor\", \"january\", \"january\", \"january\", \"january\", \"jason\", \"jason\", \"jason\", \"jason\", \"john\", \"john\", \"john\", \"john\", \"kay\", \"kay\", \"kay\", \"kay\", \"kern\", \"kim\", \"kim\", \"kim\", \"kim\", \"kimberly\", \"kimberly\", \"kimberly\", \"kimberly\", \"kindly\", \"kindly\", \"know\", \"know\", \"know\", \"know\", \"know\", \"kowalke\", \"krishna\", \"kristen\", \"kristen\", \"largest\", \"largest\", \"last\", \"last\", \"last\", \"last\", \"lay\", \"lay\", \"lay\", \"lenhart\", \"lenhart\", \"like\", \"like\", \"like\", \"like\", \"like\", \"lindberg\", \"linkbarseperator\", \"lng\", \"lng\", \"locate\", \"log\", \"log\", \"log\", \"lokay\", \"london\", \"london\", \"london\", \"lorraine\", \"lorraine\", \"lost\", \"lost\", \"lynn\", \"lynn\", \"lynn\", \"maac\", \"maac\", \"made\", \"made\", \"made\", \"made\", \"mail\", \"mail\", \"mail\", \"mail\", \"mail\", \"mailto\", \"mailto\", \"mailto\", \"mailto\", \"mailto\", \"mainheadline\", \"make\", \"make\", \"make\", \"make\", \"management\", \"management\", \"management\", \"mansoor\", \"mark\", \"mark\", \"mark\", \"mark\", \"market\", \"market\", \"market\", \"market\", \"market\", \"matrix\", \"matrix\", \"matrix\", \"matt\", \"matt\", \"matt\", \"may\", \"may\", \"may\", \"may\", \"member\", \"member\", \"member\", \"member\", \"memory\", \"message\", \"message\", \"message\", \"message\", \"message\", \"messaging\", \"million\", \"million\", \"million\", \"million\", \"model\", \"model\", \"model\", \"money\", \"money\", \"money\", \"money\", \"mr\", \"mr\", \"mr\", \"mulligan\", \"na\", \"na\", \"na\", \"na\", \"nbsp\", \"nbsp\", \"nc\", \"nc\", \"ne\", \"ne\", \"ne\", \"need\", \"need\", \"need\", \"need\", \"nella\", \"net\", \"net\", \"net\", \"net\", \"net\", \"netback\", \"netted\", \"neumin\", \"new\", \"new\", \"new\", \"new\", \"new\", \"npcc\", \"npcc\", \"nw\", \"nw\", \"nw\", \"occurred\", \"one\", \"one\", \"one\", \"one\", \"operation\", \"operation\", \"operation\", \"operation\", \"original\", \"original\", \"original\", \"original\", \"outage\", \"outage\", \"outage\", \"overview\", \"overview\", \"pager\", \"pager\", \"parameter\", \"parameter\", \"parsing\", \"parsing\", \"partnership\", \"partnership\", \"partnership\", \"password\", \"password\", \"password\", \"password\", \"pay\", \"pay\", \"pay\", \"pay\", \"pcg\", \"pdf\", \"pdf\", \"pdf\", \"pdf\", \"pep\", \"pep\", \"phil\", \"phil\", \"phil\", \"pinnamaneni\", \"plan\", \"plan\", \"plan\", \"plan\", \"please\", \"please\", \"please\", \"please\", \"please\", \"pm\", \"pm\", \"pm\", \"pm\", \"pocketbook\", \"power\", \"power\", \"power\", \"power\", \"powersrc\", \"powersrc\", \"price\", \"price\", \"price\", \"price\", \"price\", \"pricing\", \"pricing\", \"pricing\", \"pricing\", \"privileged\", \"privileged\", \"privileged\", \"process\", \"process\", \"process\", \"process\", \"product\", \"product\", \"product\", \"product\", \"product\", \"profit\", \"profit\", \"pt\", \"range\", \"range\", \"range\", \"raquel\", \"raquel\", \"realtime\", \"recipient\", \"recipient\", \"recipient\", \"recipient\", \"rect\", \"reg\", \"reg\", \"reg\", \"regard\", \"regard\", \"regard\", \"regard\", \"reliantenergy\", \"reliantenergy\", \"relief\", \"relief\", \"repair\", \"reported\", \"reported\", \"request\", \"request\", \"request\", \"request\", \"retirement\", \"right\", \"right\", \"right\", \"right\", \"right\", \"rk\", \"rk\", \"said\", \"said\", \"said\", \"said\", \"sat\", \"sat\", \"saving\", \"saving\", \"saving\", \"savita\", \"say\", \"say\", \"say\", \"say\", \"schedule\", \"schedule\", \"schedule\", \"schedule\", \"scheduled\", \"scheduled\", \"scheduled\", \"scheduled\", \"schoolcraft\", \"scoop\", \"scoop\", \"script\", \"script\", \"script\", \"se\", \"se\", \"se\", \"se\", \"sec\", \"sec\", \"sec\", \"security\", \"security\", \"security\", \"see\", \"see\", \"see\", \"see\", \"separately\", \"separately\", \"server\", \"server\", \"server\", \"service\", \"service\", \"service\", \"service\", \"service\", \"sfs\", \"share\", \"share\", \"share\", \"shipping\", \"shipping\", \"shipping\", \"simulation\", \"sold\", \"sold\", \"sp\", \"sp\", \"sp\", \"src\", \"src\", \"src\", \"ssb\", \"stack\", \"start\", \"start\", \"start\", \"start\", \"start\", \"state\", \"state\", \"state\", \"std\", \"std\", \"stock\", \"stock\", \"stock\", \"stock\", \"stocklookup\", \"stsw\", \"stwbom\", \"supply\", \"supply\", \"supply\", \"supply\", \"sw\", \"sw\", \"sw\", \"syncrasy\", \"syncrasy\", \"system\", \"system\", \"system\", \"system\", \"t\", \"t\", \"table\", \"table\", \"table\", \"table\", \"table\", \"tagline\", \"td\", \"td\", \"td\", \"td\", \"thank\", \"thank\", \"thank\", \"thank\", \"thanks\", \"thanks\", \"thanks\", \"thanks\", \"thanks\", \"thousand\", \"thru\", \"thru\", \"thru\", \"time\", \"time\", \"time\", \"time\", \"time\", \"tr\", \"tr\", \"tr\", \"tr\", \"trading\", \"trading\", \"trading\", \"trading\", \"trading\", \"u\", \"u\", \"u\", \"u\", \"u\", \"ubswenergy\", \"underhanded\", \"underscore\", \"urge\", \"urging\", \"user\", \"user\", \"user\", \"user\", \"validation\", \"validation\", \"valign\", \"valign\", \"valign\", \"variance\", \"vladimir\", \"volatility\", \"volatility\", \"volatility\", \"watson\", \"watson\", \"watson\", \"watson\", \"westdesk\", \"westdesk\", \"whitt\", \"whitt\", \"width\", \"width\", \"width\", \"wiped\", \"wj\", \"wj\", \"wolfe\", \"would\", \"would\", \"would\", \"would\", \"would\", \"wscc\", \"wscc\", \"wyndham\", \"wyndham\", \"xl\", \"xl\", \"xll\", \"year\", \"year\", \"year\", \"york\", \"york\", \"york\", \"zipper\"]}, \"R\": 30, \"lambda.step\": 0.01, \"plot.opts\": {\"xlab\": \"PC1\", \"ylab\": \"PC2\"}, \"topic.order\": [1, 2, 3, 4, 5]};\n",
       "\n",
       "function LDAvis_load_lib(url, callback){\n",
       "  var s = document.createElement('script');\n",
       "  s.src = url;\n",
       "  s.async = true;\n",
       "  s.onreadystatechange = s.onload = callback;\n",
       "  s.onerror = function(){console.warn(\"failed to load library \" + url);};\n",
       "  document.getElementsByTagName(\"head\")[0].appendChild(s);\n",
       "}\n",
       "\n",
       "if(typeof(LDAvis) !== \"undefined\"){\n",
       "   // already loaded: just create the visualization\n",
       "   !function(LDAvis){\n",
       "       new LDAvis(\"#\" + \"ldavis_el384061403139075346728309424787\", ldavis_el384061403139075346728309424787_data);\n",
       "   }(LDAvis);\n",
       "}else if(typeof define === \"function\" && define.amd){\n",
       "   // require.js is available: use it to load d3/LDAvis\n",
       "   require.config({paths: {d3: \"https://cdnjs.cloudflare.com/ajax/libs/d3/3.5.5/d3.min\"}});\n",
       "   require([\"d3\"], function(d3){\n",
       "      window.d3 = d3;\n",
       "      LDAvis_load_lib(\"https://cdn.rawgit.com/bmabey/pyLDAvis/files/ldavis.v1.0.0.js\", function(){\n",
       "        new LDAvis(\"#\" + \"ldavis_el384061403139075346728309424787\", ldavis_el384061403139075346728309424787_data);\n",
       "      });\n",
       "    });\n",
       "}else{\n",
       "    // require.js not available: dynamically load d3 & LDAvis\n",
       "    LDAvis_load_lib(\"https://cdnjs.cloudflare.com/ajax/libs/d3/3.5.5/d3.min.js\", function(){\n",
       "         LDAvis_load_lib(\"https://cdn.rawgit.com/bmabey/pyLDAvis/files/ldavis.v1.0.0.js\", function(){\n",
       "                 new LDAvis(\"#\" + \"ldavis_el384061403139075346728309424787\", ldavis_el384061403139075346728309424787_data);\n",
       "            })\n",
       "         });\n",
       "}\n",
       "</script>"
      ],
      "text/plain": [
       "<IPython.core.display.HTML object>"
      ]
     },
     "execution_count": 98,
     "metadata": {},
     "output_type": "execute_result"
    }
   ],
   "source": [
    "pyLDAvis.display(lda_display)"
   ]
  },
  {
   "cell_type": "markdown",
   "metadata": {},
   "source": [
    "### Interpreting the topic model\n",
    "\n",
    "* Words like 'stock', 'know', 'would'may imply insider trading of Enron Stock amongst it's employees. \n",
    "* Slide the lambda value to .2. Words like 'bankruptcy\", \"retirement\", \"fund\" appear in Topic 2\n",
    "* Resources: http://bl.ocks.org/AlessandraSozzi/raw/ce1ace56e4aed6f2d614ae2243aab5a5/"
   ]
  },
  {
   "cell_type": "markdown",
   "metadata": {},
   "source": [
    "### Finding fraudsters based on topic\n",
    "\n",
    "Next we **link the results** from the topic model **back to the original data**. We want to **flag everything related to topic 2**. As you will see, this is actually not that straightforward.\n",
    "\n",
    "More detail on how to work with the model results (which is beyond the scope of this notebook) please look here [article](https://www.machinelearningplus.com/nlp/topic-modeling-gensim-python/).\n"
   ]
  },
  {
   "cell_type": "markdown",
   "metadata": {},
   "source": [
    "#### def get_topic_details"
   ]
  },
  {
   "cell_type": "code",
   "execution_count": 99,
   "metadata": {},
   "outputs": [],
   "source": [
    "def get_topic_details(ldamodel, corpus):\n",
    "    topic_details_df = pd.DataFrame()\n",
    "    for i, row in enumerate(ldamodel[corpus]):\n",
    "        row = sorted(row, key=lambda x: (x[1]), reverse=True)\n",
    "        for j, (topic_num, prop_topic) in enumerate(row):\n",
    "            if j == 0:  # => dominant topic\n",
    "                wp = ldamodel.show_topic(topic_num)\n",
    "                topic_details_df = topic_details_df.append(pd.Series([topic_num, prop_topic]), ignore_index=True)\n",
    "    topic_details_df.columns = ['Dominant_Topic', '% Score']\n",
    "    return topic_details_df"
   ]
  },
  {
   "cell_type": "code",
   "execution_count": 100,
   "metadata": {},
   "outputs": [],
   "source": [
    "# Run get_topic_details function and check the results\n",
    "topic_details_df = get_topic_details(ldamodel, corpus)"
   ]
  },
  {
   "cell_type": "code",
   "execution_count": 101,
   "metadata": {},
   "outputs": [
    {
     "data": {
      "text/html": [
       "<div>\n",
       "<style scoped>\n",
       "    .dataframe tbody tr th:only-of-type {\n",
       "        vertical-align: middle;\n",
       "    }\n",
       "\n",
       "    .dataframe tbody tr th {\n",
       "        vertical-align: top;\n",
       "    }\n",
       "\n",
       "    .dataframe thead th {\n",
       "        text-align: right;\n",
       "    }\n",
       "</style>\n",
       "<table border=\"1\" class=\"dataframe\">\n",
       "  <thead>\n",
       "    <tr style=\"text-align: right;\">\n",
       "      <th></th>\n",
       "      <th>Dominant_Topic</th>\n",
       "      <th>% Score</th>\n",
       "    </tr>\n",
       "  </thead>\n",
       "  <tbody>\n",
       "    <tr>\n",
       "      <th>0</th>\n",
       "      <td>3.0</td>\n",
       "      <td>0.939578</td>\n",
       "    </tr>\n",
       "    <tr>\n",
       "      <th>1</th>\n",
       "      <td>4.0</td>\n",
       "      <td>0.703105</td>\n",
       "    </tr>\n",
       "    <tr>\n",
       "      <th>2</th>\n",
       "      <td>4.0</td>\n",
       "      <td>0.343857</td>\n",
       "    </tr>\n",
       "    <tr>\n",
       "      <th>3</th>\n",
       "      <td>3.0</td>\n",
       "      <td>0.993440</td>\n",
       "    </tr>\n",
       "    <tr>\n",
       "      <th>4</th>\n",
       "      <td>3.0</td>\n",
       "      <td>0.993387</td>\n",
       "    </tr>\n",
       "  </tbody>\n",
       "</table>\n",
       "</div>"
      ],
      "text/plain": [
       "   Dominant_Topic   % Score\n",
       "0             3.0  0.939578\n",
       "1             4.0  0.703105\n",
       "2             4.0  0.343857\n",
       "3             3.0  0.993440\n",
       "4             3.0  0.993387"
      ]
     },
     "execution_count": 101,
     "metadata": {},
     "output_type": "execute_result"
    }
   ],
   "source": [
    "topic_details_df.head()"
   ]
  },
  {
   "cell_type": "code",
   "execution_count": 102,
   "metadata": {},
   "outputs": [
    {
     "data": {
      "text/html": [
       "<div>\n",
       "<style scoped>\n",
       "    .dataframe tbody tr th:only-of-type {\n",
       "        vertical-align: middle;\n",
       "    }\n",
       "\n",
       "    .dataframe tbody tr th {\n",
       "        vertical-align: top;\n",
       "    }\n",
       "\n",
       "    .dataframe thead th {\n",
       "        text-align: right;\n",
       "    }\n",
       "</style>\n",
       "<table border=\"1\" class=\"dataframe\">\n",
       "  <thead>\n",
       "    <tr style=\"text-align: right;\">\n",
       "      <th></th>\n",
       "      <th>Dominant_Topic</th>\n",
       "      <th>% Score</th>\n",
       "    </tr>\n",
       "  </thead>\n",
       "  <tbody>\n",
       "    <tr>\n",
       "      <th>2085</th>\n",
       "      <td>0.0</td>\n",
       "      <td>0.909964</td>\n",
       "    </tr>\n",
       "    <tr>\n",
       "      <th>2086</th>\n",
       "      <td>1.0</td>\n",
       "      <td>0.599331</td>\n",
       "    </tr>\n",
       "    <tr>\n",
       "      <th>2087</th>\n",
       "      <td>0.0</td>\n",
       "      <td>0.999323</td>\n",
       "    </tr>\n",
       "    <tr>\n",
       "      <th>2088</th>\n",
       "      <td>4.0</td>\n",
       "      <td>0.998147</td>\n",
       "    </tr>\n",
       "    <tr>\n",
       "      <th>2089</th>\n",
       "      <td>4.0</td>\n",
       "      <td>0.988427</td>\n",
       "    </tr>\n",
       "  </tbody>\n",
       "</table>\n",
       "</div>"
      ],
      "text/plain": [
       "      Dominant_Topic   % Score\n",
       "2085             0.0  0.909964\n",
       "2086             1.0  0.599331\n",
       "2087             0.0  0.999323\n",
       "2088             4.0  0.998147\n",
       "2089             4.0  0.988427"
      ]
     },
     "execution_count": 102,
     "metadata": {},
     "output_type": "execute_result"
    }
   ],
   "source": [
    "topic_details_df.tail()"
   ]
  },
  {
   "cell_type": "code",
   "execution_count": 103,
   "metadata": {},
   "outputs": [],
   "source": [
    "# Add original text to topic details in a dataframe\n",
    "contents = pd.DataFrame({'Original text': text_clean})\n",
    "topic_details = pd.concat([get_topic_details(ldamodel, corpus), contents], axis=1)"
   ]
  },
  {
   "cell_type": "code",
   "execution_count": 104,
   "metadata": {},
   "outputs": [
    {
     "data": {
      "text/html": [
       "<div>\n",
       "<style scoped>\n",
       "    .dataframe tbody tr th:only-of-type {\n",
       "        vertical-align: middle;\n",
       "    }\n",
       "\n",
       "    .dataframe tbody tr th {\n",
       "        vertical-align: top;\n",
       "    }\n",
       "\n",
       "    .dataframe thead th {\n",
       "        text-align: right;\n",
       "    }\n",
       "</style>\n",
       "<table border=\"1\" class=\"dataframe\">\n",
       "  <thead>\n",
       "    <tr style=\"text-align: right;\">\n",
       "      <th></th>\n",
       "      <th>Dominant_Topic</th>\n",
       "      <th>% Score</th>\n",
       "      <th>Original text</th>\n",
       "    </tr>\n",
       "  </thead>\n",
       "  <tbody>\n",
       "    <tr>\n",
       "      <th>849</th>\n",
       "      <td>0.0</td>\n",
       "      <td>0.999874</td>\n",
       "      <td>[original, message, received, thu, aug, cdt, e...</td>\n",
       "    </tr>\n",
       "    <tr>\n",
       "      <th>2081</th>\n",
       "      <td>2.0</td>\n",
       "      <td>0.999631</td>\n",
       "      <td>[unsubscribe, mailing, please, go, money, net,...</td>\n",
       "    </tr>\n",
       "    <tr>\n",
       "      <th>2087</th>\n",
       "      <td>0.0</td>\n",
       "      <td>0.999323</td>\n",
       "      <td>[image, image, image, image, image, image, ima...</td>\n",
       "    </tr>\n",
       "    <tr>\n",
       "      <th>2088</th>\n",
       "      <td>4.0</td>\n",
       "      <td>0.998147</td>\n",
       "      <td>[transmission, expansion, system, transition, ...</td>\n",
       "    </tr>\n",
       "    <tr>\n",
       "      <th>2014</th>\n",
       "      <td>0.0</td>\n",
       "      <td>0.997874</td>\n",
       "      <td>[forwarded, chris, h, foster, hou, pm, enron, ...</td>\n",
       "    </tr>\n",
       "  </tbody>\n",
       "</table>\n",
       "</div>"
      ],
      "text/plain": [
       "      Dominant_Topic   % Score  \\\n",
       "849              0.0  0.999874   \n",
       "2081             2.0  0.999631   \n",
       "2087             0.0  0.999323   \n",
       "2088             4.0  0.998147   \n",
       "2014             0.0  0.997874   \n",
       "\n",
       "                                          Original text  \n",
       "849   [original, message, received, thu, aug, cdt, e...  \n",
       "2081  [unsubscribe, mailing, please, go, money, net,...  \n",
       "2087  [image, image, image, image, image, image, ima...  \n",
       "2088  [transmission, expansion, system, transition, ...  \n",
       "2014  [forwarded, chris, h, foster, hou, pm, enron, ...  "
      ]
     },
     "execution_count": 104,
     "metadata": {},
     "output_type": "execute_result"
    }
   ],
   "source": [
    "topic_details.sort_values(by=['% Score'], ascending=False).head(10).head()"
   ]
  },
  {
   "cell_type": "code",
   "execution_count": 105,
   "metadata": {},
   "outputs": [
    {
     "data": {
      "text/html": [
       "<div>\n",
       "<style scoped>\n",
       "    .dataframe tbody tr th:only-of-type {\n",
       "        vertical-align: middle;\n",
       "    }\n",
       "\n",
       "    .dataframe tbody tr th {\n",
       "        vertical-align: top;\n",
       "    }\n",
       "\n",
       "    .dataframe thead th {\n",
       "        text-align: right;\n",
       "    }\n",
       "</style>\n",
       "<table border=\"1\" class=\"dataframe\">\n",
       "  <thead>\n",
       "    <tr style=\"text-align: right;\">\n",
       "      <th></th>\n",
       "      <th>Dominant_Topic</th>\n",
       "      <th>% Score</th>\n",
       "      <th>Original text</th>\n",
       "    </tr>\n",
       "  </thead>\n",
       "  <tbody>\n",
       "    <tr>\n",
       "      <th>769</th>\n",
       "      <td>1.0</td>\n",
       "      <td>0.997854</td>\n",
       "      <td>[congratulation, mark, haedicke, michael, guer...</td>\n",
       "    </tr>\n",
       "    <tr>\n",
       "      <th>1044</th>\n",
       "      <td>1.0</td>\n",
       "      <td>0.997853</td>\n",
       "      <td>[forwarded, steven, j, kean, na, enron, pm, ka...</td>\n",
       "    </tr>\n",
       "    <tr>\n",
       "      <th>1084</th>\n",
       "      <td>1.0</td>\n",
       "      <td>0.997853</td>\n",
       "      <td>[forwarded, steven, j, kean, na, enron, pm, ka...</td>\n",
       "    </tr>\n",
       "    <tr>\n",
       "      <th>2076</th>\n",
       "      <td>1.0</td>\n",
       "      <td>0.997741</td>\n",
       "      <td>[know, houston, suck, xo, j, original, message...</td>\n",
       "    </tr>\n",
       "    <tr>\n",
       "      <th>2039</th>\n",
       "      <td>1.0</td>\n",
       "      <td>0.997667</td>\n",
       "      <td>[w, e, e, k, e, n, e, v, l, b, l, f, r, decemb...</td>\n",
       "    </tr>\n",
       "  </tbody>\n",
       "</table>\n",
       "</div>"
      ],
      "text/plain": [
       "      Dominant_Topic   % Score  \\\n",
       "769              1.0  0.997854   \n",
       "1044             1.0  0.997853   \n",
       "1084             1.0  0.997853   \n",
       "2076             1.0  0.997741   \n",
       "2039             1.0  0.997667   \n",
       "\n",
       "                                          Original text  \n",
       "769   [congratulation, mark, haedicke, michael, guer...  \n",
       "1044  [forwarded, steven, j, kean, na, enron, pm, ka...  \n",
       "1084  [forwarded, steven, j, kean, na, enron, pm, ka...  \n",
       "2076  [know, houston, suck, xo, j, original, message...  \n",
       "2039  [w, e, e, k, e, n, e, v, l, b, l, f, r, decemb...  "
      ]
     },
     "execution_count": 105,
     "metadata": {},
     "output_type": "execute_result"
    }
   ],
   "source": [
    "topic_details.sort_values(by=['% Score'], ascending=False).head(10).tail()"
   ]
  },
  {
   "cell_type": "code",
   "execution_count": 106,
   "metadata": {},
   "outputs": [],
   "source": [
    "# Create flag for text highest associated with topic 3\n",
    "topic_details['flag'] = np.where((topic_details['Dominant_Topic'] == 4.0), 1, 0)"
   ]
  },
  {
   "cell_type": "code",
   "execution_count": 107,
   "metadata": {},
   "outputs": [],
   "source": [
    "topic_details_1 = topic_details[topic_details.flag == 1]"
   ]
  },
  {
   "cell_type": "code",
   "execution_count": 108,
   "metadata": {},
   "outputs": [
    {
     "data": {
      "text/html": [
       "<div>\n",
       "<style scoped>\n",
       "    .dataframe tbody tr th:only-of-type {\n",
       "        vertical-align: middle;\n",
       "    }\n",
       "\n",
       "    .dataframe tbody tr th {\n",
       "        vertical-align: top;\n",
       "    }\n",
       "\n",
       "    .dataframe thead th {\n",
       "        text-align: right;\n",
       "    }\n",
       "</style>\n",
       "<table border=\"1\" class=\"dataframe\">\n",
       "  <thead>\n",
       "    <tr style=\"text-align: right;\">\n",
       "      <th></th>\n",
       "      <th>Dominant_Topic</th>\n",
       "      <th>% Score</th>\n",
       "      <th>Original text</th>\n",
       "      <th>flag</th>\n",
       "    </tr>\n",
       "  </thead>\n",
       "  <tbody>\n",
       "    <tr>\n",
       "      <th>2088</th>\n",
       "      <td>4.0</td>\n",
       "      <td>0.998147</td>\n",
       "      <td>[transmission, expansion, system, transition, ...</td>\n",
       "      <td>1</td>\n",
       "    </tr>\n",
       "    <tr>\n",
       "      <th>624</th>\n",
       "      <td>4.0</td>\n",
       "      <td>0.995344</td>\n",
       "      <td>[vance, deal, created, entered, sitara, noted,...</td>\n",
       "      <td>1</td>\n",
       "    </tr>\n",
       "    <tr>\n",
       "      <th>2060</th>\n",
       "      <td>4.0</td>\n",
       "      <td>0.995330</td>\n",
       "      <td>[preparation, continuing, simulation, thursday...</td>\n",
       "      <td>1</td>\n",
       "    </tr>\n",
       "    <tr>\n",
       "      <th>2080</th>\n",
       "      <td>4.0</td>\n",
       "      <td>0.994272</td>\n",
       "      <td>[confident, work, thanks, gp, original, messag...</td>\n",
       "      <td>1</td>\n",
       "    </tr>\n",
       "    <tr>\n",
       "      <th>2074</th>\n",
       "      <td>4.0</td>\n",
       "      <td>0.993150</td>\n",
       "      <td>[dear, friend, hot, deal, value, one, opt, sub...</td>\n",
       "      <td>1</td>\n",
       "    </tr>\n",
       "    <tr>\n",
       "      <th>990</th>\n",
       "      <td>4.0</td>\n",
       "      <td>0.992786</td>\n",
       "      <td>[fyi, forwarded, stinson, gibner, hou, pm, nic...</td>\n",
       "      <td>1</td>\n",
       "    </tr>\n",
       "    <tr>\n",
       "      <th>2035</th>\n",
       "      <td>4.0</td>\n",
       "      <td>0.992513</td>\n",
       "      <td>[hello, greg, belated, congrats, new, post, en...</td>\n",
       "      <td>1</td>\n",
       "    </tr>\n",
       "    <tr>\n",
       "      <th>616</th>\n",
       "      <td>4.0</td>\n",
       "      <td>0.992278</td>\n",
       "      <td>[fyi, original, message, majorwitz, buddy, tue...</td>\n",
       "      <td>1</td>\n",
       "    </tr>\n",
       "    <tr>\n",
       "      <th>2032</th>\n",
       "      <td>4.0</td>\n",
       "      <td>0.992193</td>\n",
       "      <td>[forwarded, mark, breese, hou, enron, capital,...</td>\n",
       "      <td>1</td>\n",
       "    </tr>\n",
       "    <tr>\n",
       "      <th>2033</th>\n",
       "      <td>4.0</td>\n",
       "      <td>0.992086</td>\n",
       "      <td>[dear, valued, customer, got, great, news, new...</td>\n",
       "      <td>1</td>\n",
       "    </tr>\n",
       "  </tbody>\n",
       "</table>\n",
       "</div>"
      ],
      "text/plain": [
       "      Dominant_Topic   % Score  \\\n",
       "2088             4.0  0.998147   \n",
       "624              4.0  0.995344   \n",
       "2060             4.0  0.995330   \n",
       "2080             4.0  0.994272   \n",
       "2074             4.0  0.993150   \n",
       "990              4.0  0.992786   \n",
       "2035             4.0  0.992513   \n",
       "616              4.0  0.992278   \n",
       "2032             4.0  0.992193   \n",
       "2033             4.0  0.992086   \n",
       "\n",
       "                                          Original text  flag  \n",
       "2088  [transmission, expansion, system, transition, ...     1  \n",
       "624   [vance, deal, created, entered, sitara, noted,...     1  \n",
       "2060  [preparation, continuing, simulation, thursday...     1  \n",
       "2080  [confident, work, thanks, gp, original, messag...     1  \n",
       "2074  [dear, friend, hot, deal, value, one, opt, sub...     1  \n",
       "990   [fyi, forwarded, stinson, gibner, hou, pm, nic...     1  \n",
       "2035  [hello, greg, belated, congrats, new, post, en...     1  \n",
       "616   [fyi, original, message, majorwitz, buddy, tue...     1  \n",
       "2032  [forwarded, mark, breese, hou, enron, capital,...     1  \n",
       "2033  [dear, valued, customer, got, great, news, new...     1  "
      ]
     },
     "execution_count": 108,
     "metadata": {},
     "output_type": "execute_result"
    }
   ],
   "source": [
    "topic_details_1.sort_values(by=['% Score'], ascending=False).head(10)"
   ]
  },
  {
   "cell_type": "markdown",
   "metadata": {},
   "source": [
    "**You have now flagged all data that is highest associated with topic 2 that seems to cover internal conversation about enron stock options. **"
   ]
  },
  {
   "cell_type": "markdown",
   "metadata": {},
   "source": [
    "## Recap"
   ]
  },
  {
   "cell_type": "markdown",
   "metadata": {},
   "source": [
    "### FD1: Working with imbalanced data\n",
    "\n",
    "* Worked with highly imbalanced fraud data\n",
    "* Resample your data\n",
    "* Different resampling methods"
   ]
  },
  {
   "cell_type": "markdown",
   "metadata": {},
   "source": [
    "### FD2: Fraud detection with labeled data\n",
    "\n",
    "* Refreshed supervised learning techniques to detect fraud\n",
    "* Learned how to get reliable performance metrics and worked with the precision recall trade-off\n",
    "* Explored how to optimize your model parameters to handle fraud data\n",
    "* Applied ensemble methods to fraud detection"
   ]
  },
  {
   "cell_type": "markdown",
   "metadata": {},
   "source": [
    "### FD3: Fraud detection without labels\n",
    "\n",
    "* Learned about the importance of segmentation\n",
    "* Refreshed your knowledge on clustering methods\n",
    "* Learned how to detect fraud using outliers and small clusters with K-means clustering\n",
    "* Applied a DB-scan clustering model for fraud detection"
   ]
  },
  {
   "cell_type": "markdown",
   "metadata": {},
   "source": [
    "### FD4: Text mining for fraud detection\n",
    "\n",
    "* Know how to augment fraud detection analysis with text mining techniques\n",
    "* Applied word searches to flag use of certain words, and learned how to apply topic modeling for fraud detection\n",
    "* Learned how to effectively clean messy text data"
   ]
  },
  {
   "cell_type": "markdown",
   "metadata": {},
   "source": [
    "### Further Exploration for fraud detection\n",
    "\n",
    "* Network analysis to detect fraud\n",
    "* Different supervised and unsupervised learning techniques (e.g. Neural Networks)\n",
    "* Working with very large data"
   ]
  }
 ],
 "metadata": {
  "kernelspec": {
   "display_name": "Python 3",
   "language": "python",
   "name": "python3"
  },
  "language_info": {
   "codemirror_mode": {
    "name": "ipython",
    "version": 3
   },
   "file_extension": ".py",
   "mimetype": "text/x-python",
   "name": "python",
   "nbconvert_exporter": "python",
   "pygments_lexer": "ipython3",
   "version": "3.7.4"
  },
  "toc-autonumbering": true
 },
 "nbformat": 4,
 "nbformat_minor": 4
}
